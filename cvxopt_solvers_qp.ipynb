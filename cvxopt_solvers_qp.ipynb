{
  "nbformat": 4,
  "nbformat_minor": 0,
  "metadata": {
    "colab": {
      "provenance": []
    },
    "kernelspec": {
      "name": "python3",
      "display_name": "Python 3"
    },
    "language_info": {
      "name": "python"
    }
  },
  "cells": [
    {
      "cell_type": "code",
      "metadata": {
        "id": "JtW_0J0sU-cL"
      },
      "source": [
        "##############################################################################################"
      ],
      "execution_count": null,
      "outputs": []
    },
    {
      "cell_type": "markdown",
      "metadata": {
        "id": "QZnIAzA_ZxNT"
      },
      "source": [
        "# HARD SVM learning ON IRIS DATA"
      ]
    },
    {
      "cell_type": "markdown",
      "metadata": {
        "id": "pgToXL02KEUH"
      },
      "source": [
        "IMPORT LIBRARIES"
      ]
    },
    {
      "cell_type": "code",
      "metadata": {
        "id": "Prh2F1ndU-fl"
      },
      "source": [
        "import numpy as np \n",
        "import pandas as pd \n",
        "import matplotlib.pyplot as plt\n",
        "import seaborn as sns\n",
        "from sklearn.preprocessing import PolynomialFeatures, StandardScaler\n",
        "from sklearn.svm import LinearSVC\n",
        "from sklearn.svm import SVC\n",
        "from sklearn.model_selection import train_test_split"
      ],
      "execution_count": null,
      "outputs": []
    },
    {
      "cell_type": "code",
      "metadata": {
        "id": "nusvcZy7NySe"
      },
      "source": [
        "\n",
        "sns.set()\n",
        "\n",
        "from sklearn.svm import SVC\n",
        "from cvxopt import matrix as cvxopt_matrix\n",
        "from cvxopt import solvers as cvxopt_solvers"
      ],
      "execution_count": null,
      "outputs": []
    },
    {
      "cell_type": "markdown",
      "metadata": {
        "id": "EpxzFaKtKMb3"
      },
      "source": [
        "CONSIDER A DATA WHICH IS LINEARLY SEPARABLE"
      ]
    },
    {
      "cell_type": "code",
      "metadata": {
        "id": "ao88O_A7Venp"
      },
      "source": [
        "from sklearn import datasets\n",
        "iris = datasets.load_iris()\n"
      ],
      "execution_count": null,
      "outputs": []
    },
    {
      "cell_type": "code",
      "metadata": {
        "colab": {
          "base_uri": "https://localhost:8080/",
          "height": 203
        },
        "id": "2kNvaPgvVg9F",
        "outputId": "7cb48ccc-08e5-4e07-b933-628e059a7a7c"
      },
      "source": [
        "X = iris['data'][:,(2,3)]\n",
        "\n",
        "scaler = StandardScaler()\n",
        "Xstan = scaler.fit_transform(X)\n",
        "\n",
        "data = pd.DataFrame(data=Xstan, columns=['petal length','petal width'])\n",
        "data['target'] = iris['target']\n",
        "data = data[data['target']!=2] \n",
        "data.head()"
      ],
      "execution_count": null,
      "outputs": [
        {
          "output_type": "execute_result",
          "data": {
            "text/html": [
              "<div>\n",
              "<style scoped>\n",
              "    .dataframe tbody tr th:only-of-type {\n",
              "        vertical-align: middle;\n",
              "    }\n",
              "\n",
              "    .dataframe tbody tr th {\n",
              "        vertical-align: top;\n",
              "    }\n",
              "\n",
              "    .dataframe thead th {\n",
              "        text-align: right;\n",
              "    }\n",
              "</style>\n",
              "<table border=\"1\" class=\"dataframe\">\n",
              "  <thead>\n",
              "    <tr style=\"text-align: right;\">\n",
              "      <th></th>\n",
              "      <th>petal length</th>\n",
              "      <th>petal width</th>\n",
              "      <th>target</th>\n",
              "    </tr>\n",
              "  </thead>\n",
              "  <tbody>\n",
              "    <tr>\n",
              "      <th>0</th>\n",
              "      <td>-1.340227</td>\n",
              "      <td>-1.315444</td>\n",
              "      <td>0</td>\n",
              "    </tr>\n",
              "    <tr>\n",
              "      <th>1</th>\n",
              "      <td>-1.340227</td>\n",
              "      <td>-1.315444</td>\n",
              "      <td>0</td>\n",
              "    </tr>\n",
              "    <tr>\n",
              "      <th>2</th>\n",
              "      <td>-1.397064</td>\n",
              "      <td>-1.315444</td>\n",
              "      <td>0</td>\n",
              "    </tr>\n",
              "    <tr>\n",
              "      <th>3</th>\n",
              "      <td>-1.283389</td>\n",
              "      <td>-1.315444</td>\n",
              "      <td>0</td>\n",
              "    </tr>\n",
              "    <tr>\n",
              "      <th>4</th>\n",
              "      <td>-1.340227</td>\n",
              "      <td>-1.315444</td>\n",
              "      <td>0</td>\n",
              "    </tr>\n",
              "  </tbody>\n",
              "</table>\n",
              "</div>"
            ],
            "text/plain": [
              "   petal length  petal width  target\n",
              "0     -1.340227    -1.315444       0\n",
              "1     -1.340227    -1.315444       0\n",
              "2     -1.397064    -1.315444       0\n",
              "3     -1.283389    -1.315444       0\n",
              "4     -1.340227    -1.315444       0"
            ]
          },
          "metadata": {},
          "execution_count": 170
        }
      ]
    },
    {
      "cell_type": "markdown",
      "metadata": {
        "id": "GHro9o_CKj-5"
      },
      "source": [
        "HERE WE CAN OBSERVE THAT BY CONSIDERING PETAL LENGTH AND PETAL WIDTH FEATURES WE CAN DISTINGUISH IRIS-SETOSA AND IRIS-VERSICOLOR.  SO THE DATASET WILL BE LINEARLY SEPARABLE."
      ]
    },
    {
      "cell_type": "code",
      "metadata": {
        "colab": {
          "base_uri": "https://localhost:8080/",
          "height": 370
        },
        "id": "K9rxwZSwaIlr",
        "outputId": "a77c3fb4-affc-4c36-86db-b9e389b1ebde"
      },
      "source": [
        "sns.lmplot(x='petal length',y='petal width',hue='target',data=data, fit_reg=False, legend=False)\n",
        "plt.legend(['Iris-Setosa','Iris-Versicolor'], fontsize = 14)\n",
        "plt.xlabel('petal length (scaled)', fontsize = 18)\n",
        "plt.ylabel('petal width (scaled)', fontsize = 18)\n",
        "plt.show()"
      ],
      "execution_count": null,
      "outputs": [
        {
          "output_type": "display_data",
          "data": {
            "image/png": "[encoded data removed]",
            "text/plain": [
              "<Figure size 360x360 with 1 Axes>"
            ]
          },
          "metadata": {}
        }
      ]
    },
    {
      "cell_type": "code",
      "metadata": {
        "id": "ckmz-fuFVkFP"
      },
      "source": [
        "X=data.loc[:, [\"petal length\", \"petal width\"]]"
      ],
      "execution_count": null,
      "outputs": []
    },
    {
      "cell_type": "code",
      "metadata": {
        "id": "Nz5cXMTUXuDW"
      },
      "source": [
        "X=X.values"
      ],
      "execution_count": null,
      "outputs": []
    },
    {
      "cell_type": "code",
      "metadata": {
        "colab": {
          "base_uri": "https://localhost:8080/"
        },
        "id": "BukwI9bgX3Vw",
        "outputId": "f3250cb6-7760-4ef5-c43a-dbfa347025c9"
      },
      "source": [
        "X.shape"
      ],
      "execution_count": null,
      "outputs": [
        {
          "output_type": "execute_result",
          "data": {
            "text/plain": [
              "(100, 2)"
            ]
          },
          "metadata": {},
          "execution_count": 174
        }
      ]
    },
    {
      "cell_type": "code",
      "metadata": {
        "id": "pVfdnuUDVpMh"
      },
      "source": [
        "y=data['target']"
      ],
      "execution_count": null,
      "outputs": []
    },
    {
      "cell_type": "code",
      "metadata": {
        "colab": {
          "base_uri": "https://localhost:8080/"
        },
        "id": "OfXeVf1hYqBx",
        "outputId": "2d59cc5b-8525-46e7-d2c0-b17e6962be58"
      },
      "source": [
        "y=list(y)\n",
        "\n",
        "print(y)"
      ],
      "execution_count": null,
      "outputs": [
        {
          "output_type": "stream",
          "name": "stdout",
          "text": [
            "[0, 0, 0, 0, 0, 0, 0, 0, 0, 0, 0, 0, 0, 0, 0, 0, 0, 0, 0, 0, 0, 0, 0, 0, 0, 0, 0, 0, 0, 0, 0, 0, 0, 0, 0, 0, 0, 0, 0, 0, 0, 0, 0, 0, 0, 0, 0, 0, 0, 0, 1, 1, 1, 1, 1, 1, 1, 1, 1, 1, 1, 1, 1, 1, 1, 1, 1, 1, 1, 1, 1, 1, 1, 1, 1, 1, 1, 1, 1, 1, 1, 1, 1, 1, 1, 1, 1, 1, 1, 1, 1, 1, 1, 1, 1, 1, 1, 1, 1, 1]\n"
          ]
        }
      ]
    },
    {
      "cell_type": "code",
      "metadata": {
        "id": "KBGXvhUTZJ6g"
      },
      "source": [
        "z=[]\n",
        "for i in y:\n",
        "  if i==0:\n",
        "    z.append(-1)\n",
        "  else:\n",
        "    z.append(1)"
      ],
      "execution_count": null,
      "outputs": []
    },
    {
      "cell_type": "code",
      "metadata": {
        "id": "35lC-lz7VxPj"
      },
      "source": [
        "y=np.array(z).reshape(-1,1)"
      ],
      "execution_count": null,
      "outputs": []
    },
    {
      "cell_type": "code",
      "metadata": {
        "colab": {
          "base_uri": "https://localhost:8080/"
        },
        "id": "LSFn-SFQVym1",
        "outputId": "892d291d-1f79-4769-927e-a096b7fd788b"
      },
      "source": [
        "y"
      ],
      "execution_count": null,
      "outputs": [
        {
          "output_type": "execute_result",
          "data": {
            "text/plain": [
              "array([[-1],\n",
              "       [-1],\n",
              "       [-1],\n",
              "       [-1],\n",
              "       [-1],\n",
              "       [-1],\n",
              "       [-1],\n",
              "       [-1],\n",
              "       [-1],\n",
              "       [-1],\n",
              "       [-1],\n",
              "       [-1],\n",
              "       [-1],\n",
              "       [-1],\n",
              "       [-1],\n",
              "       [-1],\n",
              "       [-1],\n",
              "       [-1],\n",
              "       [-1],\n",
              "       [-1],\n",
              "       [-1],\n",
              "       [-1],\n",
              "       [-1],\n",
              "       [-1],\n",
              "       [-1],\n",
              "       [-1],\n",
              "       [-1],\n",
              "       [-1],\n",
              "       [-1],\n",
              "       [-1],\n",
              "       [-1],\n",
              "       [-1],\n",
              "       [-1],\n",
              "       [-1],\n",
              "       [-1],\n",
              "       [-1],\n",
              "       [-1],\n",
              "       [-1],\n",
              "       [-1],\n",
              "       [-1],\n",
              "       [-1],\n",
              "       [-1],\n",
              "       [-1],\n",
              "       [-1],\n",
              "       [-1],\n",
              "       [-1],\n",
              "       [-1],\n",
              "       [-1],\n",
              "       [-1],\n",
              "       [-1],\n",
              "       [ 1],\n",
              "       [ 1],\n",
              "       [ 1],\n",
              "       [ 1],\n",
              "       [ 1],\n",
              "       [ 1],\n",
              "       [ 1],\n",
              "       [ 1],\n",
              "       [ 1],\n",
              "       [ 1],\n",
              "       [ 1],\n",
              "       [ 1],\n",
              "       [ 1],\n",
              "       [ 1],\n",
              "       [ 1],\n",
              "       [ 1],\n",
              "       [ 1],\n",
              "       [ 1],\n",
              "       [ 1],\n",
              "       [ 1],\n",
              "       [ 1],\n",
              "       [ 1],\n",
              "       [ 1],\n",
              "       [ 1],\n",
              "       [ 1],\n",
              "       [ 1],\n",
              "       [ 1],\n",
              "       [ 1],\n",
              "       [ 1],\n",
              "       [ 1],\n",
              "       [ 1],\n",
              "       [ 1],\n",
              "       [ 1],\n",
              "       [ 1],\n",
              "       [ 1],\n",
              "       [ 1],\n",
              "       [ 1],\n",
              "       [ 1],\n",
              "       [ 1],\n",
              "       [ 1],\n",
              "       [ 1],\n",
              "       [ 1],\n",
              "       [ 1],\n",
              "       [ 1],\n",
              "       [ 1],\n",
              "       [ 1],\n",
              "       [ 1],\n",
              "       [ 1],\n",
              "       [ 1],\n",
              "       [ 1]])"
            ]
          },
          "metadata": {},
          "execution_count": 179
        }
      ]
    },
    {
      "cell_type": "code",
      "metadata": {
        "id": "75a6jG9iYk2L"
      },
      "source": [],
      "execution_count": null,
      "outputs": []
    },
    {
      "cell_type": "code",
      "metadata": {
        "id": "gcYJDBOKYEXf"
      },
      "source": [
        "from cvxopt import matrix as cvxopt_matrix\n",
        "from cvxopt import solvers as cvxopt_solvers\n",
        "\n",
        "#Initializing values and computing H. Note the 1. to force to float type\n",
        "m,n = X.shape\n",
        "y = y.reshape(-1,1) * 1.\n",
        "X_dash = y * X\n",
        "H = np.dot(X_dash , X_dash.T) * 1.\n",
        "\n"
      ],
      "execution_count": null,
      "outputs": []
    },
    {
      "cell_type": "code",
      "metadata": {
        "colab": {
          "base_uri": "https://localhost:8080/"
        },
        "id": "io_T4y5xYLWO",
        "outputId": "52e00f41-be4b-407a-ca7d-6048a2273900"
      },
      "source": [
        "m"
      ],
      "execution_count": null,
      "outputs": [
        {
          "output_type": "execute_result",
          "data": {
            "text/plain": [
              "100"
            ]
          },
          "metadata": {},
          "execution_count": 181
        }
      ]
    },
    {
      "cell_type": "code",
      "metadata": {
        "colab": {
          "base_uri": "https://localhost:8080/"
        },
        "id": "e-ex9I2eYU7G",
        "outputId": "78d684bb-55a7-4831-f165-a10d0672db70"
      },
      "source": [
        "n"
      ],
      "execution_count": null,
      "outputs": [
        {
          "output_type": "execute_result",
          "data": {
            "text/plain": [
              "2"
            ]
          },
          "metadata": {},
          "execution_count": 182
        }
      ]
    },
    {
      "cell_type": "code",
      "metadata": {
        "colab": {
          "base_uri": "https://localhost:8080/"
        },
        "id": "pZ1kMoVOYVs2",
        "outputId": "77f600fc-3705-45a0-d65d-99e73270d11b"
      },
      "source": [
        "H"
      ],
      "execution_count": null,
      "outputs": [
        {
          "output_type": "execute_result",
          "data": {
            "text/plain": [
              "array([[ 3.52660084,  3.52660084,  3.60277586, ...,  0.58717782,\n",
              "        -0.74940715,  0.43482776],\n",
              "       [ 3.52660084,  3.52660084,  3.60277586, ...,  0.58717782,\n",
              "        -0.74940715,  0.43482776],\n",
              "       [ 3.60277586,  3.60277586,  3.68218138, ...,  0.60468709,\n",
              "        -0.77389428,  0.44587605],\n",
              "       ...,\n",
              "       [ 0.58717782,  0.58717782,  0.60468709, ...,  0.11245909,\n",
              "        -0.15004655,  0.07744054],\n",
              "       [-0.74940715, -0.74940715, -0.77389428, ..., -0.15004655,\n",
              "         0.20270928, -0.10107227],\n",
              "       [ 0.43482776,  0.43482776,  0.44587605, ...,  0.07744054,\n",
              "        -0.10107227,  0.05534397]])"
            ]
          },
          "metadata": {},
          "execution_count": 183
        }
      ]
    },
    {
      "cell_type": "code",
      "metadata": {
        "id": "2WBDEagbYWtO"
      },
      "source": [
        "#Converting into cvxopt format\n",
        "P = cvxopt_matrix(H)\n",
        "q = cvxopt_matrix(-np.ones((m, 1)))\n",
        "G = cvxopt_matrix(-np.eye(m))\n",
        "h = cvxopt_matrix(np.zeros(m))\n",
        "A = cvxopt_matrix(y.reshape(1, -1))\n",
        "b = cvxopt_matrix(np.zeros(1))\n",
        "\n",
        "#Setting solver parameters (change default to decrease tolerance) \n",
        "cvxopt_solvers.options['show_progress'] = False\n",
        "cvxopt_solvers.options['abstol'] = 1e-10\n",
        "cvxopt_solvers.options['reltol'] = 1e-10\n",
        "cvxopt_solvers.options['feastol'] = 1e-10\n",
        "\n",
        "#Run solver\n",
        "sol = cvxopt_solvers.qp(P, q, G, h, A, b)\n",
        "alphas = np.array(sol['x'])"
      ],
      "execution_count": null,
      "outputs": []
    },
    {
      "cell_type": "code",
      "metadata": {
        "colab": {
          "base_uri": "https://localhost:8080/"
        },
        "id": "gUoZLocnYZ2_",
        "outputId": "821ef296-bb30-4a17-90b7-0053b948b373"
      },
      "source": [
        "w = ((y * alphas).T @ X).reshape(-1,1)\n",
        "\n",
        "#Selecting the set of indices S corresponding to non zero parameters\n",
        "S = (alphas > 1e-4).flatten()\n",
        "\n",
        "#Computing b\n",
        "b = y[S] - np.dot(X[S], w)\n",
        "\n",
        "#Display results\n",
        "print('Alphas = ',alphas[alphas > 1e-4])\n",
        "print('w = ', w.flatten())\n",
        "print('b = ', b[0])"
      ],
      "execution_count": null,
      "outputs": [
        {
          "output_type": "stream",
          "name": "stdout",
          "text": [
            "Alphas =  [1.8755525 1.8755525]\n",
            "w =  [1.4924221  1.23441536]\n",
            "b =  [1.80438231]\n"
          ]
        }
      ]
    },
    {
      "cell_type": "markdown",
      "metadata": {
        "id": "qjgdjuGJgm9k"
      },
      "source": [
        "VERIFYING RESULTS WITH SK-LEARN"
      ]
    },
    {
      "cell_type": "code",
      "metadata": {
        "colab": {
          "base_uri": "https://localhost:8080/"
        },
        "id": "XP0h52tmgfPD",
        "outputId": "e0124d9d-321d-4fbb-8ee2-2da718599fde"
      },
      "source": [
        "clf = SVC(C = 10, kernel = 'linear')\n",
        "clf.fit(X, y.ravel()) \n",
        "\n",
        "print('w = ',clf.coef_)\n",
        "print('b = ',clf.intercept_)\n",
        "print('Indices of support vectors = ', clf.support_)\n",
        "print('Support vectors = ', clf.support_vectors_)\n",
        "print('Number of support vectors for each class = ', clf.n_support_)\n",
        "print('Coefficients of the support vector in the decision function = ', np.abs(clf.dual_coef_))"
      ],
      "execution_count": null,
      "outputs": [
        {
          "output_type": "stream",
          "name": "stdout",
          "text": [
            "w =  [[1.49242209 1.23441536]]\n",
            "b =  [1.80438229]\n",
            "Indices of support vectors =  [43 98]\n",
            "Support vectors =  [[-1.22655167 -0.78891556]\n",
            " [-0.4308277  -0.13075464]]\n",
            "Number of support vectors for each class =  [1 1]\n",
            "Coefficients of the support vector in the decision function =  [[1.87555249 1.87555249]]\n"
          ]
        }
      ]
    },
    {
      "cell_type": "code",
      "metadata": {
        "colab": {
          "base_uri": "https://localhost:8080/"
        },
        "id": "R1i_WgYZnZIp",
        "outputId": "ba754f1a-ad2d-46ea-c967-06988c305e73"
      },
      "source": [
        "X.shape"
      ],
      "execution_count": null,
      "outputs": [
        {
          "output_type": "execute_result",
          "data": {
            "text/plain": [
              "(100, 2)"
            ]
          },
          "metadata": {},
          "execution_count": 187
        }
      ]
    },
    {
      "cell_type": "code",
      "metadata": {
        "colab": {
          "base_uri": "https://localhost:8080/"
        },
        "id": "OtP4bK2Qnbyn",
        "outputId": "0c876e36-d9e0-447a-a5b7-5c87807b6730"
      },
      "source": [
        "w.shape"
      ],
      "execution_count": null,
      "outputs": [
        {
          "output_type": "execute_result",
          "data": {
            "text/plain": [
              "(2, 1)"
            ]
          },
          "metadata": {},
          "execution_count": 188
        }
      ]
    },
    {
      "cell_type": "code",
      "metadata": {
        "id": "jVUGIZTVnVvR"
      },
      "source": [
        "y_=np.sign(np.dot(X,w))"
      ],
      "execution_count": null,
      "outputs": []
    },
    {
      "cell_type": "code",
      "metadata": {
        "colab": {
          "base_uri": "https://localhost:8080/"
        },
        "id": "_lh4FQ8UnWCu",
        "outputId": "69e3798b-c0e6-4d69-93a9-22bdff536ad0"
      },
      "source": [
        "from sklearn import metrics\n",
        "\n",
        "metrics.accuracy_score(y,y_)"
      ],
      "execution_count": null,
      "outputs": [
        {
          "output_type": "execute_result",
          "data": {
            "text/plain": [
              "0.9"
            ]
          },
          "metadata": {},
          "execution_count": 191
        }
      ]
    },
    {
      "cell_type": "markdown",
      "metadata": {
        "id": "4lxTloV-a0oM"
      },
      "source": [
        "### SOFT SVM learning ON IRIS DATA"
      ]
    },
    {
      "cell_type": "code",
      "metadata": {
        "id": "PsOjjDqna1_J"
      },
      "source": [],
      "execution_count": null,
      "outputs": []
    },
    {
      "cell_type": "code",
      "metadata": {
        "id": "aPhvVTmma2DB"
      },
      "source": [
        "import numpy as np \n",
        "import pandas as pd \n",
        "import matplotlib.pyplot as plt\n",
        "import seaborn as sns\n",
        "from sklearn.preprocessing import PolynomialFeatures, StandardScaler\n",
        "from sklearn.svm import LinearSVC\n",
        "from sklearn.svm import SVC\n",
        "from sklearn.model_selection import train_test_split"
      ],
      "execution_count": null,
      "outputs": []
    },
    {
      "cell_type": "markdown",
      "metadata": {
        "id": "bE-IHYXrf3GX"
      },
      "source": [
        "HERE WE CAN OBSERVE THAT BY CONSIDERING SEPAL LENGTH AND SEPAL WIDTH FEATURES WE CAN CAN'T DISTINGUISH IRIS-VIRGINICA AND IRIS-VERSICOLOR.  SO THE DATASET WILL BE NOT-LINEARLY SEPARABLE."
      ]
    },
    {
      "cell_type": "code",
      "metadata": {
        "id": "tYYwrMppa2xn"
      },
      "source": [
        "from sklearn import datasets\n",
        "iris = datasets.load_iris()\n"
      ],
      "execution_count": null,
      "outputs": []
    },
    {
      "cell_type": "code",
      "metadata": {
        "colab": {
          "base_uri": "https://localhost:8080/",
          "height": 203
        },
        "id": "uXVKnfpUdOIy",
        "outputId": "efd70642-f940-43ec-c3c8-cca9d472d134"
      },
      "source": [
        "X = iris['data'][:,1:3]\n",
        "\n",
        "scaler = StandardScaler()\n",
        "Xstan = scaler.fit_transform(X)\n",
        "\n",
        "\n",
        "\n",
        "\n",
        "\n",
        "data = pd.DataFrame(data=Xstan, columns=['sepal length','sepal width'])\n",
        "data['target'] = iris['target']\n",
        "data = data[data['target']!=0] \n",
        "data.head()"
      ],
      "execution_count": null,
      "outputs": [
        {
          "output_type": "execute_result",
          "data": {
            "text/html": [
              "<div>\n",
              "<style scoped>\n",
              "    .dataframe tbody tr th:only-of-type {\n",
              "        vertical-align: middle;\n",
              "    }\n",
              "\n",
              "    .dataframe tbody tr th {\n",
              "        vertical-align: top;\n",
              "    }\n",
              "\n",
              "    .dataframe thead th {\n",
              "        text-align: right;\n",
              "    }\n",
              "</style>\n",
              "<table border=\"1\" class=\"dataframe\">\n",
              "  <thead>\n",
              "    <tr style=\"text-align: right;\">\n",
              "      <th></th>\n",
              "      <th>sepal length</th>\n",
              "      <th>sepal width</th>\n",
              "      <th>target</th>\n",
              "    </tr>\n",
              "  </thead>\n",
              "  <tbody>\n",
              "    <tr>\n",
              "      <th>50</th>\n",
              "      <td>0.328414</td>\n",
              "      <td>0.535409</td>\n",
              "      <td>1</td>\n",
              "    </tr>\n",
              "    <tr>\n",
              "      <th>51</th>\n",
              "      <td>0.328414</td>\n",
              "      <td>0.421734</td>\n",
              "      <td>1</td>\n",
              "    </tr>\n",
              "    <tr>\n",
              "      <th>52</th>\n",
              "      <td>0.098217</td>\n",
              "      <td>0.649083</td>\n",
              "      <td>1</td>\n",
              "    </tr>\n",
              "    <tr>\n",
              "      <th>53</th>\n",
              "      <td>-1.743357</td>\n",
              "      <td>0.137547</td>\n",
              "      <td>1</td>\n",
              "    </tr>\n",
              "    <tr>\n",
              "      <th>54</th>\n",
              "      <td>-0.592373</td>\n",
              "      <td>0.478571</td>\n",
              "      <td>1</td>\n",
              "    </tr>\n",
              "  </tbody>\n",
              "</table>\n",
              "</div>"
            ],
            "text/plain": [
              "    sepal length  sepal width  target\n",
              "50      0.328414     0.535409       1\n",
              "51      0.328414     0.421734       1\n",
              "52      0.098217     0.649083       1\n",
              "53     -1.743357     0.137547       1\n",
              "54     -0.592373     0.478571       1"
            ]
          },
          "metadata": {},
          "execution_count": 194
        }
      ]
    },
    {
      "cell_type": "code",
      "metadata": {
        "colab": {
          "base_uri": "https://localhost:8080/",
          "height": 370
        },
        "id": "isH7bgwwa6Uw",
        "outputId": "b9655be3-570b-435c-fe5d-61bc1f29edc4"
      },
      "source": [
        "sns.lmplot(x='sepal length',y='sepal width',hue='target',data=data, fit_reg=False, legend=False)\n",
        "plt.legend(['Iris-Versicolor','Iris-virginica'], fontsize = 14)\n",
        "plt.xlabel('sepal length (scaled)', fontsize = 18)\n",
        "plt.ylabel('sepal width (scaled)', fontsize = 18)\n",
        "plt.show()"
      ],
      "execution_count": null,
      "outputs": [
        {
          "output_type": "display_data",
          "data": {
            "image/png": "[encoded data removed]",
            "text/plain": [
              "<Figure size 360x360 with 1 Axes>"
            ]
          },
          "metadata": {}
        }
      ]
    },
    {
      "cell_type": "code",
      "metadata": {
        "id": "T9FqenOCDuV5"
      },
      "source": [
        "X=data.loc[:, [\"sepal length\", \"sepal width\"]]"
      ],
      "execution_count": null,
      "outputs": []
    },
    {
      "cell_type": "code",
      "metadata": {
        "id": "YL_w-kxYDuZq"
      },
      "source": [
        "X=X.values"
      ],
      "execution_count": null,
      "outputs": []
    },
    {
      "cell_type": "code",
      "metadata": {
        "colab": {
          "base_uri": "https://localhost:8080/"
        },
        "id": "FeLfyVQWDubv",
        "outputId": "9e7d96fb-aa9c-446e-c5d7-174b77be4b5c"
      },
      "source": [
        "X.shape"
      ],
      "execution_count": null,
      "outputs": [
        {
          "output_type": "execute_result",
          "data": {
            "text/plain": [
              "(100, 2)"
            ]
          },
          "metadata": {},
          "execution_count": 198
        }
      ]
    },
    {
      "cell_type": "code",
      "metadata": {
        "id": "PDu8TfdGDue4"
      },
      "source": [
        "y=data['target']"
      ],
      "execution_count": null,
      "outputs": []
    },
    {
      "cell_type": "code",
      "metadata": {
        "id": "YxwCOigdDujN"
      },
      "source": [
        "y=list(y)"
      ],
      "execution_count": null,
      "outputs": []
    },
    {
      "cell_type": "code",
      "metadata": {
        "id": "CQ76LPgrDumB"
      },
      "source": [
        "z=[]\n",
        "for i in y:\n",
        "  if i==1:\n",
        "    z.append(-1)\n",
        "  else:\n",
        "    z.append(1)"
      ],
      "execution_count": null,
      "outputs": []
    },
    {
      "cell_type": "code",
      "metadata": {
        "id": "UFQVXF3QDuqx"
      },
      "source": [
        "y=np.array(z).reshape(-1,1)"
      ],
      "execution_count": null,
      "outputs": []
    },
    {
      "cell_type": "code",
      "metadata": {
        "colab": {
          "base_uri": "https://localhost:8080/"
        },
        "id": "u4pmoK1lFzM-",
        "outputId": "b4ab391b-063d-4f22-98e2-cf88622f23ea"
      },
      "source": [
        "C = 10\n",
        "m,n = X.shape\n",
        "y = y.reshape(-1,1) * 1.\n",
        "X_dash = y * X\n",
        "H = np.dot(X_dash , X_dash.T) * 1.\n",
        "\n",
        "#Converting into cvxopt format - as previously\n",
        "P = cvxopt_matrix(H)\n",
        "q = cvxopt_matrix(-np.ones((m, 1)))\n",
        "G = cvxopt_matrix(np.vstack((np.eye(m)*-1,np.eye(m))))\n",
        "h = cvxopt_matrix(np.hstack((np.zeros(m), np.ones(m) * C)))\n",
        "A = cvxopt_matrix(y.reshape(1, -1))\n",
        "b = cvxopt_matrix(np.zeros(1))\n",
        "\n",
        "#Run solver\n",
        "sol = cvxopt_solvers.qp(P, q, G, h, A, b)\n",
        "alphas = np.array(sol['x'])\n",
        "\n",
        "#==================Computing and printing parameters===============================#\n",
        "w = ((y * alphas).T @ X).reshape(-1,1)\n",
        "S = (alphas > 1e-4).flatten()\n",
        "b = y[S] - np.dot(X[S], w)\n",
        "\n",
        "#Display results\n",
        "print('Alphas = ',alphas[alphas > 1e-4])\n",
        "print('w = ', w.flatten())\n",
        "print('b = ', b[0])"
      ],
      "execution_count": null,
      "outputs": [
        {
          "output_type": "stream",
          "name": "stdout",
          "text": [
            "Alphas =  [ 1.94394435 10.          6.12628033 10.         10.         10.\n",
            " 10.         10.         10.         10.         10.         10.\n",
            " 10.         10.          9.03508651 10.         10.         10.\n",
            " 10.         10.         10.          9.03513818 10.        ]\n",
            "w =  [-0.4572747   7.40801712]\n",
            "b =  [-4.81614035]\n"
          ]
        }
      ]
    },
    {
      "cell_type": "markdown",
      "metadata": {
        "id": "-TP7Z1i-gD7I"
      },
      "source": [
        "VERIFYING RESULTS WITH SK-LEARN"
      ]
    },
    {
      "cell_type": "code",
      "metadata": {
        "colab": {
          "base_uri": "https://localhost:8080/"
        },
        "id": "fUW8z1AsFzQ1",
        "outputId": "67e83969-071e-4c41-b7f1-8b9c5bcd2062"
      },
      "source": [
        "clf = SVC(C = 10, kernel = 'linear')\n",
        "clf.fit(X, y.ravel()) \n",
        "\n",
        "print('w = ',clf.coef_)\n",
        "print('b = ',clf.intercept_)\n",
        "print('Indices of support vectors = ', clf.support_)\n",
        "print('Support vectors = ', clf.support_vectors_)\n",
        "print('Number of support vectors for each class = ', clf.n_support_)\n",
        "print('Coefficients of the support vector in the decision function = ', np.abs(clf.dual_coef_))"
      ],
      "execution_count": null,
      "outputs": [
        {
          "output_type": "stream",
          "name": "stdout",
          "text": [
            "w =  [[-0.45706082  7.40454403]]\n",
            "b =  [-4.81403861]\n",
            "Indices of support vectors =  [ 0  2  4 13 18 20 22 23 26 27 33 36 56 60 63 71 73 76 77 88 91 96 99]\n",
            "Support vectors =  [[ 0.32841405  0.53540856]\n",
            " [ 0.09821729  0.64908342]\n",
            " [-0.59237301  0.47857113]\n",
            " [-0.36217625  0.53540856]\n",
            " [-1.97355361  0.42173371]\n",
            " [ 0.32841405  0.59224599]\n",
            " [-1.28296331  0.64908342]\n",
            " [-0.59237301  0.53540856]\n",
            " [-0.59237301  0.59224599]\n",
            " [-0.13197948  0.70592084]\n",
            " [-0.82256978  0.76275827]\n",
            " [ 0.09821729  0.53540856]\n",
            " [-1.28296331  0.42173371]\n",
            " [ 0.32841405  0.76275827]\n",
            " [-1.28296331  0.70592084]\n",
            " [-0.59237301  0.64908342]\n",
            " [-0.82256978  0.64908342]\n",
            " [-0.59237301  0.59224599]\n",
            " [-0.13197948  0.64908342]\n",
            " [-0.13197948  0.59224599]\n",
            " [ 0.09821729  0.76275827]\n",
            " [-1.28296331  0.70592084]\n",
            " [-0.13197948  0.76275827]]\n",
            "Number of support vectors for each class =  [12 11]\n",
            "Coefficients of the support vector in the decision function =  [[ 1.95339701 10.          6.10391442 10.         10.         10.\n",
            "  10.         10.         10.         10.         10.         10.\n",
            "  10.         10.          8.05731143 10.         10.         10.\n",
            "  10.         10.         10.         10.         10.        ]]\n"
          ]
        }
      ]
    },
    {
      "cell_type": "code",
      "metadata": {
        "colab": {
          "base_uri": "https://localhost:8080/"
        },
        "id": "xF7xVD30SsfZ",
        "outputId": "cacb22a3-ac94-4d94-a98d-3942522446d6"
      },
      "source": [
        "y_=np.sign(np.dot(X,w))\n",
        "from sklearn import metrics\n",
        "\n",
        "metrics.accuracy_score(y,y_)"
      ],
      "execution_count": null,
      "outputs": [
        {
          "output_type": "execute_result",
          "data": {
            "text/plain": [
              "0.55"
            ]
          },
          "metadata": {},
          "execution_count": 206
        }
      ]
    },
    {
      "cell_type": "code",
      "metadata": {
        "id": "kJv_qVqsoBzl"
      },
      "source": [],
      "execution_count": null,
      "outputs": []
    }
  ]
}