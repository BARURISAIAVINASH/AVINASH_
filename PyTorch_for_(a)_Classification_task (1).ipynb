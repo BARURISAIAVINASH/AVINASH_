{
  "nbformat": 4,
  "nbformat_minor": 0,
  "metadata": {
    "colab": {
      "name": "PyTorch for (a) Classification task ",
      "provenance": [],
      "collapsed_sections": []
    },
    "kernelspec": {
      "name": "python3",
      "display_name": "Python 3"
    },
    "language_info": {
      "name": "python"
    }
  },
  "cells": [
    {
      "cell_type": "code",
      "metadata": {
        "id": "52Gy85gcEHcO"
      },
      "source": [
        "#Import libraries\n",
        "import numpy as np\n",
        "import pandas as pd\n",
        "\n",
        "import seaborn as sns\n",
        "import matplotlib.pyplot as plt\n",
        "\n",
        "from sklearn.model_selection import train_test_split\n",
        "from sklearn.metrics import confusion_matrix, accuracy_score\n",
        "\n",
        "import torch\n",
        "import torch.nn as nn\n",
        "from torch import optim\n",
        "import torch.nn.functional as F\n",
        "\n",
        "from torch.utils.data import TensorDataset, DataLoader"
      ],
      "execution_count": null,
      "outputs": []
    },
    {
      "cell_type": "code",
      "metadata": {
        "id": "GtLvyosWEHf0"
      },
      "source": [
        "#import the dataset \n",
        "data_set = pd.read_csv(\"/content/drive/MyDrive/Iris.csv\")"
      ],
      "execution_count": null,
      "outputs": []
    },
    {
      "cell_type": "code",
      "metadata": {
        "colab": {
          "base_uri": "https://localhost:8080/",
          "height": 206
        },
        "id": "vK_Z4SWCEHtY",
        "outputId": "fa99cd87-db68-4959-95cb-4266753af9e6"
      },
      "source": [
        "data_set.head()"
      ],
      "execution_count": null,
      "outputs": [
        {
          "output_type": "execute_result",
          "data": {
            "text/html": [
              "<div>\n",
              "<style scoped>\n",
              "    .dataframe tbody tr th:only-of-type {\n",
              "        vertical-align: middle;\n",
              "    }\n",
              "\n",
              "    .dataframe tbody tr th {\n",
              "        vertical-align: top;\n",
              "    }\n",
              "\n",
              "    .dataframe thead th {\n",
              "        text-align: right;\n",
              "    }\n",
              "</style>\n",
              "<table border=\"1\" class=\"dataframe\">\n",
              "  <thead>\n",
              "    <tr style=\"text-align: right;\">\n",
              "      <th></th>\n",
              "      <th>Id</th>\n",
              "      <th>SepalLengthCm</th>\n",
              "      <th>SepalWidthCm</th>\n",
              "      <th>PetalLengthCm</th>\n",
              "      <th>PetalWidthCm</th>\n",
              "      <th>Species</th>\n",
              "    </tr>\n",
              "  </thead>\n",
              "  <tbody>\n",
              "    <tr>\n",
              "      <th>0</th>\n",
              "      <td>1</td>\n",
              "      <td>5.1</td>\n",
              "      <td>3.5</td>\n",
              "      <td>1.4</td>\n",
              "      <td>0.2</td>\n",
              "      <td>Iris-setosa</td>\n",
              "    </tr>\n",
              "    <tr>\n",
              "      <th>1</th>\n",
              "      <td>2</td>\n",
              "      <td>4.9</td>\n",
              "      <td>3.0</td>\n",
              "      <td>1.4</td>\n",
              "      <td>0.2</td>\n",
              "      <td>Iris-setosa</td>\n",
              "    </tr>\n",
              "    <tr>\n",
              "      <th>2</th>\n",
              "      <td>3</td>\n",
              "      <td>4.7</td>\n",
              "      <td>3.2</td>\n",
              "      <td>1.3</td>\n",
              "      <td>0.2</td>\n",
              "      <td>Iris-setosa</td>\n",
              "    </tr>\n",
              "    <tr>\n",
              "      <th>3</th>\n",
              "      <td>4</td>\n",
              "      <td>4.6</td>\n",
              "      <td>3.1</td>\n",
              "      <td>1.5</td>\n",
              "      <td>0.2</td>\n",
              "      <td>Iris-setosa</td>\n",
              "    </tr>\n",
              "    <tr>\n",
              "      <th>4</th>\n",
              "      <td>5</td>\n",
              "      <td>5.0</td>\n",
              "      <td>3.6</td>\n",
              "      <td>1.4</td>\n",
              "      <td>0.2</td>\n",
              "      <td>Iris-setosa</td>\n",
              "    </tr>\n",
              "  </tbody>\n",
              "</table>\n",
              "</div>"
            ],
            "text/plain": [
              "   Id  SepalLengthCm  SepalWidthCm  PetalLengthCm  PetalWidthCm      Species\n",
              "0   1            5.1           3.5            1.4           0.2  Iris-setosa\n",
              "1   2            4.9           3.0            1.4           0.2  Iris-setosa\n",
              "2   3            4.7           3.2            1.3           0.2  Iris-setosa\n",
              "3   4            4.6           3.1            1.5           0.2  Iris-setosa\n",
              "4   5            5.0           3.6            1.4           0.2  Iris-setosa"
            ]
          },
          "metadata": {},
          "execution_count": 89
        }
      ]
    },
    {
      "cell_type": "code",
      "metadata": {
        "colab": {
          "base_uri": "https://localhost:8080/"
        },
        "id": "asrom4odEHw7",
        "outputId": "30c7e845-c749-4436-8074-770dbf43e7d4"
      },
      "source": [
        "data_set['Species']"
      ],
      "execution_count": null,
      "outputs": [
        {
          "output_type": "execute_result",
          "data": {
            "text/plain": [
              "0         Iris-setosa\n",
              "1         Iris-setosa\n",
              "2         Iris-setosa\n",
              "3         Iris-setosa\n",
              "4         Iris-setosa\n",
              "            ...      \n",
              "145    Iris-virginica\n",
              "146    Iris-virginica\n",
              "147    Iris-virginica\n",
              "148    Iris-virginica\n",
              "149    Iris-virginica\n",
              "Name: Species, Length: 150, dtype: object"
            ]
          },
          "metadata": {},
          "execution_count": 90
        }
      ]
    },
    {
      "cell_type": "code",
      "metadata": {
        "colab": {
          "base_uri": "https://localhost:8080/",
          "height": 726
        },
        "id": "qOaxZuXqE9ep",
        "outputId": "f5c8d248-7e95-47cd-d498-9d82c922b9c7"
      },
      "source": [
        "tmp = data_set.drop('Id', axis=1)\n",
        "g = sns.pairplot(tmp, hue='Species', markers='+')\n",
        "plt.show()"
      ],
      "execution_count": null,
      "outputs": [
        {
          "output_type": "display_data",
          "data": {
            "image/png": "[encoded data removed]",
            "text/plain": [
              "<Figure size 823.25x720 with 20 Axes>"
            ]
          },
          "metadata": {
            "needs_background": "light"
          }
        }
      ]
    },
    {
      "cell_type": "code",
      "metadata": {
        "colab": {
          "base_uri": "https://localhost:8080/",
          "height": 1000
        },
        "id": "aeaWPay-FLw7",
        "outputId": "dff47c0f-6b37-4dd6-c74d-38c1614339e5"
      },
      "source": [
        "g = sns.violinplot(y='Species', x='SepalLengthCm', data=data_set, inner='quartile')\n",
        "plt.show()\n",
        "g = sns.violinplot(y='Species', x='SepalWidthCm', data=data_set, inner='quartile')\n",
        "plt.show()\n",
        "g = sns.violinplot(y='Species', x='PetalLengthCm', data=data_set, inner='quartile')\n",
        "plt.show()\n",
        "g = sns.violinplot(y='Species', x='PetalWidthCm', data=data_set, inner='quartile')\n",
        "plt.show()"
      ],
      "execution_count": null,
      "outputs": [
        {
          "output_type": "display_data",
          "data": {
            "image/png": "[encoded data removed]",
            "text/plain": [
              "<Figure size 432x288 with 1 Axes>"
            ]
          },
          "metadata": {
            "needs_background": "light"
          }
        },
        {
          "output_type": "display_data",
          "data": {
            "image/png": "[encoded data removed]",
            "text/plain": [
              "<Figure size 432x288 with 1 Axes>"
            ]
          },
          "metadata": {
            "needs_background": "light"
          }
        },
        {
          "output_type": "display_data",
          "data": {
            "image/png": "[encoded data removed]",
            "text/plain": [
              "<Figure size 432x288 with 1 Axes>"
            ]
          },
          "metadata": {
            "needs_background": "light"
          }
        },
        {
          "output_type": "display_data",
          "data": {
            "image/png": "[encoded data removed]",
            "text/plain": [
              "<Figure size 432x288 with 1 Axes>"
            ]
          },
          "metadata": {
            "needs_background": "light"
          }
        }
      ]
    },
    {
      "cell_type": "code",
      "metadata": {
        "id": "8YehzJbpFXjH"
      },
      "source": [
        "Species = {'Iris-setosa': 0, 'Iris-versicolor': 1, 'Iris-virginica':2}\n",
        "data_set.Species = [Species[item] for item in data_set.Species]\n",
        "\n",
        "X = data_set.iloc[:, 0:4] #predictors\n",
        "y = data_set.iloc[:, 4]\n"
      ],
      "execution_count": null,
      "outputs": []
    },
    {
      "cell_type": "code",
      "metadata": {
        "colab": {
          "base_uri": "https://localhost:8080/"
        },
        "id": "Rhco_t1YFk_x",
        "outputId": "08b70f92-42d5-4c5f-f842-e2a308c0afa6"
      },
      "source": [
        "from sklearn.preprocessing import normalize\n",
        "\n",
        "X = normalize(X)\n",
        "y = np.array(y)\n",
        "y = y.astype(int)\n",
        "X_train, X_test, Y_train, Y_test = train_test_split(X, y, test_size=0.10)\n",
        "print(\"X_train shape: \", X_train.shape)\n",
        "print(\"Y_train shape: \", Y_train.shape)\n",
        "print(\"X_test shape: \", X_test.shape)\n",
        "print(\"Y_test shape: \", Y_test.shape)\n"
      ],
      "execution_count": null,
      "outputs": [
        {
          "output_type": "stream",
          "name": "stdout",
          "text": [
            "X_train shape:  (135, 4)\n",
            "Y_train shape:  (135,)\n",
            "X_test shape:  (15, 4)\n",
            "Y_test shape:  (15,)\n"
          ]
        }
      ]
    },
    {
      "cell_type": "code",
      "metadata": {
        "id": "ZvxGC-80Fmu4"
      },
      "source": [
        "# for loading data into pytorch model\n",
        "from torch.utils.data import TensorDataset, DataLoader\n",
        "\n",
        "trainloader = DataLoader(TensorDataset(torch.from_numpy(X_train), torch.from_numpy(Y_train)), \n",
        "                         batch_size=135, shuffle=True)\n",
        "\n",
        "testloader = DataLoader(TensorDataset(torch.from_numpy(X_test), torch.from_numpy(Y_test)), \n",
        "                        batch_size=135, shuffle=True)\n",
        "\n",
        "dataloaders = {\n",
        "    \"train\": trainloader,\n",
        "    \"validation\": testloader\n",
        "}"
      ],
      "execution_count": null,
      "outputs": []
    },
    {
      "cell_type": "code",
      "metadata": {
        "id": "H6KCEF-jFsFB"
      },
      "source": [
        "class Classifier(nn.Module):\n",
        "    def __init__(self):\n",
        "        super().__init__()\n",
        "        self.fc1 = nn.Linear(4, 227) ### 4 predictors\n",
        "        self.fc2 = nn.Linear(227, 94) ### 227 neurons in hidden layer 1, 94 in 3\n",
        "        self.fc3 = nn.Linear(94, 75) ### 75 neurons in hidden layer 3\n",
        "        self.fc4 = nn.Linear(75, 3) ### 3 classes\n",
        "        \n",
        "        self.dropout = nn.Dropout(p=0.2)\n",
        "        \n",
        "    def forward(self, x):\n",
        "        x = F.relu(self.fc1(x)) #activation function for 1\n",
        "        x = F.relu(self.fc2(x))\n",
        "        x = self.dropout(F.relu(self.fc3(x)))\n",
        "        x = F.log_softmax(self.fc4(x), dim=1)\n",
        "        \n",
        "        return x\n"
      ],
      "execution_count": null,
      "outputs": []
    },
    {
      "cell_type": "code",
      "metadata": {
        "id": "L7w6dJxzFwWV"
      },
      "source": [
        "model = Classifier()\n",
        "criterion = nn.NLLLoss()\n",
        "optimizer = optim.Adam(model.parameters(), lr=0.0001)"
      ],
      "execution_count": null,
      "outputs": []
    },
    {
      "cell_type": "code",
      "metadata": {
        "id": "nY5HhZoGFziF"
      },
      "source": [
        "def predict(model, inputs):\n",
        "    output = model(inputs)\n",
        "    return output.data.numpy().argmax(axis=1)\n",
        "\n",
        "from torch.autograd import Variable"
      ],
      "execution_count": null,
      "outputs": []
    },
    {
      "cell_type": "code",
      "metadata": {
        "colab": {
          "base_uri": "https://localhost:8080/"
        },
        "id": "Op05geEkF3fS",
        "outputId": "09786340-48b2-4ac2-ab4b-635d9062d65a"
      },
      "source": [
        "loss1 = []\n",
        "train_acc = []\n",
        "\n",
        "Epoch = 1000\n",
        "\n",
        "for epoch in range(Epoch):\n",
        "    acc = 0\n",
        "    \n",
        "    for i, (features, labels) in enumerate(trainloader):\n",
        "        features = Variable(features)\n",
        "        labels = Variable(labels)\n",
        "        \n",
        "        optimizer.zero_grad()\n",
        "        \n",
        "        features = features.float()\n",
        "        \n",
        "        outputs = model(features)\n",
        "        \n",
        "        loss = criterion(outputs, labels.long())\n",
        "        loss.backward()\n",
        "        optimizer.step()\n",
        "        \n",
        "        if (i+1) % len(trainloader) == 0:\n",
        "            Ypred = predict(model, torch.from_numpy(X_train).float())\n",
        "            acc = np.mean(Y_train == Ypred)\n",
        "            \n",
        "            train_acc1 = acc/len(trainloader)\n",
        "            train_acc.append(train_acc1)\n",
        "            loss1.append(loss.data)\n",
        "            \n",
        "            print ('Epoch [%d/%d], Iter [%d] Loss: %.4f Training Accuracy: %.5f' %(epoch+1, 1000, i+1, loss.data, train_acc1))"
      ],
      "execution_count": null,
      "outputs": [
        {
          "output_type": "stream",
          "name": "stdout",
          "text": [
            "Epoch [1/1000], Iter [1] Loss: 1.0966 Training Accuracy: 0.33333\n",
            "Epoch [2/1000], Iter [1] Loss: 1.0918 Training Accuracy: 0.37778\n",
            "Epoch [3/1000], Iter [1] Loss: 1.0904 Training Accuracy: 0.39259\n",
            "Epoch [4/1000], Iter [1] Loss: 1.0884 Training Accuracy: 0.45185\n",
            "Epoch [5/1000], Iter [1] Loss: 1.0907 Training Accuracy: 0.42222\n",
            "Epoch [6/1000], Iter [1] Loss: 1.0864 Training Accuracy: 0.48148\n",
            "Epoch [7/1000], Iter [1] Loss: 1.0851 Training Accuracy: 0.49630\n",
            "Epoch [8/1000], Iter [1] Loss: 1.0855 Training Accuracy: 0.50370\n",
            "Epoch [9/1000], Iter [1] Loss: 1.0806 Training Accuracy: 0.50370\n",
            "Epoch [10/1000], Iter [1] Loss: 1.0802 Training Accuracy: 0.43704\n",
            "Epoch [11/1000], Iter [1] Loss: 1.0772 Training Accuracy: 0.51852\n",
            "Epoch [12/1000], Iter [1] Loss: 1.0794 Training Accuracy: 0.48889\n",
            "Epoch [13/1000], Iter [1] Loss: 1.0792 Training Accuracy: 0.50370\n",
            "Epoch [14/1000], Iter [1] Loss: 1.0775 Training Accuracy: 0.50370\n",
            "Epoch [15/1000], Iter [1] Loss: 1.0736 Training Accuracy: 0.55556\n",
            "Epoch [16/1000], Iter [1] Loss: 1.0731 Training Accuracy: 0.54074\n",
            "Epoch [17/1000], Iter [1] Loss: 1.0711 Training Accuracy: 0.54074\n",
            "Epoch [18/1000], Iter [1] Loss: 1.0714 Training Accuracy: 0.55556\n",
            "Epoch [19/1000], Iter [1] Loss: 1.0675 Training Accuracy: 0.53333\n",
            "Epoch [20/1000], Iter [1] Loss: 1.0655 Training Accuracy: 0.55556\n",
            "Epoch [21/1000], Iter [1] Loss: 1.0662 Training Accuracy: 0.52593\n",
            "Epoch [22/1000], Iter [1] Loss: 1.0691 Training Accuracy: 0.50370\n",
            "Epoch [23/1000], Iter [1] Loss: 1.0633 Training Accuracy: 0.52593\n",
            "Epoch [24/1000], Iter [1] Loss: 1.0644 Training Accuracy: 0.52593\n",
            "Epoch [25/1000], Iter [1] Loss: 1.0634 Training Accuracy: 0.51111\n",
            "Epoch [26/1000], Iter [1] Loss: 1.0602 Training Accuracy: 0.52593\n",
            "Epoch [27/1000], Iter [1] Loss: 1.0655 Training Accuracy: 0.51111\n",
            "Epoch [28/1000], Iter [1] Loss: 1.0614 Training Accuracy: 0.51111\n",
            "Epoch [29/1000], Iter [1] Loss: 1.0600 Training Accuracy: 0.51852\n",
            "Epoch [30/1000], Iter [1] Loss: 1.0574 Training Accuracy: 0.52593\n",
            "Epoch [31/1000], Iter [1] Loss: 1.0560 Training Accuracy: 0.51852\n",
            "Epoch [32/1000], Iter [1] Loss: 1.0538 Training Accuracy: 0.52593\n",
            "Epoch [33/1000], Iter [1] Loss: 1.0556 Training Accuracy: 0.51852\n",
            "Epoch [34/1000], Iter [1] Loss: 1.0537 Training Accuracy: 0.51852\n",
            "Epoch [35/1000], Iter [1] Loss: 1.0513 Training Accuracy: 0.50370\n",
            "Epoch [36/1000], Iter [1] Loss: 1.0485 Training Accuracy: 0.50370\n",
            "Epoch [37/1000], Iter [1] Loss: 1.0473 Training Accuracy: 0.50370\n",
            "Epoch [38/1000], Iter [1] Loss: 1.0474 Training Accuracy: 0.51111\n",
            "Epoch [39/1000], Iter [1] Loss: 1.0474 Training Accuracy: 0.50370\n",
            "Epoch [40/1000], Iter [1] Loss: 1.0479 Training Accuracy: 0.51111\n",
            "Epoch [41/1000], Iter [1] Loss: 1.0436 Training Accuracy: 0.49630\n",
            "Epoch [42/1000], Iter [1] Loss: 1.0426 Training Accuracy: 0.51852\n",
            "Epoch [43/1000], Iter [1] Loss: 1.0461 Training Accuracy: 0.51111\n",
            "Epoch [44/1000], Iter [1] Loss: 1.0380 Training Accuracy: 0.53333\n",
            "Epoch [45/1000], Iter [1] Loss: 1.0418 Training Accuracy: 0.51111\n",
            "Epoch [46/1000], Iter [1] Loss: 1.0386 Training Accuracy: 0.51111\n",
            "Epoch [47/1000], Iter [1] Loss: 1.0379 Training Accuracy: 0.51111\n",
            "Epoch [48/1000], Iter [1] Loss: 1.0465 Training Accuracy: 0.51111\n",
            "Epoch [49/1000], Iter [1] Loss: 1.0326 Training Accuracy: 0.51852\n",
            "Epoch [50/1000], Iter [1] Loss: 1.0356 Training Accuracy: 0.51852\n",
            "Epoch [51/1000], Iter [1] Loss: 1.0410 Training Accuracy: 0.52593\n",
            "Epoch [52/1000], Iter [1] Loss: 1.0415 Training Accuracy: 0.52593\n",
            "Epoch [53/1000], Iter [1] Loss: 1.0308 Training Accuracy: 0.51852\n",
            "Epoch [54/1000], Iter [1] Loss: 1.0304 Training Accuracy: 0.51111\n",
            "Epoch [55/1000], Iter [1] Loss: 1.0305 Training Accuracy: 0.51111\n",
            "Epoch [56/1000], Iter [1] Loss: 1.0305 Training Accuracy: 0.50370\n",
            "Epoch [57/1000], Iter [1] Loss: 1.0312 Training Accuracy: 0.51852\n",
            "Epoch [58/1000], Iter [1] Loss: 1.0221 Training Accuracy: 0.51111\n",
            "Epoch [59/1000], Iter [1] Loss: 1.0250 Training Accuracy: 0.51111\n",
            "Epoch [60/1000], Iter [1] Loss: 1.0301 Training Accuracy: 0.51852\n",
            "Epoch [61/1000], Iter [1] Loss: 1.0291 Training Accuracy: 0.51852\n",
            "Epoch [62/1000], Iter [1] Loss: 1.0305 Training Accuracy: 0.51852\n",
            "Epoch [63/1000], Iter [1] Loss: 1.0220 Training Accuracy: 0.51111\n",
            "Epoch [64/1000], Iter [1] Loss: 1.0212 Training Accuracy: 0.51111\n",
            "Epoch [65/1000], Iter [1] Loss: 1.0283 Training Accuracy: 0.51111\n",
            "Epoch [66/1000], Iter [1] Loss: 1.0211 Training Accuracy: 0.51111\n",
            "Epoch [67/1000], Iter [1] Loss: 1.0185 Training Accuracy: 0.51111\n",
            "Epoch [68/1000], Iter [1] Loss: 1.0131 Training Accuracy: 0.51852\n",
            "Epoch [69/1000], Iter [1] Loss: 1.0221 Training Accuracy: 0.51111\n",
            "Epoch [70/1000], Iter [1] Loss: 1.0193 Training Accuracy: 0.51111\n",
            "Epoch [71/1000], Iter [1] Loss: 1.0152 Training Accuracy: 0.50370\n",
            "Epoch [72/1000], Iter [1] Loss: 1.0085 Training Accuracy: 0.51852\n",
            "Epoch [73/1000], Iter [1] Loss: 1.0141 Training Accuracy: 0.51111\n",
            "Epoch [74/1000], Iter [1] Loss: 1.0130 Training Accuracy: 0.50370\n",
            "Epoch [75/1000], Iter [1] Loss: 1.0087 Training Accuracy: 0.51111\n",
            "Epoch [76/1000], Iter [1] Loss: 1.0120 Training Accuracy: 0.50370\n",
            "Epoch [77/1000], Iter [1] Loss: 1.0126 Training Accuracy: 0.52593\n",
            "Epoch [78/1000], Iter [1] Loss: 1.0126 Training Accuracy: 0.50370\n",
            "Epoch [79/1000], Iter [1] Loss: 1.0114 Training Accuracy: 0.52593\n",
            "Epoch [80/1000], Iter [1] Loss: 1.0070 Training Accuracy: 0.52593\n",
            "Epoch [81/1000], Iter [1] Loss: 1.0135 Training Accuracy: 0.51852\n",
            "Epoch [82/1000], Iter [1] Loss: 1.0081 Training Accuracy: 0.51852\n",
            "Epoch [83/1000], Iter [1] Loss: 1.0084 Training Accuracy: 0.51111\n",
            "Epoch [84/1000], Iter [1] Loss: 1.0010 Training Accuracy: 0.51852\n",
            "Epoch [85/1000], Iter [1] Loss: 0.9992 Training Accuracy: 0.52593\n",
            "Epoch [86/1000], Iter [1] Loss: 1.0073 Training Accuracy: 0.52593\n",
            "Epoch [87/1000], Iter [1] Loss: 1.0052 Training Accuracy: 0.52593\n",
            "Epoch [88/1000], Iter [1] Loss: 1.0082 Training Accuracy: 0.51852\n",
            "Epoch [89/1000], Iter [1] Loss: 0.9984 Training Accuracy: 0.53333\n",
            "Epoch [90/1000], Iter [1] Loss: 1.0021 Training Accuracy: 0.52593\n",
            "Epoch [91/1000], Iter [1] Loss: 1.0030 Training Accuracy: 0.53333\n",
            "Epoch [92/1000], Iter [1] Loss: 1.0011 Training Accuracy: 0.51852\n",
            "Epoch [93/1000], Iter [1] Loss: 1.0054 Training Accuracy: 0.52593\n",
            "Epoch [94/1000], Iter [1] Loss: 1.0014 Training Accuracy: 0.51852\n",
            "Epoch [95/1000], Iter [1] Loss: 0.9997 Training Accuracy: 0.53333\n",
            "Epoch [96/1000], Iter [1] Loss: 0.9999 Training Accuracy: 0.52593\n",
            "Epoch [97/1000], Iter [1] Loss: 1.0094 Training Accuracy: 0.52593\n",
            "Epoch [98/1000], Iter [1] Loss: 1.0057 Training Accuracy: 0.53333\n",
            "Epoch [99/1000], Iter [1] Loss: 1.0086 Training Accuracy: 0.52593\n",
            "Epoch [100/1000], Iter [1] Loss: 1.0013 Training Accuracy: 0.52593\n",
            "Epoch [101/1000], Iter [1] Loss: 1.0000 Training Accuracy: 0.52593\n",
            "Epoch [102/1000], Iter [1] Loss: 0.9992 Training Accuracy: 0.53333\n",
            "Epoch [103/1000], Iter [1] Loss: 0.9973 Training Accuracy: 0.53333\n",
            "Epoch [104/1000], Iter [1] Loss: 0.9946 Training Accuracy: 0.52593\n",
            "Epoch [105/1000], Iter [1] Loss: 0.9863 Training Accuracy: 0.52593\n",
            "Epoch [106/1000], Iter [1] Loss: 0.9926 Training Accuracy: 0.54074\n",
            "Epoch [107/1000], Iter [1] Loss: 0.9963 Training Accuracy: 0.53333\n",
            "Epoch [108/1000], Iter [1] Loss: 0.9890 Training Accuracy: 0.53333\n",
            "Epoch [109/1000], Iter [1] Loss: 0.9954 Training Accuracy: 0.53333\n",
            "Epoch [110/1000], Iter [1] Loss: 0.9912 Training Accuracy: 0.53333\n",
            "Epoch [111/1000], Iter [1] Loss: 0.9864 Training Accuracy: 0.53333\n",
            "Epoch [112/1000], Iter [1] Loss: 0.9894 Training Accuracy: 0.53333\n",
            "Epoch [113/1000], Iter [1] Loss: 0.9912 Training Accuracy: 0.54074\n",
            "Epoch [114/1000], Iter [1] Loss: 0.9857 Training Accuracy: 0.53333\n",
            "Epoch [115/1000], Iter [1] Loss: 0.9933 Training Accuracy: 0.54074\n",
            "Epoch [116/1000], Iter [1] Loss: 0.9948 Training Accuracy: 0.54074\n",
            "Epoch [117/1000], Iter [1] Loss: 0.9853 Training Accuracy: 0.53333\n",
            "Epoch [118/1000], Iter [1] Loss: 0.9890 Training Accuracy: 0.54074\n",
            "Epoch [119/1000], Iter [1] Loss: 0.9862 Training Accuracy: 0.53333\n",
            "Epoch [120/1000], Iter [1] Loss: 0.9857 Training Accuracy: 0.54074\n",
            "Epoch [121/1000], Iter [1] Loss: 0.9840 Training Accuracy: 0.54815\n",
            "Epoch [122/1000], Iter [1] Loss: 0.9821 Training Accuracy: 0.54815\n",
            "Epoch [123/1000], Iter [1] Loss: 0.9751 Training Accuracy: 0.54074\n",
            "Epoch [124/1000], Iter [1] Loss: 0.9738 Training Accuracy: 0.54815\n",
            "Epoch [125/1000], Iter [1] Loss: 0.9844 Training Accuracy: 0.54074\n",
            "Epoch [126/1000], Iter [1] Loss: 0.9796 Training Accuracy: 0.53333\n",
            "Epoch [127/1000], Iter [1] Loss: 0.9815 Training Accuracy: 0.54815\n",
            "Epoch [128/1000], Iter [1] Loss: 0.9882 Training Accuracy: 0.54074\n",
            "Epoch [129/1000], Iter [1] Loss: 0.9765 Training Accuracy: 0.54815\n",
            "Epoch [130/1000], Iter [1] Loss: 0.9765 Training Accuracy: 0.54815\n",
            "Epoch [131/1000], Iter [1] Loss: 0.9691 Training Accuracy: 0.54074\n",
            "Epoch [132/1000], Iter [1] Loss: 0.9697 Training Accuracy: 0.55556\n",
            "Epoch [133/1000], Iter [1] Loss: 0.9804 Training Accuracy: 0.54815\n",
            "Epoch [134/1000], Iter [1] Loss: 0.9710 Training Accuracy: 0.54815\n",
            "Epoch [135/1000], Iter [1] Loss: 0.9687 Training Accuracy: 0.55556\n",
            "Epoch [136/1000], Iter [1] Loss: 0.9736 Training Accuracy: 0.55556\n",
            "Epoch [137/1000], Iter [1] Loss: 0.9661 Training Accuracy: 0.56296\n",
            "Epoch [138/1000], Iter [1] Loss: 0.9747 Training Accuracy: 0.55556\n",
            "Epoch [139/1000], Iter [1] Loss: 0.9694 Training Accuracy: 0.55556\n",
            "Epoch [140/1000], Iter [1] Loss: 0.9672 Training Accuracy: 0.55556\n",
            "Epoch [141/1000], Iter [1] Loss: 0.9772 Training Accuracy: 0.56296\n",
            "Epoch [142/1000], Iter [1] Loss: 0.9686 Training Accuracy: 0.54815\n",
            "Epoch [143/1000], Iter [1] Loss: 0.9641 Training Accuracy: 0.56296\n",
            "Epoch [144/1000], Iter [1] Loss: 0.9610 Training Accuracy: 0.57037\n",
            "Epoch [145/1000], Iter [1] Loss: 0.9638 Training Accuracy: 0.57037\n",
            "Epoch [146/1000], Iter [1] Loss: 0.9705 Training Accuracy: 0.57037\n",
            "Epoch [147/1000], Iter [1] Loss: 0.9603 Training Accuracy: 0.56296\n",
            "Epoch [148/1000], Iter [1] Loss: 0.9556 Training Accuracy: 0.57037\n",
            "Epoch [149/1000], Iter [1] Loss: 0.9488 Training Accuracy: 0.55556\n",
            "Epoch [150/1000], Iter [1] Loss: 0.9635 Training Accuracy: 0.57037\n",
            "Epoch [151/1000], Iter [1] Loss: 0.9627 Training Accuracy: 0.55556\n",
            "Epoch [152/1000], Iter [1] Loss: 0.9578 Training Accuracy: 0.58519\n",
            "Epoch [153/1000], Iter [1] Loss: 0.9622 Training Accuracy: 0.58519\n",
            "Epoch [154/1000], Iter [1] Loss: 0.9552 Training Accuracy: 0.57037\n",
            "Epoch [155/1000], Iter [1] Loss: 0.9592 Training Accuracy: 0.57778\n",
            "Epoch [156/1000], Iter [1] Loss: 0.9532 Training Accuracy: 0.57037\n",
            "Epoch [157/1000], Iter [1] Loss: 0.9502 Training Accuracy: 0.57037\n",
            "Epoch [158/1000], Iter [1] Loss: 0.9597 Training Accuracy: 0.58519\n",
            "Epoch [159/1000], Iter [1] Loss: 0.9499 Training Accuracy: 0.57778\n",
            "Epoch [160/1000], Iter [1] Loss: 0.9422 Training Accuracy: 0.58519\n",
            "Epoch [161/1000], Iter [1] Loss: 0.9438 Training Accuracy: 0.57778\n",
            "Epoch [162/1000], Iter [1] Loss: 0.9467 Training Accuracy: 0.57778\n",
            "Epoch [163/1000], Iter [1] Loss: 0.9387 Training Accuracy: 0.57778\n",
            "Epoch [164/1000], Iter [1] Loss: 0.9404 Training Accuracy: 0.58519\n",
            "Epoch [165/1000], Iter [1] Loss: 0.9417 Training Accuracy: 0.57778\n",
            "Epoch [166/1000], Iter [1] Loss: 0.9435 Training Accuracy: 0.59259\n",
            "Epoch [167/1000], Iter [1] Loss: 0.9345 Training Accuracy: 0.59259\n",
            "Epoch [168/1000], Iter [1] Loss: 0.9323 Training Accuracy: 0.58519\n",
            "Epoch [169/1000], Iter [1] Loss: 0.9365 Training Accuracy: 0.58519\n",
            "Epoch [170/1000], Iter [1] Loss: 0.9411 Training Accuracy: 0.58519\n",
            "Epoch [171/1000], Iter [1] Loss: 0.9348 Training Accuracy: 0.60000\n",
            "Epoch [172/1000], Iter [1] Loss: 0.9344 Training Accuracy: 0.58519\n",
            "Epoch [173/1000], Iter [1] Loss: 0.9324 Training Accuracy: 0.59259\n",
            "Epoch [174/1000], Iter [1] Loss: 0.9396 Training Accuracy: 0.60000\n",
            "Epoch [175/1000], Iter [1] Loss: 0.9407 Training Accuracy: 0.58519\n",
            "Epoch [176/1000], Iter [1] Loss: 0.9237 Training Accuracy: 0.59259\n",
            "Epoch [177/1000], Iter [1] Loss: 0.9212 Training Accuracy: 0.60000\n",
            "Epoch [178/1000], Iter [1] Loss: 0.9329 Training Accuracy: 0.60000\n",
            "Epoch [179/1000], Iter [1] Loss: 0.9370 Training Accuracy: 0.60000\n",
            "Epoch [180/1000], Iter [1] Loss: 0.9251 Training Accuracy: 0.60000\n",
            "Epoch [181/1000], Iter [1] Loss: 0.9226 Training Accuracy: 0.60741\n",
            "Epoch [182/1000], Iter [1] Loss: 0.9219 Training Accuracy: 0.60741\n",
            "Epoch [183/1000], Iter [1] Loss: 0.9269 Training Accuracy: 0.60000\n",
            "Epoch [184/1000], Iter [1] Loss: 0.9317 Training Accuracy: 0.60741\n",
            "Epoch [185/1000], Iter [1] Loss: 0.9293 Training Accuracy: 0.60741\n",
            "Epoch [186/1000], Iter [1] Loss: 0.9145 Training Accuracy: 0.60741\n",
            "Epoch [187/1000], Iter [1] Loss: 0.9228 Training Accuracy: 0.61481\n",
            "Epoch [188/1000], Iter [1] Loss: 0.9106 Training Accuracy: 0.60741\n",
            "Epoch [189/1000], Iter [1] Loss: 0.9105 Training Accuracy: 0.62222\n",
            "Epoch [190/1000], Iter [1] Loss: 0.9092 Training Accuracy: 0.62222\n",
            "Epoch [191/1000], Iter [1] Loss: 0.9262 Training Accuracy: 0.60741\n",
            "Epoch [192/1000], Iter [1] Loss: 0.9179 Training Accuracy: 0.60741\n",
            "Epoch [193/1000], Iter [1] Loss: 0.9135 Training Accuracy: 0.60741\n",
            "Epoch [194/1000], Iter [1] Loss: 0.9124 Training Accuracy: 0.60741\n",
            "Epoch [195/1000], Iter [1] Loss: 0.9052 Training Accuracy: 0.60741\n",
            "Epoch [196/1000], Iter [1] Loss: 0.9053 Training Accuracy: 0.62963\n",
            "Epoch [197/1000], Iter [1] Loss: 0.9083 Training Accuracy: 0.62222\n",
            "Epoch [198/1000], Iter [1] Loss: 0.9140 Training Accuracy: 0.62222\n",
            "Epoch [199/1000], Iter [1] Loss: 0.9080 Training Accuracy: 0.62222\n",
            "Epoch [200/1000], Iter [1] Loss: 0.8989 Training Accuracy: 0.61481\n",
            "Epoch [201/1000], Iter [1] Loss: 0.8933 Training Accuracy: 0.62222\n",
            "Epoch [202/1000], Iter [1] Loss: 0.8869 Training Accuracy: 0.62222\n",
            "Epoch [203/1000], Iter [1] Loss: 0.8871 Training Accuracy: 0.61481\n",
            "Epoch [204/1000], Iter [1] Loss: 0.8934 Training Accuracy: 0.61481\n",
            "Epoch [205/1000], Iter [1] Loss: 0.8977 Training Accuracy: 0.62222\n",
            "Epoch [206/1000], Iter [1] Loss: 0.9045 Training Accuracy: 0.62963\n",
            "Epoch [207/1000], Iter [1] Loss: 0.8947 Training Accuracy: 0.62222\n",
            "Epoch [208/1000], Iter [1] Loss: 0.8991 Training Accuracy: 0.61481\n",
            "Epoch [209/1000], Iter [1] Loss: 0.8863 Training Accuracy: 0.61481\n",
            "Epoch [210/1000], Iter [1] Loss: 0.8848 Training Accuracy: 0.62963\n",
            "Epoch [211/1000], Iter [1] Loss: 0.8702 Training Accuracy: 0.62963\n",
            "Epoch [212/1000], Iter [1] Loss: 0.8784 Training Accuracy: 0.61481\n",
            "Epoch [213/1000], Iter [1] Loss: 0.8813 Training Accuracy: 0.63704\n",
            "Epoch [214/1000], Iter [1] Loss: 0.8797 Training Accuracy: 0.64444\n",
            "Epoch [215/1000], Iter [1] Loss: 0.8839 Training Accuracy: 0.61481\n",
            "Epoch [216/1000], Iter [1] Loss: 0.8742 Training Accuracy: 0.63704\n",
            "Epoch [217/1000], Iter [1] Loss: 0.8697 Training Accuracy: 0.62963\n",
            "Epoch [218/1000], Iter [1] Loss: 0.8767 Training Accuracy: 0.62963\n",
            "Epoch [219/1000], Iter [1] Loss: 0.8822 Training Accuracy: 0.62963\n",
            "Epoch [220/1000], Iter [1] Loss: 0.8644 Training Accuracy: 0.62963\n",
            "Epoch [221/1000], Iter [1] Loss: 0.8741 Training Accuracy: 0.62222\n",
            "Epoch [222/1000], Iter [1] Loss: 0.8660 Training Accuracy: 0.62963\n",
            "Epoch [223/1000], Iter [1] Loss: 0.8715 Training Accuracy: 0.63704\n",
            "Epoch [224/1000], Iter [1] Loss: 0.8709 Training Accuracy: 0.62963\n",
            "Epoch [225/1000], Iter [1] Loss: 0.8725 Training Accuracy: 0.62222\n",
            "Epoch [226/1000], Iter [1] Loss: 0.8618 Training Accuracy: 0.63704\n",
            "Epoch [227/1000], Iter [1] Loss: 0.8596 Training Accuracy: 0.63704\n",
            "Epoch [228/1000], Iter [1] Loss: 0.8644 Training Accuracy: 0.64444\n",
            "Epoch [229/1000], Iter [1] Loss: 0.8549 Training Accuracy: 0.62963\n",
            "Epoch [230/1000], Iter [1] Loss: 0.8572 Training Accuracy: 0.63704\n",
            "Epoch [231/1000], Iter [1] Loss: 0.8587 Training Accuracy: 0.63704\n",
            "Epoch [232/1000], Iter [1] Loss: 0.8512 Training Accuracy: 0.65185\n",
            "Epoch [233/1000], Iter [1] Loss: 0.8698 Training Accuracy: 0.62963\n",
            "Epoch [234/1000], Iter [1] Loss: 0.8441 Training Accuracy: 0.64444\n",
            "Epoch [235/1000], Iter [1] Loss: 0.8441 Training Accuracy: 0.64444\n",
            "Epoch [236/1000], Iter [1] Loss: 0.8411 Training Accuracy: 0.62963\n",
            "Epoch [237/1000], Iter [1] Loss: 0.8501 Training Accuracy: 0.63704\n",
            "Epoch [238/1000], Iter [1] Loss: 0.8480 Training Accuracy: 0.62963\n",
            "Epoch [239/1000], Iter [1] Loss: 0.8548 Training Accuracy: 0.65185\n",
            "Epoch [240/1000], Iter [1] Loss: 0.8465 Training Accuracy: 0.65926\n",
            "Epoch [241/1000], Iter [1] Loss: 0.8433 Training Accuracy: 0.64444\n",
            "Epoch [242/1000], Iter [1] Loss: 0.8470 Training Accuracy: 0.64444\n",
            "Epoch [243/1000], Iter [1] Loss: 0.8316 Training Accuracy: 0.65926\n",
            "Epoch [244/1000], Iter [1] Loss: 0.8454 Training Accuracy: 0.64444\n",
            "Epoch [245/1000], Iter [1] Loss: 0.8291 Training Accuracy: 0.65926\n",
            "Epoch [246/1000], Iter [1] Loss: 0.8451 Training Accuracy: 0.65185\n",
            "Epoch [247/1000], Iter [1] Loss: 0.8327 Training Accuracy: 0.66667\n",
            "Epoch [248/1000], Iter [1] Loss: 0.8364 Training Accuracy: 0.64444\n",
            "Epoch [249/1000], Iter [1] Loss: 0.8394 Training Accuracy: 0.65185\n",
            "Epoch [250/1000], Iter [1] Loss: 0.8389 Training Accuracy: 0.65926\n",
            "Epoch [251/1000], Iter [1] Loss: 0.8338 Training Accuracy: 0.65926\n",
            "Epoch [252/1000], Iter [1] Loss: 0.8189 Training Accuracy: 0.65185\n",
            "Epoch [253/1000], Iter [1] Loss: 0.8259 Training Accuracy: 0.64444\n",
            "Epoch [254/1000], Iter [1] Loss: 0.8151 Training Accuracy: 0.64444\n",
            "Epoch [255/1000], Iter [1] Loss: 0.8263 Training Accuracy: 0.65926\n",
            "Epoch [256/1000], Iter [1] Loss: 0.8064 Training Accuracy: 0.65926\n",
            "Epoch [257/1000], Iter [1] Loss: 0.8250 Training Accuracy: 0.65185\n",
            "Epoch [258/1000], Iter [1] Loss: 0.8170 Training Accuracy: 0.66667\n",
            "Epoch [259/1000], Iter [1] Loss: 0.8243 Training Accuracy: 0.64444\n",
            "Epoch [260/1000], Iter [1] Loss: 0.8248 Training Accuracy: 0.66667\n",
            "Epoch [261/1000], Iter [1] Loss: 0.8091 Training Accuracy: 0.65185\n",
            "Epoch [262/1000], Iter [1] Loss: 0.8103 Training Accuracy: 0.65926\n",
            "Epoch [263/1000], Iter [1] Loss: 0.8117 Training Accuracy: 0.66667\n",
            "Epoch [264/1000], Iter [1] Loss: 0.8016 Training Accuracy: 0.65926\n",
            "Epoch [265/1000], Iter [1] Loss: 0.7949 Training Accuracy: 0.65926\n",
            "Epoch [266/1000], Iter [1] Loss: 0.8175 Training Accuracy: 0.68148\n",
            "Epoch [267/1000], Iter [1] Loss: 0.8158 Training Accuracy: 0.66667\n",
            "Epoch [268/1000], Iter [1] Loss: 0.8009 Training Accuracy: 0.65926\n",
            "Epoch [269/1000], Iter [1] Loss: 0.8067 Training Accuracy: 0.66667\n",
            "Epoch [270/1000], Iter [1] Loss: 0.8019 Training Accuracy: 0.68148\n",
            "Epoch [271/1000], Iter [1] Loss: 0.7897 Training Accuracy: 0.65926\n",
            "Epoch [272/1000], Iter [1] Loss: 0.8026 Training Accuracy: 0.68148\n",
            "Epoch [273/1000], Iter [1] Loss: 0.7937 Training Accuracy: 0.66667\n",
            "Epoch [274/1000], Iter [1] Loss: 0.8044 Training Accuracy: 0.67407\n",
            "Epoch [275/1000], Iter [1] Loss: 0.7909 Training Accuracy: 0.67407\n",
            "Epoch [276/1000], Iter [1] Loss: 0.7955 Training Accuracy: 0.65926\n",
            "Epoch [277/1000], Iter [1] Loss: 0.8009 Training Accuracy: 0.68148\n",
            "Epoch [278/1000], Iter [1] Loss: 0.7969 Training Accuracy: 0.66667\n",
            "Epoch [279/1000], Iter [1] Loss: 0.7913 Training Accuracy: 0.66667\n",
            "Epoch [280/1000], Iter [1] Loss: 0.7764 Training Accuracy: 0.67407\n",
            "Epoch [281/1000], Iter [1] Loss: 0.7992 Training Accuracy: 0.68889\n",
            "Epoch [282/1000], Iter [1] Loss: 0.7801 Training Accuracy: 0.67407\n",
            "Epoch [283/1000], Iter [1] Loss: 0.7875 Training Accuracy: 0.67407\n",
            "Epoch [284/1000], Iter [1] Loss: 0.7776 Training Accuracy: 0.67407\n",
            "Epoch [285/1000], Iter [1] Loss: 0.7856 Training Accuracy: 0.68889\n",
            "Epoch [286/1000], Iter [1] Loss: 0.7685 Training Accuracy: 0.69630\n",
            "Epoch [287/1000], Iter [1] Loss: 0.7761 Training Accuracy: 0.70370\n",
            "Epoch [288/1000], Iter [1] Loss: 0.7740 Training Accuracy: 0.67407\n",
            "Epoch [289/1000], Iter [1] Loss: 0.7729 Training Accuracy: 0.70370\n",
            "Epoch [290/1000], Iter [1] Loss: 0.7697 Training Accuracy: 0.69630\n",
            "Epoch [291/1000], Iter [1] Loss: 0.7754 Training Accuracy: 0.69630\n",
            "Epoch [292/1000], Iter [1] Loss: 0.7643 Training Accuracy: 0.68148\n",
            "Epoch [293/1000], Iter [1] Loss: 0.7625 Training Accuracy: 0.68148\n",
            "Epoch [294/1000], Iter [1] Loss: 0.7676 Training Accuracy: 0.67407\n",
            "Epoch [295/1000], Iter [1] Loss: 0.7625 Training Accuracy: 0.68889\n",
            "Epoch [296/1000], Iter [1] Loss: 0.7704 Training Accuracy: 0.69630\n",
            "Epoch [297/1000], Iter [1] Loss: 0.7522 Training Accuracy: 0.68889\n",
            "Epoch [298/1000], Iter [1] Loss: 0.7513 Training Accuracy: 0.68889\n",
            "Epoch [299/1000], Iter [1] Loss: 0.7598 Training Accuracy: 0.70370\n",
            "Epoch [300/1000], Iter [1] Loss: 0.7717 Training Accuracy: 0.68148\n",
            "Epoch [301/1000], Iter [1] Loss: 0.7584 Training Accuracy: 0.69630\n",
            "Epoch [302/1000], Iter [1] Loss: 0.7637 Training Accuracy: 0.69630\n",
            "Epoch [303/1000], Iter [1] Loss: 0.7575 Training Accuracy: 0.68889\n",
            "Epoch [304/1000], Iter [1] Loss: 0.7579 Training Accuracy: 0.69630\n",
            "Epoch [305/1000], Iter [1] Loss: 0.7527 Training Accuracy: 0.69630\n",
            "Epoch [306/1000], Iter [1] Loss: 0.7486 Training Accuracy: 0.68889\n",
            "Epoch [307/1000], Iter [1] Loss: 0.7631 Training Accuracy: 0.68148\n",
            "Epoch [308/1000], Iter [1] Loss: 0.7473 Training Accuracy: 0.70370\n",
            "Epoch [309/1000], Iter [1] Loss: 0.7381 Training Accuracy: 0.68889\n",
            "Epoch [310/1000], Iter [1] Loss: 0.7435 Training Accuracy: 0.70370\n",
            "Epoch [311/1000], Iter [1] Loss: 0.7470 Training Accuracy: 0.70370\n",
            "Epoch [312/1000], Iter [1] Loss: 0.7444 Training Accuracy: 0.69630\n",
            "Epoch [313/1000], Iter [1] Loss: 0.7485 Training Accuracy: 0.69630\n",
            "Epoch [314/1000], Iter [1] Loss: 0.7411 Training Accuracy: 0.69630\n",
            "Epoch [315/1000], Iter [1] Loss: 0.7475 Training Accuracy: 0.71111\n",
            "Epoch [316/1000], Iter [1] Loss: 0.7246 Training Accuracy: 0.69630\n",
            "Epoch [317/1000], Iter [1] Loss: 0.7407 Training Accuracy: 0.71111\n",
            "Epoch [318/1000], Iter [1] Loss: 0.7437 Training Accuracy: 0.70370\n",
            "Epoch [319/1000], Iter [1] Loss: 0.7203 Training Accuracy: 0.70370\n",
            "Epoch [320/1000], Iter [1] Loss: 0.7216 Training Accuracy: 0.70370\n",
            "Epoch [321/1000], Iter [1] Loss: 0.7429 Training Accuracy: 0.70370\n",
            "Epoch [322/1000], Iter [1] Loss: 0.7337 Training Accuracy: 0.71111\n",
            "Epoch [323/1000], Iter [1] Loss: 0.7255 Training Accuracy: 0.71111\n",
            "Epoch [324/1000], Iter [1] Loss: 0.7224 Training Accuracy: 0.71111\n",
            "Epoch [325/1000], Iter [1] Loss: 0.7324 Training Accuracy: 0.69630\n",
            "Epoch [326/1000], Iter [1] Loss: 0.7125 Training Accuracy: 0.70370\n",
            "Epoch [327/1000], Iter [1] Loss: 0.7178 Training Accuracy: 0.71111\n",
            "Epoch [328/1000], Iter [1] Loss: 0.7228 Training Accuracy: 0.69630\n",
            "Epoch [329/1000], Iter [1] Loss: 0.7225 Training Accuracy: 0.71111\n",
            "Epoch [330/1000], Iter [1] Loss: 0.7139 Training Accuracy: 0.71111\n",
            "Epoch [331/1000], Iter [1] Loss: 0.7241 Training Accuracy: 0.71852\n",
            "Epoch [332/1000], Iter [1] Loss: 0.7163 Training Accuracy: 0.69630\n",
            "Epoch [333/1000], Iter [1] Loss: 0.7166 Training Accuracy: 0.71111\n",
            "Epoch [334/1000], Iter [1] Loss: 0.7154 Training Accuracy: 0.71111\n",
            "Epoch [335/1000], Iter [1] Loss: 0.7120 Training Accuracy: 0.71111\n",
            "Epoch [336/1000], Iter [1] Loss: 0.7262 Training Accuracy: 0.71852\n",
            "Epoch [337/1000], Iter [1] Loss: 0.7088 Training Accuracy: 0.70370\n",
            "Epoch [338/1000], Iter [1] Loss: 0.7033 Training Accuracy: 0.71852\n",
            "Epoch [339/1000], Iter [1] Loss: 0.7096 Training Accuracy: 0.71111\n",
            "Epoch [340/1000], Iter [1] Loss: 0.7063 Training Accuracy: 0.71111\n",
            "Epoch [341/1000], Iter [1] Loss: 0.7105 Training Accuracy: 0.71852\n",
            "Epoch [342/1000], Iter [1] Loss: 0.7076 Training Accuracy: 0.70370\n",
            "Epoch [343/1000], Iter [1] Loss: 0.7121 Training Accuracy: 0.70370\n",
            "Epoch [344/1000], Iter [1] Loss: 0.7114 Training Accuracy: 0.71852\n",
            "Epoch [345/1000], Iter [1] Loss: 0.7022 Training Accuracy: 0.71111\n",
            "Epoch [346/1000], Iter [1] Loss: 0.7115 Training Accuracy: 0.71852\n",
            "Epoch [347/1000], Iter [1] Loss: 0.7033 Training Accuracy: 0.71852\n",
            "Epoch [348/1000], Iter [1] Loss: 0.6996 Training Accuracy: 0.69630\n",
            "Epoch [349/1000], Iter [1] Loss: 0.7062 Training Accuracy: 0.71852\n",
            "Epoch [350/1000], Iter [1] Loss: 0.6977 Training Accuracy: 0.72593\n",
            "Epoch [351/1000], Iter [1] Loss: 0.6951 Training Accuracy: 0.71111\n",
            "Epoch [352/1000], Iter [1] Loss: 0.6971 Training Accuracy: 0.71111\n",
            "Epoch [353/1000], Iter [1] Loss: 0.6811 Training Accuracy: 0.71852\n",
            "Epoch [354/1000], Iter [1] Loss: 0.7063 Training Accuracy: 0.71852\n",
            "Epoch [355/1000], Iter [1] Loss: 0.6957 Training Accuracy: 0.73333\n",
            "Epoch [356/1000], Iter [1] Loss: 0.6891 Training Accuracy: 0.72593\n",
            "Epoch [357/1000], Iter [1] Loss: 0.6816 Training Accuracy: 0.73333\n",
            "Epoch [358/1000], Iter [1] Loss: 0.6978 Training Accuracy: 0.73333\n",
            "Epoch [359/1000], Iter [1] Loss: 0.6901 Training Accuracy: 0.71852\n",
            "Epoch [360/1000], Iter [1] Loss: 0.7062 Training Accuracy: 0.72593\n",
            "Epoch [361/1000], Iter [1] Loss: 0.6934 Training Accuracy: 0.71852\n",
            "Epoch [362/1000], Iter [1] Loss: 0.6795 Training Accuracy: 0.73333\n",
            "Epoch [363/1000], Iter [1] Loss: 0.6874 Training Accuracy: 0.71852\n",
            "Epoch [364/1000], Iter [1] Loss: 0.6913 Training Accuracy: 0.71852\n",
            "Epoch [365/1000], Iter [1] Loss: 0.6846 Training Accuracy: 0.71852\n",
            "Epoch [366/1000], Iter [1] Loss: 0.6808 Training Accuracy: 0.71852\n",
            "Epoch [367/1000], Iter [1] Loss: 0.6822 Training Accuracy: 0.71852\n",
            "Epoch [368/1000], Iter [1] Loss: 0.6776 Training Accuracy: 0.71111\n",
            "Epoch [369/1000], Iter [1] Loss: 0.6847 Training Accuracy: 0.72593\n",
            "Epoch [370/1000], Iter [1] Loss: 0.6773 Training Accuracy: 0.71852\n",
            "Epoch [371/1000], Iter [1] Loss: 0.6728 Training Accuracy: 0.71111\n",
            "Epoch [372/1000], Iter [1] Loss: 0.6785 Training Accuracy: 0.71111\n",
            "Epoch [373/1000], Iter [1] Loss: 0.6763 Training Accuracy: 0.73333\n",
            "Epoch [374/1000], Iter [1] Loss: 0.6717 Training Accuracy: 0.71852\n",
            "Epoch [375/1000], Iter [1] Loss: 0.6793 Training Accuracy: 0.72593\n",
            "Epoch [376/1000], Iter [1] Loss: 0.6762 Training Accuracy: 0.72593\n",
            "Epoch [377/1000], Iter [1] Loss: 0.6810 Training Accuracy: 0.72593\n",
            "Epoch [378/1000], Iter [1] Loss: 0.6626 Training Accuracy: 0.72593\n",
            "Epoch [379/1000], Iter [1] Loss: 0.6745 Training Accuracy: 0.71852\n",
            "Epoch [380/1000], Iter [1] Loss: 0.6631 Training Accuracy: 0.72593\n",
            "Epoch [381/1000], Iter [1] Loss: 0.6837 Training Accuracy: 0.72593\n",
            "Epoch [382/1000], Iter [1] Loss: 0.6606 Training Accuracy: 0.72593\n",
            "Epoch [383/1000], Iter [1] Loss: 0.6577 Training Accuracy: 0.72593\n",
            "Epoch [384/1000], Iter [1] Loss: 0.6591 Training Accuracy: 0.73333\n",
            "Epoch [385/1000], Iter [1] Loss: 0.6602 Training Accuracy: 0.71852\n",
            "Epoch [386/1000], Iter [1] Loss: 0.6643 Training Accuracy: 0.73333\n",
            "Epoch [387/1000], Iter [1] Loss: 0.6579 Training Accuracy: 0.73333\n",
            "Epoch [388/1000], Iter [1] Loss: 0.6522 Training Accuracy: 0.73333\n",
            "Epoch [389/1000], Iter [1] Loss: 0.6693 Training Accuracy: 0.72593\n",
            "Epoch [390/1000], Iter [1] Loss: 0.6557 Training Accuracy: 0.71111\n",
            "Epoch [391/1000], Iter [1] Loss: 0.6680 Training Accuracy: 0.71852\n",
            "Epoch [392/1000], Iter [1] Loss: 0.6631 Training Accuracy: 0.72593\n",
            "Epoch [393/1000], Iter [1] Loss: 0.6526 Training Accuracy: 0.73333\n",
            "Epoch [394/1000], Iter [1] Loss: 0.6465 Training Accuracy: 0.71852\n",
            "Epoch [395/1000], Iter [1] Loss: 0.6605 Training Accuracy: 0.71852\n",
            "Epoch [396/1000], Iter [1] Loss: 0.6499 Training Accuracy: 0.72593\n",
            "Epoch [397/1000], Iter [1] Loss: 0.6470 Training Accuracy: 0.72593\n",
            "Epoch [398/1000], Iter [1] Loss: 0.6579 Training Accuracy: 0.72593\n",
            "Epoch [399/1000], Iter [1] Loss: 0.6498 Training Accuracy: 0.72593\n",
            "Epoch [400/1000], Iter [1] Loss: 0.6419 Training Accuracy: 0.73333\n",
            "Epoch [401/1000], Iter [1] Loss: 0.6400 Training Accuracy: 0.72593\n",
            "Epoch [402/1000], Iter [1] Loss: 0.6491 Training Accuracy: 0.71852\n",
            "Epoch [403/1000], Iter [1] Loss: 0.6425 Training Accuracy: 0.72593\n",
            "Epoch [404/1000], Iter [1] Loss: 0.6371 Training Accuracy: 0.72593\n",
            "Epoch [405/1000], Iter [1] Loss: 0.6502 Training Accuracy: 0.71852\n",
            "Epoch [406/1000], Iter [1] Loss: 0.6555 Training Accuracy: 0.73333\n",
            "Epoch [407/1000], Iter [1] Loss: 0.6372 Training Accuracy: 0.71852\n",
            "Epoch [408/1000], Iter [1] Loss: 0.6390 Training Accuracy: 0.74074\n",
            "Epoch [409/1000], Iter [1] Loss: 0.6235 Training Accuracy: 0.71852\n",
            "Epoch [410/1000], Iter [1] Loss: 0.6409 Training Accuracy: 0.71852\n",
            "Epoch [411/1000], Iter [1] Loss: 0.6415 Training Accuracy: 0.72593\n",
            "Epoch [412/1000], Iter [1] Loss: 0.6420 Training Accuracy: 0.72593\n",
            "Epoch [413/1000], Iter [1] Loss: 0.6372 Training Accuracy: 0.73333\n",
            "Epoch [414/1000], Iter [1] Loss: 0.6378 Training Accuracy: 0.74074\n",
            "Epoch [415/1000], Iter [1] Loss: 0.6262 Training Accuracy: 0.73333\n",
            "Epoch [416/1000], Iter [1] Loss: 0.6253 Training Accuracy: 0.73333\n",
            "Epoch [417/1000], Iter [1] Loss: 0.6518 Training Accuracy: 0.74074\n",
            "Epoch [418/1000], Iter [1] Loss: 0.6381 Training Accuracy: 0.74074\n",
            "Epoch [419/1000], Iter [1] Loss: 0.6268 Training Accuracy: 0.72593\n",
            "Epoch [420/1000], Iter [1] Loss: 0.6227 Training Accuracy: 0.73333\n",
            "Epoch [421/1000], Iter [1] Loss: 0.6300 Training Accuracy: 0.74074\n",
            "Epoch [422/1000], Iter [1] Loss: 0.6313 Training Accuracy: 0.73333\n",
            "Epoch [423/1000], Iter [1] Loss: 0.6332 Training Accuracy: 0.73333\n",
            "Epoch [424/1000], Iter [1] Loss: 0.6341 Training Accuracy: 0.72593\n",
            "Epoch [425/1000], Iter [1] Loss: 0.6186 Training Accuracy: 0.72593\n",
            "Epoch [426/1000], Iter [1] Loss: 0.6161 Training Accuracy: 0.73333\n",
            "Epoch [427/1000], Iter [1] Loss: 0.6258 Training Accuracy: 0.72593\n",
            "Epoch [428/1000], Iter [1] Loss: 0.6369 Training Accuracy: 0.74074\n",
            "Epoch [429/1000], Iter [1] Loss: 0.6271 Training Accuracy: 0.72593\n",
            "Epoch [430/1000], Iter [1] Loss: 0.6384 Training Accuracy: 0.76296\n",
            "Epoch [431/1000], Iter [1] Loss: 0.6101 Training Accuracy: 0.74074\n",
            "Epoch [432/1000], Iter [1] Loss: 0.6156 Training Accuracy: 0.74815\n",
            "Epoch [433/1000], Iter [1] Loss: 0.6028 Training Accuracy: 0.74074\n",
            "Epoch [434/1000], Iter [1] Loss: 0.6260 Training Accuracy: 0.73333\n",
            "Epoch [435/1000], Iter [1] Loss: 0.6073 Training Accuracy: 0.74074\n",
            "Epoch [436/1000], Iter [1] Loss: 0.6204 Training Accuracy: 0.74074\n",
            "Epoch [437/1000], Iter [1] Loss: 0.6200 Training Accuracy: 0.74074\n",
            "Epoch [438/1000], Iter [1] Loss: 0.6278 Training Accuracy: 0.73333\n",
            "Epoch [439/1000], Iter [1] Loss: 0.6119 Training Accuracy: 0.73333\n",
            "Epoch [440/1000], Iter [1] Loss: 0.6277 Training Accuracy: 0.73333\n",
            "Epoch [441/1000], Iter [1] Loss: 0.6100 Training Accuracy: 0.74074\n",
            "Epoch [442/1000], Iter [1] Loss: 0.6193 Training Accuracy: 0.73333\n",
            "Epoch [443/1000], Iter [1] Loss: 0.6094 Training Accuracy: 0.71852\n",
            "Epoch [444/1000], Iter [1] Loss: 0.6158 Training Accuracy: 0.73333\n",
            "Epoch [445/1000], Iter [1] Loss: 0.6157 Training Accuracy: 0.73333\n",
            "Epoch [446/1000], Iter [1] Loss: 0.5952 Training Accuracy: 0.72593\n",
            "Epoch [447/1000], Iter [1] Loss: 0.6176 Training Accuracy: 0.72593\n",
            "Epoch [448/1000], Iter [1] Loss: 0.6021 Training Accuracy: 0.74074\n",
            "Epoch [449/1000], Iter [1] Loss: 0.6092 Training Accuracy: 0.74815\n",
            "Epoch [450/1000], Iter [1] Loss: 0.6024 Training Accuracy: 0.74074\n",
            "Epoch [451/1000], Iter [1] Loss: 0.6236 Training Accuracy: 0.73333\n",
            "Epoch [452/1000], Iter [1] Loss: 0.6165 Training Accuracy: 0.74074\n",
            "Epoch [453/1000], Iter [1] Loss: 0.6029 Training Accuracy: 0.72593\n",
            "Epoch [454/1000], Iter [1] Loss: 0.6123 Training Accuracy: 0.74815\n",
            "Epoch [455/1000], Iter [1] Loss: 0.6014 Training Accuracy: 0.74815\n",
            "Epoch [456/1000], Iter [1] Loss: 0.5956 Training Accuracy: 0.74074\n",
            "Epoch [457/1000], Iter [1] Loss: 0.5975 Training Accuracy: 0.74074\n",
            "Epoch [458/1000], Iter [1] Loss: 0.5971 Training Accuracy: 0.72593\n",
            "Epoch [459/1000], Iter [1] Loss: 0.5925 Training Accuracy: 0.74815\n",
            "Epoch [460/1000], Iter [1] Loss: 0.6004 Training Accuracy: 0.73333\n",
            "Epoch [461/1000], Iter [1] Loss: 0.6000 Training Accuracy: 0.74074\n",
            "Epoch [462/1000], Iter [1] Loss: 0.6124 Training Accuracy: 0.73333\n",
            "Epoch [463/1000], Iter [1] Loss: 0.5871 Training Accuracy: 0.73333\n",
            "Epoch [464/1000], Iter [1] Loss: 0.6064 Training Accuracy: 0.74074\n",
            "Epoch [465/1000], Iter [1] Loss: 0.6067 Training Accuracy: 0.74074\n",
            "Epoch [466/1000], Iter [1] Loss: 0.6063 Training Accuracy: 0.72593\n",
            "Epoch [467/1000], Iter [1] Loss: 0.5895 Training Accuracy: 0.74074\n",
            "Epoch [468/1000], Iter [1] Loss: 0.5947 Training Accuracy: 0.74074\n",
            "Epoch [469/1000], Iter [1] Loss: 0.6073 Training Accuracy: 0.73333\n",
            "Epoch [470/1000], Iter [1] Loss: 0.6100 Training Accuracy: 0.74074\n",
            "Epoch [471/1000], Iter [1] Loss: 0.5967 Training Accuracy: 0.75556\n",
            "Epoch [472/1000], Iter [1] Loss: 0.5938 Training Accuracy: 0.74074\n",
            "Epoch [473/1000], Iter [1] Loss: 0.5893 Training Accuracy: 0.73333\n",
            "Epoch [474/1000], Iter [1] Loss: 0.5879 Training Accuracy: 0.74815\n",
            "Epoch [475/1000], Iter [1] Loss: 0.5848 Training Accuracy: 0.73333\n",
            "Epoch [476/1000], Iter [1] Loss: 0.5951 Training Accuracy: 0.74074\n",
            "Epoch [477/1000], Iter [1] Loss: 0.5844 Training Accuracy: 0.74074\n",
            "Epoch [478/1000], Iter [1] Loss: 0.5992 Training Accuracy: 0.74074\n",
            "Epoch [479/1000], Iter [1] Loss: 0.5875 Training Accuracy: 0.74074\n",
            "Epoch [480/1000], Iter [1] Loss: 0.5821 Training Accuracy: 0.74815\n",
            "Epoch [481/1000], Iter [1] Loss: 0.5878 Training Accuracy: 0.73333\n",
            "Epoch [482/1000], Iter [1] Loss: 0.5863 Training Accuracy: 0.72593\n",
            "Epoch [483/1000], Iter [1] Loss: 0.5916 Training Accuracy: 0.74074\n",
            "Epoch [484/1000], Iter [1] Loss: 0.5943 Training Accuracy: 0.75556\n",
            "Epoch [485/1000], Iter [1] Loss: 0.5878 Training Accuracy: 0.74815\n",
            "Epoch [486/1000], Iter [1] Loss: 0.5896 Training Accuracy: 0.74074\n",
            "Epoch [487/1000], Iter [1] Loss: 0.5824 Training Accuracy: 0.75556\n",
            "Epoch [488/1000], Iter [1] Loss: 0.5973 Training Accuracy: 0.74815\n",
            "Epoch [489/1000], Iter [1] Loss: 0.5789 Training Accuracy: 0.74815\n",
            "Epoch [490/1000], Iter [1] Loss: 0.5859 Training Accuracy: 0.76296\n",
            "Epoch [491/1000], Iter [1] Loss: 0.5714 Training Accuracy: 0.75556\n",
            "Epoch [492/1000], Iter [1] Loss: 0.5838 Training Accuracy: 0.74074\n",
            "Epoch [493/1000], Iter [1] Loss: 0.5795 Training Accuracy: 0.74815\n",
            "Epoch [494/1000], Iter [1] Loss: 0.5829 Training Accuracy: 0.74815\n",
            "Epoch [495/1000], Iter [1] Loss: 0.5752 Training Accuracy: 0.75556\n",
            "Epoch [496/1000], Iter [1] Loss: 0.5684 Training Accuracy: 0.72593\n",
            "Epoch [497/1000], Iter [1] Loss: 0.5763 Training Accuracy: 0.74074\n",
            "Epoch [498/1000], Iter [1] Loss: 0.5634 Training Accuracy: 0.74815\n",
            "Epoch [499/1000], Iter [1] Loss: 0.5735 Training Accuracy: 0.74074\n",
            "Epoch [500/1000], Iter [1] Loss: 0.5746 Training Accuracy: 0.74815\n",
            "Epoch [501/1000], Iter [1] Loss: 0.5736 Training Accuracy: 0.74815\n",
            "Epoch [502/1000], Iter [1] Loss: 0.5660 Training Accuracy: 0.75556\n",
            "Epoch [503/1000], Iter [1] Loss: 0.5662 Training Accuracy: 0.74815\n",
            "Epoch [504/1000], Iter [1] Loss: 0.5911 Training Accuracy: 0.74815\n",
            "Epoch [505/1000], Iter [1] Loss: 0.5703 Training Accuracy: 0.75556\n",
            "Epoch [506/1000], Iter [1] Loss: 0.5735 Training Accuracy: 0.73333\n",
            "Epoch [507/1000], Iter [1] Loss: 0.5848 Training Accuracy: 0.72593\n",
            "Epoch [508/1000], Iter [1] Loss: 0.5630 Training Accuracy: 0.73333\n",
            "Epoch [509/1000], Iter [1] Loss: 0.5786 Training Accuracy: 0.75556\n",
            "Epoch [510/1000], Iter [1] Loss: 0.5676 Training Accuracy: 0.76296\n",
            "Epoch [511/1000], Iter [1] Loss: 0.5755 Training Accuracy: 0.74815\n",
            "Epoch [512/1000], Iter [1] Loss: 0.5656 Training Accuracy: 0.76296\n",
            "Epoch [513/1000], Iter [1] Loss: 0.5543 Training Accuracy: 0.74074\n",
            "Epoch [514/1000], Iter [1] Loss: 0.5638 Training Accuracy: 0.75556\n",
            "Epoch [515/1000], Iter [1] Loss: 0.5694 Training Accuracy: 0.74074\n",
            "Epoch [516/1000], Iter [1] Loss: 0.5467 Training Accuracy: 0.75556\n",
            "Epoch [517/1000], Iter [1] Loss: 0.5704 Training Accuracy: 0.74074\n",
            "Epoch [518/1000], Iter [1] Loss: 0.5775 Training Accuracy: 0.75556\n",
            "Epoch [519/1000], Iter [1] Loss: 0.5591 Training Accuracy: 0.73333\n",
            "Epoch [520/1000], Iter [1] Loss: 0.5670 Training Accuracy: 0.75556\n",
            "Epoch [521/1000], Iter [1] Loss: 0.5534 Training Accuracy: 0.74815\n",
            "Epoch [522/1000], Iter [1] Loss: 0.5556 Training Accuracy: 0.76296\n",
            "Epoch [523/1000], Iter [1] Loss: 0.5577 Training Accuracy: 0.76296\n",
            "Epoch [524/1000], Iter [1] Loss: 0.5600 Training Accuracy: 0.74815\n",
            "Epoch [525/1000], Iter [1] Loss: 0.5684 Training Accuracy: 0.74074\n",
            "Epoch [526/1000], Iter [1] Loss: 0.5569 Training Accuracy: 0.75556\n",
            "Epoch [527/1000], Iter [1] Loss: 0.5606 Training Accuracy: 0.75556\n",
            "Epoch [528/1000], Iter [1] Loss: 0.5650 Training Accuracy: 0.74815\n",
            "Epoch [529/1000], Iter [1] Loss: 0.5686 Training Accuracy: 0.76296\n",
            "Epoch [530/1000], Iter [1] Loss: 0.5563 Training Accuracy: 0.74815\n",
            "Epoch [531/1000], Iter [1] Loss: 0.5414 Training Accuracy: 0.75556\n",
            "Epoch [532/1000], Iter [1] Loss: 0.5492 Training Accuracy: 0.74815\n",
            "Epoch [533/1000], Iter [1] Loss: 0.5628 Training Accuracy: 0.75556\n",
            "Epoch [534/1000], Iter [1] Loss: 0.5718 Training Accuracy: 0.74074\n",
            "Epoch [535/1000], Iter [1] Loss: 0.5563 Training Accuracy: 0.74074\n",
            "Epoch [536/1000], Iter [1] Loss: 0.5618 Training Accuracy: 0.77778\n",
            "Epoch [537/1000], Iter [1] Loss: 0.5644 Training Accuracy: 0.74815\n",
            "Epoch [538/1000], Iter [1] Loss: 0.5502 Training Accuracy: 0.75556\n",
            "Epoch [539/1000], Iter [1] Loss: 0.5559 Training Accuracy: 0.75556\n",
            "Epoch [540/1000], Iter [1] Loss: 0.5439 Training Accuracy: 0.77037\n",
            "Epoch [541/1000], Iter [1] Loss: 0.5662 Training Accuracy: 0.74815\n",
            "Epoch [542/1000], Iter [1] Loss: 0.5567 Training Accuracy: 0.75556\n",
            "Epoch [543/1000], Iter [1] Loss: 0.5494 Training Accuracy: 0.73333\n",
            "Epoch [544/1000], Iter [1] Loss: 0.5666 Training Accuracy: 0.75556\n",
            "Epoch [545/1000], Iter [1] Loss: 0.5445 Training Accuracy: 0.76296\n",
            "Epoch [546/1000], Iter [1] Loss: 0.5477 Training Accuracy: 0.74815\n",
            "Epoch [547/1000], Iter [1] Loss: 0.5399 Training Accuracy: 0.74074\n",
            "Epoch [548/1000], Iter [1] Loss: 0.5351 Training Accuracy: 0.74074\n",
            "Epoch [549/1000], Iter [1] Loss: 0.5506 Training Accuracy: 0.76296\n",
            "Epoch [550/1000], Iter [1] Loss: 0.5474 Training Accuracy: 0.74074\n",
            "Epoch [551/1000], Iter [1] Loss: 0.5359 Training Accuracy: 0.75556\n",
            "Epoch [552/1000], Iter [1] Loss: 0.5374 Training Accuracy: 0.76296\n",
            "Epoch [553/1000], Iter [1] Loss: 0.5543 Training Accuracy: 0.75556\n",
            "Epoch [554/1000], Iter [1] Loss: 0.5383 Training Accuracy: 0.75556\n",
            "Epoch [555/1000], Iter [1] Loss: 0.5441 Training Accuracy: 0.74815\n",
            "Epoch [556/1000], Iter [1] Loss: 0.5452 Training Accuracy: 0.75556\n",
            "Epoch [557/1000], Iter [1] Loss: 0.5443 Training Accuracy: 0.76296\n",
            "Epoch [558/1000], Iter [1] Loss: 0.5443 Training Accuracy: 0.75556\n",
            "Epoch [559/1000], Iter [1] Loss: 0.5486 Training Accuracy: 0.76296\n",
            "Epoch [560/1000], Iter [1] Loss: 0.5449 Training Accuracy: 0.75556\n",
            "Epoch [561/1000], Iter [1] Loss: 0.5455 Training Accuracy: 0.74074\n",
            "Epoch [562/1000], Iter [1] Loss: 0.5472 Training Accuracy: 0.75556\n",
            "Epoch [563/1000], Iter [1] Loss: 0.5483 Training Accuracy: 0.74815\n",
            "Epoch [564/1000], Iter [1] Loss: 0.5386 Training Accuracy: 0.74815\n",
            "Epoch [565/1000], Iter [1] Loss: 0.5439 Training Accuracy: 0.74815\n",
            "Epoch [566/1000], Iter [1] Loss: 0.5568 Training Accuracy: 0.77037\n",
            "Epoch [567/1000], Iter [1] Loss: 0.5294 Training Accuracy: 0.74815\n",
            "Epoch [568/1000], Iter [1] Loss: 0.5445 Training Accuracy: 0.77037\n",
            "Epoch [569/1000], Iter [1] Loss: 0.5469 Training Accuracy: 0.77037\n",
            "Epoch [570/1000], Iter [1] Loss: 0.5346 Training Accuracy: 0.77778\n",
            "Epoch [571/1000], Iter [1] Loss: 0.5437 Training Accuracy: 0.74815\n",
            "Epoch [572/1000], Iter [1] Loss: 0.5281 Training Accuracy: 0.76296\n",
            "Epoch [573/1000], Iter [1] Loss: 0.5201 Training Accuracy: 0.75556\n",
            "Epoch [574/1000], Iter [1] Loss: 0.5233 Training Accuracy: 0.76296\n",
            "Epoch [575/1000], Iter [1] Loss: 0.5414 Training Accuracy: 0.75556\n",
            "Epoch [576/1000], Iter [1] Loss: 0.5340 Training Accuracy: 0.74815\n",
            "Epoch [577/1000], Iter [1] Loss: 0.5423 Training Accuracy: 0.75556\n",
            "Epoch [578/1000], Iter [1] Loss: 0.5332 Training Accuracy: 0.75556\n",
            "Epoch [579/1000], Iter [1] Loss: 0.5306 Training Accuracy: 0.76296\n",
            "Epoch [580/1000], Iter [1] Loss: 0.5303 Training Accuracy: 0.76296\n",
            "Epoch [581/1000], Iter [1] Loss: 0.5289 Training Accuracy: 0.75556\n",
            "Epoch [582/1000], Iter [1] Loss: 0.5222 Training Accuracy: 0.74815\n",
            "Epoch [583/1000], Iter [1] Loss: 0.5330 Training Accuracy: 0.75556\n",
            "Epoch [584/1000], Iter [1] Loss: 0.5310 Training Accuracy: 0.75556\n",
            "Epoch [585/1000], Iter [1] Loss: 0.5243 Training Accuracy: 0.77037\n",
            "Epoch [586/1000], Iter [1] Loss: 0.5394 Training Accuracy: 0.74815\n",
            "Epoch [587/1000], Iter [1] Loss: 0.5362 Training Accuracy: 0.76296\n",
            "Epoch [588/1000], Iter [1] Loss: 0.5348 Training Accuracy: 0.77037\n",
            "Epoch [589/1000], Iter [1] Loss: 0.5363 Training Accuracy: 0.75556\n",
            "Epoch [590/1000], Iter [1] Loss: 0.5293 Training Accuracy: 0.75556\n",
            "Epoch [591/1000], Iter [1] Loss: 0.5226 Training Accuracy: 0.75556\n",
            "Epoch [592/1000], Iter [1] Loss: 0.5265 Training Accuracy: 0.77037\n",
            "Epoch [593/1000], Iter [1] Loss: 0.5400 Training Accuracy: 0.77037\n",
            "Epoch [594/1000], Iter [1] Loss: 0.5266 Training Accuracy: 0.77778\n",
            "Epoch [595/1000], Iter [1] Loss: 0.5335 Training Accuracy: 0.77037\n",
            "Epoch [596/1000], Iter [1] Loss: 0.5221 Training Accuracy: 0.77778\n",
            "Epoch [597/1000], Iter [1] Loss: 0.5246 Training Accuracy: 0.74815\n",
            "Epoch [598/1000], Iter [1] Loss: 0.5201 Training Accuracy: 0.77778\n",
            "Epoch [599/1000], Iter [1] Loss: 0.5277 Training Accuracy: 0.74815\n",
            "Epoch [600/1000], Iter [1] Loss: 0.5164 Training Accuracy: 0.75556\n",
            "Epoch [601/1000], Iter [1] Loss: 0.5276 Training Accuracy: 0.77037\n",
            "Epoch [602/1000], Iter [1] Loss: 0.5235 Training Accuracy: 0.75556\n",
            "Epoch [603/1000], Iter [1] Loss: 0.5240 Training Accuracy: 0.74815\n",
            "Epoch [604/1000], Iter [1] Loss: 0.5341 Training Accuracy: 0.77037\n",
            "Epoch [605/1000], Iter [1] Loss: 0.5153 Training Accuracy: 0.76296\n",
            "Epoch [606/1000], Iter [1] Loss: 0.5314 Training Accuracy: 0.77778\n",
            "Epoch [607/1000], Iter [1] Loss: 0.5205 Training Accuracy: 0.76296\n",
            "Epoch [608/1000], Iter [1] Loss: 0.5194 Training Accuracy: 0.77037\n",
            "Epoch [609/1000], Iter [1] Loss: 0.5252 Training Accuracy: 0.74815\n",
            "Epoch [610/1000], Iter [1] Loss: 0.5257 Training Accuracy: 0.76296\n",
            "Epoch [611/1000], Iter [1] Loss: 0.5223 Training Accuracy: 0.74815\n",
            "Epoch [612/1000], Iter [1] Loss: 0.5341 Training Accuracy: 0.77037\n",
            "Epoch [613/1000], Iter [1] Loss: 0.5195 Training Accuracy: 0.77778\n",
            "Epoch [614/1000], Iter [1] Loss: 0.5244 Training Accuracy: 0.76296\n",
            "Epoch [615/1000], Iter [1] Loss: 0.5188 Training Accuracy: 0.75556\n",
            "Epoch [616/1000], Iter [1] Loss: 0.5187 Training Accuracy: 0.77778\n",
            "Epoch [617/1000], Iter [1] Loss: 0.5357 Training Accuracy: 0.75556\n",
            "Epoch [618/1000], Iter [1] Loss: 0.5278 Training Accuracy: 0.77778\n",
            "Epoch [619/1000], Iter [1] Loss: 0.5184 Training Accuracy: 0.77778\n",
            "Epoch [620/1000], Iter [1] Loss: 0.5079 Training Accuracy: 0.75556\n",
            "Epoch [621/1000], Iter [1] Loss: 0.5192 Training Accuracy: 0.75556\n",
            "Epoch [622/1000], Iter [1] Loss: 0.5182 Training Accuracy: 0.74815\n",
            "Epoch [623/1000], Iter [1] Loss: 0.5009 Training Accuracy: 0.76296\n",
            "Epoch [624/1000], Iter [1] Loss: 0.5062 Training Accuracy: 0.77037\n",
            "Epoch [625/1000], Iter [1] Loss: 0.5003 Training Accuracy: 0.74815\n",
            "Epoch [626/1000], Iter [1] Loss: 0.5081 Training Accuracy: 0.77037\n",
            "Epoch [627/1000], Iter [1] Loss: 0.5140 Training Accuracy: 0.76296\n",
            "Epoch [628/1000], Iter [1] Loss: 0.5212 Training Accuracy: 0.76296\n",
            "Epoch [629/1000], Iter [1] Loss: 0.5146 Training Accuracy: 0.76296\n",
            "Epoch [630/1000], Iter [1] Loss: 0.5125 Training Accuracy: 0.74815\n",
            "Epoch [631/1000], Iter [1] Loss: 0.5055 Training Accuracy: 0.77037\n",
            "Epoch [632/1000], Iter [1] Loss: 0.5112 Training Accuracy: 0.76296\n",
            "Epoch [633/1000], Iter [1] Loss: 0.5052 Training Accuracy: 0.77037\n",
            "Epoch [634/1000], Iter [1] Loss: 0.5038 Training Accuracy: 0.77037\n",
            "Epoch [635/1000], Iter [1] Loss: 0.5089 Training Accuracy: 0.76296\n",
            "Epoch [636/1000], Iter [1] Loss: 0.5081 Training Accuracy: 0.77037\n",
            "Epoch [637/1000], Iter [1] Loss: 0.5145 Training Accuracy: 0.77037\n",
            "Epoch [638/1000], Iter [1] Loss: 0.5027 Training Accuracy: 0.77778\n",
            "Epoch [639/1000], Iter [1] Loss: 0.5207 Training Accuracy: 0.76296\n",
            "Epoch [640/1000], Iter [1] Loss: 0.5001 Training Accuracy: 0.75556\n",
            "Epoch [641/1000], Iter [1] Loss: 0.4983 Training Accuracy: 0.77778\n",
            "Epoch [642/1000], Iter [1] Loss: 0.4988 Training Accuracy: 0.77778\n",
            "Epoch [643/1000], Iter [1] Loss: 0.5070 Training Accuracy: 0.77037\n",
            "Epoch [644/1000], Iter [1] Loss: 0.5090 Training Accuracy: 0.77037\n",
            "Epoch [645/1000], Iter [1] Loss: 0.5012 Training Accuracy: 0.77037\n",
            "Epoch [646/1000], Iter [1] Loss: 0.4994 Training Accuracy: 0.76296\n",
            "Epoch [647/1000], Iter [1] Loss: 0.5141 Training Accuracy: 0.76296\n",
            "Epoch [648/1000], Iter [1] Loss: 0.5108 Training Accuracy: 0.77037\n",
            "Epoch [649/1000], Iter [1] Loss: 0.5059 Training Accuracy: 0.74815\n",
            "Epoch [650/1000], Iter [1] Loss: 0.5039 Training Accuracy: 0.78519\n",
            "Epoch [651/1000], Iter [1] Loss: 0.5136 Training Accuracy: 0.77037\n",
            "Epoch [652/1000], Iter [1] Loss: 0.5164 Training Accuracy: 0.78519\n",
            "Epoch [653/1000], Iter [1] Loss: 0.5070 Training Accuracy: 0.75556\n",
            "Epoch [654/1000], Iter [1] Loss: 0.5081 Training Accuracy: 0.76296\n",
            "Epoch [655/1000], Iter [1] Loss: 0.5123 Training Accuracy: 0.75556\n",
            "Epoch [656/1000], Iter [1] Loss: 0.5107 Training Accuracy: 0.77037\n",
            "Epoch [657/1000], Iter [1] Loss: 0.5073 Training Accuracy: 0.77778\n",
            "Epoch [658/1000], Iter [1] Loss: 0.5087 Training Accuracy: 0.75556\n",
            "Epoch [659/1000], Iter [1] Loss: 0.4927 Training Accuracy: 0.77778\n",
            "Epoch [660/1000], Iter [1] Loss: 0.4923 Training Accuracy: 0.76296\n",
            "Epoch [661/1000], Iter [1] Loss: 0.4912 Training Accuracy: 0.75556\n",
            "Epoch [662/1000], Iter [1] Loss: 0.5045 Training Accuracy: 0.77778\n",
            "Epoch [663/1000], Iter [1] Loss: 0.5069 Training Accuracy: 0.77778\n",
            "Epoch [664/1000], Iter [1] Loss: 0.4992 Training Accuracy: 0.75556\n",
            "Epoch [665/1000], Iter [1] Loss: 0.4916 Training Accuracy: 0.77037\n",
            "Epoch [666/1000], Iter [1] Loss: 0.4899 Training Accuracy: 0.75556\n",
            "Epoch [667/1000], Iter [1] Loss: 0.4936 Training Accuracy: 0.76296\n",
            "Epoch [668/1000], Iter [1] Loss: 0.4940 Training Accuracy: 0.75556\n",
            "Epoch [669/1000], Iter [1] Loss: 0.5008 Training Accuracy: 0.77037\n",
            "Epoch [670/1000], Iter [1] Loss: 0.5071 Training Accuracy: 0.76296\n",
            "Epoch [671/1000], Iter [1] Loss: 0.4936 Training Accuracy: 0.78519\n",
            "Epoch [672/1000], Iter [1] Loss: 0.5053 Training Accuracy: 0.77037\n",
            "Epoch [673/1000], Iter [1] Loss: 0.4978 Training Accuracy: 0.77778\n",
            "Epoch [674/1000], Iter [1] Loss: 0.5078 Training Accuracy: 0.77037\n",
            "Epoch [675/1000], Iter [1] Loss: 0.5053 Training Accuracy: 0.77037\n",
            "Epoch [676/1000], Iter [1] Loss: 0.4973 Training Accuracy: 0.77778\n",
            "Epoch [677/1000], Iter [1] Loss: 0.4931 Training Accuracy: 0.77037\n",
            "Epoch [678/1000], Iter [1] Loss: 0.4900 Training Accuracy: 0.74815\n",
            "Epoch [679/1000], Iter [1] Loss: 0.4844 Training Accuracy: 0.77037\n",
            "Epoch [680/1000], Iter [1] Loss: 0.4893 Training Accuracy: 0.77037\n",
            "Epoch [681/1000], Iter [1] Loss: 0.5020 Training Accuracy: 0.77037\n",
            "Epoch [682/1000], Iter [1] Loss: 0.5010 Training Accuracy: 0.76296\n",
            "Epoch [683/1000], Iter [1] Loss: 0.4978 Training Accuracy: 0.76296\n",
            "Epoch [684/1000], Iter [1] Loss: 0.4779 Training Accuracy: 0.76296\n",
            "Epoch [685/1000], Iter [1] Loss: 0.4943 Training Accuracy: 0.76296\n",
            "Epoch [686/1000], Iter [1] Loss: 0.4765 Training Accuracy: 0.77778\n",
            "Epoch [687/1000], Iter [1] Loss: 0.4946 Training Accuracy: 0.77778\n",
            "Epoch [688/1000], Iter [1] Loss: 0.4911 Training Accuracy: 0.77778\n",
            "Epoch [689/1000], Iter [1] Loss: 0.5022 Training Accuracy: 0.77037\n",
            "Epoch [690/1000], Iter [1] Loss: 0.5028 Training Accuracy: 0.76296\n",
            "Epoch [691/1000], Iter [1] Loss: 0.4832 Training Accuracy: 0.77778\n",
            "Epoch [692/1000], Iter [1] Loss: 0.4890 Training Accuracy: 0.76296\n",
            "Epoch [693/1000], Iter [1] Loss: 0.4873 Training Accuracy: 0.77778\n",
            "Epoch [694/1000], Iter [1] Loss: 0.4892 Training Accuracy: 0.78519\n",
            "Epoch [695/1000], Iter [1] Loss: 0.4870 Training Accuracy: 0.77037\n",
            "Epoch [696/1000], Iter [1] Loss: 0.4906 Training Accuracy: 0.76296\n",
            "Epoch [697/1000], Iter [1] Loss: 0.4901 Training Accuracy: 0.76296\n",
            "Epoch [698/1000], Iter [1] Loss: 0.4885 Training Accuracy: 0.76296\n",
            "Epoch [699/1000], Iter [1] Loss: 0.4907 Training Accuracy: 0.75556\n",
            "Epoch [700/1000], Iter [1] Loss: 0.4812 Training Accuracy: 0.76296\n",
            "Epoch [701/1000], Iter [1] Loss: 0.4860 Training Accuracy: 0.77037\n",
            "Epoch [702/1000], Iter [1] Loss: 0.4811 Training Accuracy: 0.79259\n",
            "Epoch [703/1000], Iter [1] Loss: 0.4937 Training Accuracy: 0.77037\n",
            "Epoch [704/1000], Iter [1] Loss: 0.4875 Training Accuracy: 0.77037\n",
            "Epoch [705/1000], Iter [1] Loss: 0.4740 Training Accuracy: 0.77778\n",
            "Epoch [706/1000], Iter [1] Loss: 0.4819 Training Accuracy: 0.75556\n",
            "Epoch [707/1000], Iter [1] Loss: 0.4855 Training Accuracy: 0.77778\n",
            "Epoch [708/1000], Iter [1] Loss: 0.4825 Training Accuracy: 0.78519\n",
            "Epoch [709/1000], Iter [1] Loss: 0.4693 Training Accuracy: 0.77778\n",
            "Epoch [710/1000], Iter [1] Loss: 0.4721 Training Accuracy: 0.76296\n",
            "Epoch [711/1000], Iter [1] Loss: 0.4815 Training Accuracy: 0.77037\n",
            "Epoch [712/1000], Iter [1] Loss: 0.4848 Training Accuracy: 0.76296\n",
            "Epoch [713/1000], Iter [1] Loss: 0.4963 Training Accuracy: 0.79259\n",
            "Epoch [714/1000], Iter [1] Loss: 0.4870 Training Accuracy: 0.77037\n",
            "Epoch [715/1000], Iter [1] Loss: 0.4816 Training Accuracy: 0.77778\n",
            "Epoch [716/1000], Iter [1] Loss: 0.4787 Training Accuracy: 0.76296\n",
            "Epoch [717/1000], Iter [1] Loss: 0.4834 Training Accuracy: 0.76296\n",
            "Epoch [718/1000], Iter [1] Loss: 0.4919 Training Accuracy: 0.77778\n",
            "Epoch [719/1000], Iter [1] Loss: 0.4692 Training Accuracy: 0.76296\n",
            "Epoch [720/1000], Iter [1] Loss: 0.4752 Training Accuracy: 0.77778\n",
            "Epoch [721/1000], Iter [1] Loss: 0.4727 Training Accuracy: 0.77037\n",
            "Epoch [722/1000], Iter [1] Loss: 0.4817 Training Accuracy: 0.77037\n",
            "Epoch [723/1000], Iter [1] Loss: 0.4947 Training Accuracy: 0.76296\n",
            "Epoch [724/1000], Iter [1] Loss: 0.4753 Training Accuracy: 0.76296\n",
            "Epoch [725/1000], Iter [1] Loss: 0.4721 Training Accuracy: 0.77778\n",
            "Epoch [726/1000], Iter [1] Loss: 0.4986 Training Accuracy: 0.76296\n",
            "Epoch [727/1000], Iter [1] Loss: 0.4998 Training Accuracy: 0.77778\n",
            "Epoch [728/1000], Iter [1] Loss: 0.4730 Training Accuracy: 0.77778\n",
            "Epoch [729/1000], Iter [1] Loss: 0.4856 Training Accuracy: 0.77037\n",
            "Epoch [730/1000], Iter [1] Loss: 0.4714 Training Accuracy: 0.77778\n",
            "Epoch [731/1000], Iter [1] Loss: 0.4768 Training Accuracy: 0.76296\n",
            "Epoch [732/1000], Iter [1] Loss: 0.4846 Training Accuracy: 0.76296\n",
            "Epoch [733/1000], Iter [1] Loss: 0.4985 Training Accuracy: 0.79259\n",
            "Epoch [734/1000], Iter [1] Loss: 0.4749 Training Accuracy: 0.77778\n",
            "Epoch [735/1000], Iter [1] Loss: 0.4757 Training Accuracy: 0.77778\n",
            "Epoch [736/1000], Iter [1] Loss: 0.4682 Training Accuracy: 0.77778\n",
            "Epoch [737/1000], Iter [1] Loss: 0.4843 Training Accuracy: 0.76296\n",
            "Epoch [738/1000], Iter [1] Loss: 0.4720 Training Accuracy: 0.76296\n",
            "Epoch [739/1000], Iter [1] Loss: 0.4621 Training Accuracy: 0.78519\n",
            "Epoch [740/1000], Iter [1] Loss: 0.4690 Training Accuracy: 0.77778\n",
            "Epoch [741/1000], Iter [1] Loss: 0.4777 Training Accuracy: 0.78519\n",
            "Epoch [742/1000], Iter [1] Loss: 0.4802 Training Accuracy: 0.75556\n",
            "Epoch [743/1000], Iter [1] Loss: 0.4748 Training Accuracy: 0.77778\n",
            "Epoch [744/1000], Iter [1] Loss: 0.4707 Training Accuracy: 0.76296\n",
            "Epoch [745/1000], Iter [1] Loss: 0.4684 Training Accuracy: 0.77778\n",
            "Epoch [746/1000], Iter [1] Loss: 0.4814 Training Accuracy: 0.77778\n",
            "Epoch [747/1000], Iter [1] Loss: 0.4748 Training Accuracy: 0.77037\n",
            "Epoch [748/1000], Iter [1] Loss: 0.4749 Training Accuracy: 0.76296\n",
            "Epoch [749/1000], Iter [1] Loss: 0.4668 Training Accuracy: 0.77037\n",
            "Epoch [750/1000], Iter [1] Loss: 0.4789 Training Accuracy: 0.77037\n",
            "Epoch [751/1000], Iter [1] Loss: 0.4579 Training Accuracy: 0.77037\n",
            "Epoch [752/1000], Iter [1] Loss: 0.4707 Training Accuracy: 0.76296\n",
            "Epoch [753/1000], Iter [1] Loss: 0.4642 Training Accuracy: 0.78519\n",
            "Epoch [754/1000], Iter [1] Loss: 0.4676 Training Accuracy: 0.77778\n",
            "Epoch [755/1000], Iter [1] Loss: 0.4802 Training Accuracy: 0.77778\n",
            "Epoch [756/1000], Iter [1] Loss: 0.4672 Training Accuracy: 0.77778\n",
            "Epoch [757/1000], Iter [1] Loss: 0.4615 Training Accuracy: 0.77778\n",
            "Epoch [758/1000], Iter [1] Loss: 0.4629 Training Accuracy: 0.77037\n",
            "Epoch [759/1000], Iter [1] Loss: 0.4843 Training Accuracy: 0.79259\n",
            "Epoch [760/1000], Iter [1] Loss: 0.4728 Training Accuracy: 0.76296\n",
            "Epoch [761/1000], Iter [1] Loss: 0.4560 Training Accuracy: 0.79259\n",
            "Epoch [762/1000], Iter [1] Loss: 0.4755 Training Accuracy: 0.78519\n",
            "Epoch [763/1000], Iter [1] Loss: 0.4623 Training Accuracy: 0.79259\n",
            "Epoch [764/1000], Iter [1] Loss: 0.4676 Training Accuracy: 0.77037\n",
            "Epoch [765/1000], Iter [1] Loss: 0.4578 Training Accuracy: 0.77778\n",
            "Epoch [766/1000], Iter [1] Loss: 0.4683 Training Accuracy: 0.77778\n",
            "Epoch [767/1000], Iter [1] Loss: 0.4502 Training Accuracy: 0.77037\n",
            "Epoch [768/1000], Iter [1] Loss: 0.4687 Training Accuracy: 0.78519\n",
            "Epoch [769/1000], Iter [1] Loss: 0.4517 Training Accuracy: 0.77778\n",
            "Epoch [770/1000], Iter [1] Loss: 0.4642 Training Accuracy: 0.79259\n",
            "Epoch [771/1000], Iter [1] Loss: 0.4753 Training Accuracy: 0.78519\n",
            "Epoch [772/1000], Iter [1] Loss: 0.4692 Training Accuracy: 0.76296\n",
            "Epoch [773/1000], Iter [1] Loss: 0.4549 Training Accuracy: 0.78519\n",
            "Epoch [774/1000], Iter [1] Loss: 0.4611 Training Accuracy: 0.78519\n",
            "Epoch [775/1000], Iter [1] Loss: 0.4719 Training Accuracy: 0.80741\n",
            "Epoch [776/1000], Iter [1] Loss: 0.4566 Training Accuracy: 0.77778\n",
            "Epoch [777/1000], Iter [1] Loss: 0.4619 Training Accuracy: 0.77778\n",
            "Epoch [778/1000], Iter [1] Loss: 0.4676 Training Accuracy: 0.76296\n",
            "Epoch [779/1000], Iter [1] Loss: 0.4556 Training Accuracy: 0.77778\n",
            "Epoch [780/1000], Iter [1] Loss: 0.4538 Training Accuracy: 0.77778\n",
            "Epoch [781/1000], Iter [1] Loss: 0.4686 Training Accuracy: 0.79259\n",
            "Epoch [782/1000], Iter [1] Loss: 0.4533 Training Accuracy: 0.77778\n",
            "Epoch [783/1000], Iter [1] Loss: 0.4565 Training Accuracy: 0.79259\n",
            "Epoch [784/1000], Iter [1] Loss: 0.4615 Training Accuracy: 0.77778\n",
            "Epoch [785/1000], Iter [1] Loss: 0.4658 Training Accuracy: 0.79259\n",
            "Epoch [786/1000], Iter [1] Loss: 0.4613 Training Accuracy: 0.76296\n",
            "Epoch [787/1000], Iter [1] Loss: 0.4608 Training Accuracy: 0.77778\n",
            "Epoch [788/1000], Iter [1] Loss: 0.4538 Training Accuracy: 0.77037\n",
            "Epoch [789/1000], Iter [1] Loss: 0.4662 Training Accuracy: 0.79259\n",
            "Epoch [790/1000], Iter [1] Loss: 0.4471 Training Accuracy: 0.78519\n",
            "Epoch [791/1000], Iter [1] Loss: 0.4512 Training Accuracy: 0.77778\n",
            "Epoch [792/1000], Iter [1] Loss: 0.4623 Training Accuracy: 0.77778\n",
            "Epoch [793/1000], Iter [1] Loss: 0.4474 Training Accuracy: 0.78519\n",
            "Epoch [794/1000], Iter [1] Loss: 0.4673 Training Accuracy: 0.77778\n",
            "Epoch [795/1000], Iter [1] Loss: 0.4624 Training Accuracy: 0.77778\n",
            "Epoch [796/1000], Iter [1] Loss: 0.4668 Training Accuracy: 0.78519\n",
            "Epoch [797/1000], Iter [1] Loss: 0.4468 Training Accuracy: 0.77778\n",
            "Epoch [798/1000], Iter [1] Loss: 0.4739 Training Accuracy: 0.78519\n",
            "Epoch [799/1000], Iter [1] Loss: 0.4431 Training Accuracy: 0.80000\n",
            "Epoch [800/1000], Iter [1] Loss: 0.4621 Training Accuracy: 0.78519\n",
            "Epoch [801/1000], Iter [1] Loss: 0.4585 Training Accuracy: 0.76296\n",
            "Epoch [802/1000], Iter [1] Loss: 0.4573 Training Accuracy: 0.79259\n",
            "Epoch [803/1000], Iter [1] Loss: 0.4517 Training Accuracy: 0.76296\n",
            "Epoch [804/1000], Iter [1] Loss: 0.4572 Training Accuracy: 0.77037\n",
            "Epoch [805/1000], Iter [1] Loss: 0.4512 Training Accuracy: 0.78519\n",
            "Epoch [806/1000], Iter [1] Loss: 0.4539 Training Accuracy: 0.77778\n",
            "Epoch [807/1000], Iter [1] Loss: 0.4542 Training Accuracy: 0.79259\n",
            "Epoch [808/1000], Iter [1] Loss: 0.4613 Training Accuracy: 0.79259\n",
            "Epoch [809/1000], Iter [1] Loss: 0.4499 Training Accuracy: 0.77778\n",
            "Epoch [810/1000], Iter [1] Loss: 0.4410 Training Accuracy: 0.77778\n",
            "Epoch [811/1000], Iter [1] Loss: 0.4554 Training Accuracy: 0.77778\n",
            "Epoch [812/1000], Iter [1] Loss: 0.4510 Training Accuracy: 0.77778\n",
            "Epoch [813/1000], Iter [1] Loss: 0.4371 Training Accuracy: 0.78519\n",
            "Epoch [814/1000], Iter [1] Loss: 0.4447 Training Accuracy: 0.77037\n",
            "Epoch [815/1000], Iter [1] Loss: 0.4471 Training Accuracy: 0.78519\n",
            "Epoch [816/1000], Iter [1] Loss: 0.4442 Training Accuracy: 0.77778\n",
            "Epoch [817/1000], Iter [1] Loss: 0.4515 Training Accuracy: 0.76296\n",
            "Epoch [818/1000], Iter [1] Loss: 0.4508 Training Accuracy: 0.80000\n",
            "Epoch [819/1000], Iter [1] Loss: 0.4428 Training Accuracy: 0.77037\n",
            "Epoch [820/1000], Iter [1] Loss: 0.4477 Training Accuracy: 0.77778\n",
            "Epoch [821/1000], Iter [1] Loss: 0.4586 Training Accuracy: 0.78519\n",
            "Epoch [822/1000], Iter [1] Loss: 0.4440 Training Accuracy: 0.77037\n",
            "Epoch [823/1000], Iter [1] Loss: 0.4462 Training Accuracy: 0.76296\n",
            "Epoch [824/1000], Iter [1] Loss: 0.4398 Training Accuracy: 0.76296\n",
            "Epoch [825/1000], Iter [1] Loss: 0.4544 Training Accuracy: 0.77037\n",
            "Epoch [826/1000], Iter [1] Loss: 0.4409 Training Accuracy: 0.78519\n",
            "Epoch [827/1000], Iter [1] Loss: 0.4468 Training Accuracy: 0.80000\n",
            "Epoch [828/1000], Iter [1] Loss: 0.4509 Training Accuracy: 0.77778\n",
            "Epoch [829/1000], Iter [1] Loss: 0.4471 Training Accuracy: 0.79259\n",
            "Epoch [830/1000], Iter [1] Loss: 0.4356 Training Accuracy: 0.77037\n",
            "Epoch [831/1000], Iter [1] Loss: 0.4500 Training Accuracy: 0.80741\n",
            "Epoch [832/1000], Iter [1] Loss: 0.4460 Training Accuracy: 0.77778\n",
            "Epoch [833/1000], Iter [1] Loss: 0.4500 Training Accuracy: 0.79259\n",
            "Epoch [834/1000], Iter [1] Loss: 0.4459 Training Accuracy: 0.80000\n",
            "Epoch [835/1000], Iter [1] Loss: 0.4384 Training Accuracy: 0.77778\n",
            "Epoch [836/1000], Iter [1] Loss: 0.4360 Training Accuracy: 0.78519\n",
            "Epoch [837/1000], Iter [1] Loss: 0.4467 Training Accuracy: 0.79259\n",
            "Epoch [838/1000], Iter [1] Loss: 0.4421 Training Accuracy: 0.77037\n",
            "Epoch [839/1000], Iter [1] Loss: 0.4565 Training Accuracy: 0.78519\n",
            "Epoch [840/1000], Iter [1] Loss: 0.4352 Training Accuracy: 0.78519\n",
            "Epoch [841/1000], Iter [1] Loss: 0.4471 Training Accuracy: 0.79259\n",
            "Epoch [842/1000], Iter [1] Loss: 0.4454 Training Accuracy: 0.77037\n",
            "Epoch [843/1000], Iter [1] Loss: 0.4417 Training Accuracy: 0.77778\n",
            "Epoch [844/1000], Iter [1] Loss: 0.4461 Training Accuracy: 0.78519\n",
            "Epoch [845/1000], Iter [1] Loss: 0.4337 Training Accuracy: 0.79259\n",
            "Epoch [846/1000], Iter [1] Loss: 0.4460 Training Accuracy: 0.77037\n",
            "Epoch [847/1000], Iter [1] Loss: 0.4346 Training Accuracy: 0.77778\n",
            "Epoch [848/1000], Iter [1] Loss: 0.4459 Training Accuracy: 0.78519\n",
            "Epoch [849/1000], Iter [1] Loss: 0.4420 Training Accuracy: 0.77037\n",
            "Epoch [850/1000], Iter [1] Loss: 0.4490 Training Accuracy: 0.78519\n",
            "Epoch [851/1000], Iter [1] Loss: 0.4495 Training Accuracy: 0.78519\n",
            "Epoch [852/1000], Iter [1] Loss: 0.4363 Training Accuracy: 0.78519\n",
            "Epoch [853/1000], Iter [1] Loss: 0.4532 Training Accuracy: 0.79259\n",
            "Epoch [854/1000], Iter [1] Loss: 0.4363 Training Accuracy: 0.77778\n",
            "Epoch [855/1000], Iter [1] Loss: 0.4337 Training Accuracy: 0.78519\n",
            "Epoch [856/1000], Iter [1] Loss: 0.4341 Training Accuracy: 0.78519\n",
            "Epoch [857/1000], Iter [1] Loss: 0.4475 Training Accuracy: 0.77778\n",
            "Epoch [858/1000], Iter [1] Loss: 0.4556 Training Accuracy: 0.77037\n",
            "Epoch [859/1000], Iter [1] Loss: 0.4454 Training Accuracy: 0.80000\n",
            "Epoch [860/1000], Iter [1] Loss: 0.4396 Training Accuracy: 0.80741\n",
            "Epoch [861/1000], Iter [1] Loss: 0.4375 Training Accuracy: 0.81481\n",
            "Epoch [862/1000], Iter [1] Loss: 0.4423 Training Accuracy: 0.78519\n",
            "Epoch [863/1000], Iter [1] Loss: 0.4413 Training Accuracy: 0.80000\n",
            "Epoch [864/1000], Iter [1] Loss: 0.4358 Training Accuracy: 0.78519\n",
            "Epoch [865/1000], Iter [1] Loss: 0.4346 Training Accuracy: 0.77778\n",
            "Epoch [866/1000], Iter [1] Loss: 0.4491 Training Accuracy: 0.79259\n",
            "Epoch [867/1000], Iter [1] Loss: 0.4384 Training Accuracy: 0.78519\n",
            "Epoch [868/1000], Iter [1] Loss: 0.4474 Training Accuracy: 0.79259\n",
            "Epoch [869/1000], Iter [1] Loss: 0.4349 Training Accuracy: 0.79259\n",
            "Epoch [870/1000], Iter [1] Loss: 0.4353 Training Accuracy: 0.77778\n",
            "Epoch [871/1000], Iter [1] Loss: 0.4302 Training Accuracy: 0.79259\n",
            "Epoch [872/1000], Iter [1] Loss: 0.4338 Training Accuracy: 0.77778\n",
            "Epoch [873/1000], Iter [1] Loss: 0.4333 Training Accuracy: 0.77778\n",
            "Epoch [874/1000], Iter [1] Loss: 0.4351 Training Accuracy: 0.79259\n",
            "Epoch [875/1000], Iter [1] Loss: 0.4561 Training Accuracy: 0.79259\n",
            "Epoch [876/1000], Iter [1] Loss: 0.4208 Training Accuracy: 0.77778\n",
            "Epoch [877/1000], Iter [1] Loss: 0.4446 Training Accuracy: 0.79259\n",
            "Epoch [878/1000], Iter [1] Loss: 0.4314 Training Accuracy: 0.78519\n",
            "Epoch [879/1000], Iter [1] Loss: 0.4343 Training Accuracy: 0.77778\n",
            "Epoch [880/1000], Iter [1] Loss: 0.4306 Training Accuracy: 0.81481\n",
            "Epoch [881/1000], Iter [1] Loss: 0.4365 Training Accuracy: 0.79259\n",
            "Epoch [882/1000], Iter [1] Loss: 0.4275 Training Accuracy: 0.79259\n",
            "Epoch [883/1000], Iter [1] Loss: 0.4396 Training Accuracy: 0.80000\n",
            "Epoch [884/1000], Iter [1] Loss: 0.4315 Training Accuracy: 0.77037\n",
            "Epoch [885/1000], Iter [1] Loss: 0.4474 Training Accuracy: 0.79259\n",
            "Epoch [886/1000], Iter [1] Loss: 0.4289 Training Accuracy: 0.77778\n",
            "Epoch [887/1000], Iter [1] Loss: 0.4292 Training Accuracy: 0.79259\n",
            "Epoch [888/1000], Iter [1] Loss: 0.4305 Training Accuracy: 0.79259\n",
            "Epoch [889/1000], Iter [1] Loss: 0.4268 Training Accuracy: 0.79259\n",
            "Epoch [890/1000], Iter [1] Loss: 0.4321 Training Accuracy: 0.77037\n",
            "Epoch [891/1000], Iter [1] Loss: 0.4334 Training Accuracy: 0.78519\n",
            "Epoch [892/1000], Iter [1] Loss: 0.4283 Training Accuracy: 0.77778\n",
            "Epoch [893/1000], Iter [1] Loss: 0.4318 Training Accuracy: 0.80000\n",
            "Epoch [894/1000], Iter [1] Loss: 0.4176 Training Accuracy: 0.77037\n",
            "Epoch [895/1000], Iter [1] Loss: 0.4278 Training Accuracy: 0.80000\n",
            "Epoch [896/1000], Iter [1] Loss: 0.4466 Training Accuracy: 0.79259\n",
            "Epoch [897/1000], Iter [1] Loss: 0.4399 Training Accuracy: 0.77037\n",
            "Epoch [898/1000], Iter [1] Loss: 0.4373 Training Accuracy: 0.79259\n",
            "Epoch [899/1000], Iter [1] Loss: 0.4297 Training Accuracy: 0.80000\n",
            "Epoch [900/1000], Iter [1] Loss: 0.4332 Training Accuracy: 0.79259\n",
            "Epoch [901/1000], Iter [1] Loss: 0.4408 Training Accuracy: 0.79259\n",
            "Epoch [902/1000], Iter [1] Loss: 0.4370 Training Accuracy: 0.80000\n",
            "Epoch [903/1000], Iter [1] Loss: 0.4376 Training Accuracy: 0.79259\n",
            "Epoch [904/1000], Iter [1] Loss: 0.4247 Training Accuracy: 0.79259\n",
            "Epoch [905/1000], Iter [1] Loss: 0.4249 Training Accuracy: 0.78519\n",
            "Epoch [906/1000], Iter [1] Loss: 0.4431 Training Accuracy: 0.81481\n",
            "Epoch [907/1000], Iter [1] Loss: 0.4399 Training Accuracy: 0.80741\n",
            "Epoch [908/1000], Iter [1] Loss: 0.4293 Training Accuracy: 0.79259\n",
            "Epoch [909/1000], Iter [1] Loss: 0.4203 Training Accuracy: 0.77778\n",
            "Epoch [910/1000], Iter [1] Loss: 0.4326 Training Accuracy: 0.77778\n",
            "Epoch [911/1000], Iter [1] Loss: 0.4326 Training Accuracy: 0.78519\n",
            "Epoch [912/1000], Iter [1] Loss: 0.4316 Training Accuracy: 0.79259\n",
            "Epoch [913/1000], Iter [1] Loss: 0.4208 Training Accuracy: 0.79259\n",
            "Epoch [914/1000], Iter [1] Loss: 0.4268 Training Accuracy: 0.78519\n",
            "Epoch [915/1000], Iter [1] Loss: 0.4285 Training Accuracy: 0.77778\n",
            "Epoch [916/1000], Iter [1] Loss: 0.4169 Training Accuracy: 0.80000\n",
            "Epoch [917/1000], Iter [1] Loss: 0.4201 Training Accuracy: 0.78519\n",
            "Epoch [918/1000], Iter [1] Loss: 0.4240 Training Accuracy: 0.80000\n",
            "Epoch [919/1000], Iter [1] Loss: 0.4433 Training Accuracy: 0.77778\n",
            "Epoch [920/1000], Iter [1] Loss: 0.4163 Training Accuracy: 0.80000\n",
            "Epoch [921/1000], Iter [1] Loss: 0.4163 Training Accuracy: 0.78519\n",
            "Epoch [922/1000], Iter [1] Loss: 0.4272 Training Accuracy: 0.77037\n",
            "Epoch [923/1000], Iter [1] Loss: 0.4265 Training Accuracy: 0.78519\n",
            "Epoch [924/1000], Iter [1] Loss: 0.4240 Training Accuracy: 0.80000\n",
            "Epoch [925/1000], Iter [1] Loss: 0.4125 Training Accuracy: 0.77037\n",
            "Epoch [926/1000], Iter [1] Loss: 0.4399 Training Accuracy: 0.78519\n",
            "Epoch [927/1000], Iter [1] Loss: 0.4237 Training Accuracy: 0.79259\n",
            "Epoch [928/1000], Iter [1] Loss: 0.4149 Training Accuracy: 0.77778\n",
            "Epoch [929/1000], Iter [1] Loss: 0.4184 Training Accuracy: 0.77778\n",
            "Epoch [930/1000], Iter [1] Loss: 0.4189 Training Accuracy: 0.77778\n",
            "Epoch [931/1000], Iter [1] Loss: 0.4300 Training Accuracy: 0.78519\n",
            "Epoch [932/1000], Iter [1] Loss: 0.4206 Training Accuracy: 0.80741\n",
            "Epoch [933/1000], Iter [1] Loss: 0.4201 Training Accuracy: 0.78519\n",
            "Epoch [934/1000], Iter [1] Loss: 0.4406 Training Accuracy: 0.78519\n",
            "Epoch [935/1000], Iter [1] Loss: 0.4151 Training Accuracy: 0.79259\n",
            "Epoch [936/1000], Iter [1] Loss: 0.4208 Training Accuracy: 0.79259\n",
            "Epoch [937/1000], Iter [1] Loss: 0.4304 Training Accuracy: 0.79259\n",
            "Epoch [938/1000], Iter [1] Loss: 0.4034 Training Accuracy: 0.80741\n",
            "Epoch [939/1000], Iter [1] Loss: 0.4052 Training Accuracy: 0.79259\n",
            "Epoch [940/1000], Iter [1] Loss: 0.4270 Training Accuracy: 0.78519\n",
            "Epoch [941/1000], Iter [1] Loss: 0.4225 Training Accuracy: 0.80000\n",
            "Epoch [942/1000], Iter [1] Loss: 0.4300 Training Accuracy: 0.80000\n",
            "Epoch [943/1000], Iter [1] Loss: 0.4413 Training Accuracy: 0.78519\n",
            "Epoch [944/1000], Iter [1] Loss: 0.4176 Training Accuracy: 0.80000\n",
            "Epoch [945/1000], Iter [1] Loss: 0.4150 Training Accuracy: 0.76296\n",
            "Epoch [946/1000], Iter [1] Loss: 0.4097 Training Accuracy: 0.80000\n",
            "Epoch [947/1000], Iter [1] Loss: 0.4100 Training Accuracy: 0.79259\n",
            "Epoch [948/1000], Iter [1] Loss: 0.4181 Training Accuracy: 0.78519\n",
            "Epoch [949/1000], Iter [1] Loss: 0.4251 Training Accuracy: 0.78519\n",
            "Epoch [950/1000], Iter [1] Loss: 0.4240 Training Accuracy: 0.80000\n",
            "Epoch [951/1000], Iter [1] Loss: 0.4279 Training Accuracy: 0.79259\n",
            "Epoch [952/1000], Iter [1] Loss: 0.4097 Training Accuracy: 0.77778\n",
            "Epoch [953/1000], Iter [1] Loss: 0.4094 Training Accuracy: 0.80000\n",
            "Epoch [954/1000], Iter [1] Loss: 0.4137 Training Accuracy: 0.78519\n",
            "Epoch [955/1000], Iter [1] Loss: 0.4092 Training Accuracy: 0.77778\n",
            "Epoch [956/1000], Iter [1] Loss: 0.4066 Training Accuracy: 0.80000\n",
            "Epoch [957/1000], Iter [1] Loss: 0.4114 Training Accuracy: 0.75556\n",
            "Epoch [958/1000], Iter [1] Loss: 0.4272 Training Accuracy: 0.80000\n",
            "Epoch [959/1000], Iter [1] Loss: 0.4300 Training Accuracy: 0.79259\n",
            "Epoch [960/1000], Iter [1] Loss: 0.4297 Training Accuracy: 0.80000\n",
            "Epoch [961/1000], Iter [1] Loss: 0.4265 Training Accuracy: 0.81481\n",
            "Epoch [962/1000], Iter [1] Loss: 0.4315 Training Accuracy: 0.77778\n",
            "Epoch [963/1000], Iter [1] Loss: 0.4119 Training Accuracy: 0.81481\n",
            "Epoch [964/1000], Iter [1] Loss: 0.4244 Training Accuracy: 0.79259\n",
            "Epoch [965/1000], Iter [1] Loss: 0.4087 Training Accuracy: 0.80000\n",
            "Epoch [966/1000], Iter [1] Loss: 0.4091 Training Accuracy: 0.80000\n",
            "Epoch [967/1000], Iter [1] Loss: 0.4219 Training Accuracy: 0.79259\n",
            "Epoch [968/1000], Iter [1] Loss: 0.4102 Training Accuracy: 0.77778\n",
            "Epoch [969/1000], Iter [1] Loss: 0.4260 Training Accuracy: 0.80741\n",
            "Epoch [970/1000], Iter [1] Loss: 0.4293 Training Accuracy: 0.80741\n",
            "Epoch [971/1000], Iter [1] Loss: 0.4110 Training Accuracy: 0.80000\n",
            "Epoch [972/1000], Iter [1] Loss: 0.4025 Training Accuracy: 0.80000\n",
            "Epoch [973/1000], Iter [1] Loss: 0.4163 Training Accuracy: 0.78519\n",
            "Epoch [974/1000], Iter [1] Loss: 0.4076 Training Accuracy: 0.77037\n",
            "Epoch [975/1000], Iter [1] Loss: 0.4181 Training Accuracy: 0.79259\n",
            "Epoch [976/1000], Iter [1] Loss: 0.4308 Training Accuracy: 0.80000\n",
            "Epoch [977/1000], Iter [1] Loss: 0.4088 Training Accuracy: 0.79259\n",
            "Epoch [978/1000], Iter [1] Loss: 0.4099 Training Accuracy: 0.78519\n",
            "Epoch [979/1000], Iter [1] Loss: 0.4177 Training Accuracy: 0.80741\n",
            "Epoch [980/1000], Iter [1] Loss: 0.4071 Training Accuracy: 0.76296\n",
            "Epoch [981/1000], Iter [1] Loss: 0.4124 Training Accuracy: 0.80741\n",
            "Epoch [982/1000], Iter [1] Loss: 0.4130 Training Accuracy: 0.80741\n",
            "Epoch [983/1000], Iter [1] Loss: 0.4105 Training Accuracy: 0.77778\n",
            "Epoch [984/1000], Iter [1] Loss: 0.4096 Training Accuracy: 0.80000\n",
            "Epoch [985/1000], Iter [1] Loss: 0.4177 Training Accuracy: 0.78519\n",
            "Epoch [986/1000], Iter [1] Loss: 0.4079 Training Accuracy: 0.79259\n",
            "Epoch [987/1000], Iter [1] Loss: 0.4124 Training Accuracy: 0.80741\n",
            "Epoch [988/1000], Iter [1] Loss: 0.4109 Training Accuracy: 0.80000\n",
            "Epoch [989/1000], Iter [1] Loss: 0.4232 Training Accuracy: 0.80741\n",
            "Epoch [990/1000], Iter [1] Loss: 0.4029 Training Accuracy: 0.79259\n",
            "Epoch [991/1000], Iter [1] Loss: 0.4199 Training Accuracy: 0.78519\n",
            "Epoch [992/1000], Iter [1] Loss: 0.4106 Training Accuracy: 0.78519\n",
            "Epoch [993/1000], Iter [1] Loss: 0.4089 Training Accuracy: 0.81481\n",
            "Epoch [994/1000], Iter [1] Loss: 0.3935 Training Accuracy: 0.78519\n",
            "Epoch [995/1000], Iter [1] Loss: 0.4168 Training Accuracy: 0.78519\n",
            "Epoch [996/1000], Iter [1] Loss: 0.4045 Training Accuracy: 0.79259\n",
            "Epoch [997/1000], Iter [1] Loss: 0.3984 Training Accuracy: 0.77778\n",
            "Epoch [998/1000], Iter [1] Loss: 0.4212 Training Accuracy: 0.78519\n",
            "Epoch [999/1000], Iter [1] Loss: 0.4271 Training Accuracy: 0.78519\n",
            "Epoch [1000/1000], Iter [1] Loss: 0.4069 Training Accuracy: 0.78519\n"
          ]
        }
      ]
    },
    {
      "cell_type": "code",
      "metadata": {
        "colab": {
          "base_uri": "https://localhost:8080/",
          "height": 281
        },
        "id": "EyaLybT3F7jx",
        "outputId": "0ead5aa8-062e-444b-95fe-5dad445a3c9f"
      },
      "source": [
        "np_loss = loss1[0].numpy()\n",
        "\n",
        "for i in range(len(loss1)):\n",
        "    np_loss = np.append(np_loss, loss1[i])\n",
        "\n",
        "np_acc = train_acc[0]\n",
        "\n",
        "for i in range(len(train_acc)):\n",
        "    np_acc = np.append(np_acc, train_acc[i])\n",
        "\n",
        "%matplotlib inline\n",
        "plt.plot(np_acc, color=\"blue\")\n",
        "plt.title(\"Training Accuracy\")\n",
        "plt.show()"
      ],
      "execution_count": null,
      "outputs": [
        {
          "output_type": "display_data",
          "data": {
            "image/png": "[encoded data removed]",
            "text/plain": [
              "<Figure size 432x288 with 1 Axes>"
            ]
          },
          "metadata": {
            "needs_background": "light"
          }
        }
      ]
    },
    {
      "cell_type": "code",
      "metadata": {
        "colab": {
          "base_uri": "https://localhost:8080/",
          "height": 298
        },
        "id": "ywfxy_xOGAQZ",
        "outputId": "d678897e-f80d-446a-8a29-26af463ad991"
      },
      "source": [
        "%matplotlib inline\n",
        "plt.plot(np_loss, color=\"red\")\n",
        "plt.title(\"Training Loss\")\n",
        "plt.legend()\n",
        "plt.show()"
      ],
      "execution_count": null,
      "outputs": [
        {
          "output_type": "stream",
          "name": "stderr",
          "text": [
            "No handles with labels found to put in legend.\n"
          ]
        },
        {
          "output_type": "display_data",
          "data": {
            "image/png": "[encoded data removed]",
            "text/plain": [
              "<Figure size 432x288 with 1 Axes>"
            ]
          },
          "metadata": {
            "needs_background": "light"
          }
        }
      ]
    },
    {
      "cell_type": "code",
      "metadata": {
        "colab": {
          "base_uri": "https://localhost:8080/"
        },
        "id": "jnjoCj4rGIzx",
        "outputId": "903e0005-8589-460c-8aa3-467943df114c"
      },
      "source": [
        "Ypred = predict(model, torch.from_numpy(X_test).float())\n",
        "acc = np.mean(Y_test == Ypred)\n",
        "print('Test accuracy: ', acc)"
      ],
      "execution_count": null,
      "outputs": [
        {
          "output_type": "stream",
          "name": "stdout",
          "text": [
            "Test accuracy:  0.8\n"
          ]
        }
      ]
    },
    {
      "cell_type": "code",
      "metadata": {
        "colab": {
          "base_uri": "https://localhost:8080/"
        },
        "id": "zlQegoVdGL0O",
        "outputId": "46366ae0-a86e-48fa-f138-d2458923e0bf"
      },
      "source": [
        "from sklearn.metrics import classification_report\n",
        "target_names = ['data_set-setosa', 'data_set-versicolor', 'data_set-virginica']\n",
        "print(classification_report(Y_test, Ypred, target_names=target_names))"
      ],
      "execution_count": null,
      "outputs": [
        {
          "output_type": "stream",
          "name": "stderr",
          "text": [
            "/usr/local/lib/python3.7/dist-packages/sklearn/metrics/_classification.py:1308: UndefinedMetricWarning: Precision and F-score are ill-defined and being set to 0.0 in labels with no predicted samples. Use `zero_division` parameter to control this behavior.\n",
            "  _warn_prf(average, modifier, msg_start, len(result))\n"
          ]
        },
        {
          "output_type": "stream",
          "name": "stdout",
          "text": [
            "                     precision    recall  f1-score   support\n",
            "\n",
            "    data_set-setosa       1.00      1.00      1.00         7\n",
            "data_set-versicolor       0.62      1.00      0.77         5\n",
            " data_set-virginica       0.00      0.00      0.00         3\n",
            "\n",
            "           accuracy                           0.80        15\n",
            "          macro avg       0.54      0.67      0.59        15\n",
            "       weighted avg       0.68      0.80      0.72        15\n",
            "\n"
          ]
        },
        {
          "output_type": "stream",
          "name": "stderr",
          "text": [
            "/usr/local/lib/python3.7/dist-packages/sklearn/metrics/_classification.py:1308: UndefinedMetricWarning: Precision and F-score are ill-defined and being set to 0.0 in labels with no predicted samples. Use `zero_division` parameter to control this behavior.\n",
            "  _warn_prf(average, modifier, msg_start, len(result))\n",
            "/usr/local/lib/python3.7/dist-packages/sklearn/metrics/_classification.py:1308: UndefinedMetricWarning: Precision and F-score are ill-defined and being set to 0.0 in labels with no predicted samples. Use `zero_division` parameter to control this behavior.\n",
            "  _warn_prf(average, modifier, msg_start, len(result))\n"
          ]
        }
      ]
    },
    {
      "cell_type": "code",
      "metadata": {
        "id": "yX5SnXe3GPSu"
      },
      "source": [
        "#######################################################3"
      ],
      "execution_count": null,
      "outputs": []
    },
    {
      "cell_type": "markdown",
      "metadata": {
        "id": "gLarB3W3IdGW"
      },
      "source": [
        "Here I am increasing number of epochs to 2000 by keeping remaining(number of nodes, layers and the non-linearity) unchanged "
      ]
    },
    {
      "cell_type": "code",
      "metadata": {
        "id": "wc3gJf_TGvpw"
      },
      "source": [
        "#"
      ],
      "execution_count": null,
      "outputs": []
    },
    {
      "cell_type": "code",
      "metadata": {
        "colab": {
          "base_uri": "https://localhost:8080/",
          "height": 350
        },
        "id": "Q2IFotSC8NJu",
        "outputId": "9223f286-60ae-4d8a-b7aa-ed5d730e455c"
      },
      "source": [
        "import numpy as np\n",
        "import pandas as pd\n",
        "\n",
        "import seaborn as sns\n",
        "import matplotlib.pyplot as plt\n",
        "\n",
        "from sklearn.model_selection import train_test_split\n",
        "from sklearn.metrics import confusion_matrix, accuracy_score\n",
        "\n",
        "import torch\n",
        "import torch.nn as nn\n",
        "from torch import optim\n",
        "import torch.nn.functional as F\n",
        "\n",
        "from torch.utils.data import TensorDataset, DataLoader\n",
        "\n",
        "#import the dataset \n",
        "data_set = pd.read_csv(\"/content/drive/MyDrive/Iris.csv\")\n",
        "\n",
        "#Let's have a look at the dataset\n",
        "data_set.head()\n",
        "\n",
        "Species = {'Iris-setosa': 0, 'Iris-versicolor': 1, 'Iris-virginica':2}\n",
        "data_set.Species = [Species[item] for item in data_set.Species]\n",
        "\n",
        "X = data_set.iloc[:, 0:4] #predictors\n",
        "y = data_set.iloc[:, 4]\n",
        "from sklearn.preprocessing import normalize\n",
        "\n",
        "X = normalize(X)\n",
        "y = np.array(y)\n",
        "y = y.astype(int)\n",
        "X_train, X_test, Y_train, Y_test = train_test_split(X, y, test_size=0.10)\n",
        "print(\"X_train shape: \", X_train.shape)\n",
        "print(\"Y_train shape: \", Y_train.shape)\n",
        "print(\"X_test shape: \", X_test.shape)\n",
        "print(\"Y_test shape: \", Y_test.shape)\n",
        "\n",
        "# for loading data into pytorch model\n",
        "from torch.utils.data import TensorDataset, DataLoader\n",
        "\n",
        "trainloader = DataLoader(TensorDataset(torch.from_numpy(X_train), torch.from_numpy(Y_train)), \n",
        "                         batch_size=135, shuffle=True)\n",
        "\n",
        "testloader = DataLoader(TensorDataset(torch.from_numpy(X_test), torch.from_numpy(Y_test)), \n",
        "                        batch_size=135, shuffle=True)\n",
        "\n",
        "dataloaders = {\n",
        "    \"train\": trainloader,\n",
        "    \"validation\": testloader\n",
        "}\n",
        "\n",
        "class Classifier(nn.Module):\n",
        "    def __init__(self):\n",
        "        super().__init__()\n",
        "        self.fc1 = nn.Linear(4, 227) ### 4 predictors\n",
        "        self.fc2 = nn.Linear(227, 94) ### 227 neurons in hidden layer 1, 94 in 3\n",
        "        self.fc3 = nn.Linear(94, 75) ### 75 neurons in hidden layer 3\n",
        "        self.fc4 = nn.Linear(75, 3) ### 3 classes\n",
        "        \n",
        "        self.dropout = nn.Dropout(p=0.2)\n",
        "        \n",
        "    def forward(self, x):\n",
        "        x = F.relu(self.fc1(x)) #activation function for 1\n",
        "        x = F.relu(self.fc2(x))\n",
        "        x = self.dropout(F.relu(self.fc3(x)))\n",
        "        x = F.log_softmax(self.fc4(x), dim=1)\n",
        "        \n",
        "        return x\n",
        "\n",
        "\n",
        "model = Classifier()\n",
        "criterion = nn.NLLLoss()\n",
        "optimizer = optim.Adam(model.parameters(), lr=0.0001)\n",
        "\n",
        "def predict(model, inputs):\n",
        "    output = model(inputs)\n",
        "    return output.data.numpy().argmax(axis=1)\n",
        "\n",
        "from torch.autograd import Variable\n",
        "\n",
        "loss1 = []\n",
        "train_acc = []\n",
        "\n",
        "Epoch = 2000\n",
        "\n",
        "for epoch in range(Epoch):\n",
        "    acc = 0\n",
        "    \n",
        "    for i, (features, labels) in enumerate(trainloader):\n",
        "        features = Variable(features)\n",
        "        labels = Variable(labels)\n",
        "        \n",
        "        optimizer.zero_grad()\n",
        "        \n",
        "        features = features.float()\n",
        "        \n",
        "        outputs = model(features)\n",
        "        \n",
        "        loss = criterion(outputs, labels.long())\n",
        "        loss.backward()\n",
        "        optimizer.step()\n",
        "        \n",
        "        if (i+1) % len(trainloader) == 0:\n",
        "            Ypred = predict(model, torch.from_numpy(X_train).float())\n",
        "            acc = np.mean(Y_train == Ypred)\n",
        "            \n",
        "            train_acc1 = acc/len(trainloader)\n",
        "            train_acc.append(train_acc1)\n",
        "            loss1.append(loss.data)\n",
        "            \n",
        "            #print ('Epoch [%d/%d], Iter [%d] Loss: %.4f Training Accuracy: %.5f' %(epoch+1, 2000, i+1, loss.data, train_acc1))\n",
        "\n",
        "np_loss = loss1[0].numpy()\n",
        "\n",
        "for i in range(len(loss1)):\n",
        "    np_loss = np.append(np_loss, loss1[i])\n",
        "\n",
        "np_acc = train_acc[0]\n",
        "\n",
        "for i in range(len(train_acc)):\n",
        "    np_acc = np.append(np_acc, train_acc[i])\n",
        "\n",
        "%matplotlib inline\n",
        "plt.plot(np_acc, color=\"blue\")\n",
        "plt.title(\"Training Accuracy\")\n",
        "plt.show()"
      ],
      "execution_count": null,
      "outputs": [
        {
          "output_type": "stream",
          "name": "stdout",
          "text": [
            "X_train shape:  (135, 4)\n",
            "Y_train shape:  (135,)\n",
            "X_test shape:  (15, 4)\n",
            "Y_test shape:  (15,)\n"
          ]
        },
        {
          "output_type": "display_data",
          "data": {
            "image/png": "[encoded data removed]",
            "text/plain": [
              "<Figure size 432x288 with 1 Axes>"
            ]
          },
          "metadata": {
            "needs_background": "light"
          }
        }
      ]
    },
    {
      "cell_type": "code",
      "metadata": {
        "colab": {
          "base_uri": "https://localhost:8080/",
          "height": 298
        },
        "id": "Yq0Dy_8c-jaz",
        "outputId": "925bb458-d683-4e40-e7eb-3b9c6ebc5cdd"
      },
      "source": [
        "%matplotlib inline\n",
        "plt.plot(np_loss, color=\"red\")\n",
        "plt.title(\"Training Loss\")\n",
        "plt.legend()\n",
        "plt.show()"
      ],
      "execution_count": null,
      "outputs": [
        {
          "output_type": "stream",
          "name": "stderr",
          "text": [
            "No handles with labels found to put in legend.\n"
          ]
        },
        {
          "output_type": "display_data",
          "data": {
            "image/png": "[encoded data removed]",
            "text/plain": [
              "<Figure size 432x288 with 1 Axes>"
            ]
          },
          "metadata": {
            "needs_background": "light"
          }
        }
      ]
    },
    {
      "cell_type": "code",
      "metadata": {
        "colab": {
          "base_uri": "https://localhost:8080/"
        },
        "id": "-lZNVUBaHXg6",
        "outputId": "1f766bdd-5bd1-4e7e-e67c-26540a3e6ceb"
      },
      "source": [
        "Ypred = predict(model, torch.from_numpy(X_test).float())\n",
        "acc = np.mean(Y_test == Ypred)\n",
        "print('Test accuracy: ', acc)"
      ],
      "execution_count": null,
      "outputs": [
        {
          "output_type": "stream",
          "name": "stdout",
          "text": [
            "Test accuracy:  0.9333333333333333\n"
          ]
        }
      ]
    },
    {
      "cell_type": "markdown",
      "metadata": {
        "id": "QEyXv8kUJB0Y"
      },
      "source": [
        "I have observed that by increasing the epochs the accuracy got increased."
      ]
    },
    {
      "cell_type": "code",
      "metadata": {
        "id": "sl7RZfcMHn0y"
      },
      "source": [
        "#################################################"
      ],
      "execution_count": null,
      "outputs": []
    },
    {
      "cell_type": "markdown",
      "metadata": {
        "id": "0X905BcTJBBw"
      },
      "source": [
        ""
      ]
    },
    {
      "cell_type": "code",
      "metadata": {
        "id": "LXTpqyIeH-9E"
      },
      "source": [
        ""
      ],
      "execution_count": null,
      "outputs": []
    },
    {
      "cell_type": "markdown",
      "metadata": {
        "id": "hQPxwOvpJKKu"
      },
      "source": [
        "Now I am changing increasing learning rate."
      ]
    },
    {
      "cell_type": "code",
      "metadata": {
        "id": "S1LVpmBxH_AB"
      },
      "source": [
        ""
      ],
      "execution_count": null,
      "outputs": []
    },
    {
      "cell_type": "code",
      "metadata": {
        "colab": {
          "base_uri": "https://localhost:8080/",
          "height": 350
        },
        "id": "lbG6hH_aH_DQ",
        "outputId": "563d2903-faf0-461a-94ff-dda7c69624e4"
      },
      "source": [
        "import numpy as np\n",
        "import pandas as pd\n",
        "\n",
        "import seaborn as sns\n",
        "import matplotlib.pyplot as plt\n",
        "\n",
        "from sklearn.model_selection import train_test_split\n",
        "from sklearn.metrics import confusion_matrix, accuracy_score\n",
        "\n",
        "import torch\n",
        "import torch.nn as nn\n",
        "from torch import optim\n",
        "import torch.nn.functional as F\n",
        "\n",
        "from torch.utils.data import TensorDataset, DataLoader\n",
        "\n",
        "#import the dataset \n",
        "data_set = pd.read_csv(\"/content/drive/MyDrive/Iris.csv\")\n",
        "\n",
        "#Let's have a look at the dataset\n",
        "data_set.head()\n",
        "\n",
        "Species = {'Iris-setosa': 0, 'Iris-versicolor': 1, 'Iris-virginica':2}\n",
        "data_set.Species = [Species[item] for item in data_set.Species]\n",
        "\n",
        "X = data_set.iloc[:, 0:4] #predictors\n",
        "y = data_set.iloc[:, 4]\n",
        "from sklearn.preprocessing import normalize\n",
        "\n",
        "X = normalize(X)\n",
        "y = np.array(y)\n",
        "y = y.astype(int)\n",
        "X_train, X_test, Y_train, Y_test = train_test_split(X, y, test_size=0.10)\n",
        "print(\"X_train shape: \", X_train.shape)\n",
        "print(\"Y_train shape: \", Y_train.shape)\n",
        "print(\"X_test shape: \", X_test.shape)\n",
        "print(\"Y_test shape: \", Y_test.shape)\n",
        "\n",
        "# for loading data into pytorch model\n",
        "from torch.utils.data import TensorDataset, DataLoader\n",
        "\n",
        "trainloader = DataLoader(TensorDataset(torch.from_numpy(X_train), torch.from_numpy(Y_train)), \n",
        "                         batch_size=135, shuffle=True)\n",
        "\n",
        "testloader = DataLoader(TensorDataset(torch.from_numpy(X_test), torch.from_numpy(Y_test)), \n",
        "                        batch_size=135, shuffle=True)\n",
        "\n",
        "dataloaders = {\n",
        "    \"train\": trainloader,\n",
        "    \"validation\": testloader\n",
        "}\n",
        "\n",
        "class Classifier(nn.Module):\n",
        "    def __init__(self):\n",
        "        super().__init__()\n",
        "        self.fc1 = nn.Linear(4, 227) ### 4 predictors\n",
        "        self.fc2 = nn.Linear(227, 94) ### 227 neurons in hidden layer 1, 94 in 3\n",
        "        self.fc3 = nn.Linear(94, 75) ### 75 neurons in hidden layer 3\n",
        "        self.fc4 = nn.Linear(75, 3) ### 3 classes\n",
        "        \n",
        "        self.dropout = nn.Dropout(p=0.2)\n",
        "        \n",
        "    def forward(self, x):\n",
        "        x = F.relu(self.fc1(x)) #activation function for 1\n",
        "        x = F.relu(self.fc2(x))\n",
        "        x = self.dropout(F.relu(self.fc3(x)))\n",
        "        x = F.log_softmax(self.fc4(x), dim=1)\n",
        "        \n",
        "        return x\n",
        "\n",
        "\n",
        "model = Classifier()\n",
        "criterion = nn.NLLLoss()\n",
        "optimizer = optim.Adam(model.parameters(), lr=0.01)\n",
        "\n",
        "def predict(model, inputs):\n",
        "    output = model(inputs)\n",
        "    return output.data.numpy().argmax(axis=1)\n",
        "\n",
        "from torch.autograd import Variable\n",
        "\n",
        "loss1 = []\n",
        "train_acc = []\n",
        "\n",
        "Epoch = 1000\n",
        "\n",
        "for epoch in range(Epoch):\n",
        "    acc = 0\n",
        "    \n",
        "    for i, (features, labels) in enumerate(trainloader):\n",
        "        features = Variable(features)\n",
        "        labels = Variable(labels)\n",
        "        \n",
        "        optimizer.zero_grad()\n",
        "        \n",
        "        features = features.float()\n",
        "        \n",
        "        outputs = model(features)\n",
        "        \n",
        "        loss = criterion(outputs, labels.long())\n",
        "        loss.backward()\n",
        "        optimizer.step()\n",
        "        \n",
        "        if (i+1) % len(trainloader) == 0:\n",
        "            Ypred = predict(model, torch.from_numpy(X_train).float())\n",
        "            acc = np.mean(Y_train == Ypred)\n",
        "            \n",
        "            train_acc1 = acc/len(trainloader)\n",
        "            train_acc.append(train_acc1)\n",
        "            loss1.append(loss.data)\n",
        "            \n",
        "            #print ('Epoch [%d/%d], Iter [%d] Loss: %.4f Training Accuracy: %.5f' %(epoch+1, 2000, i+1, loss.data, train_acc1))\n",
        "\n",
        "np_loss = loss1[0].numpy()\n",
        "\n",
        "for i in range(len(loss1)):\n",
        "    np_loss = np.append(np_loss, loss1[i])\n",
        "\n",
        "np_acc = train_acc[0]\n",
        "\n",
        "for i in range(len(train_acc)):\n",
        "    np_acc = np.append(np_acc, train_acc[i])\n",
        "\n",
        "%matplotlib inline\n",
        "plt.plot(np_acc, color=\"blue\")\n",
        "plt.title(\"Training Accuracy\")\n",
        "plt.show()"
      ],
      "execution_count": null,
      "outputs": [
        {
          "output_type": "stream",
          "name": "stdout",
          "text": [
            "X_train shape:  (135, 4)\n",
            "Y_train shape:  (135,)\n",
            "X_test shape:  (15, 4)\n",
            "Y_test shape:  (15,)\n"
          ]
        },
        {
          "output_type": "display_data",
          "data": {
            "image/png": "[encoded data removed]",
            "text/plain": [
              "<Figure size 432x288 with 1 Axes>"
            ]
          },
          "metadata": {
            "needs_background": "light"
          }
        }
      ]
    },
    {
      "cell_type": "code",
      "metadata": {
        "colab": {
          "base_uri": "https://localhost:8080/",
          "height": 298
        },
        "id": "F8ZlnKhMH_Gs",
        "outputId": "f8b99d8d-8ac3-4991-86c2-6395eac4c546"
      },
      "source": [
        "%matplotlib inline\n",
        "plt.plot(np_loss, color=\"red\")\n",
        "plt.title(\"Training Loss\")\n",
        "plt.legend()\n",
        "plt.show()"
      ],
      "execution_count": null,
      "outputs": [
        {
          "output_type": "stream",
          "name": "stderr",
          "text": [
            "No handles with labels found to put in legend.\n"
          ]
        },
        {
          "output_type": "display_data",
          "data": {
            "image/png": "[encoded data removed]",
            "text/plain": [
              "<Figure size 432x288 with 1 Axes>"
            ]
          },
          "metadata": {
            "needs_background": "light"
          }
        }
      ]
    },
    {
      "cell_type": "code",
      "metadata": {
        "colab": {
          "base_uri": "https://localhost:8080/"
        },
        "id": "-yOqOaktIM2Y",
        "outputId": "dba5318b-2594-44d8-8da9-3a51aee6f408"
      },
      "source": [
        "Ypred = predict(model, torch.from_numpy(X_test).float())\n",
        "acc = np.mean(Y_test == Ypred)\n",
        "print('Test accuracy: ', acc)"
      ],
      "execution_count": null,
      "outputs": [
        {
          "output_type": "stream",
          "name": "stdout",
          "text": [
            "Test accuracy:  0.8\n"
          ]
        }
      ]
    },
    {
      "cell_type": "markdown",
      "metadata": {
        "id": "G27yOKJMJVO2"
      },
      "source": [
        "I have observed the accuracy got no change by increasing learning rate.\n",
        "\n",
        "\n"
      ]
    },
    {
      "cell_type": "code",
      "metadata": {
        "id": "UknVUoL9IRGw"
      },
      "source": [
        "###############################"
      ],
      "execution_count": null,
      "outputs": []
    },
    {
      "cell_type": "markdown",
      "metadata": {
        "id": "BOuHg_s6KpA-"
      },
      "source": [
        "I have changed activation from Relu to tanh"
      ]
    },
    {
      "cell_type": "code",
      "metadata": {
        "colab": {
          "base_uri": "https://localhost:8080/",
          "height": 385
        },
        "id": "5zVycmZDKShd",
        "outputId": "85be0b3d-0034-4b51-90fd-75a767381edc"
      },
      "source": [
        "import numpy as np\n",
        "import pandas as pd\n",
        "\n",
        "import seaborn as sns\n",
        "import matplotlib.pyplot as plt\n",
        "\n",
        "from sklearn.model_selection import train_test_split\n",
        "from sklearn.metrics import confusion_matrix, accuracy_score\n",
        "\n",
        "import torch\n",
        "import torch.nn as nn\n",
        "from torch import optim\n",
        "import torch.nn.functional as F\n",
        "\n",
        "from torch.utils.data import TensorDataset, DataLoader\n",
        "\n",
        "#import the dataset \n",
        "data_set = pd.read_csv(\"/content/drive/MyDrive/Iris.csv\")\n",
        "\n",
        "#Let's have a look at the dataset\n",
        "data_set.head()\n",
        "\n",
        "Species = {'Iris-setosa': 0, 'Iris-versicolor': 1, 'Iris-virginica':2}\n",
        "data_set.Species = [Species[item] for item in data_set.Species]\n",
        "\n",
        "X = data_set.iloc[:, 0:4] #predictors\n",
        "y = data_set.iloc[:, 4]\n",
        "from sklearn.preprocessing import normalize\n",
        "\n",
        "X = normalize(X)\n",
        "y = np.array(y)\n",
        "y = y.astype(int)\n",
        "X_train, X_test, Y_train, Y_test = train_test_split(X, y, test_size=0.10)\n",
        "print(\"X_train shape: \", X_train.shape)\n",
        "print(\"Y_train shape: \", Y_train.shape)\n",
        "print(\"X_test shape: \", X_test.shape)\n",
        "print(\"Y_test shape: \", Y_test.shape)\n",
        "\n",
        "# for loading data into pytorch model\n",
        "from torch.utils.data import TensorDataset, DataLoader\n",
        "\n",
        "trainloader = DataLoader(TensorDataset(torch.from_numpy(X_train), torch.from_numpy(Y_train)), \n",
        "                         batch_size=135, shuffle=True)\n",
        "\n",
        "testloader = DataLoader(TensorDataset(torch.from_numpy(X_test), torch.from_numpy(Y_test)), \n",
        "                        batch_size=135, shuffle=True)\n",
        "\n",
        "dataloaders = {\n",
        "    \"train\": trainloader,\n",
        "    \"validation\": testloader\n",
        "}\n",
        "\n",
        "class Classifier(nn.Module):\n",
        "    def __init__(self):\n",
        "        super().__init__()\n",
        "        self.fc1 = nn.Linear(4, 227) ### 4 predictors\n",
        "        self.fc2 = nn.Linear(227, 94) ### 227 neurons in hidden layer 1, 94 in 3\n",
        "        self.fc3 = nn.Linear(94, 75) ### 75 neurons in hidden layer 3\n",
        "        self.fc4 = nn.Linear(75, 3) ### 3 classes\n",
        "        \n",
        "        self.dropout = nn.Dropout(p=0.2)\n",
        "        \n",
        "    def forward(self, x):\n",
        "        x = F.tanh(self.fc1(x)) #activation function for 1\n",
        "        x = F.tanh(self.fc2(x))\n",
        "        x = self.dropout(F.tanh(self.fc3(x)))\n",
        "        x = F.log_softmax(self.fc4(x), dim=1)\n",
        "        \n",
        "        return x\n",
        "\n",
        "\n",
        "model = Classifier()\n",
        "criterion = nn.NLLLoss()\n",
        "optimizer = optim.Adam(model.parameters(), lr=0.0001)\n",
        "\n",
        "def predict(model, inputs):\n",
        "    output = model(inputs)\n",
        "    return output.data.numpy().argmax(axis=1)\n",
        "\n",
        "from torch.autograd import Variable\n",
        "\n",
        "loss1 = []\n",
        "train_acc = []\n",
        "\n",
        "Epoch = 1000\n",
        "\n",
        "for epoch in range(Epoch):\n",
        "    acc = 0\n",
        "    \n",
        "    for i, (features, labels) in enumerate(trainloader):\n",
        "        features = Variable(features)\n",
        "        labels = Variable(labels)\n",
        "        \n",
        "        optimizer.zero_grad()\n",
        "        \n",
        "        features = features.float()\n",
        "        \n",
        "        outputs = model(features)\n",
        "        \n",
        "        loss = criterion(outputs, labels.long())\n",
        "        loss.backward()\n",
        "        optimizer.step()\n",
        "        \n",
        "        if (i+1) % len(trainloader) == 0:\n",
        "            Ypred = predict(model, torch.from_numpy(X_train).float())\n",
        "            acc = np.mean(Y_train == Ypred)\n",
        "            \n",
        "            train_acc1 = acc/len(trainloader)\n",
        "            train_acc.append(train_acc1)\n",
        "            loss1.append(loss.data)\n",
        "            \n",
        "            #print ('Epoch [%d/%d], Iter [%d] Loss: %.4f Training Accuracy: %.5f' %(epoch+1, 2000, i+1, loss.data, train_acc1))\n",
        "\n",
        "np_loss = loss1[0].numpy()\n",
        "\n",
        "for i in range(len(loss1)):\n",
        "    np_loss = np.append(np_loss, loss1[i])\n",
        "\n",
        "np_acc = train_acc[0]\n",
        "\n",
        "for i in range(len(train_acc)):\n",
        "    np_acc = np.append(np_acc, train_acc[i])\n",
        "\n",
        "%matplotlib inline\n",
        "plt.plot(np_acc, color=\"blue\")\n",
        "plt.title(\"Training Accuracy\")\n",
        "plt.show()"
      ],
      "execution_count": null,
      "outputs": [
        {
          "output_type": "stream",
          "name": "stdout",
          "text": [
            "X_train shape:  (135, 4)\n",
            "Y_train shape:  (135,)\n",
            "X_test shape:  (15, 4)\n",
            "Y_test shape:  (15,)\n"
          ]
        },
        {
          "output_type": "stream",
          "name": "stderr",
          "text": [
            "/usr/local/lib/python3.7/dist-packages/torch/nn/functional.py:1795: UserWarning: nn.functional.tanh is deprecated. Use torch.tanh instead.\n",
            "  warnings.warn(\"nn.functional.tanh is deprecated. Use torch.tanh instead.\")\n"
          ]
        },
        {
          "output_type": "display_data",
          "data": {
            "image/png": "[encoded data removed]",
            "text/plain": [
              "<Figure size 432x288 with 1 Axes>"
            ]
          },
          "metadata": {
            "needs_background": "light"
          }
        }
      ]
    },
    {
      "cell_type": "code",
      "metadata": {
        "colab": {
          "base_uri": "https://localhost:8080/",
          "height": 350
        },
        "id": "Z4ge8aXwKlIO",
        "outputId": "b800df60-d820-4a0c-ebd1-0c2214c9bf06"
      },
      "source": [
        "%matplotlib inline\n",
        "plt.plot(np_loss, color=\"red\")\n",
        "plt.title(\"Training Loss\")\n",
        "plt.legend()\n",
        "plt.show()\n",
        "Ypred = predict(model, torch.from_numpy(X_test).float())\n",
        "acc = np.mean(Y_test == Ypred)\n",
        "print('Test accuracy: ', acc)"
      ],
      "execution_count": null,
      "outputs": [
        {
          "output_type": "stream",
          "name": "stderr",
          "text": [
            "No handles with labels found to put in legend.\n"
          ]
        },
        {
          "output_type": "display_data",
          "data": {
            "image/png": "[encoded data removed]",
            "text/plain": [
              "<Figure size 432x288 with 1 Axes>"
            ]
          },
          "metadata": {
            "needs_background": "light"
          }
        },
        {
          "output_type": "stream",
          "name": "stdout",
          "text": [
            "Test accuracy:  0.7333333333333333\n"
          ]
        },
        {
          "output_type": "stream",
          "name": "stderr",
          "text": [
            "/usr/local/lib/python3.7/dist-packages/torch/nn/functional.py:1795: UserWarning: nn.functional.tanh is deprecated. Use torch.tanh instead.\n",
            "  warnings.warn(\"nn.functional.tanh is deprecated. Use torch.tanh instead.\")\n"
          ]
        }
      ]
    },
    {
      "cell_type": "markdown",
      "metadata": {
        "id": "0bVSN_dHK6Be"
      },
      "source": [
        "observed accuracy got decreased "
      ]
    },
    {
      "cell_type": "code",
      "metadata": {
        "id": "A1ZskwZPK18i"
      },
      "source": [
        "####################"
      ],
      "execution_count": null,
      "outputs": []
    },
    {
      "cell_type": "code",
      "metadata": {
        "id": "2fbMnwppVHKb"
      },
      "source": [
        ""
      ],
      "execution_count": null,
      "outputs": []
    },
    {
      "cell_type": "code",
      "metadata": {
        "id": "rzZft7aWVHNt"
      },
      "source": [
        ""
      ],
      "execution_count": null,
      "outputs": []
    },
    {
      "cell_type": "markdown",
      "metadata": {
        "id": "AMAlK2JdVHvW"
      },
      "source": [
        "INCREASING HIDDEN LAYER NEURONS"
      ]
    },
    {
      "cell_type": "code",
      "metadata": {
        "id": "fJVIYaZpVLjG"
      },
      "source": [
        ""
      ],
      "execution_count": null,
      "outputs": []
    },
    {
      "cell_type": "code",
      "metadata": {
        "colab": {
          "base_uri": "https://localhost:8080/",
          "height": 350
        },
        "id": "YpKzxBYpVMFS",
        "outputId": "6aaeabd5-86ee-4ed1-d211-cd1e68777358"
      },
      "source": [
        "import numpy as np\n",
        "import pandas as pd\n",
        "\n",
        "import seaborn as sns\n",
        "import matplotlib.pyplot as plt\n",
        "\n",
        "from sklearn.model_selection import train_test_split\n",
        "from sklearn.metrics import confusion_matrix, accuracy_score\n",
        "\n",
        "import torch\n",
        "import torch.nn as nn\n",
        "from torch import optim\n",
        "import torch.nn.functional as F\n",
        "\n",
        "from torch.utils.data import TensorDataset, DataLoader\n",
        "\n",
        "#import the dataset \n",
        "data_set = pd.read_csv(\"/content/drive/MyDrive/Iris.csv\")\n",
        "\n",
        "#Let's have a look at the dataset\n",
        "data_set.head()\n",
        "\n",
        "Species = {'Iris-setosa': 0, 'Iris-versicolor': 1, 'Iris-virginica':2}\n",
        "data_set.Species = [Species[item] for item in data_set.Species]\n",
        "\n",
        "X = data_set.iloc[:, 0:4] #predictors\n",
        "y = data_set.iloc[:, 4]\n",
        "from sklearn.preprocessing import normalize\n",
        "\n",
        "X = normalize(X)\n",
        "y = np.array(y)\n",
        "y = y.astype(int)\n",
        "X_train, X_test, Y_train, Y_test = train_test_split(X, y, test_size=0.10)\n",
        "print(\"X_train shape: \", X_train.shape)\n",
        "print(\"Y_train shape: \", Y_train.shape)\n",
        "print(\"X_test shape: \", X_test.shape)\n",
        "print(\"Y_test shape: \", Y_test.shape)\n",
        "\n",
        "# for loading data into pytorch model\n",
        "from torch.utils.data import TensorDataset, DataLoader\n",
        "\n",
        "trainloader = DataLoader(TensorDataset(torch.from_numpy(X_train), torch.from_numpy(Y_train)), \n",
        "                         batch_size=135, shuffle=True)\n",
        "\n",
        "testloader = DataLoader(TensorDataset(torch.from_numpy(X_test), torch.from_numpy(Y_test)), \n",
        "                        batch_size=135, shuffle=True)\n",
        "\n",
        "dataloaders = {\n",
        "    \"train\": trainloader,\n",
        "    \"validation\": testloader\n",
        "}\n",
        "\n",
        "class Classifier(nn.Module):\n",
        "    def __init__(self):\n",
        "        super().__init__()\n",
        "        self.fc1 = nn.Linear(4, 500) ### 4 predictors\n",
        "        self.fc2 = nn.Linear(500, 300) ### 500 neurons in hidden layer 1, 300 in 3\n",
        "        self.fc3 = nn.Linear(300, 250) ### 250 neurons in hidden layer 3\n",
        "        self.fc4 = nn.Linear(250, 3) ### 3 classes\n",
        "        \n",
        "        self.dropout = nn.Dropout(p=0.2)\n",
        "        \n",
        "    def forward(self, x):\n",
        "        x = F.relu(self.fc1(x)) #activation function for 1\n",
        "        x = F.relu(self.fc2(x))\n",
        "        x = self.dropout(F.relu(self.fc3(x)))\n",
        "        x = F.log_softmax(self.fc4(x), dim=1)\n",
        "        \n",
        "        return x\n",
        "\n",
        "\n",
        "model = Classifier()\n",
        "criterion = nn.NLLLoss()\n",
        "optimizer = optim.Adam(model.parameters(), lr=0.001)\n",
        "\n",
        "def predict(model, inputs):\n",
        "    output = model(inputs)\n",
        "    return output.data.numpy().argmax(axis=1)\n",
        "\n",
        "from torch.autograd import Variable\n",
        "\n",
        "loss1 = []\n",
        "train_acc = []\n",
        "\n",
        "Epoch = 1000\n",
        "\n",
        "for epoch in range(Epoch):\n",
        "    acc = 0\n",
        "    \n",
        "    for i, (features, labels) in enumerate(trainloader):\n",
        "        features = Variable(features)\n",
        "        labels = Variable(labels)\n",
        "        \n",
        "        optimizer.zero_grad()\n",
        "        \n",
        "        features = features.float()\n",
        "        \n",
        "        outputs = model(features)\n",
        "        \n",
        "        loss = criterion(outputs, labels.long())\n",
        "        loss.backward()\n",
        "        optimizer.step()\n",
        "        \n",
        "        if (i+1) % len(trainloader) == 0:\n",
        "            Ypred = predict(model, torch.from_numpy(X_train).float())\n",
        "            acc = np.mean(Y_train == Ypred)\n",
        "            \n",
        "            train_acc1 = acc/len(trainloader)\n",
        "            train_acc.append(train_acc1)\n",
        "            loss1.append(loss.data)\n",
        "            \n",
        "            #print ('Epoch [%d/%d], Iter [%d] Loss: %.4f Training Accuracy: %.5f' %(epoch+1, 2000, i+1, loss.data, train_acc1))\n",
        "\n",
        "np_loss = loss1[0].numpy()\n",
        "\n",
        "for i in range(len(loss1)):\n",
        "    np_loss = np.append(np_loss, loss1[i])\n",
        "\n",
        "np_acc = train_acc[0]\n",
        "\n",
        "for i in range(len(train_acc)):\n",
        "    np_acc = np.append(np_acc, train_acc[i])\n",
        "\n",
        "%matplotlib inline\n",
        "plt.plot(np_acc, color=\"blue\")\n",
        "plt.title(\"Training Accuracy\")\n",
        "plt.show()"
      ],
      "execution_count": null,
      "outputs": [
        {
          "output_type": "stream",
          "name": "stdout",
          "text": [
            "X_train shape:  (135, 4)\n",
            "Y_train shape:  (135,)\n",
            "X_test shape:  (15, 4)\n",
            "Y_test shape:  (15,)\n"
          ]
        },
        {
          "output_type": "display_data",
          "data": {
            "image/png": "[encoded data removed]",
            "text/plain": [
              "<Figure size 432x288 with 1 Axes>"
            ]
          },
          "metadata": {
            "needs_background": "light"
          }
        }
      ]
    },
    {
      "cell_type": "code",
      "metadata": {
        "colab": {
          "base_uri": "https://localhost:8080/"
        },
        "id": "sQHW0ukXVc5c",
        "outputId": "700085de-4ed5-40e6-882e-11a99c66a33c"
      },
      "source": [
        "Ypred = predict(model, torch.from_numpy(X_test).float())\n",
        "acc = np.mean(Y_test == Ypred)\n",
        "print('Test accuracy: ', acc)"
      ],
      "execution_count": null,
      "outputs": [
        {
          "output_type": "stream",
          "name": "stdout",
          "text": [
            "Test accuracy:  0.8666666666666667\n"
          ]
        }
      ]
    },
    {
      "cell_type": "code",
      "metadata": {
        "id": "4o7xsadQVspH"
      },
      "source": [
        "#ACCURACY GOT INCREASED TO 0.86"
      ],
      "execution_count": null,
      "outputs": []
    }
  ]
}