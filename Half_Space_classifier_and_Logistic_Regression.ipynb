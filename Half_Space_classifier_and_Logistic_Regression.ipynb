{
  "nbformat": 4,
  "nbformat_minor": 0,
  "metadata": {
    "colab": {
      "name": "  Half Space classifier and Logistic Regression.ipynb",
      "provenance": [],
      "collapsed_sections": []
    },
    "kernelspec": {
      "display_name": "Python 3",
      "name": "python3"
    },
    "language_info": {
      "name": "python"
    }
  },
  "cells": [
    {
      "cell_type": "markdown",
      "metadata": {
        "id": "hmIpOhbj0QKf"
      },
      "source": [
        "# ***1.Half Space classifier implemented using LP solver ***"
      ]
    },
    {
      "cell_type": "code",
      "metadata": {
        "colab": {
          "base_uri": "https://localhost:8080/"
        },
        "id": "dXoqz9ZHJ_e_",
        "outputId": "6b820e47-3836-4b3e-965a-ea2f54db47d9"
      },
      "source": [
        "#mounting google drive\n",
        "from google.colab import drive\n",
        "drive.mount(\"/content/gdrive\")"
      ],
      "execution_count": null,
      "outputs": [
        {
          "output_type": "stream",
          "name": "stdout",
          "text": [
            "Mounted at /content/gdrive\n"
          ]
        }
      ]
    },
    {
      "cell_type": "code",
      "metadata": {
        "id": "zTcD9wdPNhvG"
      },
      "source": [
        "#import libraries\n",
        "import sklearn.datasets\n",
        "import numpy as np\n",
        "import pandas as pd\n",
        "import matplotlib.pyplot as plt\n",
        "from sklearn.model_selection import train_test_split\n",
        "from sklearn.metrics import accuracy_score"
      ],
      "execution_count": null,
      "outputs": []
    },
    {
      "cell_type": "code",
      "metadata": {
        "id": "6MLuKP9iKGBF"
      },
      "source": [
        "#reading csv file\n",
        "import pandas as pd\n",
        "X=pd.read_csv('/content/gdrive/MyDrive/train.csv')"
      ],
      "execution_count": null,
      "outputs": []
    },
    {
      "cell_type": "code",
      "metadata": {
        "colab": {
          "base_uri": "https://localhost:8080/"
        },
        "id": "V-tvau5KKGEI",
        "outputId": "8549ef1e-2f4b-475d-bebf-ef8e89094ce8"
      },
      "source": [
        " #check null count for each feature\n",
        "X.isnull().sum()\n",
        "\n"
      ],
      "execution_count": null,
      "outputs": [
        {
          "output_type": "execute_result",
          "data": {
            "text/plain": [
              "PassengerId      0\n",
              "Survived         0\n",
              "Pclass           0\n",
              "Name             0\n",
              "Sex              0\n",
              "Age            177\n",
              "SibSp            0\n",
              "Parch            0\n",
              "Ticket           0\n",
              "Fare             0\n",
              "Cabin          687\n",
              "Embarked         2\n",
              "dtype: int64"
            ]
          },
          "metadata": {},
          "execution_count": 13
        }
      ]
    },
    {
      "cell_type": "code",
      "metadata": {
        "colab": {
          "base_uri": "https://localhost:8080/"
        },
        "id": "yfxJH8RbKGHF",
        "outputId": "4697929e-4bb2-4caf-818c-19d17326670c"
      },
      "source": [
        "#impute missing values\n",
        "X['Age']=X['Age'].fillna(X['Age'].mode()[0])\n",
        "X['Cabin']=X['Cabin'].fillna(X['Cabin'].mode()[0])\n",
        "X['Embarked']=X['Embarked'].fillna(X['Embarked'].mode()[0])\n",
        "print(X.isnull().sum())"
      ],
      "execution_count": null,
      "outputs": [
        {
          "output_type": "stream",
          "name": "stdout",
          "text": [
            "PassengerId    0\n",
            "Survived       0\n",
            "Pclass         0\n",
            "Name           0\n",
            "Sex            0\n",
            "Age            0\n",
            "SibSp          0\n",
            "Parch          0\n",
            "Ticket         0\n",
            "Fare           0\n",
            "Cabin          0\n",
            "Embarked       0\n",
            "dtype: int64\n"
          ]
        }
      ]
    },
    {
      "cell_type": "code",
      "metadata": {
        "id": "NnwpNZ1jKGJl"
      },
      "source": [
        "#droping columns from X\n",
        "X=X.drop('Name',axis=1)\n",
        "X=X.drop('Ticket',axis=1)\n",
        "X=X.drop('Cabin',axis=1)\n",
        "\n",
        "\n",
        "\n",
        "\n"
      ],
      "execution_count": null,
      "outputs": []
    },
    {
      "cell_type": "code",
      "metadata": {
        "id": "tVcZVOi_KGNV"
      },
      "source": [
        "#handling categorical variables\n",
        "from sklearn.preprocessing import LabelEncoder\n",
        "le=LabelEncoder()\n",
        "\n",
        "X['Embarked']=le.fit_transform(X['Embarked'])\n",
        "X['Sex']=le.fit_transform(X['Sex'])\n"
      ],
      "execution_count": null,
      "outputs": []
    },
    {
      "cell_type": "code",
      "metadata": {
        "id": "FWYkpD8vKGP1"
      },
      "source": [
        "\n",
        "import numpy as np\n",
        "for i in X['Survived']:\n",
        "  X['new']=np.where(X['Survived']==i,-1,1)\n",
        "\n",
        "y=X['new']\n",
        "x=X.drop(['new'],axis=1)\n"
      ],
      "execution_count": null,
      "outputs": []
    },
    {
      "cell_type": "code",
      "metadata": {
        "id": "YPJne-GkKGVI"
      },
      "source": [
        "# data in to train and test splits and find xy\n",
        "from sklearn.preprocessing import MinMaxScaler\n",
        "mnscaler = MinMaxScaler()\n",
        "x = mnscaler.fit_transform(x)\n",
        "X_train, X_test, Y_train, Y_test = train_test_split(x,y, test_size = 0.2, random_state = 1)\n",
        "\n",
        "Y_train=np.array(Y_train).reshape(-1,1)\n",
        "xy=[]\n",
        "for i in range(len(X_train)):\n",
        "  xy.append(X_train[i]*Y_train[i])\n",
        "xy=np.array(xy)"
      ],
      "execution_count": null,
      "outputs": []
    },
    {
      "cell_type": "code",
      "metadata": {
        "id": "Zp-7kvJKLZz4"
      },
      "source": [
        "\n",
        "b=[[-1] for i in range(xy.shape[0])]\n",
        "b=np.array(b)\n",
        "c=[[0] for i in range(xy.shape[1])]"
      ],
      "execution_count": null,
      "outputs": []
    },
    {
      "cell_type": "code",
      "metadata": {
        "colab": {
          "base_uri": "https://localhost:8080/"
        },
        "id": "kCQ1AWL4LZ2q",
        "outputId": "a5e888bf-2c59-4613-c365-812ee5a38e3e"
      },
      "source": [
        "from scipy.optimize import linprog\n",
        "\n",
        "xb=(None,None)\n",
        "res = linprog(c, A_ub=-xy, b_ub=b, bounds=xb,\n",
        "              options={\"disp\": True})\n",
        "\n",
        "print(res)"
      ],
      "execution_count": null,
      "outputs": [
        {
          "output_type": "stream",
          "name": "stdout",
          "text": [
            "Primal Feasibility  Dual Feasibility    Duality Gap         Step             Path Parameter      Objective          \n",
            "1.0                 1.0                 1.0                 -                1.0                 0.0                 \n",
            "0.4335800581679     0.4335800581679     0.4335800581679     0.5797053058163  0.4335800581679     0.0                 \n",
            "0.08197998475484    0.08197998475484    0.08197998475487    0.8568442587883  0.08197998475484    0.0                 \n"
          ]
        },
        {
          "output_type": "stream",
          "name": "stderr",
          "text": [
            "/usr/local/lib/python3.7/dist-packages/numpy/core/fromnumeric.py:87: VisibleDeprecationWarning: Creating an ndarray from ragged nested sequences (which is a list-or-tuple of lists-or-tuples-or ndarrays with different lengths or shapes) is deprecated. If you meant to do this, you must specify 'dtype=object' when creating the ndarray\n",
            "  return ufunc.reduce(obj, axis, dtype, out, **passkwargs)\n"
          ]
        },
        {
          "output_type": "stream",
          "name": "stdout",
          "text": [
            "0.0002833852790648  0.0002833852790328  0.0002833852790327  0.9967553999873  0.0002833852790327  0.0                 \n",
            "1.420027914963e-08  1.420028004711e-08  1.420028005079e-08  0.99994989059    1.42002800471e-08   0.0                 \n",
            "7.210177670943e-13  7.100140031435e-13  7.100140039158e-13  0.9999499999999  7.100140031435e-13  0.0                 \n",
            "6.337083634282e-14  3.550070016971e-17  3.550070020141e-17  0.99995          3.550070016971e-17  0.0                 \n",
            "Optimization terminated successfully.\n",
            "         Current function value: 0.000000    \n",
            "         Iterations: 6\n",
            "     con: array([], dtype=float64)\n",
            "     fun: 0.0\n",
            " message: 'Optimization terminated successfully.'\n",
            "     nit: 6\n",
            "   slack: array([129.4370264 , 224.39769635, 168.97254965, 147.29225367,\n",
            "        94.26597128, 149.63701942, 121.50317982, 168.53386211,\n",
            "       176.20667244, 157.17350765, 214.10936131, 108.85590413,\n",
            "       141.05321183, 174.69272979, 183.64272672, 106.82798091,\n",
            "       188.3754841 , 128.6305608 , 190.07723367, 172.54466403,\n",
            "       162.39497966, 154.08847323, 149.08204406, 148.93392074,\n",
            "       101.34107005, 152.69812697, 188.2276253 , 144.48519437,\n",
            "       129.24744706, 178.47671387, 183.95716181, 219.19270515,\n",
            "       176.69448843, 134.97893055, 131.18980501, 131.34887196,\n",
            "       186.44277719, 151.11613198, 226.23174535, 161.50839221,\n",
            "       158.94657736, 170.88383692, 136.83218082, 137.32664951,\n",
            "       136.56279049, 147.38007494, 147.84465509, 228.16469312,\n",
            "       123.0652159 , 104.88512865, 145.2116751 , 179.3528692 ,\n",
            "       172.82826131, 173.18969036, 161.93071171, 176.27220225,\n",
            "       118.44540052, 160.47640193, 130.6544933 , 186.68196477,\n",
            "       153.72820398, 211.26269414, 149.26403146, 142.62015538,\n",
            "       112.27902847, 191.47636025, 106.57550866, 189.44051364,\n",
            "       166.61404579, 197.36447742, 191.29211805, 199.42208095,\n",
            "       129.09554399, 154.7072376 , 155.9849278 , 131.44698093,\n",
            "       117.83235927, 147.03919687, 168.94710005, 163.38383697,\n",
            "       141.12850723, 197.43561153, 156.564689  , 166.05688197,\n",
            "       185.3140721 , 147.53267018, 144.05208065, 182.31527827,\n",
            "       146.48158129,  89.94105677, 185.03480858, 154.42953226,\n",
            "       172.04671981, 140.09688717, 165.39908325, 194.19736069,\n",
            "       138.02854345, 211.2030182 , 129.49343011, 165.28629191,\n",
            "       165.61682889, 151.02531205, 154.84358831, 158.76535019,\n",
            "       155.54644858, 154.38511894, 120.90373581,  89.37500894,\n",
            "       141.68442976, 133.57058297, 189.90430484, 172.37585121,\n",
            "       159.50575229, 199.40551787, 163.11551734, 150.63903529,\n",
            "       173.15369766, 106.37661212, 180.22877378, 148.35491779,\n",
            "       150.66975532, 144.91770048, 102.96781733, 191.10071775,\n",
            "       132.11218914, 168.84669069, 203.88782653, 196.58345585,\n",
            "       153.57276121, 136.11627091, 136.95219535, 169.42574042,\n",
            "       177.38690152, 173.31055742, 150.29309466, 173.8750245 ,\n",
            "       124.03927828, 144.42827194, 162.05845299, 150.46903995,\n",
            "       178.82773936, 180.18931733, 166.71778811, 195.36627372,\n",
            "       152.75591373, 114.14802382, 168.45099866, 177.5062291 ,\n",
            "       214.33048698, 134.34456815, 161.66149953, 205.17526944,\n",
            "       148.64655209, 182.03227097, 143.00560362, 212.2980159 ,\n",
            "       151.74866917, 155.01688292, 182.26552046, 161.71682489,\n",
            "       220.49678773, 187.38345696, 166.34387173, 151.17359174,\n",
            "       149.70091024, 141.5650036 , 120.67833608, 185.50558188,\n",
            "       148.87566461, 215.49144439, 167.82746559, 164.29196332,\n",
            "       167.03257672, 153.07205786, 146.55643074, 168.69821988,\n",
            "       168.73389493, 134.52257737, 129.85622801, 134.74856628,\n",
            "       167.38938323, 166.28818907, 122.62726777, 161.77162719,\n",
            "       172.20539405, 199.5726339 , 147.64875148, 105.70991011,\n",
            "       151.83301093, 153.3995777 , 171.04607837, 226.77072887,\n",
            "       145.92574872, 180.51978951, 229.4174917 , 184.69802529,\n",
            "       170.4532739 , 199.25691089, 173.35879589, 169.4188684 ,\n",
            "       162.14539245, 151.06296309, 124.64879886, 129.62572066,\n",
            "       206.34477086, 139.79022071, 187.63099575, 183.70405677,\n",
            "       158.1305538 , 128.56512344, 132.54831844, 165.26792271,\n",
            "       123.56352946, 172.23147601, 118.14609113, 124.8725557 ,\n",
            "       172.23427649, 151.06706243, 183.34086275, 143.37700457,\n",
            "       158.50445322, 159.87154209, 146.76440532, 161.43159935,\n",
            "       203.63386594, 168.82449234, 186.96588597, 169.59281021,\n",
            "       176.48478615, 156.50329427, 161.91008271, 208.81677964,\n",
            "       191.74868891, 149.58070423, 185.91381587, 141.10022662,\n",
            "       168.47933492, 205.84712845, 155.43149683,  56.8001309 ,\n",
            "       200.2534472 , 157.40882626, 142.71454297, 179.17784037,\n",
            "       171.46882391, 178.61550954, 180.77885706, 193.55836135,\n",
            "       151.83025732, 130.65593017, 127.33240932, 172.2467067 ,\n",
            "       146.642946  , 170.65147653, 118.99818343, 191.91515898,\n",
            "       161.01614168, 176.32961576, 120.26191066, 146.97800838,\n",
            "        97.19433169, 161.71458907, 188.32856672, 142.81065524,\n",
            "       158.34755957, 161.05331166, 164.38905692, 150.88923441,\n",
            "       251.49187786, 107.26606779, 194.35134052, 189.87691055,\n",
            "       115.15355874, 169.63263979, 150.31638641, 149.83893551,\n",
            "       127.98871103, 176.44764908, 178.98325386, 174.41245663,\n",
            "       223.12505584, 152.72561278, 194.09596547, 183.61354382,\n",
            "       109.84693658, 159.29348171, 179.04907408, 148.83745029,\n",
            "       205.0429017 , 167.13279726, 144.0912321 , 203.53726979,\n",
            "       170.11756794, 151.37691437, 150.92314767, 141.9454226 ,\n",
            "       144.61290204,  97.25231685, 169.60586765, 186.12911199,\n",
            "       190.94278647, 160.62965901, 165.77263616, 182.56439169,\n",
            "       160.62429089, 200.06923327, 159.62210908, 185.49548228,\n",
            "       219.94882246, 139.20476597, 211.39845629, 111.48845299,\n",
            "       193.8330851 , 161.61211489, 190.05842552, 137.78911758,\n",
            "       133.17903061, 205.42750759, 155.64273863, 205.37686769,\n",
            "       158.80674806, 180.65561316, 130.74482256, 173.43706124,\n",
            "        85.37785543, 153.12186151, 141.55616341, 189.21351653,\n",
            "       155.67981426, 121.92870348, 121.54358614, 164.59566826,\n",
            "       135.2838758 , 220.67831029, 158.00214164, 162.47963886,\n",
            "       175.33272188, 206.56955426, 104.55767625, 183.00494369,\n",
            "       171.10812819, 175.23326954, 124.61899952, 212.09112426,\n",
            "       167.03197554, 181.99654576, 165.19244436, 206.92550892,\n",
            "       171.00804948, 128.02517143, 156.10854198, 139.07548715,\n",
            "       102.34078101, 124.75668623, 143.93062215, 171.47407602,\n",
            "       139.41982585, 136.86640187, 128.74341075, 171.09388545,\n",
            "       139.00002797, 187.74306925, 164.3479077 , 118.18033222,\n",
            "       151.08073255, 156.98973793, 154.73735361, 152.51953686,\n",
            "       163.11641183, 161.24381774, 141.62408726, 171.58000397,\n",
            "       159.39633379, 109.89704133, 180.35053244, 183.79654378,\n",
            "       180.02126008, 169.9106497 , 204.26694348, 174.05996334,\n",
            "       151.81927093, 189.37385447, 196.60302843, 182.23971869,\n",
            "       111.16094367, 126.3910952 ,  80.99938237, 137.23262951,\n",
            "       185.51814238, 163.09640519, 170.39762244, 173.36467341,\n",
            "       135.05118637, 167.65184443, 213.10469029, 188.77071612,\n",
            "       226.19838683, 123.68117336, 164.07626528, 141.13157814,\n",
            "       189.7444353 , 136.98490811, 143.97401896, 174.87534952,\n",
            "       148.07389711, 157.76472006, 162.13077127, 141.74324556,\n",
            "       156.2041633 , 244.60870687, 183.16806298, 168.43922677,\n",
            "       177.12733168, 190.06109645, 161.88134442, 153.7493489 ,\n",
            "       135.87767185, 144.77694577, 162.31703025, 191.12745527,\n",
            "       143.58856012, 188.55236021, 143.46266272, 149.82973254,\n",
            "       161.72994464, 126.06258071, 170.91755703, 106.55667166,\n",
            "       177.73769005, 210.59138592, 181.93904905, 144.59737314,\n",
            "       149.20097887, 140.70750246, 203.79537488, 139.73751453,\n",
            "       229.32083851, 164.90004111, 148.42977268, 173.9417865 ,\n",
            "       162.73484105, 108.68211186, 182.46367028, 216.51962348,\n",
            "       146.7409513 , 186.37159254, 146.67493406, 177.51200501,\n",
            "       133.87093751, 176.77164151, 156.40831437, 178.07250866,\n",
            "       219.53780559, 117.53056259, 158.62207486, 163.02352187,\n",
            "       157.44804862, 173.62639643, 136.69334532, 164.36171527,\n",
            "       148.55051075, 165.17508855, 129.78934284, 199.97924792,\n",
            "       125.65253813, 234.61443623, 181.2938486 , 131.74507397,\n",
            "       148.53662538, 189.05082526, 143.6150386 , 166.62177961,\n",
            "       117.73225629, 131.18496062, 188.77422943, 123.33783341,\n",
            "       117.6239273 , 173.66017554, 155.45002074, 175.25313741,\n",
            "       173.39821386, 139.13700092, 175.97367181, 183.69382439,\n",
            "       181.68227886, 169.66999583, 170.71099393, 222.67106573,\n",
            "       159.90949854, 199.02764253, 181.76547977, 157.53537843,\n",
            "       189.29207714, 135.17707723, 176.23975772, 111.05696947,\n",
            "       140.89828755, 135.23725964, 130.88565927, 130.90035066,\n",
            "       173.01517428, 177.91324556, 176.32631189, 148.47583144,\n",
            "       132.55857185, 163.32532199, 172.08950714, 192.81893322,\n",
            "       172.92454165, 201.15935048, 130.01595894, 171.18134408,\n",
            "       138.56221147, 148.34476805, 165.92552697, 176.16083066,\n",
            "       202.3327418 , 164.89985248, 169.05528279, 138.54776476,\n",
            "       188.75380907, 134.41096371, 151.33373403, 138.90627114,\n",
            "       195.2769492 ,  98.32056883, 168.5133736 , 132.3131756 ,\n",
            "       144.50355439, 202.25870028, 163.42165114, 173.36098337,\n",
            "       155.20760177, 213.31618158, 181.86681832, 137.75769022,\n",
            "       103.05624259, 159.67788185, 166.34695121, 157.16761346,\n",
            "       143.01407267, 178.11419356, 177.48500621, 148.12445951,\n",
            "       175.8376408 , 148.11749972, 151.17754639, 178.37910949,\n",
            "       155.9444139 , 148.70451976,  90.38717629, 144.1494874 ,\n",
            "       159.57841374, 166.84325522, 188.25220178, 161.1110564 ,\n",
            "       178.32980446, 170.81742446, 146.29830685, 176.88779478,\n",
            "       165.64761723, 165.34410013, 171.47958481, 177.17788504,\n",
            "       157.40539025, 141.77206835, 159.16284584, 143.97792872,\n",
            "        97.35206695, 189.10767399, 137.48879504, 158.70993225,\n",
            "       178.7022647 , 182.1044133 , 106.71696388, 159.02785754,\n",
            "        99.12293148, 159.21826629, 186.34194936, 203.72965388,\n",
            "       153.95453608, 189.90423385, 172.92972076, 147.21283988,\n",
            "       158.08813972, 159.83871621, 187.80302919, 110.15347672,\n",
            "       191.99774936, 166.44746449, 138.84311577, 167.45851523,\n",
            "       162.59311268, 155.83331871, 125.68378877, 154.4969991 ,\n",
            "       122.50435728, 153.955385  , 155.08163683, 174.78895193,\n",
            "       166.97994918, 170.5263236 , 201.67825556, 137.25268182,\n",
            "       115.8128943 , 180.52959104, 175.20332425, 210.35258404,\n",
            "       228.53433238, 165.9882498 , 185.91829467, 208.39215619,\n",
            "       205.07161692, 151.51038203, 180.75101282, 175.67457543,\n",
            "       150.52626059, 156.07167934,  96.12724838, 154.78582344,\n",
            "       139.9048109 , 167.22687711, 163.14591683, 161.9359815 ,\n",
            "       144.92092697, 131.66873433, 170.86375745, 209.83249021,\n",
            "       198.74480376,  90.21284876, 128.40499062, 207.33317516,\n",
            "       211.32930894, 134.9271816 , 143.1077622 , 145.87078362,\n",
            "       174.6424526 , 195.34880439, 193.92331196, 179.46909123,\n",
            "       148.82733187, 186.94837193, 173.54970369, 184.86638885,\n",
            "       124.25654454, 145.12953259,  74.32754007, 150.68877384,\n",
            "       134.08934086,  83.33138584, 137.13845895, 129.48540243,\n",
            "       134.82924549, 127.35874241, 166.26757552, 236.62303499,\n",
            "       168.39169449, 201.74472205, 148.75473764, 155.01861652,\n",
            "       192.34429238, 165.38567679, 169.08447841, 149.36850871,\n",
            "       146.94785203, 172.07643408, 109.28407838, 150.69573704,\n",
            "       197.93986017, 163.72646956, 154.30019184, 115.78347539,\n",
            "       187.52222528, 181.16863701, 177.38358092, 167.25136405,\n",
            "       145.50451278, 130.33360534, 182.42910001, 139.47794632,\n",
            "       213.68808751, 168.79303174, 162.08739885, 162.95808969,\n",
            "       155.29982976, 172.48876648, 206.87577102, 168.36425964,\n",
            "       146.21676161, 133.25850443, 199.9558184 , 174.05095658,\n",
            "       161.70189634, 152.97929911, 123.80242553, 162.11211631,\n",
            "       160.23712198, 137.98914277, 166.31671687, 130.53014765,\n",
            "       176.54400285, 171.56073474, 110.35142575, 187.10754397,\n",
            "       118.70172067, 167.67498147, 146.88991262, 165.35303425,\n",
            "       140.02346897, 136.61854033, 127.62524941, 148.85918057])\n",
            "  status: 0\n",
            " success: True\n",
            "       x: array([ -25.70536642,  292.76502952,  -59.25725796,  -31.31006273,\n",
            "       -118.90634474,  -37.14942598,  -16.10609119, -128.19661355,\n",
            "        -25.45881848])\n"
          ]
        }
      ]
    },
    {
      "cell_type": "code",
      "metadata": {
        "id": "mul30AQHLZ6i"
      },
      "source": [
        "#weight vector\n",
        "x=([ -25.70536642,  292.76502952,  -59.25725796,  -31.31006273,\n",
        "       -118.90634474,  -37.14942598,  -16.10609119, -128.19661355,\n",
        "        -25.45881848])\n",
        "x=np.array(x)"
      ],
      "execution_count": null,
      "outputs": []
    },
    {
      "cell_type": "code",
      "metadata": {
        "colab": {
          "base_uri": "https://localhost:8080/"
        },
        "id": "uTjzUGf9KGYp",
        "outputId": "1aa4730f-b7b8-489d-e638-f759fe8fa0ec"
      },
      "source": [
        "#converting predicted values to either 1 or -1\n",
        "predict = np.dot(X_test,x)\n",
        "predict_=[]\n",
        "for i in predict:\n",
        "  if i>0:\n",
        "    predict_.append(1)\n",
        "  else:\n",
        "    predict_.append(-1)\n",
        "\n",
        "print(\"Prediction: \\n\", predict_)"
      ],
      "execution_count": null,
      "outputs": [
        {
          "output_type": "stream",
          "name": "stdout",
          "text": [
            "Prediction: \n",
            " [1, -1, 1, -1, 1, -1, -1, 1, -1, 1, -1, 1, -1, 1, 1, 1, -1, -1, -1, 1, -1, -1, 1, -1, -1, 1, 1, 1, -1, 1, -1, 1, -1, -1, -1, 1, 1, -1, 1, -1, 1, 1, 1, -1, 1, -1, -1, -1, 1, -1, -1, 1, -1, -1, 1, 1, -1, -1, -1, -1, -1, -1, -1, 1, 1, 1, 1, 1, -1, -1, -1, -1, -1, -1, -1, -1, 1, -1, -1, 1, 1, -1, -1, -1, 1, -1, -1, -1, -1, 1, -1, -1, -1, 1, -1, -1, -1, 1, -1, -1, -1, -1, 1, -1, 1, -1, -1, -1, -1, -1, 1, -1, -1, 1, -1, -1, -1, -1, 1, 1, 1, -1, -1, -1, 1, 1, 1, 1, -1, 1, -1, 1, 1, 1, 1, 1, 1, -1, -1, 1, -1, -1, 1, -1, 1, -1, -1, -1, -1, -1, 1, -1, -1, 1, 1, -1, -1, -1, 1, -1, -1, -1, 1, 1, -1, 1, 1, 1, -1, -1, 1, -1, 1, -1, 1, -1, -1, -1, 1]\n"
          ]
        }
      ]
    },
    {
      "cell_type": "code",
      "metadata": {
        "colab": {
          "base_uri": "https://localhost:8080/"
        },
        "id": "nfkE_9jcJ_ry",
        "outputId": "5a098b8c-f32a-454f-894c-0e056a0477ea"
      },
      "source": [
        "#finding accuracy on test set\n",
        "from sklearn import metrics\n",
        "print('Accuracy:',metrics.accuracy_score(Y_test, predict_))"
      ],
      "execution_count": null,
      "outputs": [
        {
          "output_type": "stream",
          "name": "stdout",
          "text": [
            "Accuracy: 1.0\n"
          ]
        }
      ]
    },
    {
      "cell_type": "code",
      "metadata": {
        "id": "A-w04dQkNqFs"
      },
      "source": [
        ""
      ],
      "execution_count": null,
      "outputs": []
    },
    {
      "cell_type": "markdown",
      "metadata": {
        "id": "sk8VAL4YKD4O"
      },
      "source": [
        "# **2.Half Space classifier implemented using Perceptron Algorithm (implement the iterations).**"
      ]
    },
    {
      "cell_type": "code",
      "metadata": {
        "id": "rANH7gSd0HVM"
      },
      "source": [
        "#import libraries\n",
        "import sklearn.datasets\n",
        "import numpy as np\n",
        "import pandas as pd\n",
        "import matplotlib.pyplot as plt\n",
        "from sklearn.model_selection import train_test_split\n",
        "from sklearn.metrics import accuracy_score"
      ],
      "execution_count": null,
      "outputs": []
    },
    {
      "cell_type": "code",
      "metadata": {
        "colab": {
          "base_uri": "https://localhost:8080/",
          "height": 257
        },
        "id": "02FlRApKfiIA",
        "outputId": "9ffcfd04-4d00-436e-a989-61e435bd7fc3"
      },
      "source": [
        "#load data set\n",
        "breast_cancer = sklearn.datasets.load_breast_cancer()\n",
        "data = pd.DataFrame(breast_cancer.data, columns = breast_cancer.feature_names)\n",
        "data[\"target\"] = breast_cancer.target\n",
        "data.head()\n"
      ],
      "execution_count": null,
      "outputs": [
        {
          "output_type": "execute_result",
          "data": {
            "text/html": [
              "<div>\n",
              "<style scoped>\n",
              "    .dataframe tbody tr th:only-of-type {\n",
              "        vertical-align: middle;\n",
              "    }\n",
              "\n",
              "    .dataframe tbody tr th {\n",
              "        vertical-align: top;\n",
              "    }\n",
              "\n",
              "    .dataframe thead th {\n",
              "        text-align: right;\n",
              "    }\n",
              "</style>\n",
              "<table border=\"1\" class=\"dataframe\">\n",
              "  <thead>\n",
              "    <tr style=\"text-align: right;\">\n",
              "      <th></th>\n",
              "      <th>mean radius</th>\n",
              "      <th>mean texture</th>\n",
              "      <th>mean perimeter</th>\n",
              "      <th>mean area</th>\n",
              "      <th>mean smoothness</th>\n",
              "      <th>mean compactness</th>\n",
              "      <th>mean concavity</th>\n",
              "      <th>mean concave points</th>\n",
              "      <th>mean symmetry</th>\n",
              "      <th>mean fractal dimension</th>\n",
              "      <th>radius error</th>\n",
              "      <th>texture error</th>\n",
              "      <th>perimeter error</th>\n",
              "      <th>area error</th>\n",
              "      <th>smoothness error</th>\n",
              "      <th>compactness error</th>\n",
              "      <th>concavity error</th>\n",
              "      <th>concave points error</th>\n",
              "      <th>symmetry error</th>\n",
              "      <th>fractal dimension error</th>\n",
              "      <th>worst radius</th>\n",
              "      <th>worst texture</th>\n",
              "      <th>worst perimeter</th>\n",
              "      <th>worst area</th>\n",
              "      <th>worst smoothness</th>\n",
              "      <th>worst compactness</th>\n",
              "      <th>worst concavity</th>\n",
              "      <th>worst concave points</th>\n",
              "      <th>worst symmetry</th>\n",
              "      <th>worst fractal dimension</th>\n",
              "      <th>target</th>\n",
              "    </tr>\n",
              "  </thead>\n",
              "  <tbody>\n",
              "    <tr>\n",
              "      <th>0</th>\n",
              "      <td>17.99</td>\n",
              "      <td>10.38</td>\n",
              "      <td>122.80</td>\n",
              "      <td>1001.0</td>\n",
              "      <td>0.11840</td>\n",
              "      <td>0.27760</td>\n",
              "      <td>0.3001</td>\n",
              "      <td>0.14710</td>\n",
              "      <td>0.2419</td>\n",
              "      <td>0.07871</td>\n",
              "      <td>1.0950</td>\n",
              "      <td>0.9053</td>\n",
              "      <td>8.589</td>\n",
              "      <td>153.40</td>\n",
              "      <td>0.006399</td>\n",
              "      <td>0.04904</td>\n",
              "      <td>0.05373</td>\n",
              "      <td>0.01587</td>\n",
              "      <td>0.03003</td>\n",
              "      <td>0.006193</td>\n",
              "      <td>25.38</td>\n",
              "      <td>17.33</td>\n",
              "      <td>184.60</td>\n",
              "      <td>2019.0</td>\n",
              "      <td>0.1622</td>\n",
              "      <td>0.6656</td>\n",
              "      <td>0.7119</td>\n",
              "      <td>0.2654</td>\n",
              "      <td>0.4601</td>\n",
              "      <td>0.11890</td>\n",
              "      <td>0</td>\n",
              "    </tr>\n",
              "    <tr>\n",
              "      <th>1</th>\n",
              "      <td>20.57</td>\n",
              "      <td>17.77</td>\n",
              "      <td>132.90</td>\n",
              "      <td>1326.0</td>\n",
              "      <td>0.08474</td>\n",
              "      <td>0.07864</td>\n",
              "      <td>0.0869</td>\n",
              "      <td>0.07017</td>\n",
              "      <td>0.1812</td>\n",
              "      <td>0.05667</td>\n",
              "      <td>0.5435</td>\n",
              "      <td>0.7339</td>\n",
              "      <td>3.398</td>\n",
              "      <td>74.08</td>\n",
              "      <td>0.005225</td>\n",
              "      <td>0.01308</td>\n",
              "      <td>0.01860</td>\n",
              "      <td>0.01340</td>\n",
              "      <td>0.01389</td>\n",
              "      <td>0.003532</td>\n",
              "      <td>24.99</td>\n",
              "      <td>23.41</td>\n",
              "      <td>158.80</td>\n",
              "      <td>1956.0</td>\n",
              "      <td>0.1238</td>\n",
              "      <td>0.1866</td>\n",
              "      <td>0.2416</td>\n",
              "      <td>0.1860</td>\n",
              "      <td>0.2750</td>\n",
              "      <td>0.08902</td>\n",
              "      <td>0</td>\n",
              "    </tr>\n",
              "    <tr>\n",
              "      <th>2</th>\n",
              "      <td>19.69</td>\n",
              "      <td>21.25</td>\n",
              "      <td>130.00</td>\n",
              "      <td>1203.0</td>\n",
              "      <td>0.10960</td>\n",
              "      <td>0.15990</td>\n",
              "      <td>0.1974</td>\n",
              "      <td>0.12790</td>\n",
              "      <td>0.2069</td>\n",
              "      <td>0.05999</td>\n",
              "      <td>0.7456</td>\n",
              "      <td>0.7869</td>\n",
              "      <td>4.585</td>\n",
              "      <td>94.03</td>\n",
              "      <td>0.006150</td>\n",
              "      <td>0.04006</td>\n",
              "      <td>0.03832</td>\n",
              "      <td>0.02058</td>\n",
              "      <td>0.02250</td>\n",
              "      <td>0.004571</td>\n",
              "      <td>23.57</td>\n",
              "      <td>25.53</td>\n",
              "      <td>152.50</td>\n",
              "      <td>1709.0</td>\n",
              "      <td>0.1444</td>\n",
              "      <td>0.4245</td>\n",
              "      <td>0.4504</td>\n",
              "      <td>0.2430</td>\n",
              "      <td>0.3613</td>\n",
              "      <td>0.08758</td>\n",
              "      <td>0</td>\n",
              "    </tr>\n",
              "    <tr>\n",
              "      <th>3</th>\n",
              "      <td>11.42</td>\n",
              "      <td>20.38</td>\n",
              "      <td>77.58</td>\n",
              "      <td>386.1</td>\n",
              "      <td>0.14250</td>\n",
              "      <td>0.28390</td>\n",
              "      <td>0.2414</td>\n",
              "      <td>0.10520</td>\n",
              "      <td>0.2597</td>\n",
              "      <td>0.09744</td>\n",
              "      <td>0.4956</td>\n",
              "      <td>1.1560</td>\n",
              "      <td>3.445</td>\n",
              "      <td>27.23</td>\n",
              "      <td>0.009110</td>\n",
              "      <td>0.07458</td>\n",
              "      <td>0.05661</td>\n",
              "      <td>0.01867</td>\n",
              "      <td>0.05963</td>\n",
              "      <td>0.009208</td>\n",
              "      <td>14.91</td>\n",
              "      <td>26.50</td>\n",
              "      <td>98.87</td>\n",
              "      <td>567.7</td>\n",
              "      <td>0.2098</td>\n",
              "      <td>0.8663</td>\n",
              "      <td>0.6869</td>\n",
              "      <td>0.2575</td>\n",
              "      <td>0.6638</td>\n",
              "      <td>0.17300</td>\n",
              "      <td>0</td>\n",
              "    </tr>\n",
              "    <tr>\n",
              "      <th>4</th>\n",
              "      <td>20.29</td>\n",
              "      <td>14.34</td>\n",
              "      <td>135.10</td>\n",
              "      <td>1297.0</td>\n",
              "      <td>0.10030</td>\n",
              "      <td>0.13280</td>\n",
              "      <td>0.1980</td>\n",
              "      <td>0.10430</td>\n",
              "      <td>0.1809</td>\n",
              "      <td>0.05883</td>\n",
              "      <td>0.7572</td>\n",
              "      <td>0.7813</td>\n",
              "      <td>5.438</td>\n",
              "      <td>94.44</td>\n",
              "      <td>0.011490</td>\n",
              "      <td>0.02461</td>\n",
              "      <td>0.05688</td>\n",
              "      <td>0.01885</td>\n",
              "      <td>0.01756</td>\n",
              "      <td>0.005115</td>\n",
              "      <td>22.54</td>\n",
              "      <td>16.67</td>\n",
              "      <td>152.20</td>\n",
              "      <td>1575.0</td>\n",
              "      <td>0.1374</td>\n",
              "      <td>0.2050</td>\n",
              "      <td>0.4000</td>\n",
              "      <td>0.1625</td>\n",
              "      <td>0.2364</td>\n",
              "      <td>0.07678</td>\n",
              "      <td>0</td>\n",
              "    </tr>\n",
              "  </tbody>\n",
              "</table>\n",
              "</div>"
            ],
            "text/plain": [
              "   mean radius  mean texture  ...  worst fractal dimension  target\n",
              "0        17.99         10.38  ...                  0.11890       0\n",
              "1        20.57         17.77  ...                  0.08902       0\n",
              "2        19.69         21.25  ...                  0.08758       0\n",
              "3        11.42         20.38  ...                  0.17300       0\n",
              "4        20.29         14.34  ...                  0.07678       0\n",
              "\n",
              "[5 rows x 31 columns]"
            ]
          },
          "metadata": {},
          "execution_count": 44
        }
      ]
    },
    {
      "cell_type": "code",
      "metadata": {
        "colab": {
          "base_uri": "https://localhost:8080/"
        },
        "id": "x-CPMYe8fryD",
        "outputId": "af01a7d9-2ace-4672-a344-9beb0a8ae3c1"
      },
      "source": [
        "data.shape"
      ],
      "execution_count": null,
      "outputs": [
        {
          "output_type": "execute_result",
          "data": {
            "text/plain": [
              "(569, 31)"
            ]
          },
          "metadata": {},
          "execution_count": 45
        }
      ]
    },
    {
      "cell_type": "code",
      "metadata": {
        "colab": {
          "base_uri": "https://localhost:8080/"
        },
        "id": "FUX0RkKH1bQx",
        "outputId": "6822b947-35f6-4963-cba7-ad26bdc6750e"
      },
      "source": [
        "#check null count\n",
        "data.isnull().sum()"
      ],
      "execution_count": null,
      "outputs": [
        {
          "output_type": "execute_result",
          "data": {
            "text/plain": [
              "mean radius                0\n",
              "mean texture               0\n",
              "mean perimeter             0\n",
              "mean area                  0\n",
              "mean smoothness            0\n",
              "mean compactness           0\n",
              "mean concavity             0\n",
              "mean concave points        0\n",
              "mean symmetry              0\n",
              "mean fractal dimension     0\n",
              "radius error               0\n",
              "texture error              0\n",
              "perimeter error            0\n",
              "area error                 0\n",
              "smoothness error           0\n",
              "compactness error          0\n",
              "concavity error            0\n",
              "concave points error       0\n",
              "symmetry error             0\n",
              "fractal dimension error    0\n",
              "worst radius               0\n",
              "worst texture              0\n",
              "worst perimeter            0\n",
              "worst area                 0\n",
              "worst smoothness           0\n",
              "worst compactness          0\n",
              "worst concavity            0\n",
              "worst concave points       0\n",
              "worst symmetry             0\n",
              "worst fractal dimension    0\n",
              "target                     0\n",
              "dtype: int64"
            ]
          },
          "metadata": {},
          "execution_count": 46
        }
      ]
    },
    {
      "cell_type": "code",
      "metadata": {
        "colab": {
          "base_uri": "https://localhost:8080/",
          "height": 349
        },
        "id": "4l0aLSh7fv8v",
        "outputId": "6ef009cd-c55c-4756-fc4a-f0a3e71f906c"
      },
      "source": [
        "data.describe()\n",
        "\n"
      ],
      "execution_count": null,
      "outputs": [
        {
          "output_type": "execute_result",
          "data": {
            "text/html": [
              "<div>\n",
              "<style scoped>\n",
              "    .dataframe tbody tr th:only-of-type {\n",
              "        vertical-align: middle;\n",
              "    }\n",
              "\n",
              "    .dataframe tbody tr th {\n",
              "        vertical-align: top;\n",
              "    }\n",
              "\n",
              "    .dataframe thead th {\n",
              "        text-align: right;\n",
              "    }\n",
              "</style>\n",
              "<table border=\"1\" class=\"dataframe\">\n",
              "  <thead>\n",
              "    <tr style=\"text-align: right;\">\n",
              "      <th></th>\n",
              "      <th>mean radius</th>\n",
              "      <th>mean texture</th>\n",
              "      <th>mean perimeter</th>\n",
              "      <th>mean area</th>\n",
              "      <th>mean smoothness</th>\n",
              "      <th>mean compactness</th>\n",
              "      <th>mean concavity</th>\n",
              "      <th>mean concave points</th>\n",
              "      <th>mean symmetry</th>\n",
              "      <th>mean fractal dimension</th>\n",
              "      <th>radius error</th>\n",
              "      <th>texture error</th>\n",
              "      <th>perimeter error</th>\n",
              "      <th>area error</th>\n",
              "      <th>smoothness error</th>\n",
              "      <th>compactness error</th>\n",
              "      <th>concavity error</th>\n",
              "      <th>concave points error</th>\n",
              "      <th>symmetry error</th>\n",
              "      <th>fractal dimension error</th>\n",
              "      <th>worst radius</th>\n",
              "      <th>worst texture</th>\n",
              "      <th>worst perimeter</th>\n",
              "      <th>worst area</th>\n",
              "      <th>worst smoothness</th>\n",
              "      <th>worst compactness</th>\n",
              "      <th>worst concavity</th>\n",
              "      <th>worst concave points</th>\n",
              "      <th>worst symmetry</th>\n",
              "      <th>worst fractal dimension</th>\n",
              "      <th>target</th>\n",
              "    </tr>\n",
              "  </thead>\n",
              "  <tbody>\n",
              "    <tr>\n",
              "      <th>count</th>\n",
              "      <td>569.000000</td>\n",
              "      <td>569.000000</td>\n",
              "      <td>569.000000</td>\n",
              "      <td>569.000000</td>\n",
              "      <td>569.000000</td>\n",
              "      <td>569.000000</td>\n",
              "      <td>569.000000</td>\n",
              "      <td>569.000000</td>\n",
              "      <td>569.000000</td>\n",
              "      <td>569.000000</td>\n",
              "      <td>569.000000</td>\n",
              "      <td>569.000000</td>\n",
              "      <td>569.000000</td>\n",
              "      <td>569.000000</td>\n",
              "      <td>569.000000</td>\n",
              "      <td>569.000000</td>\n",
              "      <td>569.000000</td>\n",
              "      <td>569.000000</td>\n",
              "      <td>569.000000</td>\n",
              "      <td>569.000000</td>\n",
              "      <td>569.000000</td>\n",
              "      <td>569.000000</td>\n",
              "      <td>569.000000</td>\n",
              "      <td>569.000000</td>\n",
              "      <td>569.000000</td>\n",
              "      <td>569.000000</td>\n",
              "      <td>569.000000</td>\n",
              "      <td>569.000000</td>\n",
              "      <td>569.000000</td>\n",
              "      <td>569.000000</td>\n",
              "      <td>569.000000</td>\n",
              "    </tr>\n",
              "    <tr>\n",
              "      <th>mean</th>\n",
              "      <td>14.127292</td>\n",
              "      <td>19.289649</td>\n",
              "      <td>91.969033</td>\n",
              "      <td>654.889104</td>\n",
              "      <td>0.096360</td>\n",
              "      <td>0.104341</td>\n",
              "      <td>0.088799</td>\n",
              "      <td>0.048919</td>\n",
              "      <td>0.181162</td>\n",
              "      <td>0.062798</td>\n",
              "      <td>0.405172</td>\n",
              "      <td>1.216853</td>\n",
              "      <td>2.866059</td>\n",
              "      <td>40.337079</td>\n",
              "      <td>0.007041</td>\n",
              "      <td>0.025478</td>\n",
              "      <td>0.031894</td>\n",
              "      <td>0.011796</td>\n",
              "      <td>0.020542</td>\n",
              "      <td>0.003795</td>\n",
              "      <td>16.269190</td>\n",
              "      <td>25.677223</td>\n",
              "      <td>107.261213</td>\n",
              "      <td>880.583128</td>\n",
              "      <td>0.132369</td>\n",
              "      <td>0.254265</td>\n",
              "      <td>0.272188</td>\n",
              "      <td>0.114606</td>\n",
              "      <td>0.290076</td>\n",
              "      <td>0.083946</td>\n",
              "      <td>0.627417</td>\n",
              "    </tr>\n",
              "    <tr>\n",
              "      <th>std</th>\n",
              "      <td>3.524049</td>\n",
              "      <td>4.301036</td>\n",
              "      <td>24.298981</td>\n",
              "      <td>351.914129</td>\n",
              "      <td>0.014064</td>\n",
              "      <td>0.052813</td>\n",
              "      <td>0.079720</td>\n",
              "      <td>0.038803</td>\n",
              "      <td>0.027414</td>\n",
              "      <td>0.007060</td>\n",
              "      <td>0.277313</td>\n",
              "      <td>0.551648</td>\n",
              "      <td>2.021855</td>\n",
              "      <td>45.491006</td>\n",
              "      <td>0.003003</td>\n",
              "      <td>0.017908</td>\n",
              "      <td>0.030186</td>\n",
              "      <td>0.006170</td>\n",
              "      <td>0.008266</td>\n",
              "      <td>0.002646</td>\n",
              "      <td>4.833242</td>\n",
              "      <td>6.146258</td>\n",
              "      <td>33.602542</td>\n",
              "      <td>569.356993</td>\n",
              "      <td>0.022832</td>\n",
              "      <td>0.157336</td>\n",
              "      <td>0.208624</td>\n",
              "      <td>0.065732</td>\n",
              "      <td>0.061867</td>\n",
              "      <td>0.018061</td>\n",
              "      <td>0.483918</td>\n",
              "    </tr>\n",
              "    <tr>\n",
              "      <th>min</th>\n",
              "      <td>6.981000</td>\n",
              "      <td>9.710000</td>\n",
              "      <td>43.790000</td>\n",
              "      <td>143.500000</td>\n",
              "      <td>0.052630</td>\n",
              "      <td>0.019380</td>\n",
              "      <td>0.000000</td>\n",
              "      <td>0.000000</td>\n",
              "      <td>0.106000</td>\n",
              "      <td>0.049960</td>\n",
              "      <td>0.111500</td>\n",
              "      <td>0.360200</td>\n",
              "      <td>0.757000</td>\n",
              "      <td>6.802000</td>\n",
              "      <td>0.001713</td>\n",
              "      <td>0.002252</td>\n",
              "      <td>0.000000</td>\n",
              "      <td>0.000000</td>\n",
              "      <td>0.007882</td>\n",
              "      <td>0.000895</td>\n",
              "      <td>7.930000</td>\n",
              "      <td>12.020000</td>\n",
              "      <td>50.410000</td>\n",
              "      <td>185.200000</td>\n",
              "      <td>0.071170</td>\n",
              "      <td>0.027290</td>\n",
              "      <td>0.000000</td>\n",
              "      <td>0.000000</td>\n",
              "      <td>0.156500</td>\n",
              "      <td>0.055040</td>\n",
              "      <td>0.000000</td>\n",
              "    </tr>\n",
              "    <tr>\n",
              "      <th>25%</th>\n",
              "      <td>11.700000</td>\n",
              "      <td>16.170000</td>\n",
              "      <td>75.170000</td>\n",
              "      <td>420.300000</td>\n",
              "      <td>0.086370</td>\n",
              "      <td>0.064920</td>\n",
              "      <td>0.029560</td>\n",
              "      <td>0.020310</td>\n",
              "      <td>0.161900</td>\n",
              "      <td>0.057700</td>\n",
              "      <td>0.232400</td>\n",
              "      <td>0.833900</td>\n",
              "      <td>1.606000</td>\n",
              "      <td>17.850000</td>\n",
              "      <td>0.005169</td>\n",
              "      <td>0.013080</td>\n",
              "      <td>0.015090</td>\n",
              "      <td>0.007638</td>\n",
              "      <td>0.015160</td>\n",
              "      <td>0.002248</td>\n",
              "      <td>13.010000</td>\n",
              "      <td>21.080000</td>\n",
              "      <td>84.110000</td>\n",
              "      <td>515.300000</td>\n",
              "      <td>0.116600</td>\n",
              "      <td>0.147200</td>\n",
              "      <td>0.114500</td>\n",
              "      <td>0.064930</td>\n",
              "      <td>0.250400</td>\n",
              "      <td>0.071460</td>\n",
              "      <td>0.000000</td>\n",
              "    </tr>\n",
              "    <tr>\n",
              "      <th>50%</th>\n",
              "      <td>13.370000</td>\n",
              "      <td>18.840000</td>\n",
              "      <td>86.240000</td>\n",
              "      <td>551.100000</td>\n",
              "      <td>0.095870</td>\n",
              "      <td>0.092630</td>\n",
              "      <td>0.061540</td>\n",
              "      <td>0.033500</td>\n",
              "      <td>0.179200</td>\n",
              "      <td>0.061540</td>\n",
              "      <td>0.324200</td>\n",
              "      <td>1.108000</td>\n",
              "      <td>2.287000</td>\n",
              "      <td>24.530000</td>\n",
              "      <td>0.006380</td>\n",
              "      <td>0.020450</td>\n",
              "      <td>0.025890</td>\n",
              "      <td>0.010930</td>\n",
              "      <td>0.018730</td>\n",
              "      <td>0.003187</td>\n",
              "      <td>14.970000</td>\n",
              "      <td>25.410000</td>\n",
              "      <td>97.660000</td>\n",
              "      <td>686.500000</td>\n",
              "      <td>0.131300</td>\n",
              "      <td>0.211900</td>\n",
              "      <td>0.226700</td>\n",
              "      <td>0.099930</td>\n",
              "      <td>0.282200</td>\n",
              "      <td>0.080040</td>\n",
              "      <td>1.000000</td>\n",
              "    </tr>\n",
              "    <tr>\n",
              "      <th>75%</th>\n",
              "      <td>15.780000</td>\n",
              "      <td>21.800000</td>\n",
              "      <td>104.100000</td>\n",
              "      <td>782.700000</td>\n",
              "      <td>0.105300</td>\n",
              "      <td>0.130400</td>\n",
              "      <td>0.130700</td>\n",
              "      <td>0.074000</td>\n",
              "      <td>0.195700</td>\n",
              "      <td>0.066120</td>\n",
              "      <td>0.478900</td>\n",
              "      <td>1.474000</td>\n",
              "      <td>3.357000</td>\n",
              "      <td>45.190000</td>\n",
              "      <td>0.008146</td>\n",
              "      <td>0.032450</td>\n",
              "      <td>0.042050</td>\n",
              "      <td>0.014710</td>\n",
              "      <td>0.023480</td>\n",
              "      <td>0.004558</td>\n",
              "      <td>18.790000</td>\n",
              "      <td>29.720000</td>\n",
              "      <td>125.400000</td>\n",
              "      <td>1084.000000</td>\n",
              "      <td>0.146000</td>\n",
              "      <td>0.339100</td>\n",
              "      <td>0.382900</td>\n",
              "      <td>0.161400</td>\n",
              "      <td>0.317900</td>\n",
              "      <td>0.092080</td>\n",
              "      <td>1.000000</td>\n",
              "    </tr>\n",
              "    <tr>\n",
              "      <th>max</th>\n",
              "      <td>28.110000</td>\n",
              "      <td>39.280000</td>\n",
              "      <td>188.500000</td>\n",
              "      <td>2501.000000</td>\n",
              "      <td>0.163400</td>\n",
              "      <td>0.345400</td>\n",
              "      <td>0.426800</td>\n",
              "      <td>0.201200</td>\n",
              "      <td>0.304000</td>\n",
              "      <td>0.097440</td>\n",
              "      <td>2.873000</td>\n",
              "      <td>4.885000</td>\n",
              "      <td>21.980000</td>\n",
              "      <td>542.200000</td>\n",
              "      <td>0.031130</td>\n",
              "      <td>0.135400</td>\n",
              "      <td>0.396000</td>\n",
              "      <td>0.052790</td>\n",
              "      <td>0.078950</td>\n",
              "      <td>0.029840</td>\n",
              "      <td>36.040000</td>\n",
              "      <td>49.540000</td>\n",
              "      <td>251.200000</td>\n",
              "      <td>4254.000000</td>\n",
              "      <td>0.222600</td>\n",
              "      <td>1.058000</td>\n",
              "      <td>1.252000</td>\n",
              "      <td>0.291000</td>\n",
              "      <td>0.663800</td>\n",
              "      <td>0.207500</td>\n",
              "      <td>1.000000</td>\n",
              "    </tr>\n",
              "  </tbody>\n",
              "</table>\n",
              "</div>"
            ],
            "text/plain": [
              "       mean radius  mean texture  ...  worst fractal dimension      target\n",
              "count   569.000000    569.000000  ...               569.000000  569.000000\n",
              "mean     14.127292     19.289649  ...                 0.083946    0.627417\n",
              "std       3.524049      4.301036  ...                 0.018061    0.483918\n",
              "min       6.981000      9.710000  ...                 0.055040    0.000000\n",
              "25%      11.700000     16.170000  ...                 0.071460    0.000000\n",
              "50%      13.370000     18.840000  ...                 0.080040    1.000000\n",
              "75%      15.780000     21.800000  ...                 0.092080    1.000000\n",
              "max      28.110000     39.280000  ...                 0.207500    1.000000\n",
              "\n",
              "[8 rows x 31 columns]"
            ]
          },
          "metadata": {},
          "execution_count": 47
        }
      ]
    },
    {
      "cell_type": "code",
      "metadata": {
        "colab": {
          "base_uri": "https://localhost:8080/",
          "height": 279
        },
        "id": "QAyaksT-f4tg",
        "outputId": "fa196655-c4d7-4f4d-d6ca-f0a742fbcadc"
      },
      "source": [
        "# check data set is balanced or not\n",
        "data['target'].value_counts().plot(kind = \"barh\")\n",
        "plt.xlabel(\"Count\")\n",
        "plt.ylabel(\"target\")\n",
        "plt.show()\n",
        "\n"
      ],
      "execution_count": null,
      "outputs": [
        {
          "output_type": "display_data",
          "data": {
            "image/png": "[encoded data removed]",
            "text/plain": [
              "<Figure size 432x288 with 1 Axes>"
            ]
          },
          "metadata": {
            "needs_background": "light"
          }
        }
      ]
    },
    {
      "cell_type": "code",
      "metadata": {
        "id": "0KbMjYEngDBL"
      },
      "source": [
        "from sklearn.preprocessing import MinMaxScaler\n",
        "X = data.drop(\"target\", axis = 1)\n",
        "Y = data[\"target\"]\n",
        "mnscaler = MinMaxScaler()\n",
        "X = mnscaler.fit_transform(X)\n",
        "X = pd.DataFrame(X, columns=data.drop(\"target\",axis = 1).columns)\n",
        "\n",
        "\n"
      ],
      "execution_count": null,
      "outputs": []
    },
    {
      "cell_type": "code",
      "metadata": {
        "id": "EviQMorXgJsE"
      },
      "source": [
        "\n",
        "class Perceptron:\n",
        "  \n",
        "  #constructor\n",
        "  def __init__ (self):\n",
        "    self.w = None\n",
        "    self.b = None\n",
        "    \n",
        "  #model  \n",
        "  def model(self, x):\n",
        "    #print('x',x)\n",
        "    #print('w',self.w)\n",
        "    #print('b',self.b)\n",
        "    #print(self.w)\n",
        "    return 1 if ((np.dot(self.w,x)) >= self.b) else 0\n",
        "  \n",
        "  #predictor to predict on the data based on w\n",
        "  def predict(self, X):\n",
        "    Y = []\n",
        "    X=np.array(X)\n",
        "    for x in X:\n",
        "      result = self.model(x)\n",
        "      Y.append(result)\n",
        "    return np.array(Y)\n",
        "    \n",
        "  def fit(self, X, Y, epochs, lr):\n",
        "    self.w = np.ones(X.shape[1])\n",
        "\n",
        "    \n",
        "    self.b = 0\n",
        "    accuracy = {}\n",
        "    max_accuracy = 0\n",
        "    wt_matrix = []\n",
        "    #for all epochs\n",
        "    for i in range(epochs):\n",
        "      X=np.array(X)\n",
        "      Y=np.array(Y)\n",
        "      for x, y in zip(X, Y):\n",
        "        #print('x',x)\n",
        "        #print('y',y)\n",
        "        y_pred = self.model(x)\n",
        "        if y == 1 and y_pred == 0:\n",
        "          self.w = self.w + lr * x\n",
        "          self.b = self.b - lr * 1\n",
        "        elif y == 0 and y_pred == 1:\n",
        "          self.w = self.w - lr * x\n",
        "          self.b = self.b + lr * 1\n",
        "          \n",
        "      wt_matrix.append(self.w)    \n",
        "      accuracy[i] = accuracy_score(self.predict(X), Y)\n",
        "      if (accuracy[i] > max_accuracy):\n",
        "        max_accuracy = accuracy[i]\n",
        "        chkptw = self.w\n",
        "        chkptb = self.b\n",
        "    #checkpoint (Save the weights and b value)\n",
        "    self.w = chkptw\n",
        "    self.b = chkptb\n",
        "        \n",
        "    #print('m',max_accuracy)\n",
        "    #plot the accuracy values over epochs\n",
        "    accu=list(accuracy.values())\n",
        "    plt.plot(list(accu))\n",
        "    plt.xlabel(\"Epoch #\")\n",
        "    plt.ylabel(\"Accuracy\")\n",
        "    plt.ylim([0, 1])\n",
        "    plt.show()\n",
        "    print(type(wt_matrix))\n",
        "    #return the weight matrix, that contains weights over all epochs\n",
        "    return np.array(wt_matrix)\n"
      ],
      "execution_count": null,
      "outputs": []
    },
    {
      "cell_type": "code",
      "metadata": {
        "colab": {
          "base_uri": "https://localhost:8080/",
          "height": 966
        },
        "id": "VLi3OWvhJ5Ty",
        "outputId": "1e9aad04-ffd2-4e84-c24f-95ae4402854b"
      },
      "source": [
        "#train test split.\n",
        "test_len=[0.3,0.2,0.1]\n",
        "for t in test_len:\n",
        "  print('test_size =', t)\n",
        "  X_train, X_test, Y_train, Y_test = train_test_split(X,Y, test_size = t, stratify = Y, random_state = 1)\n",
        "\n",
        "\n",
        "  perceptron = Perceptron()\n",
        "\n",
        "\n",
        "  wt_matrix = perceptron.fit(X_train, Y_train, 1000, 0.3)\n",
        "  Y_pred_test = perceptron.predict(X_test)\n",
        "  \n",
        "  print(accuracy_score(Y_pred_test, Y_test))\n",
        "\n"
      ],
      "execution_count": null,
      "outputs": [
        {
          "output_type": "stream",
          "name": "stdout",
          "text": [
            "test_size = 0.3\n"
          ]
        },
        {
          "output_type": "display_data",
          "data": {
            "image/png": "[encoded data removed]",
            "text/plain": [
              "<Figure size 432x288 with 1 Axes>"
            ]
          },
          "metadata": {
            "needs_background": "light"
          }
        },
        {
          "output_type": "stream",
          "name": "stdout",
          "text": [
            "<class 'list'>\n",
            "0.9532163742690059\n",
            "test_size = 0.2\n"
          ]
        },
        {
          "output_type": "display_data",
          "data": {
            "image/png": "[encoded data removed]",
            "text/plain": [
              "<Figure size 432x288 with 1 Axes>"
            ]
          },
          "metadata": {
            "needs_background": "light"
          }
        },
        {
          "output_type": "stream",
          "name": "stdout",
          "text": [
            "<class 'list'>\n",
            "0.9824561403508771\n",
            "test_size = 0.1\n"
          ]
        },
        {
          "output_type": "display_data",
          "data": {
            "image/png": "[encoded data removed]",
            "text/plain": [
              "<Figure size 432x288 with 1 Axes>"
            ]
          },
          "metadata": {
            "needs_background": "light"
          }
        },
        {
          "output_type": "stream",
          "name": "stdout",
          "text": [
            "<class 'list'>\n",
            "0.9649122807017544\n"
          ]
        }
      ]
    },
    {
      "cell_type": "code",
      "metadata": {
        "id": "YoeZn7Ip6_Z1"
      },
      "source": [
        "########################################################################################################"
      ],
      "execution_count": null,
      "outputs": []
    },
    {
      "cell_type": "markdown",
      "metadata": {
        "id": "R0UW31eX1IyS"
      },
      "source": [
        "# **3.Logistic Regression Classifier**"
      ]
    },
    {
      "cell_type": "code",
      "metadata": {
        "colab": {
          "base_uri": "https://localhost:8080/",
          "height": 257
        },
        "id": "6coIzkb37Vmh",
        "outputId": "d8ebca56-d55c-49f8-d43a-271544533f8b"
      },
      "source": [
        "import sklearn.datasets\n",
        "import numpy as np\n",
        "import pandas as pd\n",
        "import matplotlib.pyplot as plt\n",
        "from sklearn.model_selection import train_test_split\n",
        "\n",
        "from sklearn.metrics import accuracy_score\n",
        "\n",
        "breast_cancer = sklearn.datasets.load_breast_cancer()\n",
        "\n",
        "\n",
        "data = pd.DataFrame(breast_cancer.data, columns = breast_cancer.feature_names)\n",
        "data[\"target\"] = breast_cancer.target\n",
        "data.head()"
      ],
      "execution_count": null,
      "outputs": [
        {
          "output_type": "execute_result",
          "data": {
            "text/html": [
              "<div>\n",
              "<style scoped>\n",
              "    .dataframe tbody tr th:only-of-type {\n",
              "        vertical-align: middle;\n",
              "    }\n",
              "\n",
              "    .dataframe tbody tr th {\n",
              "        vertical-align: top;\n",
              "    }\n",
              "\n",
              "    .dataframe thead th {\n",
              "        text-align: right;\n",
              "    }\n",
              "</style>\n",
              "<table border=\"1\" class=\"dataframe\">\n",
              "  <thead>\n",
              "    <tr style=\"text-align: right;\">\n",
              "      <th></th>\n",
              "      <th>mean radius</th>\n",
              "      <th>mean texture</th>\n",
              "      <th>mean perimeter</th>\n",
              "      <th>mean area</th>\n",
              "      <th>mean smoothness</th>\n",
              "      <th>mean compactness</th>\n",
              "      <th>mean concavity</th>\n",
              "      <th>mean concave points</th>\n",
              "      <th>mean symmetry</th>\n",
              "      <th>mean fractal dimension</th>\n",
              "      <th>radius error</th>\n",
              "      <th>texture error</th>\n",
              "      <th>perimeter error</th>\n",
              "      <th>area error</th>\n",
              "      <th>smoothness error</th>\n",
              "      <th>compactness error</th>\n",
              "      <th>concavity error</th>\n",
              "      <th>concave points error</th>\n",
              "      <th>symmetry error</th>\n",
              "      <th>fractal dimension error</th>\n",
              "      <th>worst radius</th>\n",
              "      <th>worst texture</th>\n",
              "      <th>worst perimeter</th>\n",
              "      <th>worst area</th>\n",
              "      <th>worst smoothness</th>\n",
              "      <th>worst compactness</th>\n",
              "      <th>worst concavity</th>\n",
              "      <th>worst concave points</th>\n",
              "      <th>worst symmetry</th>\n",
              "      <th>worst fractal dimension</th>\n",
              "      <th>target</th>\n",
              "    </tr>\n",
              "  </thead>\n",
              "  <tbody>\n",
              "    <tr>\n",
              "      <th>0</th>\n",
              "      <td>17.99</td>\n",
              "      <td>10.38</td>\n",
              "      <td>122.80</td>\n",
              "      <td>1001.0</td>\n",
              "      <td>0.11840</td>\n",
              "      <td>0.27760</td>\n",
              "      <td>0.3001</td>\n",
              "      <td>0.14710</td>\n",
              "      <td>0.2419</td>\n",
              "      <td>0.07871</td>\n",
              "      <td>1.0950</td>\n",
              "      <td>0.9053</td>\n",
              "      <td>8.589</td>\n",
              "      <td>153.40</td>\n",
              "      <td>0.006399</td>\n",
              "      <td>0.04904</td>\n",
              "      <td>0.05373</td>\n",
              "      <td>0.01587</td>\n",
              "      <td>0.03003</td>\n",
              "      <td>0.006193</td>\n",
              "      <td>25.38</td>\n",
              "      <td>17.33</td>\n",
              "      <td>184.60</td>\n",
              "      <td>2019.0</td>\n",
              "      <td>0.1622</td>\n",
              "      <td>0.6656</td>\n",
              "      <td>0.7119</td>\n",
              "      <td>0.2654</td>\n",
              "      <td>0.4601</td>\n",
              "      <td>0.11890</td>\n",
              "      <td>0</td>\n",
              "    </tr>\n",
              "    <tr>\n",
              "      <th>1</th>\n",
              "      <td>20.57</td>\n",
              "      <td>17.77</td>\n",
              "      <td>132.90</td>\n",
              "      <td>1326.0</td>\n",
              "      <td>0.08474</td>\n",
              "      <td>0.07864</td>\n",
              "      <td>0.0869</td>\n",
              "      <td>0.07017</td>\n",
              "      <td>0.1812</td>\n",
              "      <td>0.05667</td>\n",
              "      <td>0.5435</td>\n",
              "      <td>0.7339</td>\n",
              "      <td>3.398</td>\n",
              "      <td>74.08</td>\n",
              "      <td>0.005225</td>\n",
              "      <td>0.01308</td>\n",
              "      <td>0.01860</td>\n",
              "      <td>0.01340</td>\n",
              "      <td>0.01389</td>\n",
              "      <td>0.003532</td>\n",
              "      <td>24.99</td>\n",
              "      <td>23.41</td>\n",
              "      <td>158.80</td>\n",
              "      <td>1956.0</td>\n",
              "      <td>0.1238</td>\n",
              "      <td>0.1866</td>\n",
              "      <td>0.2416</td>\n",
              "      <td>0.1860</td>\n",
              "      <td>0.2750</td>\n",
              "      <td>0.08902</td>\n",
              "      <td>0</td>\n",
              "    </tr>\n",
              "    <tr>\n",
              "      <th>2</th>\n",
              "      <td>19.69</td>\n",
              "      <td>21.25</td>\n",
              "      <td>130.00</td>\n",
              "      <td>1203.0</td>\n",
              "      <td>0.10960</td>\n",
              "      <td>0.15990</td>\n",
              "      <td>0.1974</td>\n",
              "      <td>0.12790</td>\n",
              "      <td>0.2069</td>\n",
              "      <td>0.05999</td>\n",
              "      <td>0.7456</td>\n",
              "      <td>0.7869</td>\n",
              "      <td>4.585</td>\n",
              "      <td>94.03</td>\n",
              "      <td>0.006150</td>\n",
              "      <td>0.04006</td>\n",
              "      <td>0.03832</td>\n",
              "      <td>0.02058</td>\n",
              "      <td>0.02250</td>\n",
              "      <td>0.004571</td>\n",
              "      <td>23.57</td>\n",
              "      <td>25.53</td>\n",
              "      <td>152.50</td>\n",
              "      <td>1709.0</td>\n",
              "      <td>0.1444</td>\n",
              "      <td>0.4245</td>\n",
              "      <td>0.4504</td>\n",
              "      <td>0.2430</td>\n",
              "      <td>0.3613</td>\n",
              "      <td>0.08758</td>\n",
              "      <td>0</td>\n",
              "    </tr>\n",
              "    <tr>\n",
              "      <th>3</th>\n",
              "      <td>11.42</td>\n",
              "      <td>20.38</td>\n",
              "      <td>77.58</td>\n",
              "      <td>386.1</td>\n",
              "      <td>0.14250</td>\n",
              "      <td>0.28390</td>\n",
              "      <td>0.2414</td>\n",
              "      <td>0.10520</td>\n",
              "      <td>0.2597</td>\n",
              "      <td>0.09744</td>\n",
              "      <td>0.4956</td>\n",
              "      <td>1.1560</td>\n",
              "      <td>3.445</td>\n",
              "      <td>27.23</td>\n",
              "      <td>0.009110</td>\n",
              "      <td>0.07458</td>\n",
              "      <td>0.05661</td>\n",
              "      <td>0.01867</td>\n",
              "      <td>0.05963</td>\n",
              "      <td>0.009208</td>\n",
              "      <td>14.91</td>\n",
              "      <td>26.50</td>\n",
              "      <td>98.87</td>\n",
              "      <td>567.7</td>\n",
              "      <td>0.2098</td>\n",
              "      <td>0.8663</td>\n",
              "      <td>0.6869</td>\n",
              "      <td>0.2575</td>\n",
              "      <td>0.6638</td>\n",
              "      <td>0.17300</td>\n",
              "      <td>0</td>\n",
              "    </tr>\n",
              "    <tr>\n",
              "      <th>4</th>\n",
              "      <td>20.29</td>\n",
              "      <td>14.34</td>\n",
              "      <td>135.10</td>\n",
              "      <td>1297.0</td>\n",
              "      <td>0.10030</td>\n",
              "      <td>0.13280</td>\n",
              "      <td>0.1980</td>\n",
              "      <td>0.10430</td>\n",
              "      <td>0.1809</td>\n",
              "      <td>0.05883</td>\n",
              "      <td>0.7572</td>\n",
              "      <td>0.7813</td>\n",
              "      <td>5.438</td>\n",
              "      <td>94.44</td>\n",
              "      <td>0.011490</td>\n",
              "      <td>0.02461</td>\n",
              "      <td>0.05688</td>\n",
              "      <td>0.01885</td>\n",
              "      <td>0.01756</td>\n",
              "      <td>0.005115</td>\n",
              "      <td>22.54</td>\n",
              "      <td>16.67</td>\n",
              "      <td>152.20</td>\n",
              "      <td>1575.0</td>\n",
              "      <td>0.1374</td>\n",
              "      <td>0.2050</td>\n",
              "      <td>0.4000</td>\n",
              "      <td>0.1625</td>\n",
              "      <td>0.2364</td>\n",
              "      <td>0.07678</td>\n",
              "      <td>0</td>\n",
              "    </tr>\n",
              "  </tbody>\n",
              "</table>\n",
              "</div>"
            ],
            "text/plain": [
              "   mean radius  mean texture  ...  worst fractal dimension  target\n",
              "0        17.99         10.38  ...                  0.11890       0\n",
              "1        20.57         17.77  ...                  0.08902       0\n",
              "2        19.69         21.25  ...                  0.08758       0\n",
              "3        11.42         20.38  ...                  0.17300       0\n",
              "4        20.29         14.34  ...                  0.07678       0\n",
              "\n",
              "[5 rows x 31 columns]"
            ]
          },
          "metadata": {},
          "execution_count": 52
        }
      ]
    },
    {
      "cell_type": "code",
      "metadata": {
        "colab": {
          "base_uri": "https://localhost:8080/"
        },
        "id": "hewU8-Tc1Sz1",
        "outputId": "d6a6b8a1-1c86-4a66-b605-4165f0957c1a"
      },
      "source": [
        "data.isnull().sum()"
      ],
      "execution_count": null,
      "outputs": [
        {
          "output_type": "execute_result",
          "data": {
            "text/plain": [
              "mean radius                0\n",
              "mean texture               0\n",
              "mean perimeter             0\n",
              "mean area                  0\n",
              "mean smoothness            0\n",
              "mean compactness           0\n",
              "mean concavity             0\n",
              "mean concave points        0\n",
              "mean symmetry              0\n",
              "mean fractal dimension     0\n",
              "radius error               0\n",
              "texture error              0\n",
              "perimeter error            0\n",
              "area error                 0\n",
              "smoothness error           0\n",
              "compactness error          0\n",
              "concavity error            0\n",
              "concave points error       0\n",
              "symmetry error             0\n",
              "fractal dimension error    0\n",
              "worst radius               0\n",
              "worst texture              0\n",
              "worst perimeter            0\n",
              "worst area                 0\n",
              "worst smoothness           0\n",
              "worst compactness          0\n",
              "worst concavity            0\n",
              "worst concave points       0\n",
              "worst symmetry             0\n",
              "worst fractal dimension    0\n",
              "class                      0\n",
              "dtype: int64"
            ]
          },
          "metadata": {},
          "execution_count": 35
        }
      ]
    },
    {
      "cell_type": "code",
      "metadata": {
        "id": "HjwW_TDn7Vp-"
      },
      "source": [
        "from sklearn.preprocessing import MinMaxScaler\n",
        "#perform scaling on the data.\n",
        "X = data.drop(\"target\", axis = 1)\n",
        "Y = data[\"target\"]\n",
        "mnscaler = MinMaxScaler()\n",
        "X = mnscaler.fit_transform(X)\n",
        "X = pd.DataFrame(X, columns=data.drop(\"target\",axis = 1).columns)\n",
        "\n",
        "\n"
      ],
      "execution_count": null,
      "outputs": []
    },
    {
      "cell_type": "code",
      "metadata": {
        "id": "oyGFhwMo7VtZ"
      },
      "source": [
        "\n",
        "from numpy import log, dot, e\n",
        "from numpy.random import rand\n",
        "\n",
        "class LogisticRegression:\n",
        "    \n",
        "    def __init__ (self):\n",
        "      self.w = None\n",
        "      self.b = None\n",
        "    def sigmoid(self, z): return 1 / (1 + e**(-z))\n",
        "    \n",
        "    def cost_function(self, X, y, weights):                 \n",
        "        z = dot(X, weights)\n",
        "        #print(X.shape)\n",
        "        #print(weights.shape)\n",
        "        predict_1 = y * log(self.sigmoid(z))\n",
        "        predict_0 = (1 - y) * log(1 - self.sigmoid(z))\n",
        "        return -sum(predict_1 + predict_0) / len(X)\n",
        "    \n",
        "    def fit(self, X, y, epochs, lr):        \n",
        "        loss = []\n",
        "        weights = rand(X.shape[1])\n",
        "        N = len(X)\n",
        "                 \n",
        "        for _ in range(epochs):        \n",
        "            \n",
        "            y_hat = self.sigmoid(dot(X, weights))\n",
        "            weights -= lr * dot(X.T,  y_hat - y) / N            \n",
        "            \n",
        "            loss.append(self.cost_function(X, y, weights)) \n",
        "            \n",
        "        self.weights = weights\n",
        "        self.loss = loss\n",
        "    \n",
        "    def predict(self, X):        \n",
        "        \n",
        "        z = dot(X, self.weights)\n",
        "        \n",
        "        return [1 if i > 0.5 else 0 for i in self.sigmoid(z)]\n"
      ],
      "execution_count": null,
      "outputs": []
    },
    {
      "cell_type": "code",
      "metadata": {
        "colab": {
          "base_uri": "https://localhost:8080/"
        },
        "id": "W-vtSp9t7Vw6",
        "outputId": "2efcd2f2-3732-46d3-99f7-fa80c8faefa6"
      },
      "source": [
        "#train test split.\n",
        "test_len=[0.3,0.2,0.1]\n",
        "for t in test_len:\n",
        "  print('test_size =', t)\n",
        "  X_train, X_test, Y_train, Y_test = train_test_split(X,Y, test_size = t, stratify = Y, random_state = 1)\n",
        "\n",
        "\n",
        "  Logistic = LogisticRegression()\n",
        "\n",
        "\n",
        "  wt_matrix = Logistic.fit(X_train, Y_train, 1000, 0.3)\n",
        " \n",
        "  Y_pred_test = Logistic.predict(X_test)\n",
        "  \n",
        "  print(accuracy_score(Y_pred_test, Y_test))\n"
      ],
      "execution_count": null,
      "outputs": [
        {
          "output_type": "stream",
          "name": "stdout",
          "text": [
            "test_size = 0.3\n",
            "0.8947368421052632\n",
            "test_size = 0.2\n",
            "0.9122807017543859\n",
            "test_size = 0.1\n",
            "0.9298245614035088\n"
          ]
        }
      ]
    },
    {
      "cell_type": "code",
      "metadata": {
        "id": "6xCziSKNTsPQ"
      },
      "source": [
        ""
      ],
      "execution_count": null,
      "outputs": []
    },
    {
      "cell_type": "code",
      "metadata": {
        "id": "K0x7xhBhMvYb"
      },
      "source": [
        "###########################################################################"
      ],
      "execution_count": null,
      "outputs": []
    },
    {
      "cell_type": "code",
      "metadata": {
        "id": "6hhoi3yUbAbk"
      },
      "source": [
        ""
      ],
      "execution_count": null,
      "outputs": []
    },
    {
      "cell_type": "code",
      "metadata": {
        "id": "Eek8kxzmbAfE"
      },
      "source": [
        ""
      ],
      "execution_count": null,
      "outputs": []
    }
  ]
}