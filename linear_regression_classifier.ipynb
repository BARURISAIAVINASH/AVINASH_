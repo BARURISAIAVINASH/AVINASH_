{
  "nbformat": 4,
  "nbformat_minor": 0,
  "metadata": {
    "colab": {
      "name": " linear regression classifier.ipynb",
      "provenance": [],
      "collapsed_sections": []
    },
    "kernelspec": {
      "name": "python3",
      "display_name": "Python 3"
    },
    "language_info": {
      "name": "python"
    }
  },
  "cells": [
    {
      "cell_type": "code",
      "metadata": {
        "id": "zSyOoQ86FHPb"
      },
      "source": [
        "################################################################################################################"
      ],
      "execution_count": null,
      "outputs": []
    },
    {
      "cell_type": "markdown",
      "metadata": {
        "id": "tamRjQIzi5Me"
      },
      "source": [
        "# **linear regression - Gradient descent**"
      ]
    },
    {
      "cell_type": "code",
      "metadata": {
        "id": "JyCEUw4hFHYj"
      },
      "source": [
        "import matplotlib.pyplot as plt\n",
        "import pandas as pd\n",
        "import numpy as np"
      ],
      "execution_count": 228,
      "outputs": []
    },
    {
      "cell_type": "code",
      "metadata": {
        "id": "1jrq2IwLFHbb"
      },
      "source": [
        "experience= np.array([2.3,5.1,1.5,3.9,8.7,3.6,1.2,8.1,3.5,5,1.6,1.6,2.4,2.9,5.4])\n",
        "salary = np.array([2.1,4.8,1.7,3.6,8.8,3.2,1.0,8.0,2.5,6,1.1,1.4,2.4,3.9,4.9])\n",
        "n = np.size(experience)\n",
        "#n=np.size(X)"
      ],
      "execution_count": 229,
      "outputs": []
    },
    {
      "cell_type": "code",
      "metadata": {
        "colab": {
          "base_uri": "https://localhost:8080/",
          "height": 279
        },
        "id": "eEsSkazCFAEM",
        "outputId": "428ee3b2-b440-46e0-b5e4-260522b70c1a"
      },
      "source": [
        "plt.scatter(experience,salary, color = 'red')\n",
        "plt.xlabel(\"Experience\")\n",
        "plt.ylabel(\"Salary\")\n",
        "plt.show()\n",
        " "
      ],
      "execution_count": 230,
      "outputs": [
        {
          "output_type": "display_data",
          "data": {
            "image/png": "[encoded data removed]",
            "text/plain": [
              "<Figure size 432x288 with 1 Axes>"
            ]
          },
          "metadata": {
            "needs_background": "light"
          }
        }
      ]
    },
    {
      "cell_type": "code",
      "metadata": {
        "id": "aC5qZMxzRHU8"
      },
      "source": [
        "#initialize the parameters\n",
        "c = 0                  #intercept\n",
        "m = 0                  #Slop\n",
        "lr = 0.0001             #Learning rate\n",
        "iterations = 1000       # Number of iterations\n",
        "error = []              # Error array to calculate cost for each iterations.\n",
        "for itr in range(iterations):\n",
        "    error_cost = 0\n",
        "    cost_c = 0\n",
        "    cost_m = 0\n",
        "    for i in range(len(experience)):\n",
        "        y_pred = c+m*experience[i]   # predict value for given experience\n",
        "        error_cost = error_cost +(salary[i]-y_pred)**2\n",
        "        for j in range(len(experience)):\n",
        "            partial_wrt_c = -2 *(salary[j] - (c + m*experience[j]))                #partial derivative w.r.t c\n",
        "            partial_wrt_m = (-2*experience[j])*(salary[j]-(c + m*experience[j]))   #partial derivative w.r.t m\n",
        "            cost_c = cost_c + partial_wrt_c      #calculate cost for each number and add\n",
        "            cost_m = cost_m + partial_wrt_m      #calculate cost for each number and add\n",
        "        c = c - lr * cost_c    #update c\n",
        "        m = m - lr * cost_m    #update m\n",
        "        #print(itr,a0,a1)          #Check iteration and updated c and m\n",
        "    error.append(error_cost)      #Append the data in array"
      ],
      "execution_count": 231,
      "outputs": []
    },
    {
      "cell_type": "code",
      "metadata": {
        "colab": {
          "base_uri": "https://localhost:8080/"
        },
        "id": "GjOs2hvjRHXq",
        "outputId": "b8f5817f-8117-468a-da98-f1048290ee38"
      },
      "source": [
        "print(c)\n",
        "print(m)"
      ],
      "execution_count": 232,
      "outputs": [
        {
          "output_type": "stream",
          "name": "stdout",
          "text": [
            "-0.16401221851246695\n",
            "1.0186651985508275\n"
          ]
        }
      ]
    },
    {
      "cell_type": "code",
      "metadata": {
        "colab": {
          "base_uri": "https://localhost:8080/",
          "height": 367
        },
        "id": "N6r2DIUoRHeI",
        "outputId": "41132417-10c0-452c-906a-5e53095d6059"
      },
      "source": [
        "plt.figure(figsize=(10,5))\n",
        "plt.plot(np.arange(1,len(error)+1),error,color='red',linewidth = 5)\n",
        "plt.title(\"Iteration vr error\")\n",
        "plt.xlabel(\"iterations\")\n",
        "plt.ylabel(\"Error\")"
      ],
      "execution_count": 233,
      "outputs": [
        {
          "output_type": "execute_result",
          "data": {
            "text/plain": [
              "Text(0, 0.5, 'Error')"
            ]
          },
          "metadata": {},
          "execution_count": 233
        },
        {
          "output_type": "display_data",
          "data": {
            "image/png": "[encoded data removed]",
            "text/plain": [
              "<Figure size 720x360 with 1 Axes>"
            ]
          },
          "metadata": {
            "needs_background": "light"
          }
        }
      ]
    },
    {
      "cell_type": "code",
      "metadata": {
        "colab": {
          "base_uri": "https://localhost:8080/"
        },
        "id": "tkibgjGORHgg",
        "outputId": "9a4809bc-357a-4c45-97b9-08d5365b39ed"
      },
      "source": [
        "pred = c+m*experience\n",
        "print(pred)"
      ],
      "execution_count": 234,
      "outputs": [
        {
          "output_type": "stream",
          "name": "stdout",
          "text": [
            "[2.17891774 5.03118029 1.36398558 3.80878206 8.69837501 3.5031825\n",
            " 1.05838602 8.08717589 3.40131598 4.92931377 1.4658521  1.4658521\n",
            " 2.28078426 2.79011686 5.33677985]\n"
          ]
        }
      ]
    },
    {
      "cell_type": "code",
      "metadata": {
        "colab": {
          "base_uri": "https://localhost:8080/",
          "height": 296
        },
        "id": "aynSF5XJRHh8",
        "outputId": "2acb57c6-8e98-469a-c746-3460316d68bf"
      },
      "source": [
        "plt.scatter(experience,salary,color = 'red')\n",
        "plt.plot(experience,pred, color = 'green')\n",
        "plt.xlabel(\"experience\")\n",
        "plt.ylabel(\"salary\")"
      ],
      "execution_count": 235,
      "outputs": [
        {
          "output_type": "execute_result",
          "data": {
            "text/plain": [
              "Text(0, 0.5, 'salary')"
            ]
          },
          "metadata": {},
          "execution_count": 235
        },
        {
          "output_type": "display_data",
          "data": {
            "image/png": "[encoded data removed]",
            "text/plain": [
              "<Figure size 432x288 with 1 Axes>"
            ]
          },
          "metadata": {
            "needs_background": "light"
          }
        }
      ]
    },
    {
      "cell_type": "code",
      "metadata": {
        "colab": {
          "base_uri": "https://localhost:8080/"
        },
        "id": "bDFSyx1ZRHnB",
        "outputId": "1549e618-89e8-4a7e-e629-86f7f8b833c3"
      },
      "source": [
        "error1 = salary - pred\n",
        "se = np.sum(error1 ** 2)\n",
        "mse = se/n\n",
        "print(\"mean squared error is\", mse)\n",
        " "
      ],
      "execution_count": 236,
      "outputs": [
        {
          "output_type": "stream",
          "name": "stdout",
          "text": [
            "mean squared error is 0.2575451445620515\n"
          ]
        }
      ]
    },
    {
      "cell_type": "code",
      "metadata": {
        "colab": {
          "base_uri": "https://localhost:8080/"
        },
        "id": "WxSuz5XKRHua",
        "outputId": "7cd11eb1-8930-4e6a-c6b9-e6878ffffa0a"
      },
      "source": [
        "from sklearn.linear_model import LinearRegression\n",
        "from sklearn.metrics import mean_squared_error \n",
        "experience = experience.reshape(-1,1)\n",
        "model = LinearRegression()\n",
        "model.fit(experience,salary)\n",
        "salary_pred = model.predict(experience)\n",
        "Mse = mean_squared_error(salary, salary_pred)\n",
        "print('slop', model.coef_)\n",
        "print(\"Intercept\", model.intercept_)\n",
        "print(\"MSE\", Mse)"
      ],
      "execution_count": 237,
      "outputs": [
        {
          "output_type": "stream",
          "name": "stdout",
          "text": [
            "slop [1.0186652]\n",
            "Intercept -0.16401221851246817\n",
            "MSE 0.25754514456205163\n"
          ]
        }
      ]
    },
    {
      "cell_type": "code",
      "metadata": {
        "id": "U7XtW_IRjb7y"
      },
      "source": [
        ""
      ],
      "execution_count": 237,
      "outputs": []
    },
    {
      "cell_type": "markdown",
      "metadata": {
        "id": "nabs65bsjc5-"
      },
      "source": [
        "# **pseudo-inverse method**"
      ]
    },
    {
      "cell_type": "code",
      "metadata": {
        "id": "JtR-LlE3jcFF"
      },
      "source": [
        "X= np.array([2.3,5.1,1.5,3.9,8.7,3.6,1.2,8.1,3.5,5,1.6,1.6,2.4,2.9,5.4])\n",
        "y = np.array([2.1,4.8,1.7,3.6,8.8,3.2,1.0,8.0,2.5,6,1.1,1.4,2.4,3.9,4.9])\n",
        "n = len(x)\n",
        "#n=np.size(X)"
      ],
      "execution_count": 244,
      "outputs": []
    },
    {
      "cell_type": "code",
      "metadata": {
        "colab": {
          "base_uri": "https://localhost:8080/",
          "height": 279
        },
        "id": "RF3nOmZAkAYD",
        "outputId": "b0f36892-760d-4063-9886-8da085c88191"
      },
      "source": [
        "plt.scatter(experience,salary, color = 'red')\n",
        "plt.xlabel(\"x\")\n",
        "plt.ylabel(\"y\")\n",
        "plt.show()"
      ],
      "execution_count": 216,
      "outputs": [
        {
          "output_type": "display_data",
          "data": {
            "image/png": "[encoded data removed]",
            "text/plain": [
              "<Figure size 432x288 with 1 Axes>"
            ]
          },
          "metadata": {
            "needs_background": "light"
          }
        }
      ]
    },
    {
      "cell_type": "code",
      "metadata": {
        "id": "cqHV2OHGZzyU"
      },
      "source": [
        "X=X.reshape(-1,1)\n",
        "y=y.reshape(-1,1)"
      ],
      "execution_count": 217,
      "outputs": []
    },
    {
      "cell_type": "code",
      "metadata": {
        "id": "ujiM0Y6HliL1"
      },
      "source": [
        "import numpy as np\n",
        "from numpy.linalg import inv, pinv\n",
        "import numpy as np\n",
        "from numpy.linalg import inv, pinv\n",
        "\n",
        "def calculate_theta(X, y):\n",
        "    #theta = np.matmul(np.matmul(inv(np.matmul(X.T, X)), X.T), y)\n",
        "    #or\n",
        "    theta = np.matmul(pinv(X), y)\n",
        "    # hypothesis = x0*theta0 + x1*theta1 + x2*theta2 + ...\n",
        "    return theta\n",
        "\n",
        "\n",
        "\n",
        "\n",
        "def noraml_equation(X, y):\n",
        "    new_X = np.append(np.ones((X.shape[0], 1)), X, axis=1)\n",
        "    theta =calculate_theta(new_X, y)\n",
        "    #theta=np.matmul(pinv(X), y)\n",
        "    print(theta.shape)\n",
        "\n",
        "    # Equation for 1 feature and 1 bias\n",
        "    # y = mx + c\n",
        "    m = theta[1]\n",
        "    c = theta[0]\n",
        "    print(\"Value of m : \", m)\n",
        "    print(\"Value of c : \", c)\n",
        "\n",
        "    #plot data\n",
        "    plotData(X, y, \"Linear Regression with Normal Equation.\")\n",
        "    abline(m, c)\n",
        "#Visualizting cost function, data and prediction \n",
        "%matplotlib inline\n",
        "import matplotlib.pyplot as plt\n",
        "\n",
        "def plotData(X, y, title, markersize=12):\n",
        "    plt.plot(X, y, 'b+', markersize=markersize)\n",
        "    #plt.axis([0, 10, 0, 10])\n",
        "    X_label = plt.xlabel('X Values')\n",
        "    Y_label = plt.ylabel('Y Values')\n",
        "    X_label.set_color(\"#FFFFFF\")\n",
        "    Y_label.set_color(\"#FFFFFF\")\n",
        "    plt.title(title)\n",
        "\n",
        "def abline(slope, intercept):\n",
        "    \"\"\"Plot a line from slope and intercept\"\"\"\n",
        "    axes = plt.gca()\n",
        "    x_vals = np.array(axes.get_xlim())\n",
        "    y_vals = intercept + slope * x_vals\n",
        "    plt.plot(x_vals, y_vals, 'g--')\n",
        "    plt.show()\n",
        "def plotCostFunction(J_history):\n",
        "    X = np.arange(J_history.shape[0])\n",
        "    y = J_history\n",
        "    plt.plot(X, y, 'b--')\n",
        "    X_label = plt.xlabel('Iteration')\n",
        "    Y_label = plt.ylabel('Cost')\n",
        "    X_label.set_color(\"#FFFFFF\")\n",
        "    Y_label.set_color(\"#FFFFFF\")\n",
        "    plt.title('Cost function changes over no of iterations')\n",
        "    plt.show()"
      ],
      "execution_count": 218,
      "outputs": []
    },
    {
      "cell_type": "code",
      "metadata": {
        "colab": {
          "base_uri": "https://localhost:8080/",
          "height": 346
        },
        "id": "oPGTbl0Kl3h7",
        "outputId": "26357ac0-6136-4bd8-9cc0-cb75fefe7edf"
      },
      "source": [
        "noraml_equation(X,y)"
      ],
      "execution_count": 219,
      "outputs": [
        {
          "output_type": "stream",
          "name": "stdout",
          "text": [
            "(2, 1)\n",
            "Value of m :  [1.0186652]\n",
            "Value of c :  [-0.16401222]\n"
          ]
        },
        {
          "output_type": "display_data",
          "data": {
            "image/png": "[encoded data removed]",
            "text/plain": [
              "<Figure size 432x288 with 1 Axes>"
            ]
          },
          "metadata": {
            "needs_background": "light"
          }
        }
      ]
    },
    {
      "cell_type": "code",
      "metadata": {
        "colab": {
          "base_uri": "https://localhost:8080/"
        },
        "id": "kBl3PQlTmJlf",
        "outputId": "5c3fa6f5-d82c-4f25-b45b-8f203f81dda1"
      },
      "source": [
        "pred = c+m*x\n",
        "print(pred)"
      ],
      "execution_count": 239,
      "outputs": [
        {
          "output_type": "stream",
          "name": "stdout",
          "text": [
            "[2.17891774 5.03118029 1.36398558 3.80878206 8.69837501 3.5031825\n",
            " 1.05838602 8.08717589 3.40131598 4.92931377 1.4658521  1.4658521\n",
            " 2.28078426 2.79011686 5.33677985]\n"
          ]
        }
      ]
    },
    {
      "cell_type": "code",
      "metadata": {
        "colab": {
          "base_uri": "https://localhost:8080/",
          "height": 296
        },
        "id": "1Sbn-hgRmLs_",
        "outputId": "b3ea3acc-7c46-4301-a001-1a4bc938b4a3"
      },
      "source": [
        "plt.scatter(x,y,color = 'red')\n",
        "plt.plot(x,pred, color = 'green')\n",
        "plt.xlabel(\"x\")\n",
        "plt.ylabel(\"y\")"
      ],
      "execution_count": 240,
      "outputs": [
        {
          "output_type": "execute_result",
          "data": {
            "text/plain": [
              "Text(0, 0.5, 'y')"
            ]
          },
          "metadata": {},
          "execution_count": 240
        },
        {
          "output_type": "display_data",
          "data": {
            "image/png": "[encoded data removed]",
            "text/plain": [
              "<Figure size 432x288 with 1 Axes>"
            ]
          },
          "metadata": {
            "needs_background": "light"
          }
        }
      ]
    },
    {
      "cell_type": "code",
      "metadata": {
        "colab": {
          "base_uri": "https://localhost:8080/"
        },
        "id": "W4q-GLeAq8DW",
        "outputId": "49063e26-ee42-4052-db82-ef52b887b623"
      },
      "source": [
        "error1 = y - pred\n",
        "se = np.sum(error1 ** 2)\n",
        "#print(mse)\n",
        "mse = se/n\n",
        "#print(mse)\n",
        "print(\"mean squared error is\", mse)"
      ],
      "execution_count": 246,
      "outputs": [
        {
          "output_type": "stream",
          "name": "stdout",
          "text": [
            "mean squared error is 0.2575451445620515\n"
          ]
        }
      ]
    },
    {
      "cell_type": "code",
      "metadata": {
        "id": "XA0QXgnCrF4b"
      },
      "source": [
        ""
      ],
      "execution_count": null,
      "outputs": []
    }
  ]
}