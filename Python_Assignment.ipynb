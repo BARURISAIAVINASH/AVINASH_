{
  "nbformat": 4,
  "nbformat_minor": 0,
  "metadata": {
    "kernelspec": {
      "display_name": "Python 3",
      "language": "python",
      "name": "python3"
    },
    "language_info": {
      "codemirror_mode": {
        "name": "ipython",
        "version": 3
      },
      "file_extension": ".py",
      "mimetype": "text/x-python",
      "name": "python",
      "nbconvert_exporter": "python",
      "pygments_lexer": "ipython3",
      "version": "3.6.8"
    },
    "colab": {
      "name": "Copy of 1.Python Assignment.ipynb",
      "provenance": [],
      "collapsed_sections": [],
      "include_colab_link": true
    }
  },
  "cells": [
    {
      "cell_type": "markdown",
      "metadata": {
        "id": "view-in-github",
        "colab_type": "text"
      },
      "source": [
        "<a href=\"https://colab.research.google.com/github/BARURISAIAVINASH/AVINASH_datascience/blob/main/Python_Assignment.ipynb\" target=\"_parent\"><img src=\"https://colab.research.google.com/assets/colab-badge.svg\" alt=\"Open In Colab\"/></a>"
      ]
    },
    {
      "cell_type": "markdown",
      "metadata": {
        "id": "l0ZzOlyxB-kf"
      },
      "source": [
        "<h1>Python: without numpy or sklearn </h1>"
      ]
    },
    {
      "cell_type": "markdown",
      "metadata": {
        "id": "C0xO8JV9B-ki"
      },
      "source": [
        "<h3> Q1: Given two matrices please print the product of those two matrices </h3>\n",
        "<pre>\n",
        "\n",
        "Ex 1: A   = [[1 3 4]\n",
        "             [2 5 7]\n",
        "             [5 9 6]]\n",
        "      B   = [[1 0 0]\n",
        "             [0 1 0]\n",
        "             [0 0 1]]\n",
        "      A*B = [[1 3 4]\n",
        "             [2 5 7]\n",
        "             [5 9 6]]\n",
        "\n",
        "     \n",
        "Ex 2: A   = [[1 2]\n",
        "             [3 4]]\n",
        "      B   = [[1 2 3 4 5]\n",
        "             [5 6 7 8 9]]\n",
        "      A*B = [[11 14 17 20 23]\n",
        "             [23 30 36 42 51]]\n",
        "             \n",
        "Ex 3: A   = [[1 2]\n",
        "             [3 4]]\n",
        "      B   = [[1 4]\n",
        "             [5 6]\n",
        "             [7 8]\n",
        "             [9 6]]\n",
        "      A*B =Not possible\n",
        "</pre>"
      ]
    },
    {
      "cell_type": "code",
      "metadata": {
        "id": "rnssAfpgB-kj",
        "colab": {
          "base_uri": "https://localhost:8080/"
        },
        "outputId": "1e3ecec4-fe22-458b-adaf-6ed86ca1b158"
      },
      "source": [
        "# write your python code here\n",
        "# you can take the above example as sample input for your program to test\n",
        "# it should work for any general input try not to hard code for only given input examples\n",
        "\n",
        "\n",
        "# you can free to change all these codes/structure\n",
        "# here A and B are list of lists\n",
        "\n",
        "A   = [[1 ,2],\n",
        "      [3, 4]]\n",
        "B   = [[1 ,2 ,3 ,4 ,5],\n",
        "      [5, 6 ,7 ,8 ,9]]\n",
        "    \n",
        "def matrix_mul(A, B): \n",
        "  if len(A[0])==len(B):\n",
        "  \n",
        "  \n",
        "  \n",
        "    result = [[0 for x in range(len(B[0]))] for y in range(len(A))]  \n",
        "    if len(A[0])==len(B):\n",
        "      for i in range(len(A)): \n",
        "        for j in range(len(B[0])): \n",
        "          for k in range(len(B)): \n",
        "            result[i][j] += A[i][k] * B[k][j] \n",
        "  \n",
        "      return result\n",
        "\n",
        "    else:\n",
        "      print( 'Not Possible')\n",
        "\n",
        "matrix_mul(A, B)\n",
        "    \n"
      ],
      "execution_count": null,
      "outputs": [
        {
          "output_type": "execute_result",
          "data": {
            "text/plain": [
              "[[11, 14, 17, 20, 23], [23, 30, 37, 44, 51]]"
            ]
          },
          "metadata": {
            "tags": []
          },
          "execution_count": 6
        }
      ]
    },
    {
      "cell_type": "code",
      "metadata": {
        "id": "hUQhQY8R8ixg",
        "colab": {
          "base_uri": "https://localhost:8080/",
          "height": 34
        },
        "outputId": "f32b796c-42d1-4a5d-a409-e46b040c5077"
      },
      "source": [
        "A   = [[1 ,3, 4],\n",
        "             [2, 5 ,7],\n",
        "             [5 ,9, 6]]\n",
        "B   = [[1, 0 ,0],\n",
        "             [0 ,1 ,0],\n",
        "             [0 ,0 ,1]]\n",
        "\n",
        "def matrix_mul(A, B): \n",
        "  if len(A[0])==len(B):\n",
        "  \n",
        "  \n",
        "  \n",
        "    result = [[0 for x in range(len(B[0]))] for y in range(len(A))]  \n",
        "    if len(A[0])==len(B):\n",
        "      for i in range(len(A)): \n",
        "        for j in range(len(B[0])): \n",
        "          for k in range(len(B)): \n",
        "            result[i][j] += A[i][k] * B[k][j] \n",
        "  \n",
        "      return result\n",
        "\n",
        "    else:\n",
        "      print( 'Notpossible')\n",
        "\n",
        "matrix_mul(A, B)\n",
        " "
      ],
      "execution_count": null,
      "outputs": [
        {
          "output_type": "execute_result",
          "data": {
            "text/plain": [
              "[[1, 3, 4], [2, 5, 7], [5, 9, 6]]"
            ]
          },
          "metadata": {
            "tags": []
          },
          "execution_count": 56
        }
      ]
    },
    {
      "cell_type": "code",
      "metadata": {
        "id": "osM7c5le8i0o",
        "colab": {
          "base_uri": "https://localhost:8080/",
          "height": 34
        },
        "outputId": "a34ceafa-a2f7-4307-a641-bd6fb001ea93"
      },
      "source": [
        "\n",
        "A   = [[1 ,2],\n",
        "             [3, 4]]\n",
        "B   = [[1, 4],\n",
        "             [5 ,6],\n",
        "             [7 ,8],\n",
        "             [9, 6]]\n",
        "\n",
        "\n",
        "\n",
        "\n",
        "\n",
        "\n",
        "\n",
        "\n",
        "def matrix_mul(A, B): \n",
        "  if len(A[0])==len(B):\n",
        "  \n",
        "  \n",
        "  \n",
        "    result = [[0 for x in range(len(B[0]))] for y in range(len(A))]  \n",
        "    if len(A[0])==len(B):\n",
        "      for i in range(len(A)): \n",
        "        for j in range(len(B[0])): \n",
        "          for k in range(len(B)): \n",
        "            result[i][j] += A[i][k] * B[k][j] \n",
        "  \n",
        "      return result\n",
        "\n",
        "  else:\n",
        "    print( 'Notpossible')\n",
        "\n",
        "matrix_mul(A, B)\n",
        " "
      ],
      "execution_count": null,
      "outputs": [
        {
          "output_type": "stream",
          "text": [
            "Notpossible\n"
          ],
          "name": "stdout"
        }
      ]
    },
    {
      "cell_type": "code",
      "metadata": {
        "id": "bW2iPIgZ8X9p"
      },
      "source": [
        " "
      ],
      "execution_count": null,
      "outputs": []
    },
    {
      "cell_type": "code",
      "metadata": {
        "id": "I9KIKk8h8YBJ"
      },
      "source": [
        ""
      ],
      "execution_count": null,
      "outputs": []
    },
    {
      "cell_type": "markdown",
      "metadata": {
        "id": "at4VwLggB-kn"
      },
      "source": [
        "<h3> Q2: Select a number randomly with probability proportional to its magnitude from the given array of n elements</h3>\n",
        "\n",
        "consider an experiment, selecting an element from the list A randomly with probability proportional to its magnitude.\n",
        "assume we are doing the same experiment for 100 times with replacement, in each experiment you will print a number that is selected randomly from A.\n",
        "\n",
        "<pre>\n",
        "Ex 1: A = [0 5 27 6 13 28 100 45 10 79]\n",
        "let f(x) denote the number of times x getting selected in 100 experiments.\n",
        "f(100) > f(79) > f(45) > f(28) > f(27) > f(13) > f(10) > f(6) > f(5) > f(0)\n",
        "</pre>"
      ]
    },
    {
      "cell_type": "code",
      "metadata": {
        "id": "B6S2dpBhB-kn"
      },
      "source": [
        "from random import uniform\n",
        "# write your python code here\n",
        "# you can take the above example as sample input for your program to test\n",
        "# it should work for any general input try not to hard code for only given input examples\n",
        "\n",
        "\n",
        "# you can free to change all these codes/structure\n",
        "def pick_a_number_from_list(A):\n",
        "    # your code here for picking an element from with the probability propotional to its magnitude\n",
        "    #.\n",
        "    #.\n",
        "    #.\n",
        "    return #selected_random_number\n",
        "\n",
        "def sampling_based_on_magnitued():\n",
        "    for i in range(1,100):\n",
        "        number = pick_a_number_from_list(A)\n",
        "        print(number)\n",
        "\n",
        "sampling_based_on_magnitued()"
      ],
      "execution_count": null,
      "outputs": []
    },
    {
      "cell_type": "code",
      "metadata": {
        "id": "FnQNW44Uctxa"
      },
      "source": [
        ""
      ],
      "execution_count": null,
      "outputs": []
    },
    {
      "cell_type": "code",
      "metadata": {
        "colab": {
          "base_uri": "https://localhost:8080/"
        },
        "id": "i2MszjHScuXu",
        "outputId": "2934493a-da94-494a-8f87-8eff1a95e7ce"
      },
      "source": [
        "from random import uniform\n",
        "import random\n",
        "# write your python code here\n",
        "# you can take the above example as sample input for your program to test\n",
        "# it should work for any general input try not to hard code for only given input examples\n",
        "\n",
        "\n",
        "# you can free to change all these codes/structure\n",
        "def pick_a_number_from_list(A):\n",
        "    # your code here for picking an element from with the probability propotional to its magnitude\n",
        "    #sort_list=A.sort()\n",
        "    sum_A=0\n",
        "    global prob_A\n",
        "    prob_A=[]\n",
        "    for i in range(len(A)):\n",
        "      sum_A=sum_A+A[i]\n",
        "    for j in range(len(A)):\n",
        "      prob_A.append(A[j]/sum_A)\n",
        "    \n",
        "    #max_prob=max(prob_A)\n",
        "    #print(sum_A)\n",
        "    #print(prob_A)\n",
        "    #print(max_prob)\n",
        "    return (A[prob_A.index(max(prob_A))])\n",
        "    \n",
        "    #.\n",
        "    #.\n",
        "    #return A[A.index(max(prob_A))] #selected_random_number\n",
        "\n",
        "def sampling_based_on_magnitued():\n",
        "    for i in range(1,100):\n",
        "        number = pick_a_number_from_list(A)\n",
        "        print(number)\n",
        "#A = [0, 5 ,27, 6 ,13 ,28, 100 ,45, 10, 79]\n",
        "A= random.sample(range(10, 30), 5)\n",
        "print(A)\n",
        "\n",
        "\n",
        "sampling_based_on_magnitued()"
      ],
      "execution_count": null,
      "outputs": [
        {
          "output_type": "stream",
          "text": [
            "[13, 20, 21, 28, 10]\n",
            "28\n",
            "28\n",
            "28\n",
            "28\n",
            "28\n",
            "28\n",
            "28\n",
            "28\n",
            "28\n",
            "28\n",
            "28\n",
            "28\n",
            "28\n",
            "28\n",
            "28\n",
            "28\n",
            "28\n",
            "28\n",
            "28\n",
            "28\n",
            "28\n",
            "28\n",
            "28\n",
            "28\n",
            "28\n",
            "28\n",
            "28\n",
            "28\n",
            "28\n",
            "28\n",
            "28\n",
            "28\n",
            "28\n",
            "28\n",
            "28\n",
            "28\n",
            "28\n",
            "28\n",
            "28\n",
            "28\n",
            "28\n",
            "28\n",
            "28\n",
            "28\n",
            "28\n",
            "28\n",
            "28\n",
            "28\n",
            "28\n",
            "28\n",
            "28\n",
            "28\n",
            "28\n",
            "28\n",
            "28\n",
            "28\n",
            "28\n",
            "28\n",
            "28\n",
            "28\n",
            "28\n",
            "28\n",
            "28\n",
            "28\n",
            "28\n",
            "28\n",
            "28\n",
            "28\n",
            "28\n",
            "28\n",
            "28\n",
            "28\n",
            "28\n",
            "28\n",
            "28\n",
            "28\n",
            "28\n",
            "28\n",
            "28\n",
            "28\n",
            "28\n",
            "28\n",
            "28\n",
            "28\n",
            "28\n",
            "28\n",
            "28\n",
            "28\n",
            "28\n",
            "28\n",
            "28\n",
            "28\n",
            "28\n",
            "28\n",
            "28\n",
            "28\n",
            "28\n",
            "28\n",
            "28\n"
          ],
          "name": "stdout"
        }
      ]
    },
    {
      "cell_type": "code",
      "metadata": {
        "id": "OyoNalUp6Xux",
        "colab": {
          "base_uri": "https://localhost:8080/",
          "height": 171
        },
        "outputId": "a9b1ad12-b77f-4ac5-8c21-644125e5feb5"
      },
      "source": [
        "A = [0, 5 ,27, 6 ,13 ,28, 100 ,45, 10, 79]\n",
        "\n",
        "sum=0\n",
        "for i in A:\n",
        "    sum+=i\n",
        "y=0\n",
        "l=[]\n",
        "for i in A:\n",
        "    l.append(i/sum)\n",
        "print(l)\n",
        "c= [None] * len(l)\n",
        "print(c)\n",
        "c[0]=0\n",
        "for k in range(1,len(A)):\n",
        "  c[k] = c[k-1] + l[k]\n",
        "print(c)\n",
        "import random \n",
        "from random import uniform\n",
        "r = random.uniform(0.0,1.0)\n",
        "print(r)\n",
        "for k in range(len(c)):\n",
        "  if r<=c[k]:\n",
        "    print(c[k])\n",
        "    \n",
        "\n",
        "\n",
        "    "
      ],
      "execution_count": null,
      "outputs": [
        {
          "output_type": "stream",
          "text": [
            "[0.0, 0.01597444089456869, 0.08626198083067092, 0.019169329073482427, 0.04153354632587859, 0.08945686900958466, 0.3194888178913738, 0.14376996805111822, 0.03194888178913738, 0.2523961661341853]\n",
            "[None, None, None, None, None, None, None, None, None, None]\n",
            "[0, 0.01597444089456869, 0.10223642172523961, 0.12140575079872204, 0.16293929712460065, 0.2523961661341853, 0.5718849840255591, 0.7156549520766773, 0.7476038338658146, 1.0]\n",
            "0.5000021529848795\n",
            "0.5718849840255591\n",
            "0.7156549520766773\n",
            "0.7476038338658146\n",
            "1.0\n"
          ],
          "name": "stdout"
        }
      ]
    },
    {
      "cell_type": "markdown",
      "metadata": {
        "id": "D1xQy2WWB-kq"
      },
      "source": [
        "<h3> Q3: Replace the digits in the string with #</h3>\n",
        "\n",
        "consider a string that will have digits in that, we need to remove all the not digits and replace the digits with #\n",
        "<pre>\n",
        "Ex 1: A = 234                Output: ###\n",
        "Ex 2: A = a2b3c4             Output: ###\n",
        "Ex 3: A = abc                Output:   (empty string)\n",
        "Ex 5: A = #2a$#b%c%561#      Output: ####\n",
        "</pre>"
      ]
    },
    {
      "cell_type": "code",
      "metadata": {
        "id": "fxczi2jzB-kr",
        "colab": {
          "base_uri": "https://localhost:8080/",
          "height": 35
        },
        "outputId": "096c095b-e094-404a-9a11-55932ef2d006"
      },
      "source": [
        "import re\n",
        "# write your python code here\n",
        "# you can take the above example as sample input for your program to test\n",
        "# it should work for any general input try not to hard code for only given input examples\n",
        "\n",
        "# you can free to change all these codes/structure\n",
        "# String: it will be the input to your program\n",
        "def replace_digits(s):\n",
        "    # write your code\n",
        "    # import re\n",
        "\n",
        "\n",
        "\n",
        "    m=re.sub(\"\\D\",\"\",s)\n",
        "    #print(m)\n",
        "    n=re.sub(\"\\d\",\"#\",m)\n",
        "    return(n) # modified string which is after replacing the # with digits\n",
        "s='234'\n",
        "replace_digits(s)"
      ],
      "execution_count": null,
      "outputs": [
        {
          "output_type": "execute_result",
          "data": {
            "application/vnd.google.colaboratory.intrinsic+json": {
              "type": "string"
            },
            "text/plain": [
              "'###'"
            ]
          },
          "metadata": {
            "tags": []
          },
          "execution_count": 32
        }
      ]
    },
    {
      "cell_type": "code",
      "metadata": {
        "id": "C8_b5VFYEo3k",
        "colab": {
          "base_uri": "https://localhost:8080/"
        },
        "outputId": "6e302428-4ff9-4209-a003-5252f02b18dd"
      },
      "source": [
        "import re\n",
        "def replace_digits(s):\n",
        "  m=re.sub(\"\\D\",\"\",s)\n",
        "  #print(m)\n",
        "  n=re.sub(\"\\d\",\"#\",m)\n",
        "  print(n)\n",
        "s='a2b3c4 '\n",
        "replace_digits(s)"
      ],
      "execution_count": null,
      "outputs": [
        {
          "output_type": "stream",
          "text": [
            "###\n"
          ],
          "name": "stdout"
        }
      ]
    },
    {
      "cell_type": "code",
      "metadata": {
        "id": "GSFqAVNeEo9W",
        "colab": {
          "base_uri": "https://localhost:8080/",
          "height": 35
        },
        "outputId": "c1d703c5-6a0f-4e14-c082-8a507fd519d9"
      },
      "source": [
        "import re\n",
        "def replace_digits(s):\n",
        "  m=re.sub(\"\\D\",\"\",s)\n",
        "  #print(m)\n",
        "  n=re.sub(\"\\d\",\"#\",m)\n",
        "  return n\n",
        "s='abc'\n",
        "replace_digits(s)"
      ],
      "execution_count": null,
      "outputs": [
        {
          "output_type": "execute_result",
          "data": {
            "application/vnd.google.colaboratory.intrinsic+json": {
              "type": "string"
            },
            "text/plain": [
              "''"
            ]
          },
          "metadata": {
            "tags": []
          },
          "execution_count": 34
        }
      ]
    },
    {
      "cell_type": "code",
      "metadata": {
        "id": "VxsZL4evEpA1",
        "colab": {
          "base_uri": "https://localhost:8080/",
          "height": 35
        },
        "outputId": "8a4b7140-a6ba-4b37-8b70-20f06dd7dc22"
      },
      "source": [
        "import re\n",
        "def replace_digits(s):\n",
        "  m=re.sub(\"\\D\",\"\",s)\n",
        "  \n",
        "  n=re.sub(\"\\d\",\"#\",m)\n",
        "  return n\n",
        "s='#2a$#b%c%561#  '\n",
        "replace_digits(s)"
      ],
      "execution_count": null,
      "outputs": [
        {
          "output_type": "execute_result",
          "data": {
            "application/vnd.google.colaboratory.intrinsic+json": {
              "type": "string"
            },
            "text/plain": [
              "'####'"
            ]
          },
          "metadata": {
            "tags": []
          },
          "execution_count": 35
        }
      ]
    },
    {
      "cell_type": "code",
      "metadata": {
        "id": "hYIapUELEpDx"
      },
      "source": [
        ""
      ],
      "execution_count": null,
      "outputs": []
    },
    {
      "cell_type": "code",
      "metadata": {
        "id": "PBLP-1eoEpJd"
      },
      "source": [
        ""
      ],
      "execution_count": null,
      "outputs": []
    },
    {
      "cell_type": "code",
      "metadata": {
        "id": "M8OWWtzDEpO5"
      },
      "source": [
        ""
      ],
      "execution_count": null,
      "outputs": []
    },
    {
      "cell_type": "code",
      "metadata": {
        "id": "OVU2mkDPEpSZ"
      },
      "source": [
        ""
      ],
      "execution_count": null,
      "outputs": []
    },
    {
      "cell_type": "code",
      "metadata": {
        "id": "-cBodqXLEpMo"
      },
      "source": [
        ""
      ],
      "execution_count": null,
      "outputs": []
    },
    {
      "cell_type": "code",
      "metadata": {
        "id": "Fl83DFahEpG0"
      },
      "source": [
        ""
      ],
      "execution_count": null,
      "outputs": []
    },
    {
      "cell_type": "markdown",
      "metadata": {
        "id": "j7h0Ywg7B-kw"
      },
      "source": [
        "<h3> Q4: Students marks dashboard</h3>\n",
        "\n",
        "consider the marks list of class students given two lists <br>\n",
        "Students = ['student1','student2','student3','student4','student5','student6','student7','student8','student9','student10'] <br>\n",
        "Marks = [45, 78, 12, 14, 48, 43, 45, 98, 35, 80] <br>\n",
        "from the above two lists the Student[0] got Marks[0],  Student[1] got Marks[1] and so on <br><br>\n",
        "your task is to print the name of students\n",
        "<strong>a. Who got top 5 ranks, in the descending order of marks</strong> <br>\n",
        "<strong>b. Who got least 5 ranks, in the increasing order of marks</strong><br>\n",
        "<strong>d. Who got marks between  &gt;25th percentile &lt;75th percentile, in the increasing order of marks</strong>\n",
        "\n",
        "<pre>\n",
        "Ex 1: \n",
        "Students=['student1','student2','student3','student4','student5','student6','student7','student8','student9','student10'] \n",
        "Marks = [45, 78, 12, 14, 48, 43, 47, 98, 35, 80]\n",
        "a. \n",
        "student8  98\n",
        "student10 80\n",
        "student2  78\n",
        "student5  48\n",
        "student7  47\n",
        "b.\n",
        "student3 12\n",
        "student4 14\n",
        "student9 35\n",
        "student6 43\n",
        "student1 45\n",
        "c.\n",
        "student9 35\n",
        "student6 43\n",
        "student1 45\n",
        "student7 47\n",
        "student5 48\n",
        "</pre>"
      ]
    },
    {
      "cell_type": "code",
      "metadata": {
        "id": "_QxOJ6SQEmOG",
        "colab": {
          "base_uri": "https://localhost:8080/"
        },
        "outputId": "78641a09-d13f-415e-8ebe-71d7ad23ae07"
      },
      "source": [
        "Students=['student1','student2','student3','student4','student5','student6','student7','student8','student9','student10'] \n",
        "Marks = [45, 78, 12, 14, 48, 43, 47, 98, 35, 80]\n",
        "\n",
        "a=sorted(Marks)\n",
        "#a=Marks.sort()\n",
        "for i in range(5):\n",
        "  b=a[i]\n",
        "  k=Marks.index(b)\n",
        "  print('{} {}'.format(Students[k],Marks[k]))"
      ],
      "execution_count": null,
      "outputs": [
        {
          "output_type": "stream",
          "text": [
            "student3 12\n",
            "student4 14\n",
            "student9 35\n",
            "student6 43\n",
            "student1 45\n"
          ],
          "name": "stdout"
        }
      ]
    },
    {
      "cell_type": "code",
      "metadata": {
        "colab": {
          "base_uri": "https://localhost:8080/"
        },
        "id": "he8yyF5ltSkZ",
        "outputId": "ee6384c7-4ee6-4771-a2f1-b6baa5b22259"
      },
      "source": [
        "Students=['student1','student2','student3','student4','student5','student6','student7','student8','student9','student10'] \n",
        "Marks = [45, 78, 12, 14, 48, 43, 47, 98, 35, 80]\n",
        "\n",
        "a=sorted(Marks)\n",
        "#a=Marks.sort()\n",
        "for i in range(9,4,-1):\n",
        "  b=a[i]\n",
        "  k=Marks.index(b)\n",
        "  print('{} {}'.format(Students[k],Marks[k]))"
      ],
      "execution_count": null,
      "outputs": [
        {
          "output_type": "stream",
          "text": [
            "student8 98\n",
            "student10 80\n",
            "student2 78\n",
            "student5 48\n",
            "student7 47\n"
          ],
          "name": "stdout"
        }
      ]
    },
    {
      "cell_type": "code",
      "metadata": {
        "colab": {
          "base_uri": "https://localhost:8080/"
        },
        "id": "4jRUFaR6tSzq",
        "outputId": "2ab3859e-1ea0-4fd8-9ac8-301142ad0440"
      },
      "source": [
        "marks=[]\n",
        "for i in Marks:\n",
        "  if i>25 and i<75:\n",
        "    marks.append(i)\n",
        "#print(marks)\n",
        "a=sorted(marks)\n",
        "for i in range(len(marks)):\n",
        "  b=a[i]\n",
        "  k=Marks.index(b)\n",
        "  \n",
        "  print('{} {}'.format(Students[k],a[i]))"
      ],
      "execution_count": null,
      "outputs": [
        {
          "output_type": "stream",
          "text": [
            "student9 35\n",
            "student6 43\n",
            "student1 45\n",
            "student7 47\n",
            "student5 48\n"
          ],
          "name": "stdout"
        }
      ]
    },
    {
      "cell_type": "code",
      "metadata": {
        "id": "mFqMBOZiEmUh"
      },
      "source": [
        ""
      ],
      "execution_count": null,
      "outputs": []
    },
    {
      "cell_type": "code",
      "metadata": {
        "id": "NyEsWjKcEmdJ"
      },
      "source": [
        ""
      ],
      "execution_count": null,
      "outputs": []
    },
    {
      "cell_type": "code",
      "metadata": {
        "id": "yuR_E_vpeB7t"
      },
      "source": [
        "\n"
      ],
      "execution_count": null,
      "outputs": []
    },
    {
      "cell_type": "code",
      "metadata": {
        "id": "rcbCx_3jeB_L"
      },
      "source": [
        ""
      ],
      "execution_count": null,
      "outputs": []
    },
    {
      "cell_type": "code",
      "metadata": {
        "id": "8Rtz_ORPEmjc"
      },
      "source": [
        ""
      ],
      "execution_count": null,
      "outputs": []
    },
    {
      "cell_type": "code",
      "metadata": {
        "id": "S0KDlSjWeAsB"
      },
      "source": [
        ""
      ],
      "execution_count": null,
      "outputs": []
    },
    {
      "cell_type": "code",
      "metadata": {
        "id": "GKHWyykaEmn7"
      },
      "source": [
        ""
      ],
      "execution_count": null,
      "outputs": []
    },
    {
      "cell_type": "code",
      "metadata": {
        "id": "KQ6SPp1HEm0D"
      },
      "source": [
        ""
      ],
      "execution_count": null,
      "outputs": []
    },
    {
      "cell_type": "code",
      "metadata": {
        "id": "cxPJgItsB-kx"
      },
      "source": [
        "# write your python code here\n",
        "# you can take the above example as sample input for your program to test\n",
        "# it should work for any general input try not to hard code for only given input examples\n",
        "\n",
        "# you can free to change all these codes/structure\n",
        "def display_dash_board(students, marks):\n",
        "    # write code for computing top top 5 students\n",
        "    \n",
        "    top_5_students = # compute this\n",
        "    # write code for computing top least 5 students\n",
        "    least_5_students = # compute this\n",
        "    # write code for computing top least 5 students\n",
        "    students_within_25_and_75 = # compute this\n",
        "    \n",
        "    return top_5_students, least_5_students, students_within_25_and_75\n",
        "Students=['student1','student2','student3','student4','student5','student6','student7','student8','student9','student10'] \n",
        "Marks = [45, 78, 12, 14, 48, 43, 47, 98, 35, 80]\n",
        "\n",
        "top_5_students, least_5_students, students_within_25_and_75 = display_dash_board(students, marks)\n",
        "print(# those values)"
      ],
      "execution_count": null,
      "outputs": []
    },
    {
      "cell_type": "markdown",
      "metadata": {
        "id": "qha0OhQHB-k1"
      },
      "source": [
        "<h3> Q5: Find the closest points</h3>\n",
        "\n",
        "consider you have given n data points in the form of list of tuples like S=[(x1,y1),(x2,y2),(x3,y3),(x4,y4),(x5,y5),..,(xn,yn)] and a point P=(p,q) <br> your task is to find 5 closest points(based on cosine distance) in S from P\n",
        "<br>cosine distance between two points (x,y) and (p,q) is defind as $cos^{-1}(\\frac{(x\\cdot p+y\\cdot q)}{\\sqrt(x^2+y^2)\\cdot\\sqrt(p^2+q^2)})$\n",
        "<pre>\n",
        "Ex:\n",
        "\n",
        "S= [(1,2),(3,4),(-1,1),(6,-7),(0, 6),(-5,-8),(-1,-1)(6,0),(1,-1)]\n",
        "P= (3,-4)\n",
        "<img src='https://i.imgur.com/vIFPOcG.jpg', width=300>\n",
        "Output:\n",
        "(6,-7)\n",
        "(1,-1)\n",
        "(6,0)\n",
        "(-5,-8)\n",
        "(-1,-1)\n",
        "</pre>"
      ]
    },
    {
      "cell_type": "code",
      "metadata": {
        "id": "wA5I1g-2B-k2",
        "colab": {
          "base_uri": "https://localhost:8080/"
        },
        "outputId": "c484367e-d406-4aeb-c6cc-4fd89980ae64"
      },
      "source": [
        "import math\n",
        "\n",
        "# write your python code here\n",
        "# you can take the above example as sample input for your program to test\n",
        "# it should work for any general input try not to hard code for only given input examples\n",
        "# you can free to change all these codes/structure\n",
        "\n",
        "\n",
        "# here S is list of tuples and P is a tuple ot len=2\n",
        "def closest_points_to_p(S, P):\n",
        "    # write your code here\n",
        "    c=[]\n",
        "    for i ,j in S:\n",
        "      n1=P[0]*i\n",
        "      n2=P[1]*j\n",
        "      n=n1+n2\n",
        "      d1=math.sqrt(i*i+j*j)\n",
        "      d2=math.sqrt(P[0]*P[0]+P[1]*P[1])\n",
        "      d=d1*d2\n",
        "      c.append(math.acos(n/d))\n",
        "    #print(c)\n",
        "    a=sorted(c)\n",
        "    for i in range(5):\n",
        "      \n",
        "      k=c.index(a[i])\n",
        "      print( \"{}\".format(S[k]))\n",
        "      \n",
        "    \n",
        "    \n",
        "\n",
        "   \n",
        "   \n",
        "\n",
        "S= [(1,2),(3,4),(-1,1),(6,-7),(0, 6),(-5,-8),(-1,-1),(6,0),(1,-1)]\n",
        "P= (3,-4)\n",
        "points = closest_points_to_p(S, P)\n",
        "#print(points) #print the returned values"
      ],
      "execution_count": null,
      "outputs": [
        {
          "output_type": "stream",
          "text": [
            "(6, -7)\n",
            "(1, -1)\n",
            "(6, 0)\n",
            "(-5, -8)\n",
            "(-1, -1)\n"
          ],
          "name": "stdout"
        }
      ]
    },
    {
      "cell_type": "code",
      "metadata": {
        "id": "DmOj9-Go6eea"
      },
      "source": [
        " y = [S for S in sorted(zip(S,c), key=lambda i:i[1])]\n",
        "    a=[]\n",
        "    count=0\n",
        "    while count<5:\n",
        "      a.append(y[count][0])\n",
        "      count+=1\n",
        "    return a\n",
        "\n",
        "\n",
        "\n",
        "    return closest_points_to_p  # its list of tuples"
      ],
      "execution_count": null,
      "outputs": []
    },
    {
      "cell_type": "code",
      "metadata": {
        "id": "j5V4MQh15AxE"
      },
      "source": [
        ""
      ],
      "execution_count": null,
      "outputs": []
    },
    {
      "cell_type": "markdown",
      "metadata": {
        "id": "-g11jeAiB-k5"
      },
      "source": [
        "<h3> Q6: Find Which line separates oranges and apples</h3>\n",
        "consider you have given two set of data points in the form of list of tuples like \n",
        "<pre>\n",
        "Red =[(R11,R12),(R21,R22),(R31,R32),(R41,R42),(R51,R52),..,(Rn1,Rn2)]\n",
        "Blue=[(B11,B12),(B21,B22),(B31,B32),(B41,B42),(B51,B52),..,(Bm1,Bm2)]\n",
        "</pre>\n",
        "and set of line equations(in the string formate, i.e list of strings)\n",
        "<pre>\n",
        "Lines = [a1x+b1y+c1,a2x+b2y+c2,a3x+b3y+c3,a4x+b4y+c4,..,K lines]\n",
        "Note: you need to string parsing here and get the coefficients of x,y and intercept\n",
        "</pre>\n",
        "your task is to for each line that is given print \"YES\"/\"NO\", you will print yes, if all the red points are one side of the line and blue points are other side of the line, otherwise no\n",
        "<pre>\n",
        "Ex:\n",
        "Red= [(1,1),(2,1),(4,2),(2,4), (-1,4)]\n",
        "Blue= [(-2,-1),(-1,-2),(-3,-2),(-3,-1),(1,-3)]\n",
        "Lines=[\"1x+1y+0\",\"1x-1y+0\",\"1x+0y-3\",\"0x+1y-0.5\"]\n",
        "<img src='https://i.imgur.com/DoQf7mE.jpg' width=400>\n",
        "Output:\n",
        "YES\n",
        "NO\n",
        "NO\n",
        "YES\n",
        "</pre>"
      ]
    },
    {
      "cell_type": "code",
      "metadata": {
        "id": "eRxExaTRB-k6",
        "colab": {
          "base_uri": "https://localhost:8080/"
        },
        "outputId": "f8f02130-6e1f-43a3-fb95-13df4e5e224c"
      },
      "source": [
        "##https://stackoverflow.com/questions/57188227/to-find-whether-a-given-line-equation-is-able-to-separate-the-two-lists-of-poi\n",
        "\n",
        "\n",
        "import math\n",
        "# write your python code here\n",
        "# you can take the above example as sample input for your program to test\n",
        "# it should work for any general input try not to hard code for only given input strings\n",
        "\n",
        "\n",
        "# you can free to change all these codes/structure\n",
        "def i_am_the_one(red,blue,line):\n",
        "    # your \n",
        "    c=[]\n",
        "    d=[]\n",
        "    e=0\n",
        "    for i in Red:\n",
        "      \n",
        "      a=line.replace('x','*'+str(i[0]))\n",
        "      a=a.replace('y','*'+str(i [1]))\n",
        "      \n",
        "      a=eval(a)\n",
        "      c.append(a)\n",
        "      \n",
        "    for j in Blue:\n",
        "      b=line.replace('x','*'+str(j[0]))\n",
        "      b=b.replace('y','*'+str(j[1]))\n",
        "     \n",
        "      b=eval(b)\n",
        "      d.append(b)\n",
        "    \n",
        "    for i in c:\n",
        "      for j in d:\n",
        "        if i>0 and j<0:\n",
        "          \n",
        "          e=e+1\n",
        "        elif i<0 and j>0:\n",
        "          e=e-1\n",
        "        else:\n",
        "          break\n",
        "    if e==len(c)**2 or e==-len(c)**2:\n",
        "     return 'YES'\n",
        "    else:\n",
        "      return 'NO'\n",
        "    \n",
        "   \n",
        "\n",
        "      \n",
        "\n",
        "\n",
        "\n",
        "\n",
        "      \n",
        "    #return #yes/no\n",
        "\n",
        "Red= [(1,1),(2,1),(4,2),(2,4), (-1,4)]\n",
        "Blue= [(-2,-1),(-1,-2),(-3,-2),(-3,-1),(1,-3)]\n",
        "Lines=[\"1x+1y+0\",\"1x-1y+0\",\"1x+0y-3\",\"0x+1y-0.5\"]\n",
        "\n",
        "for i in Lines:\n",
        "    yes_or_no = i_am_the_one(Red, Blue, i)\n",
        "    print(yes_or_no) # the returned value"
      ],
      "execution_count": null,
      "outputs": [
        {
          "output_type": "stream",
          "text": [
            "YES\n",
            "NO\n",
            "NO\n",
            "YES\n"
          ],
          "name": "stdout"
        }
      ]
    },
    {
      "cell_type": "code",
      "metadata": {
        "id": "JH44asgIkcZd"
      },
      "source": [
        "\n"
      ],
      "execution_count": null,
      "outputs": []
    },
    {
      "cell_type": "markdown",
      "metadata": {
        "id": "9OBpURbNB-k9"
      },
      "source": [
        "<h3> Q7: Filling the missing values in the specified formate</h3>\n",
        "You will be given a string with digits and '\\_'(missing value) symbols you have to replace the '\\_' symbols as explained \n",
        "<pre>\n",
        "Ex 1: _, _, _, 24 ==> 24/4, 24/4, 24/4, 24/4 i.e we. have distributed the 24 equally to all 4 places <br>\n",
        "Ex 2: 40, _, _, _, 60 ==> (60+40)/5,(60+40)/5,(60+40)/5,(60+40)/5,(60+40)/5 ==> 20, 20, 20, 20, 20 i.e. the sum of (60+40) is distributed qually to all 5 places<br>\n",
        "Ex 3: 80, _, _, _, _  ==> 80/5,80/5,80/5,80/5,80/5 ==> 16, 16, 16, 16, 16 i.e. the 80 is distributed qually to all 5 missing values that are right to it<br>\n",
        "Ex 4: _, _, 30, _, _, _, 50, _, _  \n",
        "==> we will fill the missing values from left to right \n",
        "    a. first we will distribute the 30 to left two missing values (10, 10, 10, _, _, _, 50, _, _)\n",
        "    b. now distribute the sum (10+50) missing values in between (10, 10, 12, 12, 12, 12, 12, _, _) \n",
        "    c. now we will distribute 12 to right side missing values (10, 10, 12, 12, 12, 12, 4, 4, 4)\n",
        "</pre>\n",
        "for a given string with comma seprate values, which will have both missing values numbers like ex: \"_, _, x, _, _, _\"\n",
        "you need fill the missing values\n",
        "\n",
        "Q: your program reads a string like ex: \"_, _, x, _, _, _\" and returns the filled sequence\n",
        "\n",
        "Ex: \n",
        "<pre>\n",
        "Input1: \"_,_,_,24\"\n",
        "Output1: 6,6,6,6\n",
        "\n",
        "Input2: \"40,_,_,_,60\"\n",
        "Output2: 20,20,20,20,20\n",
        "\n",
        "Input3: \"80,_,_,_,_\"\n",
        "Output3: 16,16,16,16,16\n",
        "\n",
        "Input4: \"_,_,30,_,_,_,50,_,_\"\n",
        "Output4: 10,10,12,12,12,12,4,4,4\n",
        "</pre>\n",
        "\n"
      ]
    },
    {
      "cell_type": "code",
      "metadata": {
        "id": "nZmpzHs_B-k-",
        "colab": {
          "base_uri": "https://localhost:8080/"
        },
        "outputId": "8480f2bd-4c0c-4ea9-9a8a-9d8928cdea62"
      },
      "source": [
        "\n",
        "\n",
        "# Test cases\n",
        "tests = [\n",
        "    \"_,_,_,24\",\n",
        "    \"40,_,_,_,60\",\n",
        "    \"80,_,_,_,_\",\n",
        "     \"_,_,30,_,_,_,50,_,_\"]\n",
        "\n",
        "for i in tests:\n",
        "    x = i.split(\",\")\n",
        "    print(x)\n",
        "    c=[]\n",
        "    z=0\n",
        "    if x[0]=='_':\n",
        "      c=[]\n",
        "      for i in x:\n",
        "        if i!='_':\n",
        "          c.append(i)\n",
        "      z=z+1\n",
        "      \n",
        "    if x[len(x)-1]=='_':\n",
        "      c=[]\n",
        "      for i in x:\n",
        "        if i!=\"_\":\n",
        "          c.append(i)\n",
        "      z=z+1\n",
        "    if x[0]!=\"_\" and x[len(x)-1]!=\"_\":\n",
        "      c=[]\n",
        "      for i in x:\n",
        "        if i!=\"_\":\n",
        "          c.append(i)\n",
        "      z=z+1\n",
        "    \n",
        "    sum=0\n",
        "    y=[]\n",
        "    if z==1:\n",
        "      for i in c:\n",
        "        sum=sum+int(i)\n",
        "        s=sum/len(x)\n",
        "      for j in range(len(x)):\n",
        "        y.append(s)\n",
        "    #print(y)\n",
        "    if z==2:\n",
        "      y=[]\n",
        "      for i in range(len(c)):\n",
        "        if i==0:\n",
        "          q=x.index(c[i])\n",
        "\n",
        "          p=int(c[i])/(q+1)\n",
        "          for i in range(q):\n",
        "            y.append(p)\n",
        "        \n",
        "        else:\n",
        "          w=x.index(c[i])\n",
        "          e=w-q+1\n",
        "          p=(int(c[i])+y[0])/e\n",
        "          for i in range(q,w+1):\n",
        "            y.append(p)\n",
        "    \n",
        "      if len(y)!=len(x):\n",
        "        p=len(x)-len(y)\n",
        "        q=y[-1]/(p+1)\n",
        "        y.pop()\n",
        "        for i in range(p+1):\n",
        "          y.append(q)\n",
        "    print(y)\n",
        "\n",
        "\n",
        "\n",
        "\n",
        "\n",
        "\n",
        "\n",
        "\n",
        "      \n",
        "\n",
        "      \n",
        "      \n",
        "\n",
        "\n",
        "    \n",
        "      \n",
        "\n",
        "   \n",
        "    \n",
        "    \n",
        "    \n",
        "    \n",
        "    \n",
        "    \n",
        "    \n",
        "    \n",
        "    \n",
        "    \n",
        "    \n",
        "    \n",
        "    \n",
        "    \n",
        "    \n",
        "    \n",
        "    \n",
        "    \n",
        "    \n",
        "    \n",
        "    \n",
        "    \n",
        "    \n",
        "    \n",
        "    \n",
        "    \n",
        "    \n",
        "    \n",
        "    \n",
        "    \n",
        "    \n",
        "    \n",
        "    \n",
        "    \n",
        "    \n",
        "    \n",
        "    \n",
        "    \n",
        "    \n",
        "   "
      ],
      "execution_count": null,
      "outputs": [
        {
          "output_type": "stream",
          "text": [
            "['_', '_', '_', '24']\n",
            "[6.0, 6.0, 6.0, 6.0]\n",
            "['40', '_', '_', '_', '60']\n",
            "[20.0, 20.0, 20.0, 20.0, 20.0]\n",
            "['80', '_', '_', '_', '_']\n",
            "[16.0, 16.0, 16.0, 16.0, 16.0]\n",
            "['_', '_', '30', '_', '_', '_', '50', '_', '_']\n",
            "[10.0, 10.0, 12.0, 12.0, 12.0, 12.0, 4.0, 4.0, 4.0]\n"
          ],
          "name": "stdout"
        }
      ]
    },
    {
      "cell_type": "code",
      "metadata": {
        "id": "FjKlzQtpKYeG",
        "colab": {
          "base_uri": "https://localhost:8080/"
        },
        "outputId": "89ea1284-ec8f-4217-de99-6bdf9e0ffa02"
      },
      "source": [
        "def fun(x, a, b):\n",
        "    if a == -1:\n",
        "        v = float(x[b])/(b+1)\n",
        "        for i in range(a+1,b+1):\n",
        "            x[i] = v\n",
        "    elif b == -1:\n",
        "        v = float(x[a])/(len(x)-a)\n",
        "        for i in range(a, len(x)):\n",
        "            x[i] = v\n",
        "    else:\n",
        "        v = (float(x[a])+float(x[b]))/(b-a+1)\n",
        "        for i in range(a,b+1):\n",
        "            x[i] = v\n",
        "    return x\n",
        "\n",
        "def r(t):\n",
        "    \n",
        "    x = t.replace(\" \",\"\").split(\",\")\n",
        "    #print(x)\n",
        "    \n",
        "    y = [i for i, v in enumerate(x) if v != '_']\n",
        "    print(y)\n",
        "    print(x)\n",
        "    \n",
        "    if y[0] != 0:\n",
        "        y = [-1] + y\n",
        "        print(y)\n",
        "    \n",
        "    if y[-1] != len(x)-1:\n",
        "        y = y + [-1] \n",
        "        print(y)   \n",
        "    \n",
        "    for (a, b) in zip(y[:-1], y[1:]): \n",
        "        print(a)\n",
        "        print(b)\n",
        "        fun(x,a,b)          \n",
        "    return x\n",
        "\n",
        "\n",
        "t= [\"_,_,_,24\",\"40,_,_,_,60\",\"80,_,_,_,_\", \"_,_,30,_,_,_,50,_,_\"]\n",
        "\n",
        "for i in t:\n",
        "    print (r(i))"
      ],
      "execution_count": null,
      "outputs": [
        {
          "output_type": "stream",
          "text": [
            "[3]\n",
            "['_', '_', '_', '24']\n",
            "[-1, 3]\n",
            "-1\n",
            "3\n",
            "[6.0, 6.0, 6.0, 6.0]\n",
            "[0, 4]\n",
            "['40', '_', '_', '_', '60']\n",
            "0\n",
            "4\n",
            "[20.0, 20.0, 20.0, 20.0, 20.0]\n",
            "[0]\n",
            "['80', '_', '_', '_', '_']\n",
            "[0, -1]\n",
            "0\n",
            "-1\n",
            "[16.0, 16.0, 16.0, 16.0, 16.0]\n",
            "[2, 6]\n",
            "['_', '_', '30', '_', '_', '_', '50', '_', '_']\n",
            "[-1, 2, 6]\n",
            "[-1, 2, 6, -1]\n",
            "-1\n",
            "2\n",
            "2\n",
            "6\n",
            "6\n",
            "-1\n",
            "[10.0, 10.0, 12.0, 12.0, 12.0, 12.0, 4.0, 4.0, 4.0]\n"
          ],
          "name": "stdout"
        }
      ]
    },
    {
      "cell_type": "markdown",
      "metadata": {
        "id": "RBz4pzlfB-lB"
      },
      "source": [
        "<h3> Q8: Filling the missing values in the specified formate</h3>\n",
        "You will be given a list of lists, each sublist will be of length 2 i.e. [[x,y],[p,q],[l,m]..[r,s]]\n",
        "consider its like a martrix of n rows and two columns\n",
        "1. the first column F will contain only 5 uniques values (F1, F2, F3, F4, F5)\n",
        "2. the second column S will contain only 3 uniques values (S1, S2, S3)\n",
        "<pre>\n",
        "your task is to find\n",
        "a. Probability of P(F=F1|S==S1), P(F=F1|S==S2), P(F=F1|S==S3)\n",
        "b. Probability of P(F=F2|S==S1), P(F=F2|S==S2), P(F=F2|S==S3)\n",
        "c. Probability of P(F=F3|S==S1), P(F=F3|S==S2), P(F=F3|S==S3)\n",
        "d. Probability of P(F=F4|S==S1), P(F=F4|S==S2), P(F=F4|S==S3)\n",
        "e. Probability of P(F=F5|S==S1), P(F=F5|S==S2), P(F=F5|S==S3)\n",
        "</pre>\n",
        "Ex:\n",
        "\n",
        "<pre>\n",
        "[[F1,S1],[F2,S2],[F3,S3],[F1,S2],[F2,S3],[F3,S2],[F2,S1],[F4,S1],[F4,S3],[F5,S1]]\n",
        "\n",
        "a. P(F=F1|S==S1)=1/4, P(F=F1|S==S2)=1/3, P(F=F1|S==S3)=0/3\n",
        "b. P(F=F2|S==S1)=1/4, P(F=F2|S==S2)=1/3, P(F=F2|S==S3)=1/3\n",
        "c. P(F=F3|S==S1)=0/4, P(F=F3|S==S2)=1/3, P(F=F3|S==S3)=1/3\n",
        "d. P(F=F4|S==S1)=1/4, P(F=F4|S==S2)=0/3, P(F=F4|S==S3)=1/3\n",
        "e. P(F=F5|S==S1)=1/4, P(F=F5|S==S2)=0/3, P(F=F5|S==S3)=0/3\n",
        "</pre>\n",
        "\n",
        "\n"
      ]
    },
    {
      "cell_type": "code",
      "metadata": {
        "id": "e-1giz1MB-lC"
      },
      "source": [
        "# write your python code here\n",
        "# you can take the above example as sample input for your program to test\n",
        "# it should work for any general input try not to hard code for only given input strings\n",
        "\n",
        "\n",
        "\n",
        "# you can free to change all these codes/structure\n",
        "def compute_conditional_probabilites(A):\n",
        "  \n",
        "    # your code\n",
        "    # print the output as per the instructions\n",
        "\n",
        "A = [['F1','S1'],['F2','S2'],['F3','S3'],['F1','S2'],['F2','S3'],['F3','S2'],['F2','S1'],['F4','S1'],['F4','S3'],['F5','S1']]\n",
        "\n",
        "compute_conditional_probabilites(A)"
      ],
      "execution_count": null,
      "outputs": []
    },
    {
      "cell_type": "code",
      "metadata": {
        "id": "JyKL938ccVYm",
        "colab": {
          "base_uri": "https://localhost:8080/"
        },
        "outputId": "d1ce080a-a253-418c-e7c9-fd89c9459f7a"
      },
      "source": [
        "A = [['F1','S1'],['F2','S2'],['F3','S3'],['F1','S2'],['F2','S3'],['F3','S2'],['F2','S1'],['F4','S1'],['F4','S3'],['F5','S1']]\n",
        "\n",
        "\n",
        "for k in ['F1', 'F2', 'F3', 'F4', 'F5']:\n",
        "    for m in ['S1', 'S2', 'S3']:\n",
        "        #values(k,m)\n",
        "        n=0\n",
        "        p=0\n",
        "        for i in range(len(A)):\n",
        "          if(A[i][1]==m):\n",
        "            p=p+1\n",
        "            if (A[i][0]==k):\n",
        "              n=n+1\n",
        "        \n",
        "\n",
        "           \n",
        "        print('P(F={}|S=={})='.format(k,m),(n/p))\n",
        "\n"
      ],
      "execution_count": null,
      "outputs": [
        {
          "output_type": "stream",
          "text": [
            "P(F=F1|S==S1)= 0.25\n",
            "P(F=F1|S==S2)= 0.3333333333333333\n",
            "P(F=F1|S==S3)= 0.0\n",
            "P(F=F2|S==S1)= 0.25\n",
            "P(F=F2|S==S2)= 0.3333333333333333\n",
            "P(F=F2|S==S3)= 0.3333333333333333\n",
            "P(F=F3|S==S1)= 0.0\n",
            "P(F=F3|S==S2)= 0.3333333333333333\n",
            "P(F=F3|S==S3)= 0.3333333333333333\n",
            "P(F=F4|S==S1)= 0.25\n",
            "P(F=F4|S==S2)= 0.0\n",
            "P(F=F4|S==S3)= 0.3333333333333333\n",
            "P(F=F5|S==S1)= 0.25\n",
            "P(F=F5|S==S2)= 0.0\n",
            "P(F=F5|S==S3)= 0.0\n"
          ],
          "name": "stdout"
        }
      ]
    },
    {
      "cell_type": "markdown",
      "metadata": {
        "id": "n4HS87QmB-lF"
      },
      "source": [
        "<h3> Q9: Given two sentances S1, S2</h3>\n",
        "You will be given two sentances S1, S2 your task is to find \n",
        "<pre>\n",
        "a. Number of common words between S1, S2\n",
        "b. Words in S1 but not in S2\n",
        "c. Words in S2 but not in S1\n",
        "</pre>\n",
        "\n",
        "Ex: \n",
        "<pre>\n",
        "S1= \"the first column F will contain only 5 uniques values\"\n",
        "S2= \"the second column S will contain only 3 uniques values\"\n",
        "Output:\n",
        "a. 7\n",
        "b. ['first','F','5']\n",
        "c. ['second','S','3']\n",
        "</pre>"
      ]
    },
    {
      "cell_type": "code",
      "metadata": {
        "id": "Ez7hlHK0B-lG"
      },
      "source": [
        ""
      ],
      "execution_count": null,
      "outputs": []
    },
    {
      "cell_type": "code",
      "metadata": {
        "id": "-SJE-SOabKRO",
        "colab": {
          "base_uri": "https://localhost:8080/"
        },
        "outputId": "86e4135a-8065-45de-daae-57f36f6e189d"
      },
      "source": [
        "# write your python code here\n",
        "# you can take the above example as sample input for your program to test\n",
        "# it should work for any general input try not to hard code for only given input strings\n",
        "\n",
        "# you can free to change all these codes/structure\n",
        "def string_features(S1, S2):\n",
        "    # your code\n",
        "   \n",
        "  S1 = S1.split() \n",
        "  S2 = S2.split() \n",
        "  a=[]\n",
        "  b=[]\n",
        "  c=[]\n",
        "  for i in S1: \n",
        "    if i  not in S2: \n",
        "      b.append(i)\n",
        "  for j in S2: \n",
        "    if j  not in S1: \n",
        "      a.append(j)\n",
        "  for i in S1:\n",
        "    if i in S2:\n",
        "      c.append(i)\n",
        "  \n",
        "  print(len(c))\n",
        "  print(b)\n",
        "  print(a)\n",
        "S1= \"the first column F will contain only 5 uniques values\"\n",
        "S2= \"the second column S will contain only 3 uniques values\"\n",
        "string_features(S1, S2)\n"
      ],
      "execution_count": null,
      "outputs": [
        {
          "output_type": "stream",
          "text": [
            "7\n",
            "['first', 'F', '5']\n",
            "['second', 'S', '3']\n"
          ],
          "name": "stdout"
        }
      ]
    },
    {
      "cell_type": "markdown",
      "metadata": {
        "id": "XefXVEjCB-lI"
      },
      "source": [
        "<h3> Q10: Given two sentances S1, S2</h3>\n",
        "You will be given a list of lists, each sublist will be of length 2 i.e. [[x,y],[p,q],[l,m]..[r,s]]\n",
        "consider its like a martrix of n rows and two columns\n",
        "\n",
        "a. the first column Y will contain interger values <br>\n",
        "b. the second column $Y_{score}$ will be having float values <br>\n",
        "Your task is to find the value of $f(Y,Y_{score}) = -1*\\frac{1}{n}\\Sigma_{for each Y,Y_{score} pair}(Ylog10(Y_{score})+(1-Y)log10(1-Y_{score}))$ here n is the number of rows in the matrix\n",
        "<pre>\n",
        "Ex:\n",
        "[[1, 0.4], [0, 0.5], [0, 0.9], [0, 0.3], [0, 0.6], [1, 0.1], [1, 0.9], [1, 0.8]]\n",
        "output:\n",
        "0.4243099\n",
        "</pre>\n",
        "$\\frac{-1}{8}\\cdot((1\\cdot log_{10}(0.4)+0\\cdot log_{10}(0.6))+(0\\cdot log_{10}(0.5)+1\\cdot log_{10}(0.5)) + ... + (1\\cdot log_{10}(0.8)+0\\cdot log_{10}(0.2)) )$"
      ]
    },
    {
      "cell_type": "code",
      "metadata": {
        "id": "N9zkagyNB-lJ",
        "colab": {
          "base_uri": "https://localhost:8080/"
        },
        "outputId": "fecb3d81-82b7-4f7a-b1e5-f337efe28077"
      },
      "source": [
        "# write your python code here\n",
        "# you can take the above example as sample input for your program to test\n",
        "# it should work for any general input try not to hard code for only given input strings\n",
        "import math\n",
        "# you can free to change all these codes/structure\n",
        "def compute_log_loss(A):\n",
        "    # your code\n",
        "    \n",
        "  n=len(A)  \n",
        "  loss=0\n",
        "  for i in A :\n",
        "    loss=loss+(i[0])*(math.log10(i[1]))+((1-i[0])*(math.log10(1-i[1])))\n",
        "    \n",
        "  loss=(-1/n)*loss\n",
        "  return loss\n",
        "\n",
        "\n",
        "A = [[1, 0.4], [0, 0.5], [0, 0.9], [0, 0.3], [0, 0.6], [1, 0.1], [1, 0.9], [1, 0.8]]\n",
        "n=len(A)\n",
        "lo = compute_log_loss(A)\n",
        "print(lo)"
      ],
      "execution_count": null,
      "outputs": [
        {
          "output_type": "stream",
          "text": [
            "0.42430993457031635\n"
          ],
          "name": "stdout"
        }
      ]
    },
    {
      "cell_type": "code",
      "metadata": {
        "id": "UdOcL4ZSchRv"
      },
      "source": [
        ""
      ],
      "execution_count": null,
      "outputs": []
    },
    {
      "cell_type": "code",
      "metadata": {
        "id": "3Qv5VlS0cirV"
      },
      "source": [
        ""
      ],
      "execution_count": null,
      "outputs": []
    },
    {
      "cell_type": "code",
      "metadata": {
        "id": "cuOjLVayMV3f"
      },
      "source": [
        ""
      ],
      "execution_count": null,
      "outputs": []
    },
    {
      "cell_type": "code",
      "metadata": {
        "id": "pKy5pMi8TXe5"
      },
      "source": [
        ""
      ],
      "execution_count": null,
      "outputs": []
    }
  ]
}