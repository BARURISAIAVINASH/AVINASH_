{
  "nbformat": 4,
  "nbformat_minor": 0,
  "metadata": {
    "colab": {
      "name": "Copy of SVM_SGD.ipynb",
      "provenance": [],
      "collapsed_sections": []
    },
    "kernelspec": {
      "name": "python3",
      "display_name": "Python 3"
    },
    "language_info": {
      "name": "python"
    }
  },
  "cells": [
    {
      "cell_type": "markdown",
      "metadata": {
        "id": "FttR-VghJXTO"
      },
      "source": [
        "### CONSIDER DATASET WHICH IS LINEARLY SEPERABLE"
      ]
    },
    {
      "cell_type": "markdown",
      "metadata": {
        "id": "m-WRPZ1X4JLJ"
      },
      "source": [
        "IMPORT LIBRARIES"
      ]
    },
    {
      "cell_type": "code",
      "metadata": {
        "id": "f715yAtS7ZKI"
      },
      "source": [
        "import numpy as np\n",
        "import matplotlib.pyplot as plt\n",
        "from sklearn import svm\n",
        "\n",
        "#Training Data\n",
        "x = np.array([[1,2],[3,2],[3,4],[7,2],[10,1],[7,3],[11,4],[13,3]])\n",
        "y = np.array([1,1,1,-1,-1,-1,-1,-1])\n",
        "\n"
      ],
      "execution_count": null,
      "outputs": []
    },
    {
      "cell_type": "code",
      "metadata": {
        "id": "jdr6qBY78JSA"
      },
      "source": [
        "#Testing Data\n",
        "x_test=np.array([[1,2],[3,2],[3,4],[7,2],[10,1],[7,3],[11,4],[13,3]])\n",
        "\n",
        "#Adding 1st column as bias\n",
        "x = np.c_[np.ones((x.shape[0])), x]\n",
        "\n"
      ],
      "execution_count": null,
      "outputs": []
    },
    {
      "cell_type": "code",
      "metadata": {
        "id": "cxLSY0DW8neu"
      },
      "source": [
        "#For Testing\n",
        "x_test = np.c_[np.ones((x.shape[0])), x_test]\n",
        "\n",
        "#Initialize weights, epochs, learning rate\n",
        "w = np.random.uniform(size=(x.shape[1],))\n",
        "epochs=500\n",
        "learning_rate=0.02\n",
        "\n"
      ],
      "execution_count": null,
      "outputs": []
    },
    {
      "cell_type": "code",
      "metadata": {
        "id": "Pkefh-BP8rtv"
      },
      "source": [
        "#Stochastic Gradient Descent with hinge loss\n",
        "for epoch in range (0,epochs):\n",
        "    randomize = np.arange(len(x))\n",
        "    np.random.shuffle(randomize)\n",
        "    x=x[randomize]\n",
        "    y=y[randomize]\n",
        "    loss=0\n",
        "    for xi,yi in zip(x,y):\n",
        "        loss+=max(0,1-yi*np.dot(xi,w))\n",
        "        if(yi*np.dot(xi,w)<1):\n",
        "            #grad+=-yi*xi\n",
        "            w=w-learning_rate*(-yi*xi)\n",
        "        else:\n",
        "            #grad+=0\n",
        "            w=w\n",
        "    #print(w,loss)\n",
        "\n"
      ],
      "execution_count": null,
      "outputs": []
    },
    {
      "cell_type": "code",
      "metadata": {
        "id": "N7wfVTSI8unI"
      },
      "source": [
        "#Predicting with new values\n",
        "def predict(x,w):\n",
        "    return(np.sign(np.dot(x,w)))\n",
        "\n",
        "\n"
      ],
      "execution_count": null,
      "outputs": []
    },
    {
      "cell_type": "code",
      "metadata": {
        "id": "FvUpr0Dt8yEn"
      },
      "source": [
        "#Plotting        \n",
        "def plot(x,w):\n",
        "    Y=(-w[0] - (w[1] * x)) / w[2]\n",
        "    psy=(1-w[0] - (w[1] * x)) / w[2]\n",
        "    nsy=(-1-w[0] - (w[1] * x)) / w[2]\n",
        "    plt.figure()\n",
        "    plt.scatter(x[:,1],x[:,2],c=y,edgecolor='black', cmap=plt.cm.Paired,s=20)\n",
        "    plt.plot(x,Y,'r-')\n",
        "    plt.plot(x,psy,'b-')\n",
        "    plt.plot(x,nsy,'b-')\n",
        "    margin=2/np.sqrt(w[1]**2+w[2]**2)\n",
        "    plt.show()\n",
        "\n"
      ],
      "execution_count": null,
      "outputs": []
    },
    {
      "cell_type": "code",
      "metadata": {
        "colab": {
          "base_uri": "https://localhost:8080/"
        },
        "id": "2TPe_7qS80Tx",
        "outputId": "cc06dec3-cedc-4431-db75-7341fd09aff2"
      },
      "source": [
        "ans=predict(x_test,w)\n",
        "#print(ans)\n",
        "\n",
        "#Finding values for slack variables\n",
        "for xi,yi in zip(x,y):\n",
        "    slack=max(0,1-yi*np.dot(xi,w))\n",
        "    print(xi[1:],' Slack:',slack)\n",
        "\n"
      ],
      "execution_count": null,
      "outputs": [
        {
          "output_type": "stream",
          "name": "stdout",
          "text": [
            "[7. 3.]  Slack: 0\n",
            "[11.  4.]  Slack: 0\n",
            "[3. 2.]  Slack: 0\n",
            "[1. 2.]  Slack: 0\n",
            "[3. 4.]  Slack: 0\n",
            "[13.  3.]  Slack: 0\n",
            "[10.  1.]  Slack: 0\n",
            "[7. 2.]  Slack: 0\n"
          ]
        }
      ]
    },
    {
      "cell_type": "markdown",
      "metadata": {
        "id": "19KKv28d_aHL"
      },
      "source": [
        "HERE WE CAN OBSERVE THE SLACK VALUE IS ZERO BECAUSE THE DATA IS LINEARLY SEPARABLE"
      ]
    },
    {
      "cell_type": "code",
      "metadata": {
        "colab": {
          "base_uri": "https://localhost:8080/",
          "height": 282
        },
        "id": "P68o6OK9823H",
        "outputId": "ec5e6188-ad53-4e50-dc89-86741dd093ab"
      },
      "source": [
        "#Finding Support Vectors\n",
        "for xi in x:\n",
        "    if(round(np.linalg.norm((np.dot(xi,w))*(w/np.linalg.norm(w))),1)==1):\n",
        "        print(\"Support Vector:\",xi[1:])\n",
        "plot(x,w)"
      ],
      "execution_count": null,
      "outputs": [
        {
          "output_type": "stream",
          "name": "stdout",
          "text": [
            "Support Vector: [7. 3.]\n"
          ]
        },
        {
          "output_type": "display_data",
          "data": {
            "image/png": "[encoded data removed]",
            "text/plain": [
              "<Figure size 432x288 with 1 Axes>"
            ]
          },
          "metadata": {
            "needs_background": "light"
          }
        }
      ]
    },
    {
      "cell_type": "markdown",
      "metadata": {
        "id": "RGDoPGik_W3u"
      },
      "source": [
        "## NOW LET ME ASSUME DATASET WHICH IS NOT LINEARLY SEPARABLE"
      ]
    },
    {
      "cell_type": "code",
      "metadata": {
        "colab": {
          "base_uri": "https://localhost:8080/",
          "height": 418
        },
        "id": "9EekdQdn84ri",
        "outputId": "92aa7f1c-9c77-450d-80c0-2d571fab229d"
      },
      "source": [
        "import numpy as np\n",
        "import matplotlib.pyplot as plt\n",
        "from sklearn import svm\n",
        "\n",
        "#Training Data\n",
        "x = np.array([[1,2],[3,2],[3,4],[7,2],[10,1],[7,3],[11,4],[13,3]])\n",
        "y = np.array([1,1,-1,-1,-1,-1,1,-1])\n",
        "\n",
        "#Testing Data\n",
        "x_test=np.array([[1,2],[3,2],[3,4],[7,2],[10,1],[7,3],[11,4],[13,3]])\n",
        "\n",
        "#Adding 1st column as bias\n",
        "x = np.c_[np.ones((x.shape[0])), x]\n",
        "\n",
        "#For Testing\n",
        "x_test = np.c_[np.ones((x.shape[0])), x_test]\n",
        "\n",
        "#Initialize weights, epochs, learning rate\n",
        "w = np.random.uniform(size=(x.shape[1],))\n",
        "epochs=1000\n",
        "learning_rate=0.01\n",
        "\n",
        "#Stochastic Gradient Descent with hinge loss\n",
        "for epoch in range (0,epochs):\n",
        "    randomize = np.arange(len(x))\n",
        "    np.random.shuffle(randomize)\n",
        "    x=x[randomize]\n",
        "    y=y[randomize]\n",
        "    loss=0\n",
        "    for xi,yi in zip(x,y):\n",
        "        loss+=max(0,1-yi*np.dot(xi,w))\n",
        "        if(yi*np.dot(xi,w)<1):\n",
        "            #grad+=-yi*xi\n",
        "            w=w-learning_rate*(-yi*xi)\n",
        "        else:\n",
        "            #grad+=0\n",
        "            w=w\n",
        "    #print(w,loss)\n",
        "\n",
        "#Predicting with new values\n",
        "def predict(x,w):\n",
        "    return(np.sign(np.dot(x,w)))\n",
        "\n",
        "#Plotting        \n",
        "def plot(x,w):\n",
        "    Y=(-w[0] - (w[1] * x)) / w[2]\n",
        "    psy=(1-w[0] - (w[1] * x)) / w[2]\n",
        "    nsy=(-1-w[0] - (w[1] * x)) / w[2]\n",
        "    plt.figure()\n",
        "    plt.scatter(x[:,1],x[:,2],c=y,edgecolor='black', cmap=plt.cm.Paired,s=20)\n",
        "    plt.plot(x,Y,'r-')\n",
        "    plt.plot(x,psy,'b-')\n",
        "    plt.plot(x,nsy,'b-')\n",
        "    margin=2/np.sqrt(w[1]**2+w[2]**2)\n",
        "    plt.show()\n",
        "\n",
        "ans=predict(x_test,w)\n",
        "print(ans)\n",
        "\n",
        "#Finding values for slack variables\n",
        "for xi,yi in zip(x,y):\n",
        "    slack=max(0,1-yi*np.dot(xi,w))\n",
        "    print(xi[1:],' Slack:',slack)\n",
        "\n",
        "#Finding Support Vectors\n",
        "for xi in x:\n",
        "    if(round(np.linalg.norm((np.dot(xi,w))*(w/np.linalg.norm(w))),1)==1):\n",
        "        print(\"Support Vector:\",xi[1:])\n",
        "plot(x,w)"
      ],
      "execution_count": null,
      "outputs": [
        {
          "output_type": "stream",
          "name": "stdout",
          "text": [
            "[ 1.  1. -1. -1. -1. -1. -1. -1.]\n",
            "[7. 2.]  Slack: 0.695423721804097\n",
            "[7. 3.]  Slack: 0.31911394318071074\n",
            "[10.  1.]  Slack: 0.3756010468279585\n",
            "[3. 2.]  Slack: 0.3763996733965369\n",
            "[11.  4.]  Slack: 2.985372440242042\n",
            "[3. 4.]  Slack: 0.8709807693566907\n",
            "[1. 2.]  Slack: 0\n",
            "[13.  3.]  Slack: 0\n"
          ]
        },
        {
          "output_type": "display_data",
          "data": {
            "image/png": "[encoded data removed]",
            "text/plain": [
              "<Figure size 432x288 with 1 Axes>"
            ]
          },
          "metadata": {
            "needs_background": "light"
          }
        }
      ]
    },
    {
      "cell_type": "markdown",
      "metadata": {
        "id": "d0Dar-ouAOv7"
      },
      "source": [
        "Now we can see the value of slack is non-zero. Also observe that for (11,4) point we got highest value of slack because it is missclasified."
      ]
    },
    {
      "cell_type": "code",
      "metadata": {
        "id": "r46TeiMoH1oW"
      },
      "source": [
        ""
      ],
      "execution_count": null,
      "outputs": []
    },
    {
      "cell_type": "markdown",
      "metadata": {
        "id": "HM8Hb8YeKQU6"
      },
      "source": [
        "## **LET US IMPLEMENT ON IRIS DATASET**"
      ]
    },
    {
      "cell_type": "code",
      "metadata": {
        "id": "3Db_muvLH1r7"
      },
      "source": [
        ""
      ],
      "execution_count": null,
      "outputs": []
    },
    {
      "cell_type": "markdown",
      "metadata": {
        "id": "CoEekuQSKoys"
      },
      "source": [
        "## HERE WE WILL CONSIDER FEATURES PETAL LENGTH AND PETAL WIDTH .\n",
        "## DATASET LINEARLY SEPARABLE."
      ]
    },
    {
      "cell_type": "code",
      "metadata": {
        "colab": {
          "base_uri": "https://localhost:8080/",
          "height": 377
        },
        "id": "Oe8ZCzABH1vY",
        "outputId": "4473c260-d609-4b5e-de78-978e641e840c"
      },
      "source": [
        "import numpy as np \n",
        "import pandas as pd \n",
        "import matplotlib.pyplot as plt\n",
        "import seaborn as sns\n",
        "from sklearn.preprocessing import PolynomialFeatures, StandardScaler\n",
        "from sklearn.svm import LinearSVC\n",
        "from sklearn.svm import SVC\n",
        "from sklearn.model_selection import train_test_split\n",
        "\n",
        "\n",
        "\n",
        "from sklearn import datasets\n",
        "iris = datasets.load_iris()\n",
        "\n",
        "X = iris['data'][:,(2,3)]\n",
        "\n",
        "scaler = StandardScaler()\n",
        "Xstan = scaler.fit_transform(X)\n",
        "\n",
        "data = pd.DataFrame(data=Xstan, columns=['petal length','petal width'])\n",
        "data['target'] = iris['target']\n",
        "data = data[data['target']!=2] \n",
        "data.head()\n",
        "\n",
        "sns.lmplot(x='petal length',y='petal width',hue='target',data=data, fit_reg=False, legend=False)\n",
        "plt.legend(['Iris-Setosa','Iris-Versicolor'], fontsize = 14)\n",
        "plt.xlabel('petal length (scaled)', fontsize = 18)\n",
        "plt.ylabel('petal width (scaled)', fontsize = 18)\n",
        "plt.show()\n",
        "\n",
        "X=data.loc[:, [\"petal length\", \"petal width\"]]\n",
        "\n",
        "X=X.values\n",
        "\n",
        "y=data['target']\n",
        "y=list(y)\n",
        "\n",
        "#print(y)\n",
        "z=[]\n",
        "for i in y:\n",
        "  if i==0:\n",
        "    z.append(-1)\n",
        "  else:\n",
        "    z.append(1)\n",
        "\n",
        "y=np.array(z).reshape(-1,1)"
      ],
      "execution_count": null,
      "outputs": [
        {
          "output_type": "display_data",
          "data": {
            "image/png": "[encoded data removed]",
            "text/plain": [
              "<Figure size 360x360 with 1 Axes>"
            ]
          },
          "metadata": {
            "needs_background": "light"
          }
        }
      ]
    },
    {
      "cell_type": "code",
      "metadata": {
        "colab": {
          "base_uri": "https://localhost:8080/"
        },
        "id": "ZRN2s7w9H1yf",
        "outputId": "466771e5-d39d-4bc9-f748-166f1bdd31ec"
      },
      "source": [
        "X.shape"
      ],
      "execution_count": null,
      "outputs": [
        {
          "output_type": "execute_result",
          "data": {
            "text/plain": [
              "(100, 2)"
            ]
          },
          "metadata": {},
          "execution_count": 14
        }
      ]
    },
    {
      "cell_type": "code",
      "metadata": {
        "colab": {
          "base_uri": "https://localhost:8080/"
        },
        "id": "9hEVTFI6H112",
        "outputId": "b1dfc049-c12b-4ba4-9d2e-a03e4808a9ae"
      },
      "source": [
        "y.shape"
      ],
      "execution_count": null,
      "outputs": [
        {
          "output_type": "execute_result",
          "data": {
            "text/plain": [
              "(100, 1)"
            ]
          },
          "metadata": {},
          "execution_count": 15
        }
      ]
    },
    {
      "cell_type": "code",
      "metadata": {
        "colab": {
          "base_uri": "https://localhost:8080/",
          "height": 1000
        },
        "id": "nmK196pIH15G",
        "outputId": "5a3cd496-efc9-4128-8059-db4295f37dad"
      },
      "source": [
        "import numpy as np\n",
        "import matplotlib.pyplot as plt\n",
        "from sklearn import svm\n",
        "\n",
        "\n",
        "x=x_test=np.array(X)\n",
        "y=np.array(y)\n",
        "\n",
        "\n",
        "\n",
        "x = np.c_[np.ones((x.shape[0])), x]\n",
        "\n",
        "#For Testing\n",
        "x_test = np.c_[np.ones((x.shape[0])), x_test]\n",
        "\n",
        "#Initialize weights, epochs, learning rate\n",
        "w = np.random.uniform(size=(x.shape[1],))\n",
        "epochs=1000\n",
        "learning_rate=0.01\n",
        "\n",
        "#Stochastic Gradient Descent with hinge loss\n",
        "for epoch in range (0,epochs):\n",
        "    randomize = np.arange(len(x))\n",
        "    np.random.shuffle(randomize)\n",
        "    x=x[randomize]\n",
        "    y=y[randomize]\n",
        "    loss=0\n",
        "    for xi,yi in zip(x,y):\n",
        "        loss+=max(0,1-yi*np.dot(xi,w))\n",
        "        if(yi*np.dot(xi,w)<1):\n",
        "            #grad+=-yi*xi\n",
        "            w=w-learning_rate*(-yi*xi)\n",
        "        else:\n",
        "            #grad+=0\n",
        "            w=w\n",
        "    #print(w,loss)\n",
        "\n",
        "#Predicting with new values\n",
        "def predict(x,w):\n",
        "    return(np.sign(np.dot(x,w)))\n",
        "\n",
        "#Plotting        \n",
        "def plot(x,w):\n",
        "    Y=(-w[0] - (w[1] * x)) / w[2]\n",
        "    psy=(1-w[0] - (w[1] * x)) / w[2]\n",
        "    nsy=(-1-w[0] - (w[1] * x)) / w[2]\n",
        "    plt.figure()\n",
        "    plt.scatter(x[:,1],x[:,2],c=y,edgecolor='black', cmap=plt.cm.Paired,s=20)\n",
        "    plt.plot(x,Y,'r-')\n",
        "    plt.plot(x,psy,'b-')\n",
        "    plt.plot(x,nsy,'b-')\n",
        "    margin=2/np.sqrt(w[1]**2+w[2]**2)\n",
        "    plt.show()\n",
        "\n",
        "ans=predict(x_test,w)\n",
        "print('ans',ans)\n",
        "\n",
        "#Finding values for slack variables\n",
        "for xi,yi in zip(x,y):\n",
        "    slack=max(0,1-yi*np.dot(xi,w))\n",
        "    print(xi[1:],' Slack:',slack)\n",
        "\n",
        "#Finding Support Vectors\n",
        "for xi in x:\n",
        "    if(round(np.linalg.norm((np.dot(xi,w))*(w/np.linalg.norm(w))),1)==1):\n",
        "        print(\"Support Vector:\",xi[1:])\n",
        "plot(x,w)"
      ],
      "execution_count": null,
      "outputs": [
        {
          "output_type": "stream",
          "name": "stdout",
          "text": [
            "ans [-1. -1. -1. -1. -1. -1. -1. -1. -1. -1. -1. -1. -1. -1. -1. -1. -1. -1.\n",
            " -1. -1. -1. -1. -1. -1. -1. -1. -1. -1. -1. -1. -1. -1. -1. -1. -1. -1.\n",
            " -1. -1. -1. -1. -1. -1. -1. -1. -1. -1. -1. -1. -1. -1.  1.  1.  1.  1.\n",
            "  1.  1.  1.  1.  1.  1.  1.  1.  1.  1.  1.  1.  1.  1.  1.  1.  1.  1.\n",
            "  1.  1.  1.  1.  1.  1.  1.  1.  1.  1.  1.  1.  1.  1.  1.  1.  1.  1.\n",
            "  1.  1.  1.  1.  1.  1.  1.  1.  1.  1.]\n",
            "[0.13754657 0.13250973]  Slack: 0\n",
            "[-1.05603939 -1.3154443 ]  Slack: 0\n",
            "[0.42173371 0.3957741 ]  Slack: 0\n",
            "[0.13754657 0.00087755]  Slack: 0\n",
            "[-1.34022653 -1.3154443 ]  Slack: 0\n",
            "[0.36489628 0.26414192]  Slack: 0\n",
            "[0.08070915 0.26414192]  Slack: 0\n",
            "[-1.2833891 -1.3154443]  Slack: 0\n",
            "[0.30805885 0.13250973]  Slack: 0\n",
            "[-1.39706395 -1.3154443 ]  Slack: 0\n",
            "[-1.2833891 -1.3154443]  Slack: 0\n",
            "[-1.2833891 -1.3154443]  Slack: 0\n",
            "[-1.16971425 -1.3154443 ]  Slack: 0\n",
            "[-1.34022653 -1.44707648]  Slack: 0\n",
            "[-1.34022653 -1.3154443 ]  Slack: 0\n",
            "[-1.2833891  -1.44707648]  Slack: 0\n",
            "[-1.16971425 -0.92054774]  Slack: 0\n",
            "[0.36489628 0.13250973]  Slack: 0\n",
            "[-1.34022653 -1.44707648]  Slack: 0\n",
            "[ 0.08070915 -0.13075464]  Slack: 0\n",
            "[-1.22655167 -0.78891556]  Slack: 0\n",
            "[-1.51073881 -1.44707648]  Slack: 0\n",
            "[-1.56757623 -1.3154443 ]  Slack: 0\n",
            "[-0.14664056 -0.26238682]  Slack: 0\n",
            "[0.42173371 0.52740629]  Slack: 0\n",
            "[-1.45390138 -1.3154443 ]  Slack: 0\n",
            "[-1.2833891 -1.3154443]  Slack: 0\n",
            "[-1.22655167 -1.3154443 ]  Slack: 0\n",
            "[0.42173371 0.3957741 ]  Slack: 0\n",
            "[-1.2833891 -1.3154443]  Slack: 0\n",
            "[0.53540856 0.52740629]  Slack: 0\n",
            "[0.36489628 0.00087755]  Slack: 0\n",
            "[-1.2833891  -1.05217993]  Slack: 0\n",
            "[0.53540856 0.26414192]  Slack: 0\n",
            "[-1.16971425 -1.18381211]  Slack: 0\n",
            "[0.64908342 0.3957741 ]  Slack: 0\n",
            "[0.36489628 0.26414192]  Slack: 0\n",
            "[-1.34022653 -1.3154443 ]  Slack: 0\n",
            "[0.194384   0.13250973]  Slack: 0\n",
            "[-0.14664056 -0.26238682]  Slack: 0\n",
            "[0.25122143 0.00087755]  Slack: 0\n",
            "[-1.22655167 -1.05217993]  Slack: 0\n",
            "[-1.34022653 -1.3154443 ]  Slack: 0\n",
            "[ 0.13754657 -0.26238682]  Slack: 0\n",
            "[-1.39706395 -1.18381211]  Slack: 0\n",
            "[0.47857113 0.3957741 ]  Slack: 0\n",
            "[0.194384   0.13250973]  Slack: 0\n",
            "[-1.05603939 -1.05217993]  Slack: 0\n",
            "[-1.22655167 -1.3154443 ]  Slack: 0\n",
            "[-1.34022653 -1.3154443 ]  Slack: 0\n",
            "[-1.34022653 -1.3154443 ]  Slack: 0\n",
            "[0.53540856 0.00087755]  Slack: 0\n",
            "[0.53540856 0.26414192]  Slack: 0\n",
            "[0.42173371 0.13250973]  Slack: 0\n",
            "[0.59224599 0.26414192]  Slack: 0\n",
            "[0.47857113 0.26414192]  Slack: 0\n",
            "[-1.39706395 -1.18381211]  Slack: 0\n",
            "[0.08070915 0.00087755]  Slack: 0\n",
            "[-1.34022653 -1.3154443 ]  Slack: 0\n",
            "[0.47857113 0.13250973]  Slack: 0\n",
            "[0.13754657 0.13250973]  Slack: 0\n",
            "[-0.26031542 -0.26238682]  Slack: 0\n",
            "[-1.2833891  -1.18381211]  Slack: 0\n",
            "[-1.22655167 -1.3154443 ]  Slack: 0\n",
            "[ 0.02387172 -0.13075464]  Slack: 0\n",
            "[0.70592084 0.65903847]  Slack: 0\n",
            "[0.13754657 0.13250973]  Slack: 0\n",
            "[-1.22655167 -1.3154443 ]  Slack: 0\n",
            "[0.53540856 0.3957741 ]  Slack: 0\n",
            "[-0.26031542 -0.26238682]  Slack: 0\n",
            "[-0.4308277  -0.13075464]  Slack: 0\n",
            "[-1.2833891 -1.3154443]  Slack: 0\n",
            "[ 0.194384   -0.26238682]  Slack: 0\n",
            "[0.25122143 0.13250973]  Slack: 0\n",
            "[-1.34022653 -1.18381211]  Slack: 0\n",
            "[-1.22655167 -1.3154443 ]  Slack: 0\n",
            "[0.42173371 0.3957741 ]  Slack: 0\n",
            "[0.42173371 0.3957741 ]  Slack: 0\n",
            "[0.76275827 0.52740629]  Slack: 0\n",
            "[-1.2833891  -1.44707648]  Slack: 0\n",
            "[0.59224599 0.79067065]  Slack: 0\n",
            "[-1.39706395 -1.05217993]  Slack: 0\n",
            "[-1.2833891  -1.05217993]  Slack: 0\n",
            "[-1.34022653 -1.18381211]  Slack: 0\n",
            "[0.64908342 0.3957741 ]  Slack: 0\n",
            "[0.30805885 0.13250973]  Slack: 0\n",
            "[0.25122143 0.3957741 ]  Slack: 0\n",
            "[-1.16971425 -1.05217993]  Slack: 0\n",
            "[-1.39706395 -1.3154443 ]  Slack: 0\n",
            "[-1.45390138 -1.3154443 ]  Slack: 0\n",
            "[-1.39706395 -1.3154443 ]  Slack: 0\n",
            "[-0.03296571 -0.26238682]  Slack: 0\n",
            "[-1.2833891 -1.3154443]  Slack: 0\n",
            "[-1.34022653 -1.18381211]  Slack: 0\n",
            "[-1.2833891  -1.05217993]  Slack: 0\n",
            "[0.42173371 0.3957741 ]  Slack: 0\n",
            "[0.25122143 0.13250973]  Slack: 0\n",
            "[-1.34022653 -1.3154443 ]  Slack: 0\n",
            "[-1.39706395 -1.3154443 ]  Slack: 0\n",
            "[-0.08980313  0.13250973]  Slack: 0\n",
            "Support Vector: [-1.22655167 -0.78891556]\n",
            "Support Vector: [-0.26031542 -0.26238682]\n",
            "Support Vector: [-0.26031542 -0.26238682]\n",
            "Support Vector: [-0.4308277  -0.13075464]\n"
          ]
        },
        {
          "output_type": "display_data",
          "data": {
            "image/png": "[encoded data removed]",
            "text/plain": [
              "<Figure size 432x288 with 1 Axes>"
            ]
          },
          "metadata": {
            "needs_background": "light"
          }
        }
      ]
    },
    {
      "cell_type": "code",
      "metadata": {
        "id": "pKMEFharH2Co"
      },
      "source": [
        ""
      ],
      "execution_count": null,
      "outputs": []
    },
    {
      "cell_type": "markdown",
      "metadata": {
        "id": "u1n7wR79JVcX"
      },
      "source": [
        "The value of slack is zero because dataset is linearly separable"
      ]
    },
    {
      "cell_type": "code",
      "metadata": {
        "id": "z8WQgYbMH2He"
      },
      "source": [
        ""
      ],
      "execution_count": null,
      "outputs": []
    },
    {
      "cell_type": "markdown",
      "metadata": {
        "id": "ECy7d7DaLSn1"
      },
      "source": [
        "## HERE WE WILL CONSIDER FEATURES SEPAL LENGTH AND SEPAL WIDTH \n",
        "## DATASET NOT-LINEARLY SEPARABLE."
      ]
    },
    {
      "cell_type": "code",
      "metadata": {
        "id": "VHGthnlxAyYq"
      },
      "source": [
        ""
      ],
      "execution_count": null,
      "outputs": []
    },
    {
      "cell_type": "code",
      "metadata": {
        "id": "5Z8n2JVRGHQk"
      },
      "source": [
        ""
      ],
      "execution_count": null,
      "outputs": []
    },
    {
      "cell_type": "code",
      "metadata": {
        "colab": {
          "base_uri": "https://localhost:8080/",
          "height": 377
        },
        "id": "ZYNrXHlMGHUB",
        "outputId": "985c2d43-1c94-4ff8-dc17-6ac53059ade0"
      },
      "source": [
        "import numpy as np \n",
        "import pandas as pd \n",
        "import matplotlib.pyplot as plt\n",
        "import seaborn as sns\n",
        "from sklearn.preprocessing import PolynomialFeatures, StandardScaler\n",
        "from sklearn.svm import LinearSVC\n",
        "from sklearn.svm import SVC\n",
        "from sklearn.model_selection import train_test_split\n",
        "from sklearn import datasets\n",
        "iris = datasets.load_iris()\n",
        "X = iris['data'][:,1:3]\n",
        "\n",
        "scaler = StandardScaler()\n",
        "Xstan = scaler.fit_transform(X)\n",
        "\n",
        "\n",
        "\n",
        "\n",
        "\n",
        "data = pd.DataFrame(data=Xstan, columns=['sepal length','sepal width'])\n",
        "data['target'] = iris['target']\n",
        "data = data[data['target']!=0] \n",
        "data.head()\n",
        "\n",
        "sns.lmplot(x='sepal length',y='sepal width',hue='target',data=data, fit_reg=False, legend=False)\n",
        "plt.legend(['Iris-Versicolor','Iris-virginica'], fontsize = 14)\n",
        "plt.xlabel('sepal length (scaled)', fontsize = 18)\n",
        "plt.ylabel('sepal width (scaled)', fontsize = 18)\n",
        "plt.show()\n",
        "\n",
        "\n",
        "X=data.loc[:, [\"sepal length\", \"sepal width\"]]\n",
        "\n",
        "X=X.values\n",
        "\n",
        "y=data['target']\n",
        "\n",
        "y=list(y)\n",
        "\n",
        "z=[]\n",
        "for i in y:\n",
        "  if i==1:\n",
        "    z.append(-1)\n",
        "  else:\n",
        "    z.append(1)\n",
        "\n",
        "\n",
        "\n",
        "    y=np.array(z).reshape(-1,1)\n",
        "\n"
      ],
      "execution_count": null,
      "outputs": [
        {
          "output_type": "display_data",
          "data": {
            "image/png": "[encoded data removed]",
            "text/plain": [
              "<Figure size 360x360 with 1 Axes>"
            ]
          },
          "metadata": {
            "needs_background": "light"
          }
        }
      ]
    },
    {
      "cell_type": "code",
      "metadata": {
        "colab": {
          "base_uri": "https://localhost:8080/"
        },
        "id": "wePsUI53GH90",
        "outputId": "e5b4ee94-f26a-4083-b49d-0ddcdef050c6"
      },
      "source": [
        "X.shape"
      ],
      "execution_count": null,
      "outputs": [
        {
          "output_type": "execute_result",
          "data": {
            "text/plain": [
              "(100, 2)"
            ]
          },
          "metadata": {},
          "execution_count": 18
        }
      ]
    },
    {
      "cell_type": "code",
      "metadata": {
        "colab": {
          "base_uri": "https://localhost:8080/"
        },
        "id": "AapduEYMGsDS",
        "outputId": "47377678-fd44-4101-db85-3d1d0949b2c4"
      },
      "source": [
        "y.shape"
      ],
      "execution_count": null,
      "outputs": [
        {
          "output_type": "execute_result",
          "data": {
            "text/plain": [
              "(100, 1)"
            ]
          },
          "metadata": {},
          "execution_count": 19
        }
      ]
    },
    {
      "cell_type": "code",
      "metadata": {
        "colab": {
          "base_uri": "https://localhost:8080/"
        },
        "id": "jwq7kAsmPGNd",
        "outputId": "a6f0a403-6abe-4633-be1d-c181affbe9ad"
      },
      "source": [
        "w.shape"
      ],
      "execution_count": null,
      "outputs": [
        {
          "output_type": "execute_result",
          "data": {
            "text/plain": [
              "(3,)"
            ]
          },
          "metadata": {},
          "execution_count": 20
        }
      ]
    },
    {
      "cell_type": "code",
      "metadata": {
        "colab": {
          "base_uri": "https://localhost:8080/",
          "height": 1000
        },
        "id": "CT5d5qdvGtcb",
        "outputId": "251c9d26-9a8f-42a3-d8ef-d637059f5a93"
      },
      "source": [
        "import numpy as np\n",
        "import matplotlib.pyplot as plt\n",
        "from sklearn import svm\n",
        "\n",
        "\n",
        "x=x_test=np.array(X)\n",
        "y=np.array(y)\n",
        "\n",
        "\n",
        "\n",
        "x = np.c_[np.ones((x.shape[0])), x]\n",
        "\n",
        "#For Testing\n",
        "x_test = np.c_[np.ones((x.shape[0])), x_test]\n",
        "\n",
        "#Initialize weights, epochs, learning rate\n",
        "w = np.random.uniform(size=(x.shape[1],))\n",
        "epochs=1000\n",
        "learning_rate=0.01\n",
        "\n",
        "#Stochastic Gradient Descent with hinge loss\n",
        "for epoch in range (0,epochs):\n",
        "    randomize = np.arange(len(x))\n",
        "    np.random.shuffle(randomize)\n",
        "    x=x[randomize]\n",
        "    y=y[randomize]\n",
        "    loss=0\n",
        "    for xi,yi in zip(x,y):\n",
        "        loss+=max(0,1-yi*np.dot(xi,w))\n",
        "        if(yi*np.dot(xi,w)<1):\n",
        "            #grad+=-yi*xi\n",
        "            w=w-learning_rate*(-yi*xi)\n",
        "        else:\n",
        "            #grad+=0\n",
        "            w=w\n",
        "    #print(w,loss)\n",
        "\n",
        "#Predicting with new values\n",
        "def predict(x,w):\n",
        "    return(np.sign(np.dot(x,w)))\n",
        "\n",
        "#Plotting        \n",
        "def plot(x,w):\n",
        "    Y=(-w[0] - (w[1] * x)) / w[2]\n",
        "    psy=(1-w[0] - (w[1] * x)) / w[2]\n",
        "    nsy=(-1-w[0] - (w[1] * x)) / w[2]\n",
        "    plt.figure()\n",
        "    plt.scatter(x[:,1],x[:,2],c=y,edgecolor='black', cmap=plt.cm.Paired,s=20)\n",
        "    plt.plot(x,Y,'r-')\n",
        "    plt.plot(x,psy,'b-')\n",
        "    plt.plot(x,nsy,'b-')\n",
        "    margin=2/np.sqrt(w[1]**2+w[2]**2)\n",
        "    plt.show()\n",
        "\n",
        "ans=predict(x_test,w)\n",
        "print('ans',ans)\n",
        "\n",
        "#Finding values for slack variables\n",
        "for xi,yi in zip(x,y):\n",
        "    slack=max(0,1-yi*np.dot(xi,w))\n",
        "    print(xi[1:],' Slack:',slack)\n",
        "\n",
        "#Finding Support Vectors\n",
        "for xi in x:\n",
        "    if(round(np.linalg.norm((np.dot(xi,w))*(w/np.linalg.norm(w))),1)==1):\n",
        "        print(\"Support Vector:\",xi[1:])\n",
        "plot(x,w)"
      ],
      "execution_count": null,
      "outputs": [
        {
          "output_type": "stream",
          "name": "stdout",
          "text": [
            "ans [-1. -1.  1. -1. -1. -1. -1. -1. -1. -1. -1. -1. -1. -1. -1. -1. -1. -1.\n",
            " -1. -1. -1. -1.  1. -1. -1. -1. -1.  1. -1. -1. -1. -1. -1.  1. -1. -1.\n",
            " -1. -1. -1. -1. -1. -1. -1. -1. -1. -1. -1. -1. -1. -1.  1.  1.  1.  1.\n",
            "  1.  1. -1.  1.  1.  1.  1.  1.  1.  1.  1.  1.  1.  1.  1.  1.  1.  1.\n",
            "  1.  1.  1.  1. -1.  1.  1.  1.  1.  1.  1.  1.  1.  1.  1.  1. -1.  1.\n",
            "  1.  1.  1.  1.  1.  1.  1.  1.  1.  1.]\n",
            "[-0.36217625  0.47857113]  Slack: 0\n",
            "[-0.59237301  1.33113254]  Slack: 0\n",
            "[0.32841405 1.10378283]  Slack: 0\n",
            "[-0.13197948  0.76275827]  Slack: 0\n",
            "[-0.59237301  0.194384  ]  Slack: 0\n",
            "[-0.36217625  1.44480739]  Slack: 0\n",
            "[-1.97355361  0.70592084]  Slack: 0\n",
            "[0.55861082 0.53540856]  Slack: 0\n",
            "[-0.82256978  0.08070915]  Slack: 0\n",
            "[0.78880759 0.42173371]  Slack: 0\n",
            "[-0.13197948  0.99010798]  Slack: 0\n",
            "[-1.28296331  0.13754657]  Slack: 0\n",
            "[-0.13197948  0.194384  ]  Slack: 0\n",
            "[-0.13197948  0.42173371]  Slack: 0\n",
            "[1.70959465 1.6721571 ]  Slack: 0\n",
            "[-0.13197948  0.8195957 ]  Slack: 0\n",
            "[-0.13197948  0.36489628]  Slack: 0\n",
            "[-0.13197948  0.25122143]  Slack: 0\n",
            "[-0.82256978  0.76275827]  Slack: [2.39575739]\n",
            "[0.32841405 0.87643312]  Slack: 0\n",
            "[1.70959465 1.50164482]  Slack: 0\n",
            "[-0.59237301  1.6721571 ]  Slack: 0\n",
            "[-0.82256978  0.08070915]  Slack: 0\n",
            "[0.32841405 0.59224599]  Slack: [0.41038275]\n",
            "[-0.36217625  1.0469454 ]  Slack: 0\n",
            "[0.32841405 1.21745768]  Slack: 0\n",
            "[-0.36217625  0.25122143]  Slack: 0\n",
            "[-0.82256978  0.194384  ]  Slack: 0\n",
            "[-1.28296331  0.64908342]  Slack: [1.60160768]\n",
            "[-0.59237301  0.53540856]  Slack: [0.31111417]\n",
            "[-0.13197948  1.61531967]  Slack: 0\n",
            "[-1.28296331  1.16062026]  Slack: 0\n",
            "[-0.13197948  0.47857113]  Slack: 0\n",
            "[-0.59237301  1.0469454 ]  Slack: 0\n",
            "[-0.59237301  0.42173371]  Slack: 0\n",
            "[-0.36217625  0.53540856]  Slack: [0.21184541]\n",
            "[0.32841405 0.42173371]  Slack: 0\n",
            "[-1.74335684 -0.26031542]  Slack: 0\n",
            "[-1.28296331  0.70592084]  Slack: 0\n",
            "[-0.13197948  0.99010798]  Slack: 0\n",
            "[-0.59237301  0.64908342]  Slack: [0.6961986]\n",
            "[0.09821729 0.64908342]  Slack: [1.00599513]\n",
            "[0.32841405 1.27429511]  Slack: 0\n",
            "[-1.28296331  0.70592084]  Slack: 0\n",
            "[-0.59237301  0.13754657]  Slack: 0\n",
            "[1.24920112 1.33113254]  Slack: 0\n",
            "[-0.13197948  1.21745768]  Slack: 0\n",
            "[-1.28296331 -0.4308277 ]  Slack: 0\n",
            "[-1.97355361  0.42173371]  Slack: 0\n",
            "[-0.82256978  0.25122143]  Slack: 0\n",
            "[0.78880759 0.93327055]  Slack: 0\n",
            "[-0.36217625 -0.08980313]  Slack: 0\n",
            "[-1.05276654  1.0469454 ]  Slack: 0\n",
            "[-0.59237301  0.47857113]  Slack: 0\n",
            "[-0.82256978  0.64908342]  Slack: [0.59692984]\n",
            "[0.32841405 0.53540856]  Slack: 0\n",
            "[0.09821729 0.53540856]  Slack: [0.01330789]\n",
            "[-1.05276654  1.78583195]  Slack: 0\n",
            "[-0.36217625  0.30805885]  Slack: 0\n",
            "[-0.82256978  0.87643312]  Slack: 0\n",
            "[-0.13197948  0.64908342]  Slack: [0.89473612]\n",
            "[0.78880759 1.0469454 ]  Slack: 0\n",
            "[-1.51316008 -0.03296571]  Slack: 0\n",
            "[-0.59237301  0.59224599]  Slack: [0.80745779]\n",
            "[-0.59237301  0.76275827]  Slack: 0\n",
            "[-1.28296331  0.08070915]  Slack: 0\n",
            "[-1.05276654  0.36489628]  Slack: 0\n",
            "[-0.13197948  0.25122143]  Slack: 0\n",
            "[-0.82256978  0.76275827]  Slack: 0\n",
            "[-0.59237301  1.0469454 ]  Slack: 0\n",
            "[-0.13197948  1.16062026]  Slack: 0\n",
            "[-0.13197948  0.42173371]  Slack: 0\n",
            "[-1.97355361  0.13754657]  Slack: 0\n",
            "[-1.74335684  0.36489628]  Slack: 0\n",
            "[-0.13197948  0.59224599]  Slack: [1.39107973]\n",
            "[-0.82256978  0.76275827]  Slack: 0\n",
            "[-1.05276654  0.13754657]  Slack: 0\n",
            "[-0.59237301  0.59224599]  Slack: [1.19254221]\n",
            "[0.09821729 0.36489628]  Slack: 0\n",
            "[0.55861082 1.10378283]  Slack: 0\n",
            "[-0.59237301  0.76275827]  Slack: 0\n",
            "[0.55861082 1.10378283]  Slack: 0\n",
            "[-0.36217625  0.30805885]  Slack: 0\n",
            "[-0.36217625  0.42173371]  Slack: 0\n",
            "[-1.74335684  0.13754657]  Slack: 0\n",
            "[0.09821729 1.0469454 ]  Slack: 0\n",
            "[-0.13197948  0.70592084]  Slack: [1.6016075]\n",
            "[-0.13197948  1.16062026]  Slack: 0\n",
            "[-1.51316008  0.02387172]  Slack: 0\n",
            "[0.09821729 0.93327055]  Slack: 0\n",
            "[0.55861082 1.27429511]  Slack: 0\n",
            "[-1.05276654 -0.14664056]  Slack: 0\n",
            "[-2.43394714 -0.14664056]  Slack: 0\n",
            "[-0.13197948  1.33113254]  Slack: 0\n",
            "[-1.51316008 -0.26031542]  Slack: 0\n",
            "[0.32841405 0.76275827]  Slack: [0.1005864]\n",
            "[0.09821729 0.99010798]  Slack: 0\n",
            "[-1.28296331  0.42173371]  Slack: [2.38376679]\n",
            "[0.09821729 0.76275827]  Slack: [0.00131764]\n",
            "[-0.13197948  0.8195957 ]  Slack: 0\n",
            "Support Vector: [0.09821729 0.53540856]\n",
            "Support Vector: [0.09821729 0.76275827]\n"
          ]
        },
        {
          "output_type": "display_data",
          "data": {
            "image/png": "[encoded data removed]",
            "text/plain": [
              "<Figure size 432x288 with 1 Axes>"
            ]
          },
          "metadata": {
            "needs_background": "light"
          }
        }
      ]
    },
    {
      "cell_type": "markdown",
      "metadata": {
        "id": "wMtU9UpDLe6P"
      },
      "source": [
        "WE CAN OBSERVE NON-ZERO SLACK VALUES."
      ]
    },
    {
      "cell_type": "code",
      "metadata": {
        "id": "aGWRs4Tpk22M"
      },
      "source": [
        ""
      ],
      "execution_count": null,
      "outputs": []
    }
  ]
}