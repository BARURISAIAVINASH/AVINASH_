{
  "nbformat": 4,
  "nbformat_minor": 0,
  "metadata": {
    "colab": {
      "provenance": []
    },
    "kernelspec": {
      "name": "python3",
      "display_name": "Python 3"
    },
    "language_info": {
      "name": "python"
    }
  },
  "cells": [
    {
      "cell_type": "code",
      "metadata": {
        "id": "w1Sb1XO-3_Sv"
      },
      "source": [],
      "execution_count": null,
      "outputs": []
    },
    {
      "cell_type": "markdown",
      "metadata": {
        "id": "FttR-VghJXTO"
      },
      "source": [
        "### CONSIDER DATASET WHICH IS LINEARLY SEPERABLE"
      ]
    },
    {
      "cell_type": "markdown",
      "metadata": {
        "id": "m-WRPZ1X4JLJ"
      },
      "source": [
        "IMPORT LIBRARIES"
      ]
    },
    {
      "cell_type": "code",
      "metadata": {
        "id": "f715yAtS7ZKI"
      },
      "source": [
        "import numpy as np\n",
        "import matplotlib.pyplot as plt\n",
        "from sklearn import svm\n",
        "\n",
        "#Training Data\n",
        "x = np.array([[1,2],[3,2],[3,4],[7,2],[10,1],[7,3],[11,4],[13,3]])\n",
        "y = np.array([1,1,1,-1,-1,-1,-1,-1])\n",
        "\n"
      ],
      "execution_count": null,
      "outputs": []
    },
    {
      "cell_type": "code",
      "metadata": {
        "id": "jdr6qBY78JSA"
      },
      "source": [
        "#Testing Data\n",
        "x_test=np.array([[1,2],[3,2],[3,4],[7,2],[10,1],[7,3],[11,4],[13,3]])\n",
        "\n",
        "#Adding 1st column as bias\n",
        "x = np.c_[np.ones((x.shape[0])), x]\n",
        "\n"
      ],
      "execution_count": null,
      "outputs": []
    },
    {
      "cell_type": "code",
      "metadata": {
        "id": "cxLSY0DW8neu"
      },
      "source": [
        "#For Testing\n",
        "x_test = np.c_[np.ones((x.shape[0])), x_test]\n",
        "\n",
        "#Initialize weights, epochs, learning rate\n",
        "w = np.random.uniform(size=(x.shape[1],))\n",
        "epochs=500\n",
        "learning_rate=0.02\n",
        "\n"
      ],
      "execution_count": null,
      "outputs": []
    },
    {
      "cell_type": "code",
      "metadata": {
        "id": "Pkefh-BP8rtv"
      },
      "source": [
        "#Stochastic Gradient Descent with hinge loss\n",
        "for epoch in range (0,epochs):\n",
        "    randomize = np.arange(len(x))\n",
        "    np.random.shuffle(randomize)\n",
        "    x=x[randomize]\n",
        "    y=y[randomize]\n",
        "    loss=0\n",
        "    for xi,yi in zip(x,y):\n",
        "        loss+=max(0,1-yi*np.dot(xi,w))\n",
        "        if(yi*np.dot(xi,w)<1):\n",
        "            #grad+=-yi*xi\n",
        "            w=w-learning_rate*(-yi*xi)\n",
        "        else:\n",
        "            #grad+=0\n",
        "            w=w\n",
        "    #print(w,loss)\n",
        "\n"
      ],
      "execution_count": null,
      "outputs": []
    },
    {
      "cell_type": "code",
      "metadata": {
        "id": "N7wfVTSI8unI"
      },
      "source": [
        "#Predicting with new values\n",
        "def predict(x,w):\n",
        "    return(np.sign(np.dot(x,w)))\n",
        "\n",
        "\n"
      ],
      "execution_count": null,
      "outputs": []
    },
    {
      "cell_type": "code",
      "metadata": {
        "id": "FvUpr0Dt8yEn"
      },
      "source": [
        "#Plotting        \n",
        "def plot(x,w):\n",
        "    Y=(-w[0] - (w[1] * x)) / w[2]\n",
        "    psy=(1-w[0] - (w[1] * x)) / w[2]\n",
        "    nsy=(-1-w[0] - (w[1] * x)) / w[2]\n",
        "    plt.figure()\n",
        "    plt.scatter(x[:,1],x[:,2],c=y,edgecolor='black', cmap=plt.cm.Paired,s=20)\n",
        "    plt.plot(x,Y,'r-')\n",
        "    plt.plot(x,psy,'b-')\n",
        "    plt.plot(x,nsy,'b-')\n",
        "    margin=2/np.sqrt(w[1]**2+w[2]**2)\n",
        "    plt.show()\n",
        "\n"
      ],
      "execution_count": null,
      "outputs": []
    },
    {
      "cell_type": "code",
      "metadata": {
        "colab": {
          "base_uri": "https://localhost:8080/"
        },
        "id": "2TPe_7qS80Tx",
        "outputId": "f6110acf-8f8a-48a6-8fa7-6bec2dd31ded"
      },
      "source": [
        "ans=predict(x_test,w)\n",
        "#print(ans)\n",
        "\n",
        "#Finding values for slack variables\n",
        "for xi,yi in zip(x,y):\n",
        "    slack=max(0,1-yi*np.dot(xi,w))\n",
        "    print(xi[1:],' Slack:',slack)\n",
        "\n"
      ],
      "execution_count": null,
      "outputs": [
        {
          "output_type": "stream",
          "name": "stdout",
          "text": [
            "[1. 2.]  Slack: 0\n",
            "[10.  1.]  Slack: 0\n",
            "[3. 4.]  Slack: 0\n",
            "[3. 2.]  Slack: 0\n",
            "[7. 2.]  Slack: 0\n",
            "[13.  3.]  Slack: 0\n",
            "[7. 3.]  Slack: 0\n",
            "[11.  4.]  Slack: 0\n"
          ]
        }
      ]
    },
    {
      "cell_type": "markdown",
      "metadata": {
        "id": "19KKv28d_aHL"
      },
      "source": [
        "HERE WE CAN OBSERVE THE SLACK VALUE IS ZERO BECAUSE THE DATA IS LINEARLY SEPARABLE"
      ]
    },
    {
      "cell_type": "code",
      "metadata": {
        "colab": {
          "base_uri": "https://localhost:8080/",
          "height": 265
        },
        "id": "P68o6OK9823H",
        "outputId": "f9e2ece9-2c1d-4305-80e6-daa52a004868"
      },
      "source": [
        "#Finding Support Vectors\n",
        "for xi in x:\n",
        "    if(round(np.linalg.norm((np.dot(xi,w))*(w/np.linalg.norm(w))),1)==1):\n",
        "        print(\"Support Vector:\",xi[1:])\n",
        "plot(x,w)"
      ],
      "execution_count": null,
      "outputs": [
        {
          "output_type": "display_data",
          "data": {
            "image/png": "[encoded data removed]",
            "text/plain": [
              "<Figure size 432x288 with 1 Axes>"
            ]
          },
          "metadata": {
            "needs_background": "light"
          }
        }
      ]
    },
    {
      "cell_type": "code",
      "metadata": {
        "colab": {
          "base_uri": "https://localhost:8080/"
        },
        "id": "nx3L8iJmBdJb",
        "outputId": "c1f956d4-267c-43b9-92aa-a828659c8310"
      },
      "source": [
        "from sklearn import metrics\n",
        "metrics.accuracy_score(y,ans)"
      ],
      "execution_count": null,
      "outputs": [
        {
          "output_type": "execute_result",
          "data": {
            "text/plain": [
              "0.75"
            ]
          },
          "metadata": {},
          "execution_count": 277
        }
      ]
    },
    {
      "cell_type": "markdown",
      "metadata": {
        "id": "RGDoPGik_W3u"
      },
      "source": [
        "## NOW LET ME ASSUME DATASET WHICH IS NOT LINEARLY SEPARABLE"
      ]
    },
    {
      "cell_type": "code",
      "metadata": {
        "colab": {
          "base_uri": "https://localhost:8080/",
          "height": 416
        },
        "id": "9EekdQdn84ri",
        "outputId": "ee936b4b-c5fd-46d6-d313-665754ce2502"
      },
      "source": [
        "import numpy as np\n",
        "import matplotlib.pyplot as plt\n",
        "from sklearn import svm\n",
        "\n",
        "#Training Data\n",
        "x = np.array([[1,2],[3,2],[3,4],[7,2],[10,1],[7,3],[11,4],[13,3]])\n",
        "y = np.array([1,1,-1,-1,-1,-1,1,-1])\n",
        "\n",
        "#Testing Data\n",
        "x_test=np.array([[1,2],[3,2],[3,4],[7,2],[10,1],[7,3],[11,4],[13,3]])\n",
        "\n",
        "#Adding 1st column as bias\n",
        "x = np.c_[np.ones((x.shape[0])), x]\n",
        "\n",
        "#For Testing\n",
        "x_test = np.c_[np.ones((x.shape[0])), x_test]\n",
        "\n",
        "#Initialize weights, epochs, learning rate\n",
        "w = np.random.uniform(size=(x.shape[1],))\n",
        "epochs=1000\n",
        "learning_rate=0.01\n",
        "\n",
        "#Stochastic Gradient Descent with hinge loss\n",
        "for epoch in range (0,epochs):\n",
        "    randomize = np.arange(len(x))\n",
        "    np.random.shuffle(randomize)\n",
        "    x=x[randomize]\n",
        "    y=y[randomize]\n",
        "    loss=0\n",
        "    for xi,yi in zip(x,y):\n",
        "        loss+=max(0,1-yi*np.dot(xi,w))\n",
        "        if(yi*np.dot(xi,w)<1):\n",
        "            #grad+=-yi*xi\n",
        "            w=w-learning_rate*(-yi*xi)\n",
        "        else:\n",
        "            #grad+=0\n",
        "            w=w\n",
        "    #print(w,loss)\n",
        "\n",
        "#Predicting with new values\n",
        "def predict(x,w):\n",
        "    return(np.sign(np.dot(x,w)))\n",
        "\n",
        "#Plotting        \n",
        "def plot(x,w):\n",
        "    Y=(-w[0] - (w[1] * x)) / w[2]\n",
        "    psy=(1-w[0] - (w[1] * x)) / w[2]\n",
        "    nsy=(-1-w[0] - (w[1] * x)) / w[2]\n",
        "    plt.figure()\n",
        "    plt.scatter(x[:,1],x[:,2],c=y,edgecolor='black', cmap=plt.cm.Paired,s=20)\n",
        "    plt.plot(x,Y,'r-')\n",
        "    plt.plot(x,psy,'b-')\n",
        "    plt.plot(x,nsy,'b-')\n",
        "    margin=2/np.sqrt(w[1]**2+w[2]**2)\n",
        "    plt.show()\n",
        "\n",
        "ans=predict(x_test,w)\n",
        "print(ans)\n",
        "\n",
        "#Finding values for slack variables\n",
        "for xi,yi in zip(x,y):\n",
        "    slack=max(0,1-yi*np.dot(xi,w))\n",
        "    print(xi[1:],' Slack:',slack)\n",
        "\n",
        "#Finding Support Vectors\n",
        "for xi in x:\n",
        "    if(round(np.linalg.norm((np.dot(xi,w))*(w/np.linalg.norm(w))),1)==1):\n",
        "        print(\"Support Vector:\",xi[1:])\n",
        "plot(x,w)"
      ],
      "execution_count": null,
      "outputs": [
        {
          "output_type": "stream",
          "name": "stdout",
          "text": [
            "[ 1.  1. -1. -1. -1. -1. -1. -1.]\n",
            "[3. 2.]  Slack: 0.7792467307551862\n",
            "[13.  3.]  Slack: 0\n",
            "[7. 3.]  Slack: 0\n",
            "[3. 4.]  Slack: 0.4476103188994556\n",
            "[11.  4.]  Slack: 4.237092752675727\n",
            "[1. 2.]  Slack: 0.10807096286139051\n",
            "[10.  1.]  Slack: 0\n",
            "[7. 2.]  Slack: 0\n"
          ]
        },
        {
          "output_type": "display_data",
          "data": {
            "image/png": "[encoded data removed]",
            "text/plain": [
              "<Figure size 432x288 with 1 Axes>"
            ]
          },
          "metadata": {
            "needs_background": "light"
          }
        }
      ]
    },
    {
      "cell_type": "markdown",
      "metadata": {
        "id": "d0Dar-ouAOv7"
      },
      "source": [
        "Now we can see the value of slack is non-zero. Also observe that for (11,4) point we got highest value of slack because it is missclasified."
      ]
    },
    {
      "cell_type": "code",
      "metadata": {
        "colab": {
          "base_uri": "https://localhost:8080/"
        },
        "id": "Pu9-L5pd_8p6",
        "outputId": "4ccfda99-8335-441a-bfa7-8f2cbd84cf4c"
      },
      "source": [
        "from sklearn import metrics\n",
        "metrics.accuracy_score(y,ans)"
      ],
      "execution_count": null,
      "outputs": [
        {
          "output_type": "execute_result",
          "data": {
            "text/plain": [
              "0.625"
            ]
          },
          "metadata": {},
          "execution_count": 268
        }
      ]
    },
    {
      "cell_type": "code",
      "metadata": {
        "id": "r46TeiMoH1oW"
      },
      "source": [],
      "execution_count": null,
      "outputs": []
    },
    {
      "cell_type": "markdown",
      "metadata": {
        "id": "HM8Hb8YeKQU6"
      },
      "source": [
        "## **LET US IMPLEMENT ON IRIS DATASET**"
      ]
    },
    {
      "cell_type": "code",
      "metadata": {
        "id": "3Db_muvLH1r7"
      },
      "source": [],
      "execution_count": null,
      "outputs": []
    },
    {
      "cell_type": "markdown",
      "metadata": {
        "id": "CoEekuQSKoys"
      },
      "source": [
        "## HERE WE WILL CONSIDER FEATURES PETAL LENGTH AND PETAL WIDTH WHICH MAKES OUR DATASET LINEARLY SEPARABLE."
      ]
    },
    {
      "cell_type": "code",
      "metadata": {
        "colab": {
          "base_uri": "https://localhost:8080/",
          "height": 377
        },
        "id": "Oe8ZCzABH1vY",
        "outputId": "c879c34f-cb03-4129-834a-f433833d2fa9"
      },
      "source": [
        "import numpy as np \n",
        "import pandas as pd \n",
        "import matplotlib.pyplot as plt\n",
        "import seaborn as sns\n",
        "from sklearn.preprocessing import PolynomialFeatures, StandardScaler\n",
        "from sklearn.svm import LinearSVC\n",
        "from sklearn.svm import SVC\n",
        "from sklearn.model_selection import train_test_split\n",
        "\n",
        "\n",
        "\n",
        "from sklearn import datasets\n",
        "iris = datasets.load_iris()\n",
        "\n",
        "X = iris['data'][:,(2,3)]\n",
        "\n",
        "scaler = StandardScaler()\n",
        "Xstan = scaler.fit_transform(X)\n",
        "\n",
        "data = pd.DataFrame(data=Xstan, columns=['petal length','petal width'])\n",
        "data['target'] = iris['target']\n",
        "data = data[data['target']!=2] \n",
        "data.head()\n",
        "\n",
        "sns.lmplot(x='petal length',y='petal width',hue='target',data=data, fit_reg=False, legend=False)\n",
        "plt.legend(['Iris-Setosa','Iris-Versicolor'], fontsize = 14)\n",
        "plt.xlabel('petal length (scaled)', fontsize = 18)\n",
        "plt.ylabel('petal width (scaled)', fontsize = 18)\n",
        "plt.show()\n",
        "\n",
        "X=data.loc[:, [\"petal length\", \"petal width\"]]\n",
        "\n",
        "X=X.values\n",
        "\n",
        "y=data['target']\n",
        "y=list(y)\n",
        "\n",
        "#print(y)\n",
        "z=[]\n",
        "for i in y:\n",
        "  if i==0:\n",
        "    z.append(-1)\n",
        "  else:\n",
        "    z.append(1)\n",
        "\n",
        "y=np.array(z).reshape(-1,1)"
      ],
      "execution_count": null,
      "outputs": [
        {
          "output_type": "display_data",
          "data": {
            "image/png": "[encoded data removed]",
            "text/plain": [
              "<Figure size 360x360 with 1 Axes>"
            ]
          },
          "metadata": {
            "needs_background": "light"
          }
        }
      ]
    },
    {
      "cell_type": "code",
      "metadata": {
        "colab": {
          "base_uri": "https://localhost:8080/"
        },
        "id": "ZRN2s7w9H1yf",
        "outputId": "1f28c6be-11d0-42a8-e0dc-397c8ebcb253"
      },
      "source": [
        "X.shape"
      ],
      "execution_count": null,
      "outputs": [
        {
          "output_type": "execute_result",
          "data": {
            "text/plain": [
              "(100, 2)"
            ]
          },
          "metadata": {},
          "execution_count": 291
        }
      ]
    },
    {
      "cell_type": "code",
      "metadata": {
        "colab": {
          "base_uri": "https://localhost:8080/"
        },
        "id": "9hEVTFI6H112",
        "outputId": "133c831c-06db-44f2-b347-ec0d2df10b7b"
      },
      "source": [
        "y.shape"
      ],
      "execution_count": null,
      "outputs": [
        {
          "output_type": "execute_result",
          "data": {
            "text/plain": [
              "(100, 1)"
            ]
          },
          "metadata": {},
          "execution_count": 292
        }
      ]
    },
    {
      "cell_type": "code",
      "metadata": {
        "colab": {
          "base_uri": "https://localhost:8080/",
          "height": 1000
        },
        "id": "nmK196pIH15G",
        "outputId": "55941303-6861-4d1e-e3ec-3427cfeaf543"
      },
      "source": [
        "import numpy as np\n",
        "import matplotlib.pyplot as plt\n",
        "from sklearn import svm\n",
        "\n",
        "\n",
        "x=x_test=np.array(X)\n",
        "y=np.array(y)\n",
        "\n",
        "\n",
        "\n",
        "x = np.c_[np.ones((x.shape[0])), x]\n",
        "\n",
        "#For Testing\n",
        "x_test = np.c_[np.ones((x.shape[0])), x_test]\n",
        "\n",
        "#Initialize weights, epochs, learning rate\n",
        "w = np.random.uniform(size=(x.shape[1],))\n",
        "epochs=1000\n",
        "learning_rate=0.01\n",
        "\n",
        "#Stochastic Gradient Descent with hinge loss\n",
        "for epoch in range (0,epochs):\n",
        "    randomize = np.arange(len(x))\n",
        "    np.random.shuffle(randomize)\n",
        "    x=x[randomize]\n",
        "    y=y[randomize]\n",
        "    loss=0\n",
        "    for xi,yi in zip(x,y):\n",
        "        loss+=max(0,1-yi*np.dot(xi,w))\n",
        "        if(yi*np.dot(xi,w)<1):\n",
        "            #grad+=-yi*xi\n",
        "            w=w-learning_rate*(-yi*xi)\n",
        "        else:\n",
        "            #grad+=0\n",
        "            w=w\n",
        "    #print(w,loss)\n",
        "\n",
        "#Predicting with new values\n",
        "def predict(x,w):\n",
        "    return(np.sign(np.dot(x,w)))\n",
        "\n",
        "#Plotting        \n",
        "def plot(x,w):\n",
        "    Y=(-w[0] - (w[1] * x)) / w[2]\n",
        "    psy=(1-w[0] - (w[1] * x)) / w[2]\n",
        "    nsy=(-1-w[0] - (w[1] * x)) / w[2]\n",
        "    plt.figure()\n",
        "    plt.scatter(x[:,1],x[:,2],c=y,edgecolor='black', cmap=plt.cm.Paired,s=20)\n",
        "    plt.plot(x,Y,'r-')\n",
        "    plt.plot(x,psy,'b-')\n",
        "    plt.plot(x,nsy,'b-')\n",
        "    margin=2/np.sqrt(w[1]**2+w[2]**2)\n",
        "    plt.show()\n",
        "\n",
        "ans=predict(x_test,w)\n",
        "print('ans',ans)\n",
        "\n",
        "#Finding values for slack variables\n",
        "for xi,yi in zip(x,y):\n",
        "    slack=max(0,1-yi*np.dot(xi,w))\n",
        "    print(xi[1:],' Slack:',slack)\n",
        "\n",
        "#Finding Support Vectors\n",
        "for xi in x:\n",
        "    if(round(np.linalg.norm((np.dot(xi,w))*(w/np.linalg.norm(w))),1)==1):\n",
        "        print(\"Support Vector:\",xi[1:])\n",
        "plot(x,w)"
      ],
      "execution_count": null,
      "outputs": [
        {
          "output_type": "stream",
          "name": "stdout",
          "text": [
            "ans [-1. -1. -1. -1. -1. -1. -1. -1. -1. -1. -1. -1. -1. -1. -1. -1. -1. -1.\n",
            " -1. -1. -1. -1. -1. -1. -1. -1. -1. -1. -1. -1. -1. -1. -1. -1. -1. -1.\n",
            " -1. -1. -1. -1. -1. -1. -1. -1. -1. -1. -1. -1. -1. -1.  1.  1.  1.  1.\n",
            "  1.  1.  1.  1.  1.  1.  1.  1.  1.  1.  1.  1.  1.  1.  1.  1.  1.  1.\n",
            "  1.  1.  1.  1.  1.  1.  1.  1.  1.  1.  1.  1.  1.  1.  1.  1.  1.  1.\n",
            "  1.  1.  1.  1.  1.  1.  1.  1.  1.  1.]\n",
            "[-1.34022653 -1.3154443 ]  Slack: 0\n",
            "[-1.05603939 -1.3154443 ]  Slack: 0\n",
            "[-1.22655167 -1.3154443 ]  Slack: 0\n",
            "[0.42173371 0.13250973]  Slack: 0\n",
            "[-0.4308277  -0.13075464]  Slack: 0\n",
            "[-1.2833891  -1.18381211]  Slack: 0\n",
            "[0.42173371 0.3957741 ]  Slack: 0\n",
            "[-1.2833891 -1.3154443]  Slack: 0\n",
            "[0.53540856 0.52740629]  Slack: 0\n",
            "[-1.39706395 -1.3154443 ]  Slack: 0\n",
            "[-1.45390138 -1.3154443 ]  Slack: 0\n",
            "[0.25122143 0.3957741 ]  Slack: 0\n",
            "[0.30805885 0.13250973]  Slack: 0\n",
            "[-1.34022653 -1.18381211]  Slack: 0\n",
            "[0.08070915 0.26414192]  Slack: 0\n",
            "[0.53540856 0.26414192]  Slack: 0\n",
            "[-1.16971425 -1.3154443 ]  Slack: 0\n",
            "[-1.22655167 -1.3154443 ]  Slack: 0\n",
            "[-1.16971425 -1.18381211]  Slack: 0\n",
            "[-1.39706395 -1.3154443 ]  Slack: 0\n",
            "[-1.2833891  -1.05217993]  Slack: 0\n",
            "[0.36489628 0.13250973]  Slack: 0\n",
            "[-1.34022653 -1.3154443 ]  Slack: 0\n",
            "[-1.34022653 -1.44707648]  Slack: 0\n",
            "[-1.34022653 -1.3154443 ]  Slack: 0\n",
            "[0.47857113 0.13250973]  Slack: 0\n",
            "[0.42173371 0.3957741 ]  Slack: 0\n",
            "[ 0.02387172 -0.13075464]  Slack: 0\n",
            "[-1.39706395 -1.18381211]  Slack: 0\n",
            "[-1.05603939 -1.05217993]  Slack: 0\n",
            "[0.194384   0.13250973]  Slack: 0\n",
            "[-0.08980313  0.13250973]  Slack: 0\n",
            "[-1.34022653 -1.44707648]  Slack: 0\n",
            "[-1.34022653 -1.3154443 ]  Slack: 0\n",
            "[0.42173371 0.3957741 ]  Slack: 0\n",
            "[-1.16971425 -1.05217993]  Slack: 0\n",
            "[-1.34022653 -1.3154443 ]  Slack: 0\n",
            "[0.76275827 0.52740629]  Slack: 0\n",
            "[-0.26031542 -0.26238682]  Slack: 0\n",
            "[0.13754657 0.00087755]  Slack: 0\n",
            "[-1.22655167 -1.3154443 ]  Slack: 0\n",
            "[-1.2833891 -1.3154443]  Slack: 0\n",
            "[-0.14664056 -0.26238682]  Slack: 0\n",
            "[ 0.194384   -0.26238682]  Slack: 0\n",
            "[0.42173371 0.3957741 ]  Slack: 0\n",
            "[0.64908342 0.3957741 ]  Slack: 0\n",
            "[-1.2833891 -1.3154443]  Slack: 0\n",
            "[-1.34022653 -1.3154443 ]  Slack: 0\n",
            "[-1.22655167 -1.3154443 ]  Slack: 0\n",
            "[0.25122143 0.00087755]  Slack: 0\n",
            "[-1.39706395 -1.05217993]  Slack: 0\n",
            "[-1.39706395 -1.3154443 ]  Slack: 0\n",
            "[0.13754657 0.13250973]  Slack: 0\n",
            "[ 0.08070915 -0.13075464]  Slack: 0\n",
            "[0.25122143 0.13250973]  Slack: 0\n",
            "[0.53540856 0.00087755]  Slack: 0\n",
            "[-1.2833891  -1.05217993]  Slack: 0\n",
            "[-1.56757623 -1.3154443 ]  Slack: 0\n",
            "[0.64908342 0.3957741 ]  Slack: 0\n",
            "[0.25122143 0.13250973]  Slack: 0\n",
            "[-1.2833891 -1.3154443]  Slack: 0\n",
            "[0.53540856 0.26414192]  Slack: 0\n",
            "[-1.2833891 -1.3154443]  Slack: 0\n",
            "[0.13754657 0.13250973]  Slack: 0\n",
            "[-1.51073881 -1.44707648]  Slack: 0\n",
            "[-1.22655167 -1.05217993]  Slack: 0\n",
            "[-0.03296571 -0.26238682]  Slack: 0\n",
            "[0.47857113 0.3957741 ]  Slack: 0\n",
            "[-1.34022653 -1.18381211]  Slack: 0\n",
            "[0.36489628 0.00087755]  Slack: 0\n",
            "[0.42173371 0.52740629]  Slack: 0\n",
            "[0.47857113 0.26414192]  Slack: 0\n",
            "[0.53540856 0.3957741 ]  Slack: 0\n",
            "[-1.2833891  -1.44707648]  Slack: 0\n",
            "[0.42173371 0.3957741 ]  Slack: 0\n",
            "[-1.39706395 -1.3154443 ]  Slack: 0\n",
            "[-0.14664056 -0.26238682]  Slack: 0\n",
            "[ 0.13754657 -0.26238682]  Slack: 0\n",
            "[-1.22655167 -1.3154443 ]  Slack: 0\n",
            "[0.08070915 0.00087755]  Slack: 0\n",
            "[0.30805885 0.13250973]  Slack: 0\n",
            "[0.70592084 0.65903847]  Slack: 0\n",
            "[-1.45390138 -1.3154443 ]  Slack: 0\n",
            "[0.36489628 0.26414192]  Slack: 0\n",
            "[-1.34022653 -1.18381211]  Slack: 0\n",
            "[-1.39706395 -1.18381211]  Slack: 0\n",
            "[0.194384   0.13250973]  Slack: 0\n",
            "[-1.16971425 -0.92054774]  Slack: 0\n",
            "[-1.2833891 -1.3154443]  Slack: 0\n",
            "[-1.2833891  -1.44707648]  Slack: 0\n",
            "[0.59224599 0.26414192]  Slack: 0\n",
            "[0.59224599 0.79067065]  Slack: 0\n",
            "[-0.26031542 -0.26238682]  Slack: 0\n",
            "[0.13754657 0.13250973]  Slack: 0\n",
            "[-1.2833891 -1.3154443]  Slack: 0\n",
            "[-1.34022653 -1.3154443 ]  Slack: 0\n",
            "[-1.2833891  -1.05217993]  Slack: 0\n",
            "[-1.22655167 -0.78891556]  Slack: 0\n",
            "[0.36489628 0.26414192]  Slack: 0\n",
            "[-1.34022653 -1.3154443 ]  Slack: 0\n",
            "Support Vector: [-0.4308277  -0.13075464]\n",
            "Support Vector: [-1.05603939 -1.05217993]\n",
            "Support Vector: [-1.22655167 -0.78891556]\n"
          ]
        },
        {
          "output_type": "display_data",
          "data": {
            "image/png": "[encoded data removed]",
            "text/plain": [
              "<Figure size 432x288 with 1 Axes>"
            ]
          },
          "metadata": {
            "needs_background": "light"
          }
        }
      ]
    },
    {
      "cell_type": "code",
      "metadata": {
        "id": "pKMEFharH2Co"
      },
      "source": [],
      "execution_count": null,
      "outputs": []
    },
    {
      "cell_type": "markdown",
      "metadata": {
        "id": "u1n7wR79JVcX"
      },
      "source": []
    },
    {
      "cell_type": "code",
      "metadata": {
        "id": "z8WQgYbMH2He"
      },
      "source": [],
      "execution_count": null,
      "outputs": []
    },
    {
      "cell_type": "markdown",
      "metadata": {
        "id": "ECy7d7DaLSn1"
      },
      "source": [
        "## HERE WE WILL CONSIDER FEATURES SEPAL LENGTH AND SEPAL WIDTH WHICH MAKES OUR DATASET NOT-LINEARLY SEPARABLE."
      ]
    },
    {
      "cell_type": "code",
      "metadata": {
        "id": "VHGthnlxAyYq"
      },
      "source": [],
      "execution_count": null,
      "outputs": []
    },
    {
      "cell_type": "code",
      "metadata": {
        "id": "5Z8n2JVRGHQk"
      },
      "source": [],
      "execution_count": null,
      "outputs": []
    },
    {
      "cell_type": "code",
      "metadata": {
        "colab": {
          "base_uri": "https://localhost:8080/",
          "height": 377
        },
        "id": "ZYNrXHlMGHUB",
        "outputId": "77da09c6-63ec-4e0e-c32f-33543fb8cd35"
      },
      "source": [
        "import numpy as np \n",
        "import pandas as pd \n",
        "import matplotlib.pyplot as plt\n",
        "import seaborn as sns\n",
        "from sklearn.preprocessing import PolynomialFeatures, StandardScaler\n",
        "from sklearn.svm import LinearSVC\n",
        "from sklearn.svm import SVC\n",
        "from sklearn.model_selection import train_test_split\n",
        "from sklearn import datasets\n",
        "iris = datasets.load_iris()\n",
        "X = iris['data'][:,1:3]\n",
        "\n",
        "scaler = StandardScaler()\n",
        "Xstan = scaler.fit_transform(X)\n",
        "\n",
        "\n",
        "\n",
        "\n",
        "\n",
        "data = pd.DataFrame(data=Xstan, columns=['sepal length','sepal width'])\n",
        "data['target'] = iris['target']\n",
        "data = data[data['target']!=0] \n",
        "data.head()\n",
        "\n",
        "sns.lmplot(x='sepal length',y='sepal width',hue='target',data=data, fit_reg=False, legend=False)\n",
        "plt.legend(['Iris-Versicolor','Iris-virginica'], fontsize = 14)\n",
        "plt.xlabel('sepal length (scaled)', fontsize = 18)\n",
        "plt.ylabel('sepal width (scaled)', fontsize = 18)\n",
        "plt.show()\n",
        "\n",
        "\n",
        "X=data.loc[:, [\"sepal length\", \"sepal width\"]]\n",
        "\n",
        "X=X.values\n",
        "\n",
        "y=data['target']\n",
        "\n",
        "y=list(y)\n",
        "\n",
        "z=[]\n",
        "for i in y:\n",
        "  if i==1:\n",
        "    z.append(-1)\n",
        "  else:\n",
        "    z.append(1)\n",
        "\n",
        "\n",
        "\n",
        "    y=np.array(z).reshape(-1,1)\n",
        "\n"
      ],
      "execution_count": null,
      "outputs": [
        {
          "output_type": "display_data",
          "data": {
            "image/png": "[encoded data removed]",
            "text/plain": [
              "<Figure size 360x360 with 1 Axes>"
            ]
          },
          "metadata": {
            "needs_background": "light"
          }
        }
      ]
    },
    {
      "cell_type": "code",
      "metadata": {
        "colab": {
          "base_uri": "https://localhost:8080/"
        },
        "id": "wePsUI53GH90",
        "outputId": "f4927955-447e-4ea7-d5dd-5005da810069"
      },
      "source": [
        "X.shape"
      ],
      "execution_count": null,
      "outputs": [
        {
          "output_type": "execute_result",
          "data": {
            "text/plain": [
              "(100, 2)"
            ]
          },
          "metadata": {},
          "execution_count": 286
        }
      ]
    },
    {
      "cell_type": "code",
      "metadata": {
        "colab": {
          "base_uri": "https://localhost:8080/"
        },
        "id": "AapduEYMGsDS",
        "outputId": "98cce29a-d164-4e8a-bc50-2d414bc7e2dc"
      },
      "source": [
        "y.shape"
      ],
      "execution_count": null,
      "outputs": [
        {
          "output_type": "execute_result",
          "data": {
            "text/plain": [
              "(100, 1)"
            ]
          },
          "metadata": {},
          "execution_count": 287
        }
      ]
    },
    {
      "cell_type": "code",
      "metadata": {
        "colab": {
          "base_uri": "https://localhost:8080/",
          "height": 1000
        },
        "id": "CT5d5qdvGtcb",
        "outputId": "7b3be72c-cdcf-4537-fdf8-71fe123998b0"
      },
      "source": [
        "import numpy as np\n",
        "import matplotlib.pyplot as plt\n",
        "from sklearn import svm\n",
        "\n",
        "\n",
        "x=x_test=np.array(X)\n",
        "y=np.array(y)\n",
        "\n",
        "\n",
        "\n",
        "x = np.c_[np.ones((x.shape[0])), x]\n",
        "\n",
        "#For Testing\n",
        "x_test = np.c_[np.ones((x.shape[0])), x_test]\n",
        "\n",
        "#Initialize weights, epochs, learning rate\n",
        "w = np.random.uniform(size=(x.shape[1],))\n",
        "epochs=1000\n",
        "learning_rate=0.01\n",
        "\n",
        "#Stochastic Gradient Descent with hinge loss\n",
        "for epoch in range (0,epochs):\n",
        "    randomize = np.arange(len(x))\n",
        "    np.random.shuffle(randomize)\n",
        "    x=x[randomize]\n",
        "    y=y[randomize]\n",
        "    loss=0\n",
        "    for xi,yi in zip(x,y):\n",
        "        loss+=max(0,1-yi*np.dot(xi,w))\n",
        "        if(yi*np.dot(xi,w)<1):\n",
        "            #grad+=-yi*xi\n",
        "            w=w-learning_rate*(-yi*xi)\n",
        "        else:\n",
        "            #grad+=0\n",
        "            w=w\n",
        "    #print(w,loss)\n",
        "\n",
        "#Predicting with new values\n",
        "def predict(x,w):\n",
        "    return(np.sign(np.dot(x,w)))\n",
        "\n",
        "#Plotting        \n",
        "def plot(x,w):\n",
        "    Y=(-w[0] - (w[1] * x)) / w[2]\n",
        "    psy=(1-w[0] - (w[1] * x)) / w[2]\n",
        "    nsy=(-1-w[0] - (w[1] * x)) / w[2]\n",
        "    plt.figure()\n",
        "    plt.scatter(x[:,1],x[:,2],c=y,edgecolor='black', cmap=plt.cm.Paired,s=20)\n",
        "    plt.plot(x,Y,'r-')\n",
        "    plt.plot(x,psy,'b-')\n",
        "    plt.plot(x,nsy,'b-')\n",
        "    margin=2/np.sqrt(w[1]**2+w[2]**2)\n",
        "    plt.show()\n",
        "\n",
        "ans=predict(x_test,w)\n",
        "print('ans',ans)\n",
        "\n",
        "#Finding values for slack variables\n",
        "for xi,yi in zip(x,y):\n",
        "    slack=max(0,1-yi*np.dot(xi,w))\n",
        "    print(xi[1:],' Slack:',slack)\n",
        "\n",
        "#Finding Support Vectors\n",
        "for xi in x:\n",
        "    if(round(np.linalg.norm((np.dot(xi,w))*(w/np.linalg.norm(w))),1)==1):\n",
        "        print(\"Support Vector:\",xi[1:])\n",
        "plot(x,w)"
      ],
      "execution_count": null,
      "outputs": [
        {
          "output_type": "stream",
          "name": "stdout",
          "text": [
            "ans [-1. -1. -1. -1. -1. -1. -1. -1. -1. -1. -1. -1. -1. -1. -1. -1. -1. -1.\n",
            " -1. -1. -1. -1.  1. -1. -1. -1. -1.  1. -1. -1. -1. -1. -1.  1. -1. -1.\n",
            " -1. -1. -1. -1. -1. -1. -1. -1. -1. -1. -1. -1. -1. -1.  1.  1.  1.  1.\n",
            "  1.  1. -1.  1.  1.  1.  1.  1.  1.  1.  1.  1.  1.  1.  1.  1.  1.  1.\n",
            "  1.  1.  1.  1. -1.  1.  1.  1.  1.  1.  1.  1.  1.  1.  1.  1. -1.  1.\n",
            "  1.  1.  1.  1.  1.  1.  1.  1.  1.  1.]\n",
            "[-0.59237301  0.47857113]  Slack: 0\n",
            "[0.32841405 0.53540856]  Slack: 0\n",
            "[-0.82256978  0.76275827]  Slack: [2.34414539]\n",
            "[-1.28296331  0.13754657]  Slack: 0\n",
            "[-0.36217625  0.30805885]  Slack: 0\n",
            "[-0.36217625  0.30805885]  Slack: 0\n",
            "[1.24920112 1.33113254]  Slack: 0\n",
            "[-1.51316008  0.02387172]  Slack: 0\n",
            "[-0.36217625  1.0469454 ]  Slack: 0\n",
            "[-1.74335684  0.36489628]  Slack: 0\n",
            "[-0.13197948  0.42173371]  Slack: 0\n",
            "[-1.97355361  0.13754657]  Slack: 0\n",
            "[-0.36217625  0.25122143]  Slack: 0\n",
            "[-1.97355361  0.70592084]  Slack: 0\n",
            "[0.78880759 0.42173371]  Slack: 0\n",
            "[0.09821729 0.36489628]  Slack: 0\n",
            "[-0.13197948  0.70592084]  Slack: [1.55076214]\n",
            "[0.78880759 0.93327055]  Slack: 0\n",
            "[-0.82256978  0.25122143]  Slack: 0\n",
            "[0.55861082 1.10378283]  Slack: 0\n",
            "[-0.36217625 -0.08980313]  Slack: 0\n",
            "[-1.97355361  0.42173371]  Slack: 0\n",
            "[0.09821729 0.53540856]  Slack: 0\n",
            "[-0.59237301  0.194384  ]  Slack: 0\n",
            "[-0.82256978  0.08070915]  Slack: 0\n",
            "[-0.13197948  1.16062026]  Slack: 0\n",
            "[-0.13197948  0.8195957 ]  Slack: 0\n",
            "[0.55861082 1.10378283]  Slack: 0\n",
            "[0.32841405 0.76275827]  Slack: [0.1536804]\n",
            "[-0.82256978  0.76275827]  Slack: 0\n",
            "[-0.59237301  1.0469454 ]  Slack: 0\n",
            "[-0.13197948  0.64908342]  Slack: [0.94392564]\n",
            "[-0.59237301  0.59224599]  Slack: [1.23948311]\n",
            "[-0.59237301  1.33113254]  Slack: 0\n",
            "[0.78880759 1.0469454 ]  Slack: 0\n",
            "[-0.36217625  1.44480739]  Slack: 0\n",
            "[0.09821729 0.64908342]  Slack: [0.9565092]\n",
            "[0.32841405 1.27429511]  Slack: 0\n",
            "[0.32841405 0.59224599]  Slack: [0.36225626]\n",
            "[-1.28296331  1.16062026]  Slack: 0\n",
            "[-0.59237301  0.64908342]  Slack: [0.74479533]\n",
            "[-0.13197948  0.194384  ]  Slack: 0\n",
            "[-0.59237301  0.13754657]  Slack: 0\n",
            "[-0.13197948  1.61531967]  Slack: 0\n",
            "[-0.59237301  0.53540856]  Slack: [0.26582911]\n",
            "[-0.13197948  0.36489628]  Slack: 0\n",
            "[0.55861082 0.53540856]  Slack: 0\n",
            "[-1.74335684 -0.26031542]  Slack: 0\n",
            "[-0.13197948  0.99010798]  Slack: 0\n",
            "[-0.13197948  0.76275827]  Slack: 0\n",
            "[-0.13197948  0.8195957 ]  Slack: 0\n",
            "[-1.28296331  0.70592084]  Slack: 0\n",
            "[-0.59237301  0.59224599]  Slack: [0.76051689]\n",
            "[0.09821729 1.0469454 ]  Slack: 0\n",
            "[-1.74335684  0.13754657]  Slack: 0\n",
            "[-1.05276654  0.36489628]  Slack: 0\n",
            "[-1.28296331  0.70592084]  Slack: 0\n",
            "[-0.82256978  0.08070915]  Slack: 0\n",
            "[-1.05276654 -0.14664056]  Slack: 0\n",
            "[-1.05276654  0.13754657]  Slack: 0\n",
            "[-0.36217625  0.53540856]  Slack: [0.16626395]\n",
            "[-0.82256978  0.87643312]  Slack: 0\n",
            "[-0.82256978  0.76275827]  Slack: 0\n",
            "[-0.82256978  0.194384  ]  Slack: 0\n",
            "[-0.13197948  1.16062026]  Slack: 0\n",
            "[0.32841405 1.10378283]  Slack: 0\n",
            "[-1.05276654  1.78583195]  Slack: 0\n",
            "[-0.36217625  0.47857113]  Slack: 0\n",
            "[-0.13197948  0.42173371]  Slack: 0\n",
            "[-0.13197948  0.47857113]  Slack: 0\n",
            "[-0.59237301  1.0469454 ]  Slack: 0\n",
            "[-0.13197948  0.59224599]  Slack: [1.43861342]\n",
            "[-0.13197948  0.25122143]  Slack: 0\n",
            "[-0.13197948  0.99010798]  Slack: 0\n",
            "[-1.28296331  0.64908342]  Slack: [1.55390015]\n",
            "[-0.82256978  0.64908342]  Slack: [0.64523017]\n",
            "[-0.59237301  1.6721571 ]  Slack: 0\n",
            "[0.32841405 0.87643312]  Slack: 0\n",
            "[0.09821729 0.99010798]  Slack: 0\n",
            "[0.32841405 1.21745768]  Slack: 0\n",
            "[-1.28296331  0.08070915]  Slack: 0\n",
            "[0.55861082 1.27429511]  Slack: 0\n",
            "[-0.36217625  0.42173371]  Slack: 0\n",
            "[0.32841405 0.42173371]  Slack: 0\n",
            "[-0.59237301  0.76275827]  Slack: 0\n",
            "[-1.28296331 -0.4308277 ]  Slack: 0\n",
            "[0.09821729 0.76275827]  Slack: [0.05411524]\n",
            "[-1.28296331  0.42173371]  Slack: [2.42485097]\n",
            "[1.70959465 1.6721571 ]  Slack: 0\n",
            "[-0.59237301  0.42173371]  Slack: 0\n",
            "[-2.43394714 -0.14664056]  Slack: 0\n",
            "[1.70959465 1.50164482]  Slack: 0\n",
            "[0.09821729 0.93327055]  Slack: 0\n",
            "[-0.13197948  1.21745768]  Slack: 0\n",
            "[-0.13197948  1.33113254]  Slack: 0\n",
            "[-0.59237301  0.76275827]  Slack: 0\n",
            "[-1.51316008 -0.03296571]  Slack: 0\n",
            "[-1.05276654  1.0469454 ]  Slack: 0\n",
            "[-1.51316008 -0.26031542]  Slack: 0\n",
            "[-0.13197948  0.25122143]  Slack: 0\n",
            "Support Vector: [0.09821729 0.53540856]\n",
            "Support Vector: [-0.13197948  0.76275827]\n",
            "Support Vector: [-1.28296331  0.70592084]\n",
            "Support Vector: [-1.28296331  0.70592084]\n"
          ]
        },
        {
          "output_type": "display_data",
          "data": {
            "image/png": "[encoded data removed]",
            "text/plain": [
              "<Figure size 432x288 with 1 Axes>"
            ]
          },
          "metadata": {
            "needs_background": "light"
          }
        }
      ]
    },
    {
      "cell_type": "markdown",
      "metadata": {
        "id": "wMtU9UpDLe6P"
      },
      "source": [
        "WE CAN OBSERVE NON-ZERO SLACK VALUES."
      ]
    }
  ]
}