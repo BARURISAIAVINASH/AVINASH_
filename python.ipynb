{
  "nbformat": 4,
  "nbformat_minor": 0,
  "metadata": {
    "colab": {
      "name": "python.ipynb",
      "provenance": [],
      "include_colab_link": true
    },
    "kernelspec": {
      "name": "python3",
      "display_name": "Python 3"
    }
  },
  "cells": [
    {
      "cell_type": "markdown",
      "metadata": {
        "id": "view-in-github",
        "colab_type": "text"
      },
      "source": [
        "<a href=\"https://colab.research.google.com/github/BARURISAIAVINASH/AVINASH_datascience/blob/BARURISAIAVINASH-patch-1/python.ipynb\" target=\"_parent\"><img src=\"https://colab.research.google.com/assets/colab-badge.svg\" alt=\"Open In Colab\"/></a>"
      ]
    },
    {
      "cell_type": "code",
      "metadata": {
        "id": "QlzQk0bKFAhl"
      },
      "source": [
        ""
      ],
      "execution_count": null,
      "outputs": []
    },
    {
      "cell_type": "markdown",
      "metadata": {
        "id": "skAmu8A0FUnx"
      },
      "source": [
        "1.Write a function that inputs a number and prints the multiplication table of that number"
      ]
    },
    {
      "cell_type": "code",
      "metadata": {
        "id": "216SbgzVFWE0",
        "colab": {
          "base_uri": "https://localhost:8080/",
          "height": 202
        },
        "outputId": "49c44863-e21b-45e8-97f4-07483b056895"
      },
      "source": [
        "k=int(input(\"enter a number\"))\n",
        "for i in range(1,11):\n",
        "  mul=k*i\n",
        "  print('{}*{}={}'.format(k,i,mul))"
      ],
      "execution_count": null,
      "outputs": [
        {
          "output_type": "stream",
          "text": [
            "enter a number10\n",
            "10*1=10\n",
            "10*2=20\n",
            "10*3=30\n",
            "10*4=40\n",
            "10*5=50\n",
            "10*6=60\n",
            "10*7=70\n",
            "10*8=80\n",
            "10*9=90\n",
            "10*10=100\n"
          ],
          "name": "stdout"
        }
      ]
    },
    {
      "cell_type": "markdown",
      "metadata": {
        "id": "6VFw3MzzGlVD"
      },
      "source": [
        "2.Write a program to print twin primes less than 1000. If two consecutive odd numbers are\n",
        "both prime then they are known as twin primes"
      ]
    },
    {
      "cell_type": "code",
      "metadata": {
        "id": "At1shMEYFg9i",
        "colab": {
          "base_uri": "https://localhost:8080/",
          "height": 1000
        },
        "outputId": "214d61ea-9d9b-49ad-89cd-4337ab416dc7"
      },
      "source": [
        "import sys\n",
        "sys.setrecursionlimit(1500)\n",
        "\n",
        "def prime(n):\n",
        "  if n<=1:\n",
        "    return False\n",
        "  else:\n",
        "    for i in range(2,n):\n",
        "      if n%i==0:\n",
        "        return False\n",
        "      else:\n",
        "        return True\n",
        "def twin_prime(a,c):\n",
        "  b=a+2\n",
        "  \n",
        "  if (prime(b) and prime(a)):\n",
        "    print('{},{} are twin primes'.format(a,b))\n",
        "  \n",
        "  a=a+1\n",
        "  if b==c:\n",
        "    return 0\n",
        "  else:\n",
        "    twin_prime(a,c)\n",
        "twin_prime(2,1000)\n",
        "\n",
        "\n",
        "\n"
      ],
      "execution_count": null,
      "outputs": [
        {
          "output_type": "stream",
          "text": [
            "3,5 are twin primes\n",
            "5,7 are twin primes\n",
            "7,9 are twin primes\n",
            "9,11 are twin primes\n",
            "11,13 are twin primes\n",
            "13,15 are twin primes\n",
            "15,17 are twin primes\n",
            "17,19 are twin primes\n",
            "19,21 are twin primes\n",
            "21,23 are twin primes\n",
            "23,25 are twin primes\n",
            "25,27 are twin primes\n",
            "27,29 are twin primes\n",
            "29,31 are twin primes\n",
            "31,33 are twin primes\n",
            "33,35 are twin primes\n",
            "35,37 are twin primes\n",
            "37,39 are twin primes\n",
            "39,41 are twin primes\n",
            "41,43 are twin primes\n",
            "43,45 are twin primes\n",
            "45,47 are twin primes\n",
            "47,49 are twin primes\n",
            "49,51 are twin primes\n",
            "51,53 are twin primes\n",
            "53,55 are twin primes\n",
            "55,57 are twin primes\n",
            "57,59 are twin primes\n",
            "59,61 are twin primes\n",
            "61,63 are twin primes\n",
            "63,65 are twin primes\n",
            "65,67 are twin primes\n",
            "67,69 are twin primes\n",
            "69,71 are twin primes\n",
            "71,73 are twin primes\n",
            "73,75 are twin primes\n",
            "75,77 are twin primes\n",
            "77,79 are twin primes\n",
            "79,81 are twin primes\n",
            "81,83 are twin primes\n",
            "83,85 are twin primes\n",
            "85,87 are twin primes\n",
            "87,89 are twin primes\n",
            "89,91 are twin primes\n",
            "91,93 are twin primes\n",
            "93,95 are twin primes\n",
            "95,97 are twin primes\n",
            "97,99 are twin primes\n",
            "99,101 are twin primes\n",
            "101,103 are twin primes\n",
            "103,105 are twin primes\n",
            "105,107 are twin primes\n",
            "107,109 are twin primes\n",
            "109,111 are twin primes\n",
            "111,113 are twin primes\n",
            "113,115 are twin primes\n",
            "115,117 are twin primes\n",
            "117,119 are twin primes\n",
            "119,121 are twin primes\n",
            "121,123 are twin primes\n",
            "123,125 are twin primes\n",
            "125,127 are twin primes\n",
            "127,129 are twin primes\n",
            "129,131 are twin primes\n",
            "131,133 are twin primes\n",
            "133,135 are twin primes\n",
            "135,137 are twin primes\n",
            "137,139 are twin primes\n",
            "139,141 are twin primes\n",
            "141,143 are twin primes\n",
            "143,145 are twin primes\n",
            "145,147 are twin primes\n",
            "147,149 are twin primes\n",
            "149,151 are twin primes\n",
            "151,153 are twin primes\n",
            "153,155 are twin primes\n",
            "155,157 are twin primes\n",
            "157,159 are twin primes\n",
            "159,161 are twin primes\n",
            "161,163 are twin primes\n",
            "163,165 are twin primes\n",
            "165,167 are twin primes\n",
            "167,169 are twin primes\n",
            "169,171 are twin primes\n",
            "171,173 are twin primes\n",
            "173,175 are twin primes\n",
            "175,177 are twin primes\n",
            "177,179 are twin primes\n",
            "179,181 are twin primes\n",
            "181,183 are twin primes\n",
            "183,185 are twin primes\n",
            "185,187 are twin primes\n",
            "187,189 are twin primes\n",
            "189,191 are twin primes\n",
            "191,193 are twin primes\n",
            "193,195 are twin primes\n",
            "195,197 are twin primes\n",
            "197,199 are twin primes\n",
            "199,201 are twin primes\n",
            "201,203 are twin primes\n",
            "203,205 are twin primes\n",
            "205,207 are twin primes\n",
            "207,209 are twin primes\n",
            "209,211 are twin primes\n",
            "211,213 are twin primes\n",
            "213,215 are twin primes\n",
            "215,217 are twin primes\n",
            "217,219 are twin primes\n",
            "219,221 are twin primes\n",
            "221,223 are twin primes\n",
            "223,225 are twin primes\n",
            "225,227 are twin primes\n",
            "227,229 are twin primes\n",
            "229,231 are twin primes\n",
            "231,233 are twin primes\n",
            "233,235 are twin primes\n",
            "235,237 are twin primes\n",
            "237,239 are twin primes\n",
            "239,241 are twin primes\n",
            "241,243 are twin primes\n",
            "243,245 are twin primes\n",
            "245,247 are twin primes\n",
            "247,249 are twin primes\n",
            "249,251 are twin primes\n",
            "251,253 are twin primes\n",
            "253,255 are twin primes\n",
            "255,257 are twin primes\n",
            "257,259 are twin primes\n",
            "259,261 are twin primes\n",
            "261,263 are twin primes\n",
            "263,265 are twin primes\n",
            "265,267 are twin primes\n",
            "267,269 are twin primes\n",
            "269,271 are twin primes\n",
            "271,273 are twin primes\n",
            "273,275 are twin primes\n",
            "275,277 are twin primes\n",
            "277,279 are twin primes\n",
            "279,281 are twin primes\n",
            "281,283 are twin primes\n",
            "283,285 are twin primes\n",
            "285,287 are twin primes\n",
            "287,289 are twin primes\n",
            "289,291 are twin primes\n",
            "291,293 are twin primes\n",
            "293,295 are twin primes\n",
            "295,297 are twin primes\n",
            "297,299 are twin primes\n",
            "299,301 are twin primes\n",
            "301,303 are twin primes\n",
            "303,305 are twin primes\n",
            "305,307 are twin primes\n",
            "307,309 are twin primes\n",
            "309,311 are twin primes\n",
            "311,313 are twin primes\n",
            "313,315 are twin primes\n",
            "315,317 are twin primes\n",
            "317,319 are twin primes\n",
            "319,321 are twin primes\n",
            "321,323 are twin primes\n",
            "323,325 are twin primes\n",
            "325,327 are twin primes\n",
            "327,329 are twin primes\n",
            "329,331 are twin primes\n",
            "331,333 are twin primes\n",
            "333,335 are twin primes\n",
            "335,337 are twin primes\n",
            "337,339 are twin primes\n",
            "339,341 are twin primes\n",
            "341,343 are twin primes\n",
            "343,345 are twin primes\n",
            "345,347 are twin primes\n",
            "347,349 are twin primes\n",
            "349,351 are twin primes\n",
            "351,353 are twin primes\n",
            "353,355 are twin primes\n",
            "355,357 are twin primes\n",
            "357,359 are twin primes\n",
            "359,361 are twin primes\n",
            "361,363 are twin primes\n",
            "363,365 are twin primes\n",
            "365,367 are twin primes\n",
            "367,369 are twin primes\n",
            "369,371 are twin primes\n",
            "371,373 are twin primes\n",
            "373,375 are twin primes\n",
            "375,377 are twin primes\n",
            "377,379 are twin primes\n",
            "379,381 are twin primes\n",
            "381,383 are twin primes\n",
            "383,385 are twin primes\n",
            "385,387 are twin primes\n",
            "387,389 are twin primes\n",
            "389,391 are twin primes\n",
            "391,393 are twin primes\n",
            "393,395 are twin primes\n",
            "395,397 are twin primes\n",
            "397,399 are twin primes\n",
            "399,401 are twin primes\n",
            "401,403 are twin primes\n",
            "403,405 are twin primes\n",
            "405,407 are twin primes\n",
            "407,409 are twin primes\n",
            "409,411 are twin primes\n",
            "411,413 are twin primes\n",
            "413,415 are twin primes\n",
            "415,417 are twin primes\n",
            "417,419 are twin primes\n",
            "419,421 are twin primes\n",
            "421,423 are twin primes\n",
            "423,425 are twin primes\n",
            "425,427 are twin primes\n",
            "427,429 are twin primes\n",
            "429,431 are twin primes\n",
            "431,433 are twin primes\n",
            "433,435 are twin primes\n",
            "435,437 are twin primes\n",
            "437,439 are twin primes\n",
            "439,441 are twin primes\n",
            "441,443 are twin primes\n",
            "443,445 are twin primes\n",
            "445,447 are twin primes\n",
            "447,449 are twin primes\n",
            "449,451 are twin primes\n",
            "451,453 are twin primes\n",
            "453,455 are twin primes\n",
            "455,457 are twin primes\n",
            "457,459 are twin primes\n",
            "459,461 are twin primes\n",
            "461,463 are twin primes\n",
            "463,465 are twin primes\n",
            "465,467 are twin primes\n",
            "467,469 are twin primes\n",
            "469,471 are twin primes\n",
            "471,473 are twin primes\n",
            "473,475 are twin primes\n",
            "475,477 are twin primes\n",
            "477,479 are twin primes\n",
            "479,481 are twin primes\n",
            "481,483 are twin primes\n",
            "483,485 are twin primes\n",
            "485,487 are twin primes\n",
            "487,489 are twin primes\n",
            "489,491 are twin primes\n",
            "491,493 are twin primes\n",
            "493,495 are twin primes\n",
            "495,497 are twin primes\n",
            "497,499 are twin primes\n",
            "499,501 are twin primes\n",
            "501,503 are twin primes\n",
            "503,505 are twin primes\n",
            "505,507 are twin primes\n",
            "507,509 are twin primes\n",
            "509,511 are twin primes\n",
            "511,513 are twin primes\n",
            "513,515 are twin primes\n",
            "515,517 are twin primes\n",
            "517,519 are twin primes\n",
            "519,521 are twin primes\n",
            "521,523 are twin primes\n",
            "523,525 are twin primes\n",
            "525,527 are twin primes\n",
            "527,529 are twin primes\n",
            "529,531 are twin primes\n",
            "531,533 are twin primes\n",
            "533,535 are twin primes\n",
            "535,537 are twin primes\n",
            "537,539 are twin primes\n",
            "539,541 are twin primes\n",
            "541,543 are twin primes\n",
            "543,545 are twin primes\n",
            "545,547 are twin primes\n",
            "547,549 are twin primes\n",
            "549,551 are twin primes\n",
            "551,553 are twin primes\n",
            "553,555 are twin primes\n",
            "555,557 are twin primes\n",
            "557,559 are twin primes\n",
            "559,561 are twin primes\n",
            "561,563 are twin primes\n",
            "563,565 are twin primes\n",
            "565,567 are twin primes\n",
            "567,569 are twin primes\n",
            "569,571 are twin primes\n",
            "571,573 are twin primes\n",
            "573,575 are twin primes\n",
            "575,577 are twin primes\n",
            "577,579 are twin primes\n",
            "579,581 are twin primes\n",
            "581,583 are twin primes\n",
            "583,585 are twin primes\n",
            "585,587 are twin primes\n",
            "587,589 are twin primes\n",
            "589,591 are twin primes\n",
            "591,593 are twin primes\n",
            "593,595 are twin primes\n",
            "595,597 are twin primes\n",
            "597,599 are twin primes\n",
            "599,601 are twin primes\n",
            "601,603 are twin primes\n",
            "603,605 are twin primes\n",
            "605,607 are twin primes\n",
            "607,609 are twin primes\n",
            "609,611 are twin primes\n",
            "611,613 are twin primes\n",
            "613,615 are twin primes\n",
            "615,617 are twin primes\n",
            "617,619 are twin primes\n",
            "619,621 are twin primes\n",
            "621,623 are twin primes\n",
            "623,625 are twin primes\n",
            "625,627 are twin primes\n",
            "627,629 are twin primes\n",
            "629,631 are twin primes\n",
            "631,633 are twin primes\n",
            "633,635 are twin primes\n",
            "635,637 are twin primes\n",
            "637,639 are twin primes\n",
            "639,641 are twin primes\n",
            "641,643 are twin primes\n",
            "643,645 are twin primes\n",
            "645,647 are twin primes\n",
            "647,649 are twin primes\n",
            "649,651 are twin primes\n",
            "651,653 are twin primes\n",
            "653,655 are twin primes\n",
            "655,657 are twin primes\n",
            "657,659 are twin primes\n",
            "659,661 are twin primes\n",
            "661,663 are twin primes\n",
            "663,665 are twin primes\n",
            "665,667 are twin primes\n",
            "667,669 are twin primes\n",
            "669,671 are twin primes\n",
            "671,673 are twin primes\n",
            "673,675 are twin primes\n",
            "675,677 are twin primes\n",
            "677,679 are twin primes\n",
            "679,681 are twin primes\n",
            "681,683 are twin primes\n",
            "683,685 are twin primes\n",
            "685,687 are twin primes\n",
            "687,689 are twin primes\n",
            "689,691 are twin primes\n",
            "691,693 are twin primes\n",
            "693,695 are twin primes\n",
            "695,697 are twin primes\n",
            "697,699 are twin primes\n",
            "699,701 are twin primes\n",
            "701,703 are twin primes\n",
            "703,705 are twin primes\n",
            "705,707 are twin primes\n",
            "707,709 are twin primes\n",
            "709,711 are twin primes\n",
            "711,713 are twin primes\n",
            "713,715 are twin primes\n",
            "715,717 are twin primes\n",
            "717,719 are twin primes\n",
            "719,721 are twin primes\n",
            "721,723 are twin primes\n",
            "723,725 are twin primes\n",
            "725,727 are twin primes\n",
            "727,729 are twin primes\n",
            "729,731 are twin primes\n",
            "731,733 are twin primes\n",
            "733,735 are twin primes\n",
            "735,737 are twin primes\n",
            "737,739 are twin primes\n",
            "739,741 are twin primes\n",
            "741,743 are twin primes\n",
            "743,745 are twin primes\n",
            "745,747 are twin primes\n",
            "747,749 are twin primes\n",
            "749,751 are twin primes\n",
            "751,753 are twin primes\n",
            "753,755 are twin primes\n",
            "755,757 are twin primes\n",
            "757,759 are twin primes\n",
            "759,761 are twin primes\n",
            "761,763 are twin primes\n",
            "763,765 are twin primes\n",
            "765,767 are twin primes\n",
            "767,769 are twin primes\n",
            "769,771 are twin primes\n",
            "771,773 are twin primes\n",
            "773,775 are twin primes\n",
            "775,777 are twin primes\n",
            "777,779 are twin primes\n",
            "779,781 are twin primes\n",
            "781,783 are twin primes\n",
            "783,785 are twin primes\n",
            "785,787 are twin primes\n",
            "787,789 are twin primes\n",
            "789,791 are twin primes\n",
            "791,793 are twin primes\n",
            "793,795 are twin primes\n",
            "795,797 are twin primes\n",
            "797,799 are twin primes\n",
            "799,801 are twin primes\n",
            "801,803 are twin primes\n",
            "803,805 are twin primes\n",
            "805,807 are twin primes\n",
            "807,809 are twin primes\n",
            "809,811 are twin primes\n",
            "811,813 are twin primes\n",
            "813,815 are twin primes\n",
            "815,817 are twin primes\n",
            "817,819 are twin primes\n",
            "819,821 are twin primes\n",
            "821,823 are twin primes\n",
            "823,825 are twin primes\n",
            "825,827 are twin primes\n",
            "827,829 are twin primes\n",
            "829,831 are twin primes\n",
            "831,833 are twin primes\n",
            "833,835 are twin primes\n",
            "835,837 are twin primes\n",
            "837,839 are twin primes\n",
            "839,841 are twin primes\n",
            "841,843 are twin primes\n",
            "843,845 are twin primes\n",
            "845,847 are twin primes\n",
            "847,849 are twin primes\n",
            "849,851 are twin primes\n",
            "851,853 are twin primes\n",
            "853,855 are twin primes\n",
            "855,857 are twin primes\n",
            "857,859 are twin primes\n",
            "859,861 are twin primes\n",
            "861,863 are twin primes\n",
            "863,865 are twin primes\n",
            "865,867 are twin primes\n",
            "867,869 are twin primes\n",
            "869,871 are twin primes\n",
            "871,873 are twin primes\n",
            "873,875 are twin primes\n",
            "875,877 are twin primes\n",
            "877,879 are twin primes\n",
            "879,881 are twin primes\n",
            "881,883 are twin primes\n",
            "883,885 are twin primes\n",
            "885,887 are twin primes\n",
            "887,889 are twin primes\n",
            "889,891 are twin primes\n",
            "891,893 are twin primes\n",
            "893,895 are twin primes\n",
            "895,897 are twin primes\n",
            "897,899 are twin primes\n",
            "899,901 are twin primes\n",
            "901,903 are twin primes\n",
            "903,905 are twin primes\n",
            "905,907 are twin primes\n",
            "907,909 are twin primes\n",
            "909,911 are twin primes\n",
            "911,913 are twin primes\n",
            "913,915 are twin primes\n",
            "915,917 are twin primes\n",
            "917,919 are twin primes\n",
            "919,921 are twin primes\n",
            "921,923 are twin primes\n",
            "923,925 are twin primes\n",
            "925,927 are twin primes\n",
            "927,929 are twin primes\n",
            "929,931 are twin primes\n",
            "931,933 are twin primes\n",
            "933,935 are twin primes\n",
            "935,937 are twin primes\n",
            "937,939 are twin primes\n",
            "939,941 are twin primes\n",
            "941,943 are twin primes\n",
            "943,945 are twin primes\n",
            "945,947 are twin primes\n",
            "947,949 are twin primes\n",
            "949,951 are twin primes\n",
            "951,953 are twin primes\n",
            "953,955 are twin primes\n",
            "955,957 are twin primes\n",
            "957,959 are twin primes\n",
            "959,961 are twin primes\n",
            "961,963 are twin primes\n",
            "963,965 are twin primes\n",
            "965,967 are twin primes\n",
            "967,969 are twin primes\n",
            "969,971 are twin primes\n",
            "971,973 are twin primes\n",
            "973,975 are twin primes\n",
            "975,977 are twin primes\n",
            "977,979 are twin primes\n",
            "979,981 are twin primes\n",
            "981,983 are twin primes\n",
            "983,985 are twin primes\n",
            "985,987 are twin primes\n",
            "987,989 are twin primes\n",
            "989,991 are twin primes\n",
            "991,993 are twin primes\n",
            "993,995 are twin primes\n",
            "995,997 are twin primes\n",
            "997,999 are twin primes\n"
          ],
          "name": "stdout"
        }
      ]
    },
    {
      "cell_type": "markdown",
      "metadata": {
        "id": "KorvcQgxO91a"
      },
      "source": [
        "3. Write a program to find out the prime factors of a number. Example: prime factors of 56 -\n",
        "2, 2, 2, 7"
      ]
    },
    {
      "cell_type": "code",
      "metadata": {
        "id": "5_7gJfTjLC-2",
        "colab": {
          "base_uri": "https://localhost:8080/",
          "height": 84
        },
        "outputId": "ec74fa22-dff4-4fd0-eaa2-fe01a6cf19a8"
      },
      "source": [
        "def avi(num):\n",
        "  if num>0:\n",
        "    for i in range(2,num+1):\n",
        "      while (num%i==0):\n",
        "        num=num/2\n",
        "        print(i)\n",
        "      i+=1\n",
        "avi(56)\n",
        "\n"
      ],
      "execution_count": null,
      "outputs": [
        {
          "output_type": "stream",
          "text": [
            "2\n",
            "2\n",
            "2\n",
            "7\n"
          ],
          "name": "stdout"
        }
      ]
    },
    {
      "cell_type": "markdown",
      "metadata": {
        "id": "2xauWsO3ML1w"
      },
      "source": [
        "Write a program to implement these formulae of permutations and combinations.\n",
        "Number of permutations of n objects taken r at a time: p(n, r) = n! / (n-r)!. Number of\n",
        "combinations of n objects taken r at a time is: c(n, r) = n! / (r!*(n-r)!) = p(n,r) / r!"
      ]
    },
    {
      "cell_type": "code",
      "metadata": {
        "id": "CSF9D68kMIhE",
        "colab": {
          "base_uri": "https://localhost:8080/",
          "height": 101
        },
        "outputId": "ce1e7d3d-9890-4af1-c95c-b62446bb1344"
      },
      "source": [
        "def permu(n,r):\n",
        "  i=1\n",
        "  p=1\n",
        "  q=1\n",
        "  s=1\n",
        "  for i in range(1,n+1):\n",
        "    p=p*i\n",
        "  print(p)\n",
        "  for i in range(1,r+1):\n",
        "    q=q*i\n",
        "  print(q)\n",
        "  for i in range(1,(n-r)+1):\n",
        "    s=s*i\n",
        "  print(s)\n",
        "\n",
        "  print('Number of permutations of {} objects taken {} at a time: {}'.format(n,r,(p/s)))\n",
        "  print('Number of combinations is ', (p/(q*s)))\n",
        " \n",
        "\n",
        "\n",
        " \n",
        "\n",
        "permu(5,2)\n",
        "\n",
        "\n"
      ],
      "execution_count": null,
      "outputs": [
        {
          "output_type": "stream",
          "text": [
            "120\n",
            "2\n",
            "6\n",
            "Number of permutations of 5 objects taken 2 at a time: 20.0\n",
            "Number of combinations is  10.0\n"
          ],
          "name": "stdout"
        }
      ]
    },
    {
      "cell_type": "code",
      "metadata": {
        "id": "5aRT3KX7Vht2",
        "colab": {
          "base_uri": "https://localhost:8080/",
          "height": 50
        },
        "outputId": "2c94b100-9784-4110-d98f-edc6209588d5"
      },
      "source": [
        "def dec(n):\n",
        "    \n",
        "    \n",
        "    if n>1:\n",
        "        dec(n//2)\n",
        "    print(n%2,end=' ')\n",
        "    \n",
        "\n",
        "a=int(input('enter number'))\n",
        "dec(a)\n"
      ],
      "execution_count": null,
      "outputs": [
        {
          "output_type": "stream",
          "text": [
            "enter number10\n",
            "1 0 1 0 "
          ],
          "name": "stdout"
        }
      ]
    },
    {
      "cell_type": "code",
      "metadata": {
        "id": "DIH7fk3U-NRP",
        "colab": {
          "base_uri": "https://localhost:8080/",
          "height": 50
        },
        "outputId": "4956f2cd-6247-4baf-d6d6-53cac4c54cb2"
      },
      "source": [
        "#https://www.programiz.com/python-programming/examples/armstrong-number\n",
        "def cubesum(n):\n",
        "  s=0\n",
        "  t=n\n",
        "  while t> 0:\n",
        "    k = t % 10\n",
        "    s=s+(k*k*k)\n",
        "    t=t//10\n",
        "  def isArmstrong() :\n",
        "    if n==s:\n",
        "      return True\n",
        "    else:\n",
        "      return False\n",
        "  def  PrintArmstrong() :\n",
        "    if isArmstrong():\n",
        "      print('ARMSTRONG')\n",
        "    else:\n",
        "      print('NOT ARMSTRONG')\n",
        "\n",
        "\n",
        " \n",
        "  isArmstrong()\n",
        "  PrintArmstrong()\n",
        "\n",
        "\n",
        "\n",
        "n = int(input(\"enter number  \"))\n",
        "\n",
        "cubesum(n)\n",
        "  \n",
        "\n"
      ],
      "execution_count": null,
      "outputs": [
        {
          "output_type": "stream",
          "text": [
            "enter number  123\n",
            "NOT ARMSTRONG\n"
          ],
          "name": "stdout"
        }
      ]
    },
    {
      "cell_type": "markdown",
      "metadata": {
        "id": "WnKlhrqo-lK0"
      },
      "source": [
        "Write a function prodDigits() that inputs a number and returns the product of digits of that\n",
        "number."
      ]
    },
    {
      "cell_type": "code",
      "metadata": {
        "id": "ngGsliqbA-Pf",
        "colab": {
          "base_uri": "https://localhost:8080/",
          "height": 50
        },
        "outputId": "6978d8a2-5d4a-4eb2-c12c-e32e76b85146"
      },
      "source": [
        "\n",
        "def  prodDigits(n) :\n",
        "  s=1\n",
        "  t=n\n",
        "  while t> 0:\n",
        "    k = t % 10\n",
        "    s=s*k\n",
        "    t=t//10\n",
        "  return s\n",
        "n=int(input('enter number = '))\n",
        "prodDigits(n)\n"
      ],
      "execution_count": null,
      "outputs": [
        {
          "output_type": "stream",
          "text": [
            "enter number = 86\n"
          ],
          "name": "stdout"
        },
        {
          "output_type": "execute_result",
          "data": {
            "text/plain": [
              "48"
            ]
          },
          "metadata": {
            "tags": []
          },
          "execution_count": 7
        }
      ]
    },
    {
      "cell_type": "code",
      "metadata": {
        "id": "BOcCZYFxOvKT",
        "colab": {
          "base_uri": "https://localhost:8080/",
          "height": 128
        },
        "outputId": "1d432f2c-c39e-4e0d-e9a3-3eff4eb88d39"
      },
      "source": [
        "def  prodDigits(n) :\n",
        "  \n",
        "  def MDR(t):\n",
        "    i=0\n",
        "    s=1\n",
        "    while t> 0 and i<2 :\n",
        "      k = t % 10\n",
        "      s=s*k\n",
        "      t=t//10\n",
        "      if ==1:\n",
        "        i+=1\n",
        "    \n",
        "    MDR(s)\n",
        "    return s\n",
        "  MDR(n)\n",
        "\n",
        "\n",
        "\n",
        "\n",
        "n=int(input('enter number = '))\n",
        "prodDigits(n)"
      ],
      "execution_count": null,
      "outputs": [
        {
          "output_type": "error",
          "ename": "SyntaxError",
          "evalue": "ignored",
          "traceback": [
            "\u001b[0;36m  File \u001b[0;32m\"<ipython-input-8-80dbe9bb85cb>\"\u001b[0;36m, line \u001b[0;32m10\u001b[0m\n\u001b[0;31m    if ==1:\u001b[0m\n\u001b[0m        ^\u001b[0m\n\u001b[0;31mSyntaxError\u001b[0m\u001b[0;31m:\u001b[0m invalid syntax\n"
          ]
        }
      ]
    },
    {
      "cell_type": "markdown",
      "metadata": {
        "id": "AcdG7lZvsWmt"
      },
      "source": [
        "9. Write a function sumPdivisors() that finds the sum of proper divisors of a number. Proper\n",
        "divisors of a number are those numbers by which the number is divisible, except the\n",
        "number itself. For example proper divisors of 36 are 1, 2, 3, 4, 6, 9, 18"
      ]
    },
    {
      "cell_type": "code",
      "metadata": {
        "id": "OFm8JOejsU6e",
        "colab": {
          "base_uri": "https://localhost:8080/",
          "height": 50
        },
        "outputId": "612e1eb4-0294-4356-94e3-a67c06dac2ca"
      },
      "source": [
        "\n",
        "def  sumPdivisors(n) :\n",
        "  s=0\n",
        "  for i in range(1,n):\n",
        "    if (n%i)==0:\n",
        "      s=s+i\n",
        "  return s\n",
        "\n",
        "n=int(input('enter number = '))\n",
        "sumPdivisors(n) \n",
        "    \n",
        "\n",
        "\n"
      ],
      "execution_count": null,
      "outputs": [
        {
          "output_type": "stream",
          "text": [
            "enter number = 36\n"
          ],
          "name": "stdout"
        },
        {
          "output_type": "execute_result",
          "data": {
            "text/plain": [
              "55"
            ]
          },
          "metadata": {
            "tags": []
          },
          "execution_count": 9
        }
      ]
    },
    {
      "cell_type": "markdown",
      "metadata": {
        "id": "jZSlABqhc5ks"
      },
      "source": [
        "10. A number is called perfect if the sum of proper divisors of that number is equal to the\n",
        "number. For example 28 is perfect number, since 1+2+4+7+14=28. Write a program to\n",
        "print all the perfect numbers in a given range"
      ]
    },
    {
      "cell_type": "code",
      "metadata": {
        "id": "AQSRts4WCWPV",
        "colab": {
          "base_uri": "https://localhost:8080/",
          "height": 84
        },
        "outputId": "a116f18a-3ba7-4426-f6da-e74d9f0ec854"
      },
      "source": [
        "def perfect(l,u):\n",
        "  for n in range(l,u+1):\n",
        "    s=0\n",
        "    for i in range(1,n):\n",
        "      if n%i==0:\n",
        "        s=s+i\n",
        "    if s==n:\n",
        "      print('perfect number is =',s)\n",
        "\n",
        "\n",
        "l=int(input('enter lower limit'))\n",
        "u=int(input('upper limit'))\n",
        "perfect(l,u)\n",
        "  \n"
      ],
      "execution_count": null,
      "outputs": [
        {
          "output_type": "stream",
          "text": [
            "enter lower limit10\n",
            "upper limit1000\n",
            "perfect number is = 28\n",
            "perfect number is = 496\n"
          ],
          "name": "stdout"
        }
      ]
    },
    {
      "cell_type": "markdown",
      "metadata": {
        "id": "jehzlEEe0S4x"
      },
      "source": [
        "11. Two different numbers are called amicable numbers if the sum of the proper divisors of\n",
        "each is equal to the other number. For example 220 and 284 are amicable numbers.\n",
        "Sum of proper divisors of 220 = 1+2+4+5+10+11+20+22+44+55+110 = 284\n",
        "Sum of proper divisors of 284 = 1+2+4+71+142 = 220\n",
        "Write a function to print pairs of amicable numbers in a range"
      ]
    },
    {
      "cell_type": "code",
      "metadata": {
        "id": "6YRung4L0XPt"
      },
      "source": [
        ""
      ],
      "execution_count": null,
      "outputs": []
    },
    {
      "cell_type": "markdown",
      "metadata": {
        "id": "nAegthPOEq60"
      },
      "source": [
        "13. \n",
        "Write a program which can filter odd numbers in a list by using filter function"
      ]
    },
    {
      "cell_type": "code",
      "metadata": {
        "id": "2wFtnApKEpWD",
        "colab": {
          "base_uri": "https://localhost:8080/",
          "height": 84
        },
        "outputId": "63372d96-bf8e-4451-e362-851de3ad8c97"
      },
      "source": [
        "list = [1,2,3,4,5,6,7,8,9]\n",
        "\n",
        "def myFunc(x):\n",
        "  if x %2==0:\n",
        "    return True\n",
        "  else:\n",
        "    return False\n",
        "\n",
        "even = filter(myFunc, list)\n",
        "\n",
        "for x in even:\n",
        "  print(x)"
      ],
      "execution_count": null,
      "outputs": [
        {
          "output_type": "stream",
          "text": [
            "2\n",
            "4\n",
            "6\n",
            "8\n"
          ],
          "name": "stdout"
        }
      ]
    },
    {
      "cell_type": "markdown",
      "metadata": {
        "id": "qRF5gb72Fn18"
      },
      "source": [
        "14.\n",
        "Write a program which can map() to make a list whose elements are cube of elements in\n",
        "a given list"
      ]
    },
    {
      "cell_type": "code",
      "metadata": {
        "id": "TFa0BpxHFmvZ",
        "colab": {
          "base_uri": "https://localhost:8080/",
          "height": 229
        },
        "outputId": "ef76b873-7748-49e7-95d2-14ee63eb7090"
      },
      "source": [
        "\n",
        "numbers = [1, 2, 3, 4] \n",
        "result = map(lambda x: x*x*x, numbers) \n",
        "for x in result:\n",
        "  print(list(x))\n",
        " \n",
        "\n"
      ],
      "execution_count": null,
      "outputs": [
        {
          "output_type": "error",
          "ename": "TypeError",
          "evalue": "ignored",
          "traceback": [
            "\u001b[0;31m---------------------------------------------------------------------------\u001b[0m",
            "\u001b[0;31mTypeError\u001b[0m                                 Traceback (most recent call last)",
            "\u001b[0;32m<ipython-input-1-e3b6ab45e72b>\u001b[0m in \u001b[0;36m<module>\u001b[0;34m()\u001b[0m\n\u001b[1;32m      3\u001b[0m \u001b[0mresult\u001b[0m \u001b[0;34m=\u001b[0m \u001b[0mmap\u001b[0m\u001b[0;34m(\u001b[0m\u001b[0;32mlambda\u001b[0m \u001b[0mx\u001b[0m\u001b[0;34m:\u001b[0m \u001b[0mx\u001b[0m\u001b[0;34m*\u001b[0m\u001b[0mx\u001b[0m\u001b[0;34m*\u001b[0m\u001b[0mx\u001b[0m\u001b[0;34m,\u001b[0m \u001b[0mnumbers\u001b[0m\u001b[0;34m)\u001b[0m\u001b[0;34m\u001b[0m\u001b[0;34m\u001b[0m\u001b[0m\n\u001b[1;32m      4\u001b[0m \u001b[0;32mfor\u001b[0m \u001b[0mx\u001b[0m \u001b[0;32min\u001b[0m \u001b[0mresult\u001b[0m\u001b[0;34m:\u001b[0m\u001b[0;34m\u001b[0m\u001b[0;34m\u001b[0m\u001b[0m\n\u001b[0;32m----> 5\u001b[0;31m   \u001b[0mprint\u001b[0m\u001b[0;34m(\u001b[0m\u001b[0mlist\u001b[0m\u001b[0;34m(\u001b[0m\u001b[0mx\u001b[0m\u001b[0;34m)\u001b[0m\u001b[0;34m)\u001b[0m\u001b[0;34m\u001b[0m\u001b[0;34m\u001b[0m\u001b[0m\n\u001b[0m\u001b[1;32m      6\u001b[0m \u001b[0;34m\u001b[0m\u001b[0m\n\u001b[1;32m      7\u001b[0m \u001b[0;34m\u001b[0m\u001b[0m\n",
            "\u001b[0;31mTypeError\u001b[0m: 'int' object is not iterable"
          ]
        }
      ]
    },
    {
      "cell_type": "markdown",
      "metadata": {
        "id": "4eU1cJF3My9g"
      },
      "source": [
        "Write a program which can map() and filter() to make a list whose elements are cube of\n",
        "even number in a given list"
      ]
    },
    {
      "cell_type": "code",
      "metadata": {
        "id": "HFy7IALWFCw2",
        "colab": {
          "base_uri": "https://localhost:8080/"
        },
        "outputId": "43ee9298-cd54-4f5c-eb86-f8fed913d4c0"
      },
      "source": [
        "a = [1,2,3,4,5,6,7,8,9]\n",
        "\n",
        "def myFunc(x):\n",
        "  if x %2==0:\n",
        "    return True\n",
        "  else:\n",
        "    return False\n",
        "\n",
        "even = filter(myFunc, a)\n",
        "\n",
        "\n",
        "result = map(lambda x: x*x*x, even) \n",
        "print(list(result))\n"
      ],
      "execution_count": 1,
      "outputs": [
        {
          "output_type": "stream",
          "text": [
            "[8, 64, 216, 512]\n"
          ],
          "name": "stdout"
        }
      ]
    },
    {
      "cell_type": "code",
      "metadata": {
        "id": "NZnBTPLuJ0AG",
        "colab": {
          "base_uri": "https://localhost:8080/"
        },
        "outputId": "ab8c9690-2a04-4355-ea71-ca96c4ab136d"
      },
      "source": [
        "def cube(x):\n",
        "\n",
        "  return x*x*x\n",
        "\n",
        "numbers = [1,2,3,4,5,6]\n",
        "\n",
        "cubes =list(map (cube, numbers))\n",
        "\n",
        "print ((cubes) ) \n"
      ],
      "execution_count": 7,
      "outputs": [
        {
          "output_type": "stream",
          "text": [
            "[1, 8, 27, 64, 125, 216]\n"
          ],
          "name": "stdout"
        }
      ]
    },
    {
      "cell_type": "code",
      "metadata": {
        "id": "ri_tzW1kckOS",
        "colab": {
          "base_uri": "https://localhost:8080/",
          "height": 101
        },
        "outputId": "c3289836-fde4-4252-fe9c-97f24bfd4f68"
      },
      "source": [
        "def cube(x):\n",
        "  return x*x*x\n",
        "lis=[1,2,3,4,5]\n",
        "cubes=map(cube,lis)\n",
        "for x in cubes:\n",
        "  print(x)"
      ],
      "execution_count": null,
      "outputs": [
        {
          "output_type": "stream",
          "text": [
            "1\n",
            "8\n",
            "27\n",
            "64\n",
            "125\n"
          ],
          "name": "stdout"
        }
      ]
    },
    {
      "cell_type": "code",
      "metadata": {
        "id": "IwR4MRP-c_ao"
      },
      "source": [
        ""
      ],
      "execution_count": null,
      "outputs": []
    }
  ]
}